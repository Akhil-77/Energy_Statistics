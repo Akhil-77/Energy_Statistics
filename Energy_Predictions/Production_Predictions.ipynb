{
 "cells": [
  {
   "cell_type": "code",
   "execution_count": 104,
   "metadata": {},
   "outputs": [],
   "source": [
    "import numpy as np\n",
    "import pandas as pd\n",
    "import matplotlib.pyplot as plt\n",
    "import seaborn as sns\n",
    "from pandas.plotting import parallel_coordinates\n",
    "import plotly.express as px\n",
    "from plotly.subplots import make_subplots\n",
    "import plotly.graph_objects as go\n",
    "import plotly.figure_factory as ff\n",
    "from termcolor import colored\n",
    "import datetime\n",
    "import calendar"
   ]
  },
  {
   "attachments": {},
   "cell_type": "markdown",
   "metadata": {},
   "source": [
    "#### <b>1 <span style='color:#8EDCE6'>|</span> Data Preprocessing </b>"
   ]
  },
  {
   "cell_type": "code",
   "execution_count": 115,
   "metadata": {},
   "outputs": [
    {
     "data": {
      "text/html": [
       "<div>\n",
       "<style scoped>\n",
       "    .dataframe tbody tr th:only-of-type {\n",
       "        vertical-align: middle;\n",
       "    }\n",
       "\n",
       "    .dataframe tbody tr th {\n",
       "        vertical-align: top;\n",
       "    }\n",
       "\n",
       "    .dataframe thead th {\n",
       "        text-align: right;\n",
       "    }\n",
       "</style>\n",
       "<table border=\"1\" class=\"dataframe\">\n",
       "  <thead>\n",
       "    <tr style=\"text-align: right;\">\n",
       "      <th></th>\n",
       "      <th>Month</th>\n",
       "      <th>Total Fossil Fuels Production</th>\n",
       "      <th>Nuclear Electric Power Production</th>\n",
       "      <th>Total Renewable Energy Production</th>\n",
       "      <th>Total Primary Energy Production</th>\n",
       "      <th>Primary Energy Imports</th>\n",
       "      <th>Primary Energy Exports</th>\n",
       "      <th>Primary Energy Net Imports</th>\n",
       "      <th>Primary Energy Stock Change and Other</th>\n",
       "      <th>Total Fossil Fuels Consumption</th>\n",
       "      <th>Nuclear Electric Power Consumption</th>\n",
       "      <th>Total Renewable Energy Consumption</th>\n",
       "      <th>Total Primary Energy Consumption</th>\n",
       "    </tr>\n",
       "  </thead>\n",
       "  <tbody>\n",
       "    <tr>\n",
       "      <th>0</th>\n",
       "      <td>1973 January</td>\n",
       "      <td>4.932632</td>\n",
       "      <td>0.068103</td>\n",
       "      <td>0.403981</td>\n",
       "      <td>5.404715</td>\n",
       "      <td>1.173080</td>\n",
       "      <td>0.125781</td>\n",
       "      <td>1.047299</td>\n",
       "      <td>0.771858</td>\n",
       "      <td>6.747651</td>\n",
       "      <td>0.068103</td>\n",
       "      <td>0.403981</td>\n",
       "      <td>7.223873</td>\n",
       "    </tr>\n",
       "    <tr>\n",
       "      <th>1</th>\n",
       "      <td>1973 February</td>\n",
       "      <td>4.729582</td>\n",
       "      <td>0.064634</td>\n",
       "      <td>0.360900</td>\n",
       "      <td>5.155115</td>\n",
       "      <td>1.168005</td>\n",
       "      <td>0.120883</td>\n",
       "      <td>1.047122</td>\n",
       "      <td>0.390129</td>\n",
       "      <td>6.163095</td>\n",
       "      <td>0.064634</td>\n",
       "      <td>0.360900</td>\n",
       "      <td>6.592366</td>\n",
       "    </tr>\n",
       "    <tr>\n",
       "      <th>2</th>\n",
       "      <td>1973 March</td>\n",
       "      <td>4.946902</td>\n",
       "      <td>0.072494</td>\n",
       "      <td>0.400161</td>\n",
       "      <td>5.419556</td>\n",
       "      <td>1.309473</td>\n",
       "      <td>0.139950</td>\n",
       "      <td>1.169523</td>\n",
       "      <td>-0.067640</td>\n",
       "      <td>6.044647</td>\n",
       "      <td>0.072494</td>\n",
       "      <td>0.400161</td>\n",
       "      <td>6.521439</td>\n",
       "    </tr>\n",
       "    <tr>\n",
       "      <th>3</th>\n",
       "      <td>1973 April</td>\n",
       "      <td>4.716271</td>\n",
       "      <td>0.064070</td>\n",
       "      <td>0.380470</td>\n",
       "      <td>5.160812</td>\n",
       "      <td>1.085169</td>\n",
       "      <td>0.194185</td>\n",
       "      <td>0.890984</td>\n",
       "      <td>-0.110067</td>\n",
       "      <td>5.493184</td>\n",
       "      <td>0.064070</td>\n",
       "      <td>0.380470</td>\n",
       "      <td>5.941729</td>\n",
       "    </tr>\n",
       "    <tr>\n",
       "      <th>4</th>\n",
       "      <td>1973 May</td>\n",
       "      <td>4.956995</td>\n",
       "      <td>0.062111</td>\n",
       "      <td>0.392141</td>\n",
       "      <td>5.411246</td>\n",
       "      <td>1.162804</td>\n",
       "      <td>0.196775</td>\n",
       "      <td>0.966029</td>\n",
       "      <td>-0.305335</td>\n",
       "      <td>5.613551</td>\n",
       "      <td>0.062111</td>\n",
       "      <td>0.392141</td>\n",
       "      <td>6.071940</td>\n",
       "    </tr>\n",
       "  </tbody>\n",
       "</table>\n",
       "</div>"
      ],
      "text/plain": [
       "           Month  Total Fossil Fuels Production  \\\n",
       "0   1973 January                       4.932632   \n",
       "1  1973 February                       4.729582   \n",
       "2     1973 March                       4.946902   \n",
       "3     1973 April                       4.716271   \n",
       "4       1973 May                       4.956995   \n",
       "\n",
       "   Nuclear Electric Power Production  Total Renewable Energy Production  \\\n",
       "0                           0.068103                           0.403981   \n",
       "1                           0.064634                           0.360900   \n",
       "2                           0.072494                           0.400161   \n",
       "3                           0.064070                           0.380470   \n",
       "4                           0.062111                           0.392141   \n",
       "\n",
       "   Total Primary Energy Production  Primary Energy Imports  \\\n",
       "0                         5.404715                1.173080   \n",
       "1                         5.155115                1.168005   \n",
       "2                         5.419556                1.309473   \n",
       "3                         5.160812                1.085169   \n",
       "4                         5.411246                1.162804   \n",
       "\n",
       "   Primary Energy Exports  Primary Energy Net Imports  \\\n",
       "0                0.125781                    1.047299   \n",
       "1                0.120883                    1.047122   \n",
       "2                0.139950                    1.169523   \n",
       "3                0.194185                    0.890984   \n",
       "4                0.196775                    0.966029   \n",
       "\n",
       "   Primary Energy Stock Change and Other  Total Fossil Fuels Consumption  \\\n",
       "0                               0.771858                        6.747651   \n",
       "1                               0.390129                        6.163095   \n",
       "2                              -0.067640                        6.044647   \n",
       "3                              -0.110067                        5.493184   \n",
       "4                              -0.305335                        5.613551   \n",
       "\n",
       "   Nuclear Electric Power Consumption  Total Renewable Energy Consumption  \\\n",
       "0                            0.068103                            0.403981   \n",
       "1                            0.064634                            0.360900   \n",
       "2                            0.072494                            0.400161   \n",
       "3                            0.064070                            0.380470   \n",
       "4                            0.062111                            0.392141   \n",
       "\n",
       "   Total Primary Energy Consumption  \n",
       "0                          7.223873  \n",
       "1                          6.592366  \n",
       "2                          6.521439  \n",
       "3                          5.941729  \n",
       "4                          6.071940  "
      ]
     },
     "execution_count": 115,
     "metadata": {},
     "output_type": "execute_result"
    }
   ],
   "source": [
    "data = pd.read_csv('World_Energy_Overview.csv')\n",
    "data.head()"
   ]
  },
  {
   "cell_type": "code",
   "execution_count": 116,
   "metadata": {},
   "outputs": [],
   "source": [
    "data['Year'], data['Month'] = data['Month'].str.split(' ').str\n",
    "# data.head()"
   ]
  },
  {
   "cell_type": "code",
   "execution_count": 117,
   "metadata": {},
   "outputs": [],
   "source": [
    "months = {\n",
    "        'January': '01',\n",
    "        'February': '02',\n",
    "        'March': '03',\n",
    "        'April': '04',\n",
    "         'May': '05',\n",
    "         'June': '06',\n",
    "         'July': '07',\n",
    "         'August': '08',\n",
    "         'September': '09',\n",
    "         'October': '10',\n",
    "         'November': '11',\n",
    "         'December': '12'\n",
    "        }"
   ]
  },
  {
   "cell_type": "code",
   "execution_count": 118,
   "metadata": {},
   "outputs": [
    {
     "data": {
      "text/html": [
       "<div>\n",
       "<style scoped>\n",
       "    .dataframe tbody tr th:only-of-type {\n",
       "        vertical-align: middle;\n",
       "    }\n",
       "\n",
       "    .dataframe tbody tr th {\n",
       "        vertical-align: top;\n",
       "    }\n",
       "\n",
       "    .dataframe thead th {\n",
       "        text-align: right;\n",
       "    }\n",
       "</style>\n",
       "<table border=\"1\" class=\"dataframe\">\n",
       "  <thead>\n",
       "    <tr style=\"text-align: right;\">\n",
       "      <th></th>\n",
       "      <th>Month</th>\n",
       "      <th>Total Fossil Fuels Production</th>\n",
       "      <th>Nuclear Electric Power Production</th>\n",
       "      <th>Total Renewable Energy Production</th>\n",
       "      <th>Total Primary Energy Production</th>\n",
       "      <th>Primary Energy Imports</th>\n",
       "      <th>Primary Energy Exports</th>\n",
       "      <th>Primary Energy Net Imports</th>\n",
       "      <th>Primary Energy Stock Change and Other</th>\n",
       "      <th>Total Fossil Fuels Consumption</th>\n",
       "      <th>Nuclear Electric Power Consumption</th>\n",
       "      <th>Total Renewable Energy Consumption</th>\n",
       "      <th>Total Primary Energy Consumption</th>\n",
       "      <th>Year</th>\n",
       "    </tr>\n",
       "  </thead>\n",
       "  <tbody>\n",
       "    <tr>\n",
       "      <th>0</th>\n",
       "      <td>01</td>\n",
       "      <td>4.932632</td>\n",
       "      <td>0.068103</td>\n",
       "      <td>0.403981</td>\n",
       "      <td>5.404715</td>\n",
       "      <td>1.173080</td>\n",
       "      <td>0.125781</td>\n",
       "      <td>1.047299</td>\n",
       "      <td>0.771858</td>\n",
       "      <td>6.747651</td>\n",
       "      <td>0.068103</td>\n",
       "      <td>0.403981</td>\n",
       "      <td>7.223873</td>\n",
       "      <td>1973</td>\n",
       "    </tr>\n",
       "    <tr>\n",
       "      <th>1</th>\n",
       "      <td>02</td>\n",
       "      <td>4.729582</td>\n",
       "      <td>0.064634</td>\n",
       "      <td>0.360900</td>\n",
       "      <td>5.155115</td>\n",
       "      <td>1.168005</td>\n",
       "      <td>0.120883</td>\n",
       "      <td>1.047122</td>\n",
       "      <td>0.390129</td>\n",
       "      <td>6.163095</td>\n",
       "      <td>0.064634</td>\n",
       "      <td>0.360900</td>\n",
       "      <td>6.592366</td>\n",
       "      <td>1973</td>\n",
       "    </tr>\n",
       "    <tr>\n",
       "      <th>2</th>\n",
       "      <td>03</td>\n",
       "      <td>4.946902</td>\n",
       "      <td>0.072494</td>\n",
       "      <td>0.400161</td>\n",
       "      <td>5.419556</td>\n",
       "      <td>1.309473</td>\n",
       "      <td>0.139950</td>\n",
       "      <td>1.169523</td>\n",
       "      <td>-0.067640</td>\n",
       "      <td>6.044647</td>\n",
       "      <td>0.072494</td>\n",
       "      <td>0.400161</td>\n",
       "      <td>6.521439</td>\n",
       "      <td>1973</td>\n",
       "    </tr>\n",
       "    <tr>\n",
       "      <th>3</th>\n",
       "      <td>04</td>\n",
       "      <td>4.716271</td>\n",
       "      <td>0.064070</td>\n",
       "      <td>0.380470</td>\n",
       "      <td>5.160812</td>\n",
       "      <td>1.085169</td>\n",
       "      <td>0.194185</td>\n",
       "      <td>0.890984</td>\n",
       "      <td>-0.110067</td>\n",
       "      <td>5.493184</td>\n",
       "      <td>0.064070</td>\n",
       "      <td>0.380470</td>\n",
       "      <td>5.941729</td>\n",
       "      <td>1973</td>\n",
       "    </tr>\n",
       "    <tr>\n",
       "      <th>4</th>\n",
       "      <td>05</td>\n",
       "      <td>4.956995</td>\n",
       "      <td>0.062111</td>\n",
       "      <td>0.392141</td>\n",
       "      <td>5.411246</td>\n",
       "      <td>1.162804</td>\n",
       "      <td>0.196775</td>\n",
       "      <td>0.966029</td>\n",
       "      <td>-0.305335</td>\n",
       "      <td>5.613551</td>\n",
       "      <td>0.062111</td>\n",
       "      <td>0.392141</td>\n",
       "      <td>6.071940</td>\n",
       "      <td>1973</td>\n",
       "    </tr>\n",
       "  </tbody>\n",
       "</table>\n",
       "</div>"
      ],
      "text/plain": [
       "  Month  Total Fossil Fuels Production  Nuclear Electric Power Production  \\\n",
       "0    01                       4.932632                           0.068103   \n",
       "1    02                       4.729582                           0.064634   \n",
       "2    03                       4.946902                           0.072494   \n",
       "3    04                       4.716271                           0.064070   \n",
       "4    05                       4.956995                           0.062111   \n",
       "\n",
       "   Total Renewable Energy Production  Total Primary Energy Production  \\\n",
       "0                           0.403981                         5.404715   \n",
       "1                           0.360900                         5.155115   \n",
       "2                           0.400161                         5.419556   \n",
       "3                           0.380470                         5.160812   \n",
       "4                           0.392141                         5.411246   \n",
       "\n",
       "   Primary Energy Imports  Primary Energy Exports  Primary Energy Net Imports  \\\n",
       "0                1.173080                0.125781                    1.047299   \n",
       "1                1.168005                0.120883                    1.047122   \n",
       "2                1.309473                0.139950                    1.169523   \n",
       "3                1.085169                0.194185                    0.890984   \n",
       "4                1.162804                0.196775                    0.966029   \n",
       "\n",
       "   Primary Energy Stock Change and Other  Total Fossil Fuels Consumption  \\\n",
       "0                               0.771858                        6.747651   \n",
       "1                               0.390129                        6.163095   \n",
       "2                              -0.067640                        6.044647   \n",
       "3                              -0.110067                        5.493184   \n",
       "4                              -0.305335                        5.613551   \n",
       "\n",
       "   Nuclear Electric Power Consumption  Total Renewable Energy Consumption  \\\n",
       "0                            0.068103                            0.403981   \n",
       "1                            0.064634                            0.360900   \n",
       "2                            0.072494                            0.400161   \n",
       "3                            0.064070                            0.380470   \n",
       "4                            0.062111                            0.392141   \n",
       "\n",
       "   Total Primary Energy Consumption  Year  \n",
       "0                          7.223873  1973  \n",
       "1                          6.592366  1973  \n",
       "2                          6.521439  1973  \n",
       "3                          5.941729  1973  \n",
       "4                          6.071940  1973  "
      ]
     },
     "execution_count": 118,
     "metadata": {},
     "output_type": "execute_result"
    }
   ],
   "source": [
    "data2 = data.replace({\"Month\": months})\n",
    "data2.head()"
   ]
  },
  {
   "cell_type": "code",
   "execution_count": 119,
   "metadata": {},
   "outputs": [
    {
     "data": {
      "text/html": [
       "<div>\n",
       "<style scoped>\n",
       "    .dataframe tbody tr th:only-of-type {\n",
       "        vertical-align: middle;\n",
       "    }\n",
       "\n",
       "    .dataframe tbody tr th {\n",
       "        vertical-align: top;\n",
       "    }\n",
       "\n",
       "    .dataframe thead th {\n",
       "        text-align: right;\n",
       "    }\n",
       "</style>\n",
       "<table border=\"1\" class=\"dataframe\">\n",
       "  <thead>\n",
       "    <tr style=\"text-align: right;\">\n",
       "      <th></th>\n",
       "      <th>Month</th>\n",
       "      <th>Total Fossil Fuels Production</th>\n",
       "      <th>Nuclear Electric Power Production</th>\n",
       "      <th>Total Renewable Energy Production</th>\n",
       "      <th>Total Primary Energy Production</th>\n",
       "      <th>Primary Energy Imports</th>\n",
       "      <th>Primary Energy Exports</th>\n",
       "      <th>Primary Energy Net Imports</th>\n",
       "      <th>Primary Energy Stock Change and Other</th>\n",
       "      <th>Total Fossil Fuels Consumption</th>\n",
       "      <th>Nuclear Electric Power Consumption</th>\n",
       "      <th>Total Renewable Energy Consumption</th>\n",
       "      <th>Total Primary Energy Consumption</th>\n",
       "      <th>Year</th>\n",
       "    </tr>\n",
       "  </thead>\n",
       "  <tbody>\n",
       "    <tr>\n",
       "      <th>0</th>\n",
       "      <td>01</td>\n",
       "      <td>4.932632</td>\n",
       "      <td>0.068103</td>\n",
       "      <td>0.403981</td>\n",
       "      <td>5.404715</td>\n",
       "      <td>1.173080</td>\n",
       "      <td>0.125781</td>\n",
       "      <td>1.047299</td>\n",
       "      <td>0.771858</td>\n",
       "      <td>6.747651</td>\n",
       "      <td>0.068103</td>\n",
       "      <td>0.403981</td>\n",
       "      <td>7.223873</td>\n",
       "      <td>1973</td>\n",
       "    </tr>\n",
       "    <tr>\n",
       "      <th>1</th>\n",
       "      <td>02</td>\n",
       "      <td>4.729582</td>\n",
       "      <td>0.064634</td>\n",
       "      <td>0.360900</td>\n",
       "      <td>5.155115</td>\n",
       "      <td>1.168005</td>\n",
       "      <td>0.120883</td>\n",
       "      <td>1.047122</td>\n",
       "      <td>0.390129</td>\n",
       "      <td>6.163095</td>\n",
       "      <td>0.064634</td>\n",
       "      <td>0.360900</td>\n",
       "      <td>6.592366</td>\n",
       "      <td>1973</td>\n",
       "    </tr>\n",
       "    <tr>\n",
       "      <th>2</th>\n",
       "      <td>03</td>\n",
       "      <td>4.946902</td>\n",
       "      <td>0.072494</td>\n",
       "      <td>0.400161</td>\n",
       "      <td>5.419556</td>\n",
       "      <td>1.309473</td>\n",
       "      <td>0.139950</td>\n",
       "      <td>1.169523</td>\n",
       "      <td>-0.067640</td>\n",
       "      <td>6.044647</td>\n",
       "      <td>0.072494</td>\n",
       "      <td>0.400161</td>\n",
       "      <td>6.521439</td>\n",
       "      <td>1973</td>\n",
       "    </tr>\n",
       "    <tr>\n",
       "      <th>3</th>\n",
       "      <td>04</td>\n",
       "      <td>4.716271</td>\n",
       "      <td>0.064070</td>\n",
       "      <td>0.380470</td>\n",
       "      <td>5.160812</td>\n",
       "      <td>1.085169</td>\n",
       "      <td>0.194185</td>\n",
       "      <td>0.890984</td>\n",
       "      <td>-0.110067</td>\n",
       "      <td>5.493184</td>\n",
       "      <td>0.064070</td>\n",
       "      <td>0.380470</td>\n",
       "      <td>5.941729</td>\n",
       "      <td>1973</td>\n",
       "    </tr>\n",
       "    <tr>\n",
       "      <th>4</th>\n",
       "      <td>05</td>\n",
       "      <td>4.956995</td>\n",
       "      <td>0.062111</td>\n",
       "      <td>0.392141</td>\n",
       "      <td>5.411246</td>\n",
       "      <td>1.162804</td>\n",
       "      <td>0.196775</td>\n",
       "      <td>0.966029</td>\n",
       "      <td>-0.305335</td>\n",
       "      <td>5.613551</td>\n",
       "      <td>0.062111</td>\n",
       "      <td>0.392141</td>\n",
       "      <td>6.071940</td>\n",
       "      <td>1973</td>\n",
       "    </tr>\n",
       "    <tr>\n",
       "      <th>...</th>\n",
       "      <td>...</td>\n",
       "      <td>...</td>\n",
       "      <td>...</td>\n",
       "      <td>...</td>\n",
       "      <td>...</td>\n",
       "      <td>...</td>\n",
       "      <td>...</td>\n",
       "      <td>...</td>\n",
       "      <td>...</td>\n",
       "      <td>...</td>\n",
       "      <td>...</td>\n",
       "      <td>...</td>\n",
       "      <td>...</td>\n",
       "      <td>...</td>\n",
       "    </tr>\n",
       "    <tr>\n",
       "      <th>595</th>\n",
       "      <td>08</td>\n",
       "      <td>7.047525</td>\n",
       "      <td>0.718526</td>\n",
       "      <td>1.044026</td>\n",
       "      <td>8.810077</td>\n",
       "      <td>1.821828</td>\n",
       "      <td>2.327090</td>\n",
       "      <td>-0.505262</td>\n",
       "      <td>0.225628</td>\n",
       "      <td>6.755154</td>\n",
       "      <td>0.718526</td>\n",
       "      <td>1.036589</td>\n",
       "      <td>8.530444</td>\n",
       "      <td>2022</td>\n",
       "    </tr>\n",
       "    <tr>\n",
       "      <th>596</th>\n",
       "      <td>09</td>\n",
       "      <td>6.915201</td>\n",
       "      <td>0.664673</td>\n",
       "      <td>0.978647</td>\n",
       "      <td>8.558521</td>\n",
       "      <td>1.702048</td>\n",
       "      <td>2.219831</td>\n",
       "      <td>-0.517784</td>\n",
       "      <td>-0.257997</td>\n",
       "      <td>6.144280</td>\n",
       "      <td>0.664673</td>\n",
       "      <td>0.960694</td>\n",
       "      <td>7.782741</td>\n",
       "      <td>2022</td>\n",
       "    </tr>\n",
       "    <tr>\n",
       "      <th>597</th>\n",
       "      <td>10</td>\n",
       "      <td>7.126618</td>\n",
       "      <td>0.614741</td>\n",
       "      <td>1.019209</td>\n",
       "      <td>8.760568</td>\n",
       "      <td>1.767733</td>\n",
       "      <td>2.322475</td>\n",
       "      <td>-0.554743</td>\n",
       "      <td>-0.394651</td>\n",
       "      <td>6.179721</td>\n",
       "      <td>0.614741</td>\n",
       "      <td>1.006859</td>\n",
       "      <td>7.811175</td>\n",
       "      <td>2022</td>\n",
       "    </tr>\n",
       "    <tr>\n",
       "      <th>598</th>\n",
       "      <td>11</td>\n",
       "      <td>6.875368</td>\n",
       "      <td>0.647029</td>\n",
       "      <td>1.097519</td>\n",
       "      <td>8.619915</td>\n",
       "      <td>1.761697</td>\n",
       "      <td>2.305923</td>\n",
       "      <td>-0.544226</td>\n",
       "      <td>0.210202</td>\n",
       "      <td>6.553431</td>\n",
       "      <td>0.647029</td>\n",
       "      <td>1.076469</td>\n",
       "      <td>8.285891</td>\n",
       "      <td>2022</td>\n",
       "    </tr>\n",
       "    <tr>\n",
       "      <th>599</th>\n",
       "      <td>12</td>\n",
       "      <td>6.838495</td>\n",
       "      <td>0.720583</td>\n",
       "      <td>1.086509</td>\n",
       "      <td>8.645586</td>\n",
       "      <td>1.796398</td>\n",
       "      <td>2.416155</td>\n",
       "      <td>-0.619757</td>\n",
       "      <td>1.054346</td>\n",
       "      <td>7.277576</td>\n",
       "      <td>0.720583</td>\n",
       "      <td>1.068297</td>\n",
       "      <td>9.080175</td>\n",
       "      <td>2022</td>\n",
       "    </tr>\n",
       "  </tbody>\n",
       "</table>\n",
       "<p>600 rows × 14 columns</p>\n",
       "</div>"
      ],
      "text/plain": [
       "    Month  Total Fossil Fuels Production  Nuclear Electric Power Production  \\\n",
       "0      01                       4.932632                           0.068103   \n",
       "1      02                       4.729582                           0.064634   \n",
       "2      03                       4.946902                           0.072494   \n",
       "3      04                       4.716271                           0.064070   \n",
       "4      05                       4.956995                           0.062111   \n",
       "..    ...                            ...                                ...   \n",
       "595    08                       7.047525                           0.718526   \n",
       "596    09                       6.915201                           0.664673   \n",
       "597    10                       7.126618                           0.614741   \n",
       "598    11                       6.875368                           0.647029   \n",
       "599    12                       6.838495                           0.720583   \n",
       "\n",
       "     Total Renewable Energy Production  Total Primary Energy Production  \\\n",
       "0                             0.403981                         5.404715   \n",
       "1                             0.360900                         5.155115   \n",
       "2                             0.400161                         5.419556   \n",
       "3                             0.380470                         5.160812   \n",
       "4                             0.392141                         5.411246   \n",
       "..                                 ...                              ...   \n",
       "595                           1.044026                         8.810077   \n",
       "596                           0.978647                         8.558521   \n",
       "597                           1.019209                         8.760568   \n",
       "598                           1.097519                         8.619915   \n",
       "599                           1.086509                         8.645586   \n",
       "\n",
       "     Primary Energy Imports  Primary Energy Exports  \\\n",
       "0                  1.173080                0.125781   \n",
       "1                  1.168005                0.120883   \n",
       "2                  1.309473                0.139950   \n",
       "3                  1.085169                0.194185   \n",
       "4                  1.162804                0.196775   \n",
       "..                      ...                     ...   \n",
       "595                1.821828                2.327090   \n",
       "596                1.702048                2.219831   \n",
       "597                1.767733                2.322475   \n",
       "598                1.761697                2.305923   \n",
       "599                1.796398                2.416155   \n",
       "\n",
       "     Primary Energy Net Imports  Primary Energy Stock Change and Other  \\\n",
       "0                      1.047299                               0.771858   \n",
       "1                      1.047122                               0.390129   \n",
       "2                      1.169523                              -0.067640   \n",
       "3                      0.890984                              -0.110067   \n",
       "4                      0.966029                              -0.305335   \n",
       "..                          ...                                    ...   \n",
       "595                   -0.505262                               0.225628   \n",
       "596                   -0.517784                              -0.257997   \n",
       "597                   -0.554743                              -0.394651   \n",
       "598                   -0.544226                               0.210202   \n",
       "599                   -0.619757                               1.054346   \n",
       "\n",
       "     Total Fossil Fuels Consumption  Nuclear Electric Power Consumption  \\\n",
       "0                          6.747651                            0.068103   \n",
       "1                          6.163095                            0.064634   \n",
       "2                          6.044647                            0.072494   \n",
       "3                          5.493184                            0.064070   \n",
       "4                          5.613551                            0.062111   \n",
       "..                              ...                                 ...   \n",
       "595                        6.755154                            0.718526   \n",
       "596                        6.144280                            0.664673   \n",
       "597                        6.179721                            0.614741   \n",
       "598                        6.553431                            0.647029   \n",
       "599                        7.277576                            0.720583   \n",
       "\n",
       "     Total Renewable Energy Consumption  Total Primary Energy Consumption  \\\n",
       "0                              0.403981                          7.223873   \n",
       "1                              0.360900                          6.592366   \n",
       "2                              0.400161                          6.521439   \n",
       "3                              0.380470                          5.941729   \n",
       "4                              0.392141                          6.071940   \n",
       "..                                  ...                               ...   \n",
       "595                            1.036589                          8.530444   \n",
       "596                            0.960694                          7.782741   \n",
       "597                            1.006859                          7.811175   \n",
       "598                            1.076469                          8.285891   \n",
       "599                            1.068297                          9.080175   \n",
       "\n",
       "     Year  \n",
       "0    1973  \n",
       "1    1973  \n",
       "2    1973  \n",
       "3    1973  \n",
       "4    1973  \n",
       "..    ...  \n",
       "595  2022  \n",
       "596  2022  \n",
       "597  2022  \n",
       "598  2022  \n",
       "599  2022  \n",
       "\n",
       "[600 rows x 14 columns]"
      ]
     },
     "execution_count": 119,
     "metadata": {},
     "output_type": "execute_result"
    }
   ],
   "source": [
    "data2['Month'] = data2['Month'].map(str)\n",
    "data2['Year'] = data2['Year'].map(str)\n",
    "data2"
   ]
  },
  {
   "cell_type": "code",
   "execution_count": 120,
   "metadata": {},
   "outputs": [
    {
     "data": {
      "text/html": [
       "<div>\n",
       "<style scoped>\n",
       "    .dataframe tbody tr th:only-of-type {\n",
       "        vertical-align: middle;\n",
       "    }\n",
       "\n",
       "    .dataframe tbody tr th {\n",
       "        vertical-align: top;\n",
       "    }\n",
       "\n",
       "    .dataframe thead th {\n",
       "        text-align: right;\n",
       "    }\n",
       "</style>\n",
       "<table border=\"1\" class=\"dataframe\">\n",
       "  <thead>\n",
       "    <tr style=\"text-align: right;\">\n",
       "      <th></th>\n",
       "      <th>Month</th>\n",
       "      <th>Total Fossil Fuels Production</th>\n",
       "      <th>Nuclear Electric Power Production</th>\n",
       "      <th>Total Renewable Energy Production</th>\n",
       "      <th>Total Primary Energy Production</th>\n",
       "      <th>Primary Energy Imports</th>\n",
       "      <th>Primary Energy Exports</th>\n",
       "      <th>Primary Energy Net Imports</th>\n",
       "      <th>Primary Energy Stock Change and Other</th>\n",
       "      <th>Total Fossil Fuels Consumption</th>\n",
       "      <th>Nuclear Electric Power Consumption</th>\n",
       "      <th>Total Renewable Energy Consumption</th>\n",
       "      <th>Total Primary Energy Consumption</th>\n",
       "      <th>Year</th>\n",
       "    </tr>\n",
       "  </thead>\n",
       "  <tbody>\n",
       "    <tr>\n",
       "      <th>0</th>\n",
       "      <td>01</td>\n",
       "      <td>4.932632</td>\n",
       "      <td>0.068103</td>\n",
       "      <td>0.403981</td>\n",
       "      <td>5.404715</td>\n",
       "      <td>1.173080</td>\n",
       "      <td>0.125781</td>\n",
       "      <td>1.047299</td>\n",
       "      <td>0.771858</td>\n",
       "      <td>6.747651</td>\n",
       "      <td>0.068103</td>\n",
       "      <td>0.403981</td>\n",
       "      <td>7.223873</td>\n",
       "      <td>1973</td>\n",
       "    </tr>\n",
       "    <tr>\n",
       "      <th>1</th>\n",
       "      <td>02</td>\n",
       "      <td>4.729582</td>\n",
       "      <td>0.064634</td>\n",
       "      <td>0.360900</td>\n",
       "      <td>5.155115</td>\n",
       "      <td>1.168005</td>\n",
       "      <td>0.120883</td>\n",
       "      <td>1.047122</td>\n",
       "      <td>0.390129</td>\n",
       "      <td>6.163095</td>\n",
       "      <td>0.064634</td>\n",
       "      <td>0.360900</td>\n",
       "      <td>6.592366</td>\n",
       "      <td>1973</td>\n",
       "    </tr>\n",
       "    <tr>\n",
       "      <th>2</th>\n",
       "      <td>03</td>\n",
       "      <td>4.946902</td>\n",
       "      <td>0.072494</td>\n",
       "      <td>0.400161</td>\n",
       "      <td>5.419556</td>\n",
       "      <td>1.309473</td>\n",
       "      <td>0.139950</td>\n",
       "      <td>1.169523</td>\n",
       "      <td>-0.067640</td>\n",
       "      <td>6.044647</td>\n",
       "      <td>0.072494</td>\n",
       "      <td>0.400161</td>\n",
       "      <td>6.521439</td>\n",
       "      <td>1973</td>\n",
       "    </tr>\n",
       "    <tr>\n",
       "      <th>3</th>\n",
       "      <td>04</td>\n",
       "      <td>4.716271</td>\n",
       "      <td>0.064070</td>\n",
       "      <td>0.380470</td>\n",
       "      <td>5.160812</td>\n",
       "      <td>1.085169</td>\n",
       "      <td>0.194185</td>\n",
       "      <td>0.890984</td>\n",
       "      <td>-0.110067</td>\n",
       "      <td>5.493184</td>\n",
       "      <td>0.064070</td>\n",
       "      <td>0.380470</td>\n",
       "      <td>5.941729</td>\n",
       "      <td>1973</td>\n",
       "    </tr>\n",
       "    <tr>\n",
       "      <th>4</th>\n",
       "      <td>05</td>\n",
       "      <td>4.956995</td>\n",
       "      <td>0.062111</td>\n",
       "      <td>0.392141</td>\n",
       "      <td>5.411246</td>\n",
       "      <td>1.162804</td>\n",
       "      <td>0.196775</td>\n",
       "      <td>0.966029</td>\n",
       "      <td>-0.305335</td>\n",
       "      <td>5.613551</td>\n",
       "      <td>0.062111</td>\n",
       "      <td>0.392141</td>\n",
       "      <td>6.071940</td>\n",
       "      <td>1973</td>\n",
       "    </tr>\n",
       "    <tr>\n",
       "      <th>...</th>\n",
       "      <td>...</td>\n",
       "      <td>...</td>\n",
       "      <td>...</td>\n",
       "      <td>...</td>\n",
       "      <td>...</td>\n",
       "      <td>...</td>\n",
       "      <td>...</td>\n",
       "      <td>...</td>\n",
       "      <td>...</td>\n",
       "      <td>...</td>\n",
       "      <td>...</td>\n",
       "      <td>...</td>\n",
       "      <td>...</td>\n",
       "      <td>...</td>\n",
       "    </tr>\n",
       "    <tr>\n",
       "      <th>594</th>\n",
       "      <td>07</td>\n",
       "      <td>6.921426</td>\n",
       "      <td>0.718109</td>\n",
       "      <td>1.132400</td>\n",
       "      <td>8.771935</td>\n",
       "      <td>1.907862</td>\n",
       "      <td>2.294320</td>\n",
       "      <td>-0.386458</td>\n",
       "      <td>0.199327</td>\n",
       "      <td>6.736891</td>\n",
       "      <td>0.718109</td>\n",
       "      <td>1.111161</td>\n",
       "      <td>8.584805</td>\n",
       "      <td>2022</td>\n",
       "    </tr>\n",
       "    <tr>\n",
       "      <th>595</th>\n",
       "      <td>08</td>\n",
       "      <td>7.047525</td>\n",
       "      <td>0.718526</td>\n",
       "      <td>1.044026</td>\n",
       "      <td>8.810077</td>\n",
       "      <td>1.821828</td>\n",
       "      <td>2.327090</td>\n",
       "      <td>-0.505262</td>\n",
       "      <td>0.225628</td>\n",
       "      <td>6.755154</td>\n",
       "      <td>0.718526</td>\n",
       "      <td>1.036589</td>\n",
       "      <td>8.530444</td>\n",
       "      <td>2022</td>\n",
       "    </tr>\n",
       "    <tr>\n",
       "      <th>596</th>\n",
       "      <td>09</td>\n",
       "      <td>6.915201</td>\n",
       "      <td>0.664673</td>\n",
       "      <td>0.978647</td>\n",
       "      <td>8.558521</td>\n",
       "      <td>1.702048</td>\n",
       "      <td>2.219831</td>\n",
       "      <td>-0.517784</td>\n",
       "      <td>-0.257997</td>\n",
       "      <td>6.144280</td>\n",
       "      <td>0.664673</td>\n",
       "      <td>0.960694</td>\n",
       "      <td>7.782741</td>\n",
       "      <td>2022</td>\n",
       "    </tr>\n",
       "    <tr>\n",
       "      <th>597</th>\n",
       "      <td>10</td>\n",
       "      <td>7.126618</td>\n",
       "      <td>0.614741</td>\n",
       "      <td>1.019209</td>\n",
       "      <td>8.760568</td>\n",
       "      <td>1.767733</td>\n",
       "      <td>2.322475</td>\n",
       "      <td>-0.554743</td>\n",
       "      <td>-0.394651</td>\n",
       "      <td>6.179721</td>\n",
       "      <td>0.614741</td>\n",
       "      <td>1.006859</td>\n",
       "      <td>7.811175</td>\n",
       "      <td>2022</td>\n",
       "    </tr>\n",
       "    <tr>\n",
       "      <th>598</th>\n",
       "      <td>11</td>\n",
       "      <td>6.875368</td>\n",
       "      <td>0.647029</td>\n",
       "      <td>1.097519</td>\n",
       "      <td>8.619915</td>\n",
       "      <td>1.761697</td>\n",
       "      <td>2.305923</td>\n",
       "      <td>-0.544226</td>\n",
       "      <td>0.210202</td>\n",
       "      <td>6.553431</td>\n",
       "      <td>0.647029</td>\n",
       "      <td>1.076469</td>\n",
       "      <td>8.285891</td>\n",
       "      <td>2022</td>\n",
       "    </tr>\n",
       "  </tbody>\n",
       "</table>\n",
       "<p>599 rows × 14 columns</p>\n",
       "</div>"
      ],
      "text/plain": [
       "    Month  Total Fossil Fuels Production  Nuclear Electric Power Production  \\\n",
       "0      01                       4.932632                           0.068103   \n",
       "1      02                       4.729582                           0.064634   \n",
       "2      03                       4.946902                           0.072494   \n",
       "3      04                       4.716271                           0.064070   \n",
       "4      05                       4.956995                           0.062111   \n",
       "..    ...                            ...                                ...   \n",
       "594    07                       6.921426                           0.718109   \n",
       "595    08                       7.047525                           0.718526   \n",
       "596    09                       6.915201                           0.664673   \n",
       "597    10                       7.126618                           0.614741   \n",
       "598    11                       6.875368                           0.647029   \n",
       "\n",
       "     Total Renewable Energy Production  Total Primary Energy Production  \\\n",
       "0                             0.403981                         5.404715   \n",
       "1                             0.360900                         5.155115   \n",
       "2                             0.400161                         5.419556   \n",
       "3                             0.380470                         5.160812   \n",
       "4                             0.392141                         5.411246   \n",
       "..                                 ...                              ...   \n",
       "594                           1.132400                         8.771935   \n",
       "595                           1.044026                         8.810077   \n",
       "596                           0.978647                         8.558521   \n",
       "597                           1.019209                         8.760568   \n",
       "598                           1.097519                         8.619915   \n",
       "\n",
       "     Primary Energy Imports  Primary Energy Exports  \\\n",
       "0                  1.173080                0.125781   \n",
       "1                  1.168005                0.120883   \n",
       "2                  1.309473                0.139950   \n",
       "3                  1.085169                0.194185   \n",
       "4                  1.162804                0.196775   \n",
       "..                      ...                     ...   \n",
       "594                1.907862                2.294320   \n",
       "595                1.821828                2.327090   \n",
       "596                1.702048                2.219831   \n",
       "597                1.767733                2.322475   \n",
       "598                1.761697                2.305923   \n",
       "\n",
       "     Primary Energy Net Imports  Primary Energy Stock Change and Other  \\\n",
       "0                      1.047299                               0.771858   \n",
       "1                      1.047122                               0.390129   \n",
       "2                      1.169523                              -0.067640   \n",
       "3                      0.890984                              -0.110067   \n",
       "4                      0.966029                              -0.305335   \n",
       "..                          ...                                    ...   \n",
       "594                   -0.386458                               0.199327   \n",
       "595                   -0.505262                               0.225628   \n",
       "596                   -0.517784                              -0.257997   \n",
       "597                   -0.554743                              -0.394651   \n",
       "598                   -0.544226                               0.210202   \n",
       "\n",
       "     Total Fossil Fuels Consumption  Nuclear Electric Power Consumption  \\\n",
       "0                          6.747651                            0.068103   \n",
       "1                          6.163095                            0.064634   \n",
       "2                          6.044647                            0.072494   \n",
       "3                          5.493184                            0.064070   \n",
       "4                          5.613551                            0.062111   \n",
       "..                              ...                                 ...   \n",
       "594                        6.736891                            0.718109   \n",
       "595                        6.755154                            0.718526   \n",
       "596                        6.144280                            0.664673   \n",
       "597                        6.179721                            0.614741   \n",
       "598                        6.553431                            0.647029   \n",
       "\n",
       "     Total Renewable Energy Consumption  Total Primary Energy Consumption  \\\n",
       "0                              0.403981                          7.223873   \n",
       "1                              0.360900                          6.592366   \n",
       "2                              0.400161                          6.521439   \n",
       "3                              0.380470                          5.941729   \n",
       "4                              0.392141                          6.071940   \n",
       "..                                  ...                               ...   \n",
       "594                            1.111161                          8.584805   \n",
       "595                            1.036589                          8.530444   \n",
       "596                            0.960694                          7.782741   \n",
       "597                            1.006859                          7.811175   \n",
       "598                            1.076469                          8.285891   \n",
       "\n",
       "     Year  \n",
       "0    1973  \n",
       "1    1973  \n",
       "2    1973  \n",
       "3    1973  \n",
       "4    1973  \n",
       "..    ...  \n",
       "594  2022  \n",
       "595  2022  \n",
       "596  2022  \n",
       "597  2022  \n",
       "598  2022  \n",
       "\n",
       "[599 rows x 14 columns]"
      ]
     },
     "execution_count": 120,
     "metadata": {},
     "output_type": "execute_result"
    }
   ],
   "source": [
    "df = data2[:-1]\n",
    "df"
   ]
  },
  {
   "cell_type": "code",
   "execution_count": 121,
   "metadata": {},
   "outputs": [
    {
     "data": {
      "text/html": [
       "<div>\n",
       "<style scoped>\n",
       "    .dataframe tbody tr th:only-of-type {\n",
       "        vertical-align: middle;\n",
       "    }\n",
       "\n",
       "    .dataframe tbody tr th {\n",
       "        vertical-align: top;\n",
       "    }\n",
       "\n",
       "    .dataframe thead th {\n",
       "        text-align: right;\n",
       "    }\n",
       "</style>\n",
       "<table border=\"1\" class=\"dataframe\">\n",
       "  <thead>\n",
       "    <tr style=\"text-align: right;\">\n",
       "      <th></th>\n",
       "      <th>Month</th>\n",
       "      <th>Total Fossil Fuels Production</th>\n",
       "      <th>Nuclear Electric Power Production</th>\n",
       "      <th>Total Renewable Energy Production</th>\n",
       "      <th>Total Primary Energy Production</th>\n",
       "      <th>Primary Energy Imports</th>\n",
       "      <th>Primary Energy Exports</th>\n",
       "      <th>Primary Energy Net Imports</th>\n",
       "      <th>Primary Energy Stock Change and Other</th>\n",
       "      <th>Total Fossil Fuels Consumption</th>\n",
       "      <th>Nuclear Electric Power Consumption</th>\n",
       "      <th>Total Renewable Energy Consumption</th>\n",
       "      <th>Total Primary Energy Consumption</th>\n",
       "      <th>Year</th>\n",
       "    </tr>\n",
       "  </thead>\n",
       "  <tbody>\n",
       "    <tr>\n",
       "      <th>1973-01-31</th>\n",
       "      <td>01</td>\n",
       "      <td>4.932632</td>\n",
       "      <td>0.068103</td>\n",
       "      <td>0.403981</td>\n",
       "      <td>5.404715</td>\n",
       "      <td>1.173080</td>\n",
       "      <td>0.125781</td>\n",
       "      <td>1.047299</td>\n",
       "      <td>0.771858</td>\n",
       "      <td>6.747651</td>\n",
       "      <td>0.068103</td>\n",
       "      <td>0.403981</td>\n",
       "      <td>7.223873</td>\n",
       "      <td>1973</td>\n",
       "    </tr>\n",
       "    <tr>\n",
       "      <th>1973-02-28</th>\n",
       "      <td>02</td>\n",
       "      <td>4.729582</td>\n",
       "      <td>0.064634</td>\n",
       "      <td>0.360900</td>\n",
       "      <td>5.155115</td>\n",
       "      <td>1.168005</td>\n",
       "      <td>0.120883</td>\n",
       "      <td>1.047122</td>\n",
       "      <td>0.390129</td>\n",
       "      <td>6.163095</td>\n",
       "      <td>0.064634</td>\n",
       "      <td>0.360900</td>\n",
       "      <td>6.592366</td>\n",
       "      <td>1973</td>\n",
       "    </tr>\n",
       "    <tr>\n",
       "      <th>1973-03-31</th>\n",
       "      <td>03</td>\n",
       "      <td>4.946902</td>\n",
       "      <td>0.072494</td>\n",
       "      <td>0.400161</td>\n",
       "      <td>5.419556</td>\n",
       "      <td>1.309473</td>\n",
       "      <td>0.139950</td>\n",
       "      <td>1.169523</td>\n",
       "      <td>-0.067640</td>\n",
       "      <td>6.044647</td>\n",
       "      <td>0.072494</td>\n",
       "      <td>0.400161</td>\n",
       "      <td>6.521439</td>\n",
       "      <td>1973</td>\n",
       "    </tr>\n",
       "    <tr>\n",
       "      <th>1973-04-30</th>\n",
       "      <td>04</td>\n",
       "      <td>4.716271</td>\n",
       "      <td>0.064070</td>\n",
       "      <td>0.380470</td>\n",
       "      <td>5.160812</td>\n",
       "      <td>1.085169</td>\n",
       "      <td>0.194185</td>\n",
       "      <td>0.890984</td>\n",
       "      <td>-0.110067</td>\n",
       "      <td>5.493184</td>\n",
       "      <td>0.064070</td>\n",
       "      <td>0.380470</td>\n",
       "      <td>5.941729</td>\n",
       "      <td>1973</td>\n",
       "    </tr>\n",
       "    <tr>\n",
       "      <th>1973-05-31</th>\n",
       "      <td>05</td>\n",
       "      <td>4.956995</td>\n",
       "      <td>0.062111</td>\n",
       "      <td>0.392141</td>\n",
       "      <td>5.411246</td>\n",
       "      <td>1.162804</td>\n",
       "      <td>0.196775</td>\n",
       "      <td>0.966029</td>\n",
       "      <td>-0.305335</td>\n",
       "      <td>5.613551</td>\n",
       "      <td>0.062111</td>\n",
       "      <td>0.392141</td>\n",
       "      <td>6.071940</td>\n",
       "      <td>1973</td>\n",
       "    </tr>\n",
       "  </tbody>\n",
       "</table>\n",
       "</div>"
      ],
      "text/plain": [
       "           Month  Total Fossil Fuels Production  \\\n",
       "1973-01-31    01                       4.932632   \n",
       "1973-02-28    02                       4.729582   \n",
       "1973-03-31    03                       4.946902   \n",
       "1973-04-30    04                       4.716271   \n",
       "1973-05-31    05                       4.956995   \n",
       "\n",
       "            Nuclear Electric Power Production  \\\n",
       "1973-01-31                           0.068103   \n",
       "1973-02-28                           0.064634   \n",
       "1973-03-31                           0.072494   \n",
       "1973-04-30                           0.064070   \n",
       "1973-05-31                           0.062111   \n",
       "\n",
       "            Total Renewable Energy Production  \\\n",
       "1973-01-31                           0.403981   \n",
       "1973-02-28                           0.360900   \n",
       "1973-03-31                           0.400161   \n",
       "1973-04-30                           0.380470   \n",
       "1973-05-31                           0.392141   \n",
       "\n",
       "            Total Primary Energy Production  Primary Energy Imports  \\\n",
       "1973-01-31                         5.404715                1.173080   \n",
       "1973-02-28                         5.155115                1.168005   \n",
       "1973-03-31                         5.419556                1.309473   \n",
       "1973-04-30                         5.160812                1.085169   \n",
       "1973-05-31                         5.411246                1.162804   \n",
       "\n",
       "            Primary Energy Exports  Primary Energy Net Imports  \\\n",
       "1973-01-31                0.125781                    1.047299   \n",
       "1973-02-28                0.120883                    1.047122   \n",
       "1973-03-31                0.139950                    1.169523   \n",
       "1973-04-30                0.194185                    0.890984   \n",
       "1973-05-31                0.196775                    0.966029   \n",
       "\n",
       "            Primary Energy Stock Change and Other  \\\n",
       "1973-01-31                               0.771858   \n",
       "1973-02-28                               0.390129   \n",
       "1973-03-31                              -0.067640   \n",
       "1973-04-30                              -0.110067   \n",
       "1973-05-31                              -0.305335   \n",
       "\n",
       "            Total Fossil Fuels Consumption  \\\n",
       "1973-01-31                        6.747651   \n",
       "1973-02-28                        6.163095   \n",
       "1973-03-31                        6.044647   \n",
       "1973-04-30                        5.493184   \n",
       "1973-05-31                        5.613551   \n",
       "\n",
       "            Nuclear Electric Power Consumption  \\\n",
       "1973-01-31                            0.068103   \n",
       "1973-02-28                            0.064634   \n",
       "1973-03-31                            0.072494   \n",
       "1973-04-30                            0.064070   \n",
       "1973-05-31                            0.062111   \n",
       "\n",
       "            Total Renewable Energy Consumption  \\\n",
       "1973-01-31                            0.403981   \n",
       "1973-02-28                            0.360900   \n",
       "1973-03-31                            0.400161   \n",
       "1973-04-30                            0.380470   \n",
       "1973-05-31                            0.392141   \n",
       "\n",
       "            Total Primary Energy Consumption  Year  \n",
       "1973-01-31                          7.223873  1973  \n",
       "1973-02-28                          6.592366  1973  \n",
       "1973-03-31                          6.521439  1973  \n",
       "1973-04-30                          5.941729  1973  \n",
       "1973-05-31                          6.071940  1973  "
      ]
     },
     "execution_count": 121,
     "metadata": {},
     "output_type": "execute_result"
    }
   ],
   "source": [
    "date_1 ='{}-{}'.format(df['Month'].iloc[0], df['Year'].iloc[0])\n",
    "date_2 = '{}-{}'.format('December', df['Year'].iloc[598])\n",
    "\n",
    "df.index = pd.date_range(date_1, date_2, freq='M')\n",
    "df.head()"
   ]
  },
  {
   "cell_type": "code",
   "execution_count": 122,
   "metadata": {},
   "outputs": [
    {
     "data": {
      "text/html": [
       "<div>\n",
       "<style scoped>\n",
       "    .dataframe tbody tr th:only-of-type {\n",
       "        vertical-align: middle;\n",
       "    }\n",
       "\n",
       "    .dataframe tbody tr th {\n",
       "        vertical-align: top;\n",
       "    }\n",
       "\n",
       "    .dataframe thead th {\n",
       "        text-align: right;\n",
       "    }\n",
       "</style>\n",
       "<table border=\"1\" class=\"dataframe\">\n",
       "  <thead>\n",
       "    <tr style=\"text-align: right;\">\n",
       "      <th></th>\n",
       "      <th>Total Fossil Fuels Production</th>\n",
       "      <th>Nuclear Electric Power Production</th>\n",
       "      <th>Total Renewable Energy Production</th>\n",
       "      <th>Total Primary Energy Production</th>\n",
       "      <th>Primary Energy Imports</th>\n",
       "      <th>Primary Energy Exports</th>\n",
       "      <th>Primary Energy Net Imports</th>\n",
       "      <th>Primary Energy Stock Change and Other</th>\n",
       "      <th>Total Fossil Fuels Consumption</th>\n",
       "      <th>Nuclear Electric Power Consumption</th>\n",
       "      <th>Total Renewable Energy Consumption</th>\n",
       "      <th>Total Primary Energy Consumption</th>\n",
       "    </tr>\n",
       "    <tr>\n",
       "      <th>Date</th>\n",
       "      <th></th>\n",
       "      <th></th>\n",
       "      <th></th>\n",
       "      <th></th>\n",
       "      <th></th>\n",
       "      <th></th>\n",
       "      <th></th>\n",
       "      <th></th>\n",
       "      <th></th>\n",
       "      <th></th>\n",
       "      <th></th>\n",
       "      <th></th>\n",
       "    </tr>\n",
       "  </thead>\n",
       "  <tbody>\n",
       "    <tr>\n",
       "      <th>1973-01-31</th>\n",
       "      <td>4.932632</td>\n",
       "      <td>0.068103</td>\n",
       "      <td>0.403981</td>\n",
       "      <td>5.404715</td>\n",
       "      <td>1.173080</td>\n",
       "      <td>0.125781</td>\n",
       "      <td>1.047299</td>\n",
       "      <td>0.771858</td>\n",
       "      <td>6.747651</td>\n",
       "      <td>0.068103</td>\n",
       "      <td>0.403981</td>\n",
       "      <td>7.223873</td>\n",
       "    </tr>\n",
       "    <tr>\n",
       "      <th>1973-02-28</th>\n",
       "      <td>4.729582</td>\n",
       "      <td>0.064634</td>\n",
       "      <td>0.360900</td>\n",
       "      <td>5.155115</td>\n",
       "      <td>1.168005</td>\n",
       "      <td>0.120883</td>\n",
       "      <td>1.047122</td>\n",
       "      <td>0.390129</td>\n",
       "      <td>6.163095</td>\n",
       "      <td>0.064634</td>\n",
       "      <td>0.360900</td>\n",
       "      <td>6.592366</td>\n",
       "    </tr>\n",
       "    <tr>\n",
       "      <th>1973-03-31</th>\n",
       "      <td>4.946902</td>\n",
       "      <td>0.072494</td>\n",
       "      <td>0.400161</td>\n",
       "      <td>5.419556</td>\n",
       "      <td>1.309473</td>\n",
       "      <td>0.139950</td>\n",
       "      <td>1.169523</td>\n",
       "      <td>-0.067640</td>\n",
       "      <td>6.044647</td>\n",
       "      <td>0.072494</td>\n",
       "      <td>0.400161</td>\n",
       "      <td>6.521439</td>\n",
       "    </tr>\n",
       "    <tr>\n",
       "      <th>1973-04-30</th>\n",
       "      <td>4.716271</td>\n",
       "      <td>0.064070</td>\n",
       "      <td>0.380470</td>\n",
       "      <td>5.160812</td>\n",
       "      <td>1.085169</td>\n",
       "      <td>0.194185</td>\n",
       "      <td>0.890984</td>\n",
       "      <td>-0.110067</td>\n",
       "      <td>5.493184</td>\n",
       "      <td>0.064070</td>\n",
       "      <td>0.380470</td>\n",
       "      <td>5.941729</td>\n",
       "    </tr>\n",
       "    <tr>\n",
       "      <th>1973-05-31</th>\n",
       "      <td>4.956995</td>\n",
       "      <td>0.062111</td>\n",
       "      <td>0.392141</td>\n",
       "      <td>5.411246</td>\n",
       "      <td>1.162804</td>\n",
       "      <td>0.196775</td>\n",
       "      <td>0.966029</td>\n",
       "      <td>-0.305335</td>\n",
       "      <td>5.613551</td>\n",
       "      <td>0.062111</td>\n",
       "      <td>0.392141</td>\n",
       "      <td>6.071940</td>\n",
       "    </tr>\n",
       "  </tbody>\n",
       "</table>\n",
       "</div>"
      ],
      "text/plain": [
       "            Total Fossil Fuels Production  Nuclear Electric Power Production  \\\n",
       "Date                                                                           \n",
       "1973-01-31                       4.932632                           0.068103   \n",
       "1973-02-28                       4.729582                           0.064634   \n",
       "1973-03-31                       4.946902                           0.072494   \n",
       "1973-04-30                       4.716271                           0.064070   \n",
       "1973-05-31                       4.956995                           0.062111   \n",
       "\n",
       "            Total Renewable Energy Production  \\\n",
       "Date                                            \n",
       "1973-01-31                           0.403981   \n",
       "1973-02-28                           0.360900   \n",
       "1973-03-31                           0.400161   \n",
       "1973-04-30                           0.380470   \n",
       "1973-05-31                           0.392141   \n",
       "\n",
       "            Total Primary Energy Production  Primary Energy Imports  \\\n",
       "Date                                                                  \n",
       "1973-01-31                         5.404715                1.173080   \n",
       "1973-02-28                         5.155115                1.168005   \n",
       "1973-03-31                         5.419556                1.309473   \n",
       "1973-04-30                         5.160812                1.085169   \n",
       "1973-05-31                         5.411246                1.162804   \n",
       "\n",
       "            Primary Energy Exports  Primary Energy Net Imports  \\\n",
       "Date                                                             \n",
       "1973-01-31                0.125781                    1.047299   \n",
       "1973-02-28                0.120883                    1.047122   \n",
       "1973-03-31                0.139950                    1.169523   \n",
       "1973-04-30                0.194185                    0.890984   \n",
       "1973-05-31                0.196775                    0.966029   \n",
       "\n",
       "            Primary Energy Stock Change and Other  \\\n",
       "Date                                                \n",
       "1973-01-31                               0.771858   \n",
       "1973-02-28                               0.390129   \n",
       "1973-03-31                              -0.067640   \n",
       "1973-04-30                              -0.110067   \n",
       "1973-05-31                              -0.305335   \n",
       "\n",
       "            Total Fossil Fuels Consumption  \\\n",
       "Date                                         \n",
       "1973-01-31                        6.747651   \n",
       "1973-02-28                        6.163095   \n",
       "1973-03-31                        6.044647   \n",
       "1973-04-30                        5.493184   \n",
       "1973-05-31                        5.613551   \n",
       "\n",
       "            Nuclear Electric Power Consumption  \\\n",
       "Date                                             \n",
       "1973-01-31                            0.068103   \n",
       "1973-02-28                            0.064634   \n",
       "1973-03-31                            0.072494   \n",
       "1973-04-30                            0.064070   \n",
       "1973-05-31                            0.062111   \n",
       "\n",
       "            Total Renewable Energy Consumption  \\\n",
       "Date                                             \n",
       "1973-01-31                            0.403981   \n",
       "1973-02-28                            0.360900   \n",
       "1973-03-31                            0.400161   \n",
       "1973-04-30                            0.380470   \n",
       "1973-05-31                            0.392141   \n",
       "\n",
       "            Total Primary Energy Consumption  \n",
       "Date                                          \n",
       "1973-01-31                          7.223873  \n",
       "1973-02-28                          6.592366  \n",
       "1973-03-31                          6.521439  \n",
       "1973-04-30                          5.941729  \n",
       "1973-05-31                          6.071940  "
      ]
     },
     "execution_count": 122,
     "metadata": {},
     "output_type": "execute_result"
    }
   ],
   "source": [
    "data3 = df.drop(['Year', 'Month'], axis=1)\n",
    "data3 = data3.rename_axis('Date')\n",
    "data3.head()"
   ]
  },
  {
   "cell_type": "code",
   "execution_count": 123,
   "metadata": {},
   "outputs": [
    {
     "data": {
      "text/html": [
       "<div>\n",
       "<style scoped>\n",
       "    .dataframe tbody tr th:only-of-type {\n",
       "        vertical-align: middle;\n",
       "    }\n",
       "\n",
       "    .dataframe tbody tr th {\n",
       "        vertical-align: top;\n",
       "    }\n",
       "\n",
       "    .dataframe thead th {\n",
       "        text-align: right;\n",
       "    }\n",
       "</style>\n",
       "<table border=\"1\" class=\"dataframe\">\n",
       "  <thead>\n",
       "    <tr style=\"text-align: right;\">\n",
       "      <th></th>\n",
       "      <th>Total_Production</th>\n",
       "    </tr>\n",
       "    <tr>\n",
       "      <th>Date</th>\n",
       "      <th></th>\n",
       "    </tr>\n",
       "  </thead>\n",
       "  <tbody>\n",
       "    <tr>\n",
       "      <th>1973-01-31</th>\n",
       "      <td>5.404715</td>\n",
       "    </tr>\n",
       "    <tr>\n",
       "      <th>1973-02-28</th>\n",
       "      <td>5.155115</td>\n",
       "    </tr>\n",
       "    <tr>\n",
       "      <th>1973-03-31</th>\n",
       "      <td>5.419556</td>\n",
       "    </tr>\n",
       "    <tr>\n",
       "      <th>1973-04-30</th>\n",
       "      <td>5.160812</td>\n",
       "    </tr>\n",
       "    <tr>\n",
       "      <th>1973-05-31</th>\n",
       "      <td>5.411246</td>\n",
       "    </tr>\n",
       "  </tbody>\n",
       "</table>\n",
       "</div>"
      ],
      "text/plain": [
       "            Total_Production\n",
       "Date                        \n",
       "1973-01-31          5.404715\n",
       "1973-02-28          5.155115\n",
       "1973-03-31          5.419556\n",
       "1973-04-30          5.160812\n",
       "1973-05-31          5.411246"
      ]
     },
     "execution_count": 123,
     "metadata": {},
     "output_type": "execute_result"
    }
   ],
   "source": [
    "total_production0 = data3.filter(['Total Primary Energy Production'], axis=1)\n",
    "total_production = total_production0.rename(columns={'Total Primary Energy Production':'Total_Production'})\n",
    "total_production.head()"
   ]
  },
  {
   "cell_type": "code",
   "execution_count": 124,
   "metadata": {},
   "outputs": [
    {
     "data": {
      "application/vnd.plotly.v1+json": {
       "config": {
        "plotlyServerURL": "https://plot.ly"
       },
       "data": [
        {
         "hovertemplate": "Date=%{x}<br>Total_Production=%{y}<extra></extra>",
         "legendgroup": "",
         "line": {
          "color": "#636efa",
          "dash": "solid"
         },
         "marker": {
          "symbol": "circle"
         },
         "mode": "lines",
         "name": "",
         "orientation": "v",
         "showlegend": false,
         "type": "scatter",
         "x": [
          "1973-01-31T00:00:00",
          "1973-02-28T00:00:00",
          "1973-03-31T00:00:00",
          "1973-04-30T00:00:00",
          "1973-05-31T00:00:00",
          "1973-06-30T00:00:00",
          "1973-07-31T00:00:00",
          "1973-08-31T00:00:00",
          "1973-09-30T00:00:00",
          "1973-10-31T00:00:00",
          "1973-11-30T00:00:00",
          "1973-12-31T00:00:00",
          "1974-01-31T00:00:00",
          "1974-02-28T00:00:00",
          "1974-03-31T00:00:00",
          "1974-04-30T00:00:00",
          "1974-05-31T00:00:00",
          "1974-06-30T00:00:00",
          "1974-07-31T00:00:00",
          "1974-08-31T00:00:00",
          "1974-09-30T00:00:00",
          "1974-10-31T00:00:00",
          "1974-11-30T00:00:00",
          "1974-12-31T00:00:00",
          "1975-01-31T00:00:00",
          "1975-02-28T00:00:00",
          "1975-03-31T00:00:00",
          "1975-04-30T00:00:00",
          "1975-05-31T00:00:00",
          "1975-06-30T00:00:00",
          "1975-07-31T00:00:00",
          "1975-08-31T00:00:00",
          "1975-09-30T00:00:00",
          "1975-10-31T00:00:00",
          "1975-11-30T00:00:00",
          "1975-12-31T00:00:00",
          "1976-01-31T00:00:00",
          "1976-02-29T00:00:00",
          "1976-03-31T00:00:00",
          "1976-04-30T00:00:00",
          "1976-05-31T00:00:00",
          "1976-06-30T00:00:00",
          "1976-07-31T00:00:00",
          "1976-08-31T00:00:00",
          "1976-09-30T00:00:00",
          "1976-10-31T00:00:00",
          "1976-11-30T00:00:00",
          "1976-12-31T00:00:00",
          "1977-01-31T00:00:00",
          "1977-02-28T00:00:00",
          "1977-03-31T00:00:00",
          "1977-04-30T00:00:00",
          "1977-05-31T00:00:00",
          "1977-06-30T00:00:00",
          "1977-07-31T00:00:00",
          "1977-08-31T00:00:00",
          "1977-09-30T00:00:00",
          "1977-10-31T00:00:00",
          "1977-11-30T00:00:00",
          "1977-12-31T00:00:00",
          "1978-01-31T00:00:00",
          "1978-02-28T00:00:00",
          "1978-03-31T00:00:00",
          "1978-04-30T00:00:00",
          "1978-05-31T00:00:00",
          "1978-06-30T00:00:00",
          "1978-07-31T00:00:00",
          "1978-08-31T00:00:00",
          "1978-09-30T00:00:00",
          "1978-10-31T00:00:00",
          "1978-11-30T00:00:00",
          "1978-12-31T00:00:00",
          "1979-01-31T00:00:00",
          "1979-02-28T00:00:00",
          "1979-03-31T00:00:00",
          "1979-04-30T00:00:00",
          "1979-05-31T00:00:00",
          "1979-06-30T00:00:00",
          "1979-07-31T00:00:00",
          "1979-08-31T00:00:00",
          "1979-09-30T00:00:00",
          "1979-10-31T00:00:00",
          "1979-11-30T00:00:00",
          "1979-12-31T00:00:00",
          "1980-01-31T00:00:00",
          "1980-02-29T00:00:00",
          "1980-03-31T00:00:00",
          "1980-04-30T00:00:00",
          "1980-05-31T00:00:00",
          "1980-06-30T00:00:00",
          "1980-07-31T00:00:00",
          "1980-08-31T00:00:00",
          "1980-09-30T00:00:00",
          "1980-10-31T00:00:00",
          "1980-11-30T00:00:00",
          "1980-12-31T00:00:00",
          "1981-01-31T00:00:00",
          "1981-02-28T00:00:00",
          "1981-03-31T00:00:00",
          "1981-04-30T00:00:00",
          "1981-05-31T00:00:00",
          "1981-06-30T00:00:00",
          "1981-07-31T00:00:00",
          "1981-08-31T00:00:00",
          "1981-09-30T00:00:00",
          "1981-10-31T00:00:00",
          "1981-11-30T00:00:00",
          "1981-12-31T00:00:00",
          "1982-01-31T00:00:00",
          "1982-02-28T00:00:00",
          "1982-03-31T00:00:00",
          "1982-04-30T00:00:00",
          "1982-05-31T00:00:00",
          "1982-06-30T00:00:00",
          "1982-07-31T00:00:00",
          "1982-08-31T00:00:00",
          "1982-09-30T00:00:00",
          "1982-10-31T00:00:00",
          "1982-11-30T00:00:00",
          "1982-12-31T00:00:00",
          "1983-01-31T00:00:00",
          "1983-02-28T00:00:00",
          "1983-03-31T00:00:00",
          "1983-04-30T00:00:00",
          "1983-05-31T00:00:00",
          "1983-06-30T00:00:00",
          "1983-07-31T00:00:00",
          "1983-08-31T00:00:00",
          "1983-09-30T00:00:00",
          "1983-10-31T00:00:00",
          "1983-11-30T00:00:00",
          "1983-12-31T00:00:00",
          "1984-01-31T00:00:00",
          "1984-02-29T00:00:00",
          "1984-03-31T00:00:00",
          "1984-04-30T00:00:00",
          "1984-05-31T00:00:00",
          "1984-06-30T00:00:00",
          "1984-07-31T00:00:00",
          "1984-08-31T00:00:00",
          "1984-09-30T00:00:00",
          "1984-10-31T00:00:00",
          "1984-11-30T00:00:00",
          "1984-12-31T00:00:00",
          "1985-01-31T00:00:00",
          "1985-02-28T00:00:00",
          "1985-03-31T00:00:00",
          "1985-04-30T00:00:00",
          "1985-05-31T00:00:00",
          "1985-06-30T00:00:00",
          "1985-07-31T00:00:00",
          "1985-08-31T00:00:00",
          "1985-09-30T00:00:00",
          "1985-10-31T00:00:00",
          "1985-11-30T00:00:00",
          "1985-12-31T00:00:00",
          "1986-01-31T00:00:00",
          "1986-02-28T00:00:00",
          "1986-03-31T00:00:00",
          "1986-04-30T00:00:00",
          "1986-05-31T00:00:00",
          "1986-06-30T00:00:00",
          "1986-07-31T00:00:00",
          "1986-08-31T00:00:00",
          "1986-09-30T00:00:00",
          "1986-10-31T00:00:00",
          "1986-11-30T00:00:00",
          "1986-12-31T00:00:00",
          "1987-01-31T00:00:00",
          "1987-02-28T00:00:00",
          "1987-03-31T00:00:00",
          "1987-04-30T00:00:00",
          "1987-05-31T00:00:00",
          "1987-06-30T00:00:00",
          "1987-07-31T00:00:00",
          "1987-08-31T00:00:00",
          "1987-09-30T00:00:00",
          "1987-10-31T00:00:00",
          "1987-11-30T00:00:00",
          "1987-12-31T00:00:00",
          "1988-01-31T00:00:00",
          "1988-02-29T00:00:00",
          "1988-03-31T00:00:00",
          "1988-04-30T00:00:00",
          "1988-05-31T00:00:00",
          "1988-06-30T00:00:00",
          "1988-07-31T00:00:00",
          "1988-08-31T00:00:00",
          "1988-09-30T00:00:00",
          "1988-10-31T00:00:00",
          "1988-11-30T00:00:00",
          "1988-12-31T00:00:00",
          "1989-01-31T00:00:00",
          "1989-02-28T00:00:00",
          "1989-03-31T00:00:00",
          "1989-04-30T00:00:00",
          "1989-05-31T00:00:00",
          "1989-06-30T00:00:00",
          "1989-07-31T00:00:00",
          "1989-08-31T00:00:00",
          "1989-09-30T00:00:00",
          "1989-10-31T00:00:00",
          "1989-11-30T00:00:00",
          "1989-12-31T00:00:00",
          "1990-01-31T00:00:00",
          "1990-02-28T00:00:00",
          "1990-03-31T00:00:00",
          "1990-04-30T00:00:00",
          "1990-05-31T00:00:00",
          "1990-06-30T00:00:00",
          "1990-07-31T00:00:00",
          "1990-08-31T00:00:00",
          "1990-09-30T00:00:00",
          "1990-10-31T00:00:00",
          "1990-11-30T00:00:00",
          "1990-12-31T00:00:00",
          "1991-01-31T00:00:00",
          "1991-02-28T00:00:00",
          "1991-03-31T00:00:00",
          "1991-04-30T00:00:00",
          "1991-05-31T00:00:00",
          "1991-06-30T00:00:00",
          "1991-07-31T00:00:00",
          "1991-08-31T00:00:00",
          "1991-09-30T00:00:00",
          "1991-10-31T00:00:00",
          "1991-11-30T00:00:00",
          "1991-12-31T00:00:00",
          "1992-01-31T00:00:00",
          "1992-02-29T00:00:00",
          "1992-03-31T00:00:00",
          "1992-04-30T00:00:00",
          "1992-05-31T00:00:00",
          "1992-06-30T00:00:00",
          "1992-07-31T00:00:00",
          "1992-08-31T00:00:00",
          "1992-09-30T00:00:00",
          "1992-10-31T00:00:00",
          "1992-11-30T00:00:00",
          "1992-12-31T00:00:00",
          "1993-01-31T00:00:00",
          "1993-02-28T00:00:00",
          "1993-03-31T00:00:00",
          "1993-04-30T00:00:00",
          "1993-05-31T00:00:00",
          "1993-06-30T00:00:00",
          "1993-07-31T00:00:00",
          "1993-08-31T00:00:00",
          "1993-09-30T00:00:00",
          "1993-10-31T00:00:00",
          "1993-11-30T00:00:00",
          "1993-12-31T00:00:00",
          "1994-01-31T00:00:00",
          "1994-02-28T00:00:00",
          "1994-03-31T00:00:00",
          "1994-04-30T00:00:00",
          "1994-05-31T00:00:00",
          "1994-06-30T00:00:00",
          "1994-07-31T00:00:00",
          "1994-08-31T00:00:00",
          "1994-09-30T00:00:00",
          "1994-10-31T00:00:00",
          "1994-11-30T00:00:00",
          "1994-12-31T00:00:00",
          "1995-01-31T00:00:00",
          "1995-02-28T00:00:00",
          "1995-03-31T00:00:00",
          "1995-04-30T00:00:00",
          "1995-05-31T00:00:00",
          "1995-06-30T00:00:00",
          "1995-07-31T00:00:00",
          "1995-08-31T00:00:00",
          "1995-09-30T00:00:00",
          "1995-10-31T00:00:00",
          "1995-11-30T00:00:00",
          "1995-12-31T00:00:00",
          "1996-01-31T00:00:00",
          "1996-02-29T00:00:00",
          "1996-03-31T00:00:00",
          "1996-04-30T00:00:00",
          "1996-05-31T00:00:00",
          "1996-06-30T00:00:00",
          "1996-07-31T00:00:00",
          "1996-08-31T00:00:00",
          "1996-09-30T00:00:00",
          "1996-10-31T00:00:00",
          "1996-11-30T00:00:00",
          "1996-12-31T00:00:00",
          "1997-01-31T00:00:00",
          "1997-02-28T00:00:00",
          "1997-03-31T00:00:00",
          "1997-04-30T00:00:00",
          "1997-05-31T00:00:00",
          "1997-06-30T00:00:00",
          "1997-07-31T00:00:00",
          "1997-08-31T00:00:00",
          "1997-09-30T00:00:00",
          "1997-10-31T00:00:00",
          "1997-11-30T00:00:00",
          "1997-12-31T00:00:00",
          "1998-01-31T00:00:00",
          "1998-02-28T00:00:00",
          "1998-03-31T00:00:00",
          "1998-04-30T00:00:00",
          "1998-05-31T00:00:00",
          "1998-06-30T00:00:00",
          "1998-07-31T00:00:00",
          "1998-08-31T00:00:00",
          "1998-09-30T00:00:00",
          "1998-10-31T00:00:00",
          "1998-11-30T00:00:00",
          "1998-12-31T00:00:00",
          "1999-01-31T00:00:00",
          "1999-02-28T00:00:00",
          "1999-03-31T00:00:00",
          "1999-04-30T00:00:00",
          "1999-05-31T00:00:00",
          "1999-06-30T00:00:00",
          "1999-07-31T00:00:00",
          "1999-08-31T00:00:00",
          "1999-09-30T00:00:00",
          "1999-10-31T00:00:00",
          "1999-11-30T00:00:00",
          "1999-12-31T00:00:00",
          "2000-01-31T00:00:00",
          "2000-02-29T00:00:00",
          "2000-03-31T00:00:00",
          "2000-04-30T00:00:00",
          "2000-05-31T00:00:00",
          "2000-06-30T00:00:00",
          "2000-07-31T00:00:00",
          "2000-08-31T00:00:00",
          "2000-09-30T00:00:00",
          "2000-10-31T00:00:00",
          "2000-11-30T00:00:00",
          "2000-12-31T00:00:00",
          "2001-01-31T00:00:00",
          "2001-02-28T00:00:00",
          "2001-03-31T00:00:00",
          "2001-04-30T00:00:00",
          "2001-05-31T00:00:00",
          "2001-06-30T00:00:00",
          "2001-07-31T00:00:00",
          "2001-08-31T00:00:00",
          "2001-09-30T00:00:00",
          "2001-10-31T00:00:00",
          "2001-11-30T00:00:00",
          "2001-12-31T00:00:00",
          "2002-01-31T00:00:00",
          "2002-02-28T00:00:00",
          "2002-03-31T00:00:00",
          "2002-04-30T00:00:00",
          "2002-05-31T00:00:00",
          "2002-06-30T00:00:00",
          "2002-07-31T00:00:00",
          "2002-08-31T00:00:00",
          "2002-09-30T00:00:00",
          "2002-10-31T00:00:00",
          "2002-11-30T00:00:00",
          "2002-12-31T00:00:00",
          "2003-01-31T00:00:00",
          "2003-02-28T00:00:00",
          "2003-03-31T00:00:00",
          "2003-04-30T00:00:00",
          "2003-05-31T00:00:00",
          "2003-06-30T00:00:00",
          "2003-07-31T00:00:00",
          "2003-08-31T00:00:00",
          "2003-09-30T00:00:00",
          "2003-10-31T00:00:00",
          "2003-11-30T00:00:00",
          "2003-12-31T00:00:00",
          "2004-01-31T00:00:00",
          "2004-02-29T00:00:00",
          "2004-03-31T00:00:00",
          "2004-04-30T00:00:00",
          "2004-05-31T00:00:00",
          "2004-06-30T00:00:00",
          "2004-07-31T00:00:00",
          "2004-08-31T00:00:00",
          "2004-09-30T00:00:00",
          "2004-10-31T00:00:00",
          "2004-11-30T00:00:00",
          "2004-12-31T00:00:00",
          "2005-01-31T00:00:00",
          "2005-02-28T00:00:00",
          "2005-03-31T00:00:00",
          "2005-04-30T00:00:00",
          "2005-05-31T00:00:00",
          "2005-06-30T00:00:00",
          "2005-07-31T00:00:00",
          "2005-08-31T00:00:00",
          "2005-09-30T00:00:00",
          "2005-10-31T00:00:00",
          "2005-11-30T00:00:00",
          "2005-12-31T00:00:00",
          "2006-01-31T00:00:00",
          "2006-02-28T00:00:00",
          "2006-03-31T00:00:00",
          "2006-04-30T00:00:00",
          "2006-05-31T00:00:00",
          "2006-06-30T00:00:00",
          "2006-07-31T00:00:00",
          "2006-08-31T00:00:00",
          "2006-09-30T00:00:00",
          "2006-10-31T00:00:00",
          "2006-11-30T00:00:00",
          "2006-12-31T00:00:00",
          "2007-01-31T00:00:00",
          "2007-02-28T00:00:00",
          "2007-03-31T00:00:00",
          "2007-04-30T00:00:00",
          "2007-05-31T00:00:00",
          "2007-06-30T00:00:00",
          "2007-07-31T00:00:00",
          "2007-08-31T00:00:00",
          "2007-09-30T00:00:00",
          "2007-10-31T00:00:00",
          "2007-11-30T00:00:00",
          "2007-12-31T00:00:00",
          "2008-01-31T00:00:00",
          "2008-02-29T00:00:00",
          "2008-03-31T00:00:00",
          "2008-04-30T00:00:00",
          "2008-05-31T00:00:00",
          "2008-06-30T00:00:00",
          "2008-07-31T00:00:00",
          "2008-08-31T00:00:00",
          "2008-09-30T00:00:00",
          "2008-10-31T00:00:00",
          "2008-11-30T00:00:00",
          "2008-12-31T00:00:00",
          "2009-01-31T00:00:00",
          "2009-02-28T00:00:00",
          "2009-03-31T00:00:00",
          "2009-04-30T00:00:00",
          "2009-05-31T00:00:00",
          "2009-06-30T00:00:00",
          "2009-07-31T00:00:00",
          "2009-08-31T00:00:00",
          "2009-09-30T00:00:00",
          "2009-10-31T00:00:00",
          "2009-11-30T00:00:00",
          "2009-12-31T00:00:00",
          "2010-01-31T00:00:00",
          "2010-02-28T00:00:00",
          "2010-03-31T00:00:00",
          "2010-04-30T00:00:00",
          "2010-05-31T00:00:00",
          "2010-06-30T00:00:00",
          "2010-07-31T00:00:00",
          "2010-08-31T00:00:00",
          "2010-09-30T00:00:00",
          "2010-10-31T00:00:00",
          "2010-11-30T00:00:00",
          "2010-12-31T00:00:00",
          "2011-01-31T00:00:00",
          "2011-02-28T00:00:00",
          "2011-03-31T00:00:00",
          "2011-04-30T00:00:00",
          "2011-05-31T00:00:00",
          "2011-06-30T00:00:00",
          "2011-07-31T00:00:00",
          "2011-08-31T00:00:00",
          "2011-09-30T00:00:00",
          "2011-10-31T00:00:00",
          "2011-11-30T00:00:00",
          "2011-12-31T00:00:00",
          "2012-01-31T00:00:00",
          "2012-02-29T00:00:00",
          "2012-03-31T00:00:00",
          "2012-04-30T00:00:00",
          "2012-05-31T00:00:00",
          "2012-06-30T00:00:00",
          "2012-07-31T00:00:00",
          "2012-08-31T00:00:00",
          "2012-09-30T00:00:00",
          "2012-10-31T00:00:00",
          "2012-11-30T00:00:00",
          "2012-12-31T00:00:00",
          "2013-01-31T00:00:00",
          "2013-02-28T00:00:00",
          "2013-03-31T00:00:00",
          "2013-04-30T00:00:00",
          "2013-05-31T00:00:00",
          "2013-06-30T00:00:00",
          "2013-07-31T00:00:00",
          "2013-08-31T00:00:00",
          "2013-09-30T00:00:00",
          "2013-10-31T00:00:00",
          "2013-11-30T00:00:00",
          "2013-12-31T00:00:00",
          "2014-01-31T00:00:00",
          "2014-02-28T00:00:00",
          "2014-03-31T00:00:00",
          "2014-04-30T00:00:00",
          "2014-05-31T00:00:00",
          "2014-06-30T00:00:00",
          "2014-07-31T00:00:00",
          "2014-08-31T00:00:00",
          "2014-09-30T00:00:00",
          "2014-10-31T00:00:00",
          "2014-11-30T00:00:00",
          "2014-12-31T00:00:00",
          "2015-01-31T00:00:00",
          "2015-02-28T00:00:00",
          "2015-03-31T00:00:00",
          "2015-04-30T00:00:00",
          "2015-05-31T00:00:00",
          "2015-06-30T00:00:00",
          "2015-07-31T00:00:00",
          "2015-08-31T00:00:00",
          "2015-09-30T00:00:00",
          "2015-10-31T00:00:00",
          "2015-11-30T00:00:00",
          "2015-12-31T00:00:00",
          "2016-01-31T00:00:00",
          "2016-02-29T00:00:00",
          "2016-03-31T00:00:00",
          "2016-04-30T00:00:00",
          "2016-05-31T00:00:00",
          "2016-06-30T00:00:00",
          "2016-07-31T00:00:00",
          "2016-08-31T00:00:00",
          "2016-09-30T00:00:00",
          "2016-10-31T00:00:00",
          "2016-11-30T00:00:00",
          "2016-12-31T00:00:00",
          "2017-01-31T00:00:00",
          "2017-02-28T00:00:00",
          "2017-03-31T00:00:00",
          "2017-04-30T00:00:00",
          "2017-05-31T00:00:00",
          "2017-06-30T00:00:00",
          "2017-07-31T00:00:00",
          "2017-08-31T00:00:00",
          "2017-09-30T00:00:00",
          "2017-10-31T00:00:00",
          "2017-11-30T00:00:00",
          "2017-12-31T00:00:00",
          "2018-01-31T00:00:00",
          "2018-02-28T00:00:00",
          "2018-03-31T00:00:00",
          "2018-04-30T00:00:00",
          "2018-05-31T00:00:00",
          "2018-06-30T00:00:00",
          "2018-07-31T00:00:00",
          "2018-08-31T00:00:00",
          "2018-09-30T00:00:00",
          "2018-10-31T00:00:00",
          "2018-11-30T00:00:00",
          "2018-12-31T00:00:00",
          "2019-01-31T00:00:00",
          "2019-02-28T00:00:00",
          "2019-03-31T00:00:00",
          "2019-04-30T00:00:00",
          "2019-05-31T00:00:00",
          "2019-06-30T00:00:00",
          "2019-07-31T00:00:00",
          "2019-08-31T00:00:00",
          "2019-09-30T00:00:00",
          "2019-10-31T00:00:00",
          "2019-11-30T00:00:00",
          "2019-12-31T00:00:00",
          "2020-01-31T00:00:00",
          "2020-02-29T00:00:00",
          "2020-03-31T00:00:00",
          "2020-04-30T00:00:00",
          "2020-05-31T00:00:00",
          "2020-06-30T00:00:00",
          "2020-07-31T00:00:00",
          "2020-08-31T00:00:00",
          "2020-09-30T00:00:00",
          "2020-10-31T00:00:00",
          "2020-11-30T00:00:00",
          "2020-12-31T00:00:00",
          "2021-01-31T00:00:00",
          "2021-02-28T00:00:00",
          "2021-03-31T00:00:00",
          "2021-04-30T00:00:00",
          "2021-05-31T00:00:00",
          "2021-06-30T00:00:00",
          "2021-07-31T00:00:00",
          "2021-08-31T00:00:00",
          "2021-09-30T00:00:00",
          "2021-10-31T00:00:00",
          "2021-11-30T00:00:00",
          "2021-12-31T00:00:00",
          "2022-01-31T00:00:00",
          "2022-02-28T00:00:00",
          "2022-03-31T00:00:00",
          "2022-04-30T00:00:00",
          "2022-05-31T00:00:00",
          "2022-06-30T00:00:00",
          "2022-07-31T00:00:00",
          "2022-08-31T00:00:00",
          "2022-09-30T00:00:00",
          "2022-10-31T00:00:00",
          "2022-11-30T00:00:00"
         ],
         "xaxis": "x",
         "y": [
          5.404715,
          5.155115,
          5.419556,
          5.160812,
          5.411246,
          5.167296,
          5.191492,
          5.480638,
          5.124234,
          5.403745,
          5.237093,
          5.374447,
          5.483364,
          5.060362,
          5.402702,
          5.277046,
          5.467495,
          5.045352,
          5.239915,
          5.259889,
          5.090946,
          5.365003,
          4.65569,
          4.960546,
          5.277898,
          4.890059,
          5.230962,
          5.086106,
          5.217412,
          5.105715,
          4.964138,
          5.061959,
          4.987107,
          5.230146,
          5.001053,
          5.230896,
          5.19414,
          4.971436,
          5.335003,
          5.061299,
          5.169888,
          5.16109,
          4.930762,
          5.088436,
          5.07888,
          5.161777,
          5.07694,
          5.292846,
          4.933563,
          4.767677,
          5.479659,
          5.162437,
          5.301077,
          5.213369,
          4.989057,
          5.188426,
          5.342555,
          5.416721,
          5.401081,
          4.777722,
          4.637601,
          4.3068,
          5.031442,
          5.332575,
          5.658523,
          5.471656,
          5.337581,
          5.530277,
          5.199372,
          5.590153,
          5.507736,
          5.456588,
          5.492573,
          5.080815,
          5.675084,
          5.416962,
          5.629804,
          5.464221,
          5.175111,
          5.662156,
          5.333679,
          5.804281,
          5.571737,
          5.544708,
          5.808102,
          5.439163,
          5.835658,
          5.591598,
          5.728859,
          5.530702,
          5.388052,
          5.477215,
          5.434372,
          5.632099,
          5.467152,
          5.814526,
          5.657948,
          5.37611,
          5.88842,
          4.800945,
          4.943181,
          5.402967,
          5.752973,
          5.928355,
          5.740055,
          5.897764,
          5.623842,
          5.896682,
          5.717164,
          5.441978,
          6.064058,
          5.62896,
          5.622018,
          5.54507,
          5.39141,
          5.589074,
          5.328563,
          5.461999,
          5.308096,
          5.428255,
          5.538015,
          5.05439,
          5.498964,
          5.23994,
          5.313155,
          5.203508,
          5.155909,
          5.524655,
          5.295724,
          5.454585,
          5.354621,
          5.432865,
          5.862227,
          5.613797,
          5.935904,
          5.642434,
          5.940699,
          5.668685,
          5.778721,
          6.086219,
          5.67677,
          5.548527,
          5.389197,
          5.656405,
          5.808399,
          5.412689,
          5.840459,
          5.599237,
          5.754526,
          5.504928,
          5.519414,
          5.702836,
          5.494752,
          5.736249,
          5.451384,
          5.836425,
          6.012402,
          5.460015,
          5.850002,
          5.526781,
          5.588407,
          5.396746,
          5.429051,
          5.547289,
          5.37061,
          5.633734,
          5.45374,
          5.761479,
          5.870465,
          5.363363,
          5.764016,
          5.445351,
          5.487331,
          5.484367,
          5.429708,
          5.679521,
          5.572598,
          5.820707,
          5.660598,
          5.92836,
          5.918824,
          5.646934,
          6.021131,
          5.575924,
          5.661535,
          5.581993,
          5.52114,
          5.951295,
          5.63778,
          5.739237,
          5.753552,
          5.880234,
          5.998696,
          5.412511,
          6.006266,
          5.590869,
          5.863269,
          5.650625,
          5.512605,
          6.070146,
          5.680563,
          5.89354,
          5.871475,
          5.733972,
          6.273824,
          5.694481,
          6.143921,
          5.703131,
          5.87071,
          5.709,
          5.764705,
          6.084561,
          5.647341,
          6.069747,
          5.863706,
          5.842452,
          6.21123,
          5.647315,
          6.022465,
          5.658388,
          5.793784,
          5.642071,
          5.827921,
          6.016608,
          5.720245,
          6.026454,
          5.777709,
          5.976898,
          6.206219,
          5.655065,
          5.866839,
          5.63073,
          5.692589,
          5.700253,
          5.84606,
          5.873675,
          5.700783,
          5.920799,
          5.754737,
          6.066717,
          5.99286,
          5.433772,
          5.925294,
          5.590426,
          5.6184,
          5.662572,
          5.529215,
          5.685507,
          5.573839,
          5.703153,
          5.669725,
          5.88794,
          5.865757,
          5.511965,
          6.182232,
          5.775217,
          5.811302,
          5.80611,
          5.818984,
          6.145612,
          5.815582,
          5.846362,
          5.92877,
          6.175198,
          6.135868,
          5.584872,
          6.116993,
          5.701056,
          5.913115,
          5.861466,
          5.936475,
          6.083955,
          5.851342,
          6.001303,
          5.934594,
          6.008138,
          6.059145,
          5.796695,
          6.189337,
          5.926724,
          6.090312,
          5.947819,
          6.143936,
          6.270742,
          5.882138,
          6.132089,
          5.911372,
          6.084948,
          6.25498,
          5.746246,
          6.19294,
          5.885515,
          6.192857,
          5.907547,
          6.114265,
          6.107502,
          5.971863,
          6.12094,
          5.763217,
          6.162255,
          6.401509,
          5.711263,
          6.281766,
          6.005149,
          6.15208,
          6.028093,
          6.126854,
          6.128655,
          5.865659,
          6.122041,
          5.855805,
          6.147638,
          6.149937,
          5.743737,
          6.198134,
          5.773119,
          5.890513,
          5.939685,
          6.055369,
          6.115254,
          5.883405,
          5.874531,
          5.934447,
          6.127562,
          6.023281,
          5.742828,
          6.284142,
          5.727994,
          6.023283,
          5.961753,
          5.951483,
          6.185379,
          5.771777,
          5.948329,
          5.828956,
          5.821446,
          6.109594,
          5.530608,
          6.180135,
          5.791105,
          6.0636,
          5.977761,
          5.988019,
          6.203569,
          5.806808,
          6.138293,
          5.922895,
          5.963061,
          6.257661,
          5.580886,
          5.923232,
          5.794808,
          6.03318,
          5.834227,
          5.973665,
          6.026891,
          5.726052,
          5.80707,
          5.71263,
          5.982828,
          6.001257,
          5.404352,
          5.919507,
          5.762671,
          5.938265,
          5.820237,
          5.891484,
          5.935429,
          5.753894,
          5.896804,
          5.579084,
          5.981791,
          6.020815,
          5.568078,
          5.985245,
          5.741299,
          5.809649,
          5.901435,
          5.993627,
          5.985276,
          5.685257,
          5.747858,
          5.699128,
          6.031922,
          5.969442,
          5.520627,
          6.131436,
          5.754473,
          5.906173,
          5.925572,
          5.925617,
          5.982773,
          5.390352,
          5.474018,
          5.59259,
          5.804039,
          6.034994,
          5.414141,
          5.98795,
          5.742258,
          6.029229,
          5.971006,
          5.997655,
          6.067137,
          5.752859,
          5.870392,
          5.787764,
          6.022463,
          6.134727,
          5.473109,
          6.038748,
          5.759415,
          6.087695,
          5.945893,
          6.006003,
          6.136768,
          5.773668,
          5.979628,
          5.927455,
          6.075344,
          6.196483,
          5.819837,
          6.16355,
          5.997844,
          6.21425,
          6.06965,
          6.398124,
          6.296245,
          5.638979,
          6.10018,
          5.952553,
          6.297806,
          6.296241,
          5.718099,
          6.240043,
          5.926872,
          6.076374,
          6.074316,
          6.205553,
          6.178304,
          5.904858,
          5.991712,
          5.85295,
          6.127195,
          6.158647,
          5.737478,
          6.37949,
          6.051424,
          6.206451,
          6.196689,
          6.336755,
          6.401818,
          6.278484,
          6.33498,
          6.254404,
          6.572109,
          6.494916,
          5.894592,
          6.675123,
          6.302414,
          6.438393,
          6.434384,
          6.500764,
          6.707388,
          6.440192,
          6.682326,
          6.658166,
          6.879226,
          6.938655,
          6.338454,
          6.655042,
          6.277093,
          6.602347,
          6.456131,
          6.752761,
          6.797849,
          6.443151,
          6.685012,
          6.546884,
          6.762347,
          6.844252,
          6.228333,
          6.812136,
          6.616178,
          6.920786,
          6.744352,
          7.064058,
          7.121119,
          6.801841,
          6.885445,
          6.845317,
          6.981743,
          7.176104,
          6.475834,
          7.2981,
          7.136803,
          7.361906,
          7.230598,
          7.550423,
          7.562948,
          7.297762,
          7.523122,
          7.371353,
          7.77473,
          7.714259,
          6.875217,
          7.593954,
          7.331749,
          7.368834,
          7.123558,
          7.539279,
          7.650223,
          7.325534,
          7.369965,
          7.117313,
          7.283738,
          7.232945,
          6.812104,
          7.137938,
          6.727724,
          6.995048,
          6.897702,
          7.137981,
          7.196662,
          6.8566,
          7.110887,
          7.032507,
          7.20294,
          7.299011,
          6.746044,
          7.400072,
          7.018326,
          7.337439,
          7.306003,
          7.414649,
          7.516459,
          7.230288,
          7.580655,
          7.544163,
          7.737653,
          7.746073,
          7.208504,
          7.980856,
          7.603107,
          7.967112,
          7.866955,
          8.113266,
          8.403345,
          7.98862,
          8.265331,
          8.18126,
          8.478216,
          8.531342,
          7.687621,
          8.343306,
          8.326426,
          8.651746,
          8.335048,
          8.537531,
          8.765625,
          8.425074,
          8.651795,
          8.467762,
          8.763212,
          8.780146,
          8.131546,
          8.493843,
          7.783309,
          7.488181,
          7.630822,
          8.022165,
          7.977082,
          7.709492,
          7.763202,
          7.860048,
          8.108308,
          8.25145,
          6.860719,
          8.365888,
          8.017904,
          8.400589,
          8.170063,
          8.357812,
          8.421374,
          8.066687,
          8.371038,
          8.348218,
          8.672236,
          8.531384,
          7.765558,
          8.679065,
          8.30882,
          8.725353,
          8.570749,
          8.771935,
          8.810077,
          8.558521,
          8.760568,
          8.619915
         ],
         "yaxis": "y"
        }
       ],
       "layout": {
        "height": 800,
        "legend": {
         "tracegroupgap": 0
        },
        "template": {
         "data": {
          "bar": [
           {
            "error_x": {
             "color": "#2a3f5f"
            },
            "error_y": {
             "color": "#2a3f5f"
            },
            "marker": {
             "line": {
              "color": "#E5ECF6",
              "width": 0.5
             },
             "pattern": {
              "fillmode": "overlay",
              "size": 10,
              "solidity": 0.2
             }
            },
            "type": "bar"
           }
          ],
          "barpolar": [
           {
            "marker": {
             "line": {
              "color": "#E5ECF6",
              "width": 0.5
             },
             "pattern": {
              "fillmode": "overlay",
              "size": 10,
              "solidity": 0.2
             }
            },
            "type": "barpolar"
           }
          ],
          "carpet": [
           {
            "aaxis": {
             "endlinecolor": "#2a3f5f",
             "gridcolor": "white",
             "linecolor": "white",
             "minorgridcolor": "white",
             "startlinecolor": "#2a3f5f"
            },
            "baxis": {
             "endlinecolor": "#2a3f5f",
             "gridcolor": "white",
             "linecolor": "white",
             "minorgridcolor": "white",
             "startlinecolor": "#2a3f5f"
            },
            "type": "carpet"
           }
          ],
          "choropleth": [
           {
            "colorbar": {
             "outlinewidth": 0,
             "ticks": ""
            },
            "type": "choropleth"
           }
          ],
          "contour": [
           {
            "colorbar": {
             "outlinewidth": 0,
             "ticks": ""
            },
            "colorscale": [
             [
              0,
              "#0d0887"
             ],
             [
              0.1111111111111111,
              "#46039f"
             ],
             [
              0.2222222222222222,
              "#7201a8"
             ],
             [
              0.3333333333333333,
              "#9c179e"
             ],
             [
              0.4444444444444444,
              "#bd3786"
             ],
             [
              0.5555555555555556,
              "#d8576b"
             ],
             [
              0.6666666666666666,
              "#ed7953"
             ],
             [
              0.7777777777777778,
              "#fb9f3a"
             ],
             [
              0.8888888888888888,
              "#fdca26"
             ],
             [
              1,
              "#f0f921"
             ]
            ],
            "type": "contour"
           }
          ],
          "contourcarpet": [
           {
            "colorbar": {
             "outlinewidth": 0,
             "ticks": ""
            },
            "type": "contourcarpet"
           }
          ],
          "heatmap": [
           {
            "colorbar": {
             "outlinewidth": 0,
             "ticks": ""
            },
            "colorscale": [
             [
              0,
              "#0d0887"
             ],
             [
              0.1111111111111111,
              "#46039f"
             ],
             [
              0.2222222222222222,
              "#7201a8"
             ],
             [
              0.3333333333333333,
              "#9c179e"
             ],
             [
              0.4444444444444444,
              "#bd3786"
             ],
             [
              0.5555555555555556,
              "#d8576b"
             ],
             [
              0.6666666666666666,
              "#ed7953"
             ],
             [
              0.7777777777777778,
              "#fb9f3a"
             ],
             [
              0.8888888888888888,
              "#fdca26"
             ],
             [
              1,
              "#f0f921"
             ]
            ],
            "type": "heatmap"
           }
          ],
          "heatmapgl": [
           {
            "colorbar": {
             "outlinewidth": 0,
             "ticks": ""
            },
            "colorscale": [
             [
              0,
              "#0d0887"
             ],
             [
              0.1111111111111111,
              "#46039f"
             ],
             [
              0.2222222222222222,
              "#7201a8"
             ],
             [
              0.3333333333333333,
              "#9c179e"
             ],
             [
              0.4444444444444444,
              "#bd3786"
             ],
             [
              0.5555555555555556,
              "#d8576b"
             ],
             [
              0.6666666666666666,
              "#ed7953"
             ],
             [
              0.7777777777777778,
              "#fb9f3a"
             ],
             [
              0.8888888888888888,
              "#fdca26"
             ],
             [
              1,
              "#f0f921"
             ]
            ],
            "type": "heatmapgl"
           }
          ],
          "histogram": [
           {
            "marker": {
             "pattern": {
              "fillmode": "overlay",
              "size": 10,
              "solidity": 0.2
             }
            },
            "type": "histogram"
           }
          ],
          "histogram2d": [
           {
            "colorbar": {
             "outlinewidth": 0,
             "ticks": ""
            },
            "colorscale": [
             [
              0,
              "#0d0887"
             ],
             [
              0.1111111111111111,
              "#46039f"
             ],
             [
              0.2222222222222222,
              "#7201a8"
             ],
             [
              0.3333333333333333,
              "#9c179e"
             ],
             [
              0.4444444444444444,
              "#bd3786"
             ],
             [
              0.5555555555555556,
              "#d8576b"
             ],
             [
              0.6666666666666666,
              "#ed7953"
             ],
             [
              0.7777777777777778,
              "#fb9f3a"
             ],
             [
              0.8888888888888888,
              "#fdca26"
             ],
             [
              1,
              "#f0f921"
             ]
            ],
            "type": "histogram2d"
           }
          ],
          "histogram2dcontour": [
           {
            "colorbar": {
             "outlinewidth": 0,
             "ticks": ""
            },
            "colorscale": [
             [
              0,
              "#0d0887"
             ],
             [
              0.1111111111111111,
              "#46039f"
             ],
             [
              0.2222222222222222,
              "#7201a8"
             ],
             [
              0.3333333333333333,
              "#9c179e"
             ],
             [
              0.4444444444444444,
              "#bd3786"
             ],
             [
              0.5555555555555556,
              "#d8576b"
             ],
             [
              0.6666666666666666,
              "#ed7953"
             ],
             [
              0.7777777777777778,
              "#fb9f3a"
             ],
             [
              0.8888888888888888,
              "#fdca26"
             ],
             [
              1,
              "#f0f921"
             ]
            ],
            "type": "histogram2dcontour"
           }
          ],
          "mesh3d": [
           {
            "colorbar": {
             "outlinewidth": 0,
             "ticks": ""
            },
            "type": "mesh3d"
           }
          ],
          "parcoords": [
           {
            "line": {
             "colorbar": {
              "outlinewidth": 0,
              "ticks": ""
             }
            },
            "type": "parcoords"
           }
          ],
          "pie": [
           {
            "automargin": true,
            "type": "pie"
           }
          ],
          "scatter": [
           {
            "fillpattern": {
             "fillmode": "overlay",
             "size": 10,
             "solidity": 0.2
            },
            "type": "scatter"
           }
          ],
          "scatter3d": [
           {
            "line": {
             "colorbar": {
              "outlinewidth": 0,
              "ticks": ""
             }
            },
            "marker": {
             "colorbar": {
              "outlinewidth": 0,
              "ticks": ""
             }
            },
            "type": "scatter3d"
           }
          ],
          "scattercarpet": [
           {
            "marker": {
             "colorbar": {
              "outlinewidth": 0,
              "ticks": ""
             }
            },
            "type": "scattercarpet"
           }
          ],
          "scattergeo": [
           {
            "marker": {
             "colorbar": {
              "outlinewidth": 0,
              "ticks": ""
             }
            },
            "type": "scattergeo"
           }
          ],
          "scattergl": [
           {
            "marker": {
             "colorbar": {
              "outlinewidth": 0,
              "ticks": ""
             }
            },
            "type": "scattergl"
           }
          ],
          "scattermapbox": [
           {
            "marker": {
             "colorbar": {
              "outlinewidth": 0,
              "ticks": ""
             }
            },
            "type": "scattermapbox"
           }
          ],
          "scatterpolar": [
           {
            "marker": {
             "colorbar": {
              "outlinewidth": 0,
              "ticks": ""
             }
            },
            "type": "scatterpolar"
           }
          ],
          "scatterpolargl": [
           {
            "marker": {
             "colorbar": {
              "outlinewidth": 0,
              "ticks": ""
             }
            },
            "type": "scatterpolargl"
           }
          ],
          "scatterternary": [
           {
            "marker": {
             "colorbar": {
              "outlinewidth": 0,
              "ticks": ""
             }
            },
            "type": "scatterternary"
           }
          ],
          "surface": [
           {
            "colorbar": {
             "outlinewidth": 0,
             "ticks": ""
            },
            "colorscale": [
             [
              0,
              "#0d0887"
             ],
             [
              0.1111111111111111,
              "#46039f"
             ],
             [
              0.2222222222222222,
              "#7201a8"
             ],
             [
              0.3333333333333333,
              "#9c179e"
             ],
             [
              0.4444444444444444,
              "#bd3786"
             ],
             [
              0.5555555555555556,
              "#d8576b"
             ],
             [
              0.6666666666666666,
              "#ed7953"
             ],
             [
              0.7777777777777778,
              "#fb9f3a"
             ],
             [
              0.8888888888888888,
              "#fdca26"
             ],
             [
              1,
              "#f0f921"
             ]
            ],
            "type": "surface"
           }
          ],
          "table": [
           {
            "cells": {
             "fill": {
              "color": "#EBF0F8"
             },
             "line": {
              "color": "white"
             }
            },
            "header": {
             "fill": {
              "color": "#C8D4E3"
             },
             "line": {
              "color": "white"
             }
            },
            "type": "table"
           }
          ]
         },
         "layout": {
          "annotationdefaults": {
           "arrowcolor": "#2a3f5f",
           "arrowhead": 0,
           "arrowwidth": 1
          },
          "autotypenumbers": "strict",
          "coloraxis": {
           "colorbar": {
            "outlinewidth": 0,
            "ticks": ""
           }
          },
          "colorscale": {
           "diverging": [
            [
             0,
             "#8e0152"
            ],
            [
             0.1,
             "#c51b7d"
            ],
            [
             0.2,
             "#de77ae"
            ],
            [
             0.3,
             "#f1b6da"
            ],
            [
             0.4,
             "#fde0ef"
            ],
            [
             0.5,
             "#f7f7f7"
            ],
            [
             0.6,
             "#e6f5d0"
            ],
            [
             0.7,
             "#b8e186"
            ],
            [
             0.8,
             "#7fbc41"
            ],
            [
             0.9,
             "#4d9221"
            ],
            [
             1,
             "#276419"
            ]
           ],
           "sequential": [
            [
             0,
             "#0d0887"
            ],
            [
             0.1111111111111111,
             "#46039f"
            ],
            [
             0.2222222222222222,
             "#7201a8"
            ],
            [
             0.3333333333333333,
             "#9c179e"
            ],
            [
             0.4444444444444444,
             "#bd3786"
            ],
            [
             0.5555555555555556,
             "#d8576b"
            ],
            [
             0.6666666666666666,
             "#ed7953"
            ],
            [
             0.7777777777777778,
             "#fb9f3a"
            ],
            [
             0.8888888888888888,
             "#fdca26"
            ],
            [
             1,
             "#f0f921"
            ]
           ],
           "sequentialminus": [
            [
             0,
             "#0d0887"
            ],
            [
             0.1111111111111111,
             "#46039f"
            ],
            [
             0.2222222222222222,
             "#7201a8"
            ],
            [
             0.3333333333333333,
             "#9c179e"
            ],
            [
             0.4444444444444444,
             "#bd3786"
            ],
            [
             0.5555555555555556,
             "#d8576b"
            ],
            [
             0.6666666666666666,
             "#ed7953"
            ],
            [
             0.7777777777777778,
             "#fb9f3a"
            ],
            [
             0.8888888888888888,
             "#fdca26"
            ],
            [
             1,
             "#f0f921"
            ]
           ]
          },
          "colorway": [
           "#636efa",
           "#EF553B",
           "#00cc96",
           "#ab63fa",
           "#FFA15A",
           "#19d3f3",
           "#FF6692",
           "#B6E880",
           "#FF97FF",
           "#FECB52"
          ],
          "font": {
           "color": "#2a3f5f"
          },
          "geo": {
           "bgcolor": "white",
           "lakecolor": "white",
           "landcolor": "#E5ECF6",
           "showlakes": true,
           "showland": true,
           "subunitcolor": "white"
          },
          "hoverlabel": {
           "align": "left"
          },
          "hovermode": "closest",
          "mapbox": {
           "style": "light"
          },
          "paper_bgcolor": "white",
          "plot_bgcolor": "#E5ECF6",
          "polar": {
           "angularaxis": {
            "gridcolor": "white",
            "linecolor": "white",
            "ticks": ""
           },
           "bgcolor": "#E5ECF6",
           "radialaxis": {
            "gridcolor": "white",
            "linecolor": "white",
            "ticks": ""
           }
          },
          "scene": {
           "xaxis": {
            "backgroundcolor": "#E5ECF6",
            "gridcolor": "white",
            "gridwidth": 2,
            "linecolor": "white",
            "showbackground": true,
            "ticks": "",
            "zerolinecolor": "white"
           },
           "yaxis": {
            "backgroundcolor": "#E5ECF6",
            "gridcolor": "white",
            "gridwidth": 2,
            "linecolor": "white",
            "showbackground": true,
            "ticks": "",
            "zerolinecolor": "white"
           },
           "zaxis": {
            "backgroundcolor": "#E5ECF6",
            "gridcolor": "white",
            "gridwidth": 2,
            "linecolor": "white",
            "showbackground": true,
            "ticks": "",
            "zerolinecolor": "white"
           }
          },
          "shapedefaults": {
           "line": {
            "color": "#2a3f5f"
           }
          },
          "ternary": {
           "aaxis": {
            "gridcolor": "white",
            "linecolor": "white",
            "ticks": ""
           },
           "baxis": {
            "gridcolor": "white",
            "linecolor": "white",
            "ticks": ""
           },
           "bgcolor": "#E5ECF6",
           "caxis": {
            "gridcolor": "white",
            "linecolor": "white",
            "ticks": ""
           }
          },
          "title": {
           "x": 0.05
          },
          "xaxis": {
           "automargin": true,
           "gridcolor": "white",
           "linecolor": "white",
           "ticks": "",
           "title": {
            "standoff": 15
           },
           "zerolinecolor": "white",
           "zerolinewidth": 2
          },
          "yaxis": {
           "automargin": true,
           "gridcolor": "white",
           "linecolor": "white",
           "ticks": "",
           "title": {
            "standoff": 15
           },
           "zerolinecolor": "white",
           "zerolinewidth": 2
          }
         }
        },
        "title": {
         "text": "Monthly Poroduction Rate of World"
        },
        "width": 1500,
        "xaxis": {
         "anchor": "y",
         "domain": [
          0,
          1
         ],
         "title": {
          "text": "Date"
         }
        },
        "yaxis": {
         "anchor": "x",
         "domain": [
          0,
          1
         ],
         "title": {
          "text": "Total_Production"
         }
        }
       }
      }
     },
     "metadata": {},
     "output_type": "display_data"
    }
   ],
   "source": [
    "fig = px.line(total_production, x = total_production.index, y= total_production.Total_Production,labels={\n",
    "                     \"Month\": \"Month\",\n",
    "                     \"value\": \"Production Rate\"}, title='Monthly Poroduction Rate of World',width=1500, height=800)\n",
    "fig.show()"
   ]
  },
  {
   "cell_type": "code",
   "execution_count": 125,
   "metadata": {},
   "outputs": [
    {
     "data": {
      "application/vnd.plotly.v1+json": {
       "config": {
        "plotlyServerURL": "https://plot.ly"
       },
       "data": [
        {
         "hovertemplate": "x=%{x}<br>y=%{y}<extra></extra>",
         "legendgroup": "",
         "line": {
          "color": "#636efa",
          "dash": "solid"
         },
         "marker": {
          "symbol": "circle"
         },
         "mode": "lines",
         "name": "",
         "orientation": "v",
         "showlegend": false,
         "type": "scatter",
         "x": [
          "1973-01-31T00:00:00",
          "1973-02-28T00:00:00",
          "1973-03-31T00:00:00",
          "1973-04-30T00:00:00",
          "1973-05-31T00:00:00",
          "1973-06-30T00:00:00",
          "1973-07-31T00:00:00",
          "1973-08-31T00:00:00",
          "1973-09-30T00:00:00",
          "1973-10-31T00:00:00",
          "1973-11-30T00:00:00",
          "1973-12-31T00:00:00",
          "1974-01-31T00:00:00",
          "1974-02-28T00:00:00",
          "1974-03-31T00:00:00",
          "1974-04-30T00:00:00",
          "1974-05-31T00:00:00",
          "1974-06-30T00:00:00",
          "1974-07-31T00:00:00",
          "1974-08-31T00:00:00",
          "1974-09-30T00:00:00",
          "1974-10-31T00:00:00",
          "1974-11-30T00:00:00",
          "1974-12-31T00:00:00",
          "1975-01-31T00:00:00",
          "1975-02-28T00:00:00",
          "1975-03-31T00:00:00",
          "1975-04-30T00:00:00",
          "1975-05-31T00:00:00",
          "1975-06-30T00:00:00",
          "1975-07-31T00:00:00",
          "1975-08-31T00:00:00",
          "1975-09-30T00:00:00",
          "1975-10-31T00:00:00",
          "1975-11-30T00:00:00",
          "1975-12-31T00:00:00",
          "1976-01-31T00:00:00",
          "1976-02-29T00:00:00",
          "1976-03-31T00:00:00",
          "1976-04-30T00:00:00",
          "1976-05-31T00:00:00",
          "1976-06-30T00:00:00",
          "1976-07-31T00:00:00",
          "1976-08-31T00:00:00",
          "1976-09-30T00:00:00",
          "1976-10-31T00:00:00",
          "1976-11-30T00:00:00",
          "1976-12-31T00:00:00",
          "1977-01-31T00:00:00",
          "1977-02-28T00:00:00",
          "1977-03-31T00:00:00",
          "1977-04-30T00:00:00",
          "1977-05-31T00:00:00",
          "1977-06-30T00:00:00",
          "1977-07-31T00:00:00",
          "1977-08-31T00:00:00",
          "1977-09-30T00:00:00",
          "1977-10-31T00:00:00",
          "1977-11-30T00:00:00",
          "1977-12-31T00:00:00",
          "1978-01-31T00:00:00",
          "1978-02-28T00:00:00",
          "1978-03-31T00:00:00",
          "1978-04-30T00:00:00",
          "1978-05-31T00:00:00",
          "1978-06-30T00:00:00",
          "1978-07-31T00:00:00",
          "1978-08-31T00:00:00",
          "1978-09-30T00:00:00",
          "1978-10-31T00:00:00",
          "1978-11-30T00:00:00",
          "1978-12-31T00:00:00",
          "1979-01-31T00:00:00",
          "1979-02-28T00:00:00",
          "1979-03-31T00:00:00",
          "1979-04-30T00:00:00",
          "1979-05-31T00:00:00",
          "1979-06-30T00:00:00",
          "1979-07-31T00:00:00",
          "1979-08-31T00:00:00",
          "1979-09-30T00:00:00",
          "1979-10-31T00:00:00",
          "1979-11-30T00:00:00",
          "1979-12-31T00:00:00",
          "1980-01-31T00:00:00",
          "1980-02-29T00:00:00",
          "1980-03-31T00:00:00",
          "1980-04-30T00:00:00",
          "1980-05-31T00:00:00",
          "1980-06-30T00:00:00",
          "1980-07-31T00:00:00",
          "1980-08-31T00:00:00",
          "1980-09-30T00:00:00",
          "1980-10-31T00:00:00",
          "1980-11-30T00:00:00",
          "1980-12-31T00:00:00",
          "1981-01-31T00:00:00",
          "1981-02-28T00:00:00",
          "1981-03-31T00:00:00",
          "1981-04-30T00:00:00",
          "1981-05-31T00:00:00",
          "1981-06-30T00:00:00",
          "1981-07-31T00:00:00",
          "1981-08-31T00:00:00",
          "1981-09-30T00:00:00",
          "1981-10-31T00:00:00",
          "1981-11-30T00:00:00",
          "1981-12-31T00:00:00",
          "1982-01-31T00:00:00",
          "1982-02-28T00:00:00",
          "1982-03-31T00:00:00",
          "1982-04-30T00:00:00",
          "1982-05-31T00:00:00",
          "1982-06-30T00:00:00",
          "1982-07-31T00:00:00",
          "1982-08-31T00:00:00",
          "1982-09-30T00:00:00",
          "1982-10-31T00:00:00",
          "1982-11-30T00:00:00",
          "1982-12-31T00:00:00",
          "1983-01-31T00:00:00",
          "1983-02-28T00:00:00",
          "1983-03-31T00:00:00",
          "1983-04-30T00:00:00",
          "1983-05-31T00:00:00",
          "1983-06-30T00:00:00",
          "1983-07-31T00:00:00",
          "1983-08-31T00:00:00",
          "1983-09-30T00:00:00",
          "1983-10-31T00:00:00",
          "1983-11-30T00:00:00",
          "1983-12-31T00:00:00",
          "1984-01-31T00:00:00",
          "1984-02-29T00:00:00",
          "1984-03-31T00:00:00",
          "1984-04-30T00:00:00",
          "1984-05-31T00:00:00",
          "1984-06-30T00:00:00",
          "1984-07-31T00:00:00",
          "1984-08-31T00:00:00",
          "1984-09-30T00:00:00",
          "1984-10-31T00:00:00",
          "1984-11-30T00:00:00",
          "1984-12-31T00:00:00",
          "1985-01-31T00:00:00",
          "1985-02-28T00:00:00",
          "1985-03-31T00:00:00",
          "1985-04-30T00:00:00",
          "1985-05-31T00:00:00",
          "1985-06-30T00:00:00",
          "1985-07-31T00:00:00",
          "1985-08-31T00:00:00",
          "1985-09-30T00:00:00",
          "1985-10-31T00:00:00",
          "1985-11-30T00:00:00",
          "1985-12-31T00:00:00",
          "1986-01-31T00:00:00",
          "1986-02-28T00:00:00",
          "1986-03-31T00:00:00",
          "1986-04-30T00:00:00",
          "1986-05-31T00:00:00",
          "1986-06-30T00:00:00",
          "1986-07-31T00:00:00",
          "1986-08-31T00:00:00",
          "1986-09-30T00:00:00",
          "1986-10-31T00:00:00",
          "1986-11-30T00:00:00",
          "1986-12-31T00:00:00",
          "1987-01-31T00:00:00",
          "1987-02-28T00:00:00",
          "1987-03-31T00:00:00",
          "1987-04-30T00:00:00",
          "1987-05-31T00:00:00",
          "1987-06-30T00:00:00",
          "1987-07-31T00:00:00",
          "1987-08-31T00:00:00",
          "1987-09-30T00:00:00",
          "1987-10-31T00:00:00",
          "1987-11-30T00:00:00",
          "1987-12-31T00:00:00",
          "1988-01-31T00:00:00",
          "1988-02-29T00:00:00",
          "1988-03-31T00:00:00",
          "1988-04-30T00:00:00",
          "1988-05-31T00:00:00",
          "1988-06-30T00:00:00",
          "1988-07-31T00:00:00",
          "1988-08-31T00:00:00",
          "1988-09-30T00:00:00",
          "1988-10-31T00:00:00",
          "1988-11-30T00:00:00",
          "1988-12-31T00:00:00",
          "1989-01-31T00:00:00",
          "1989-02-28T00:00:00",
          "1989-03-31T00:00:00",
          "1989-04-30T00:00:00",
          "1989-05-31T00:00:00",
          "1989-06-30T00:00:00",
          "1989-07-31T00:00:00",
          "1989-08-31T00:00:00",
          "1989-09-30T00:00:00",
          "1989-10-31T00:00:00",
          "1989-11-30T00:00:00",
          "1989-12-31T00:00:00",
          "1990-01-31T00:00:00",
          "1990-02-28T00:00:00",
          "1990-03-31T00:00:00",
          "1990-04-30T00:00:00",
          "1990-05-31T00:00:00",
          "1990-06-30T00:00:00",
          "1990-07-31T00:00:00",
          "1990-08-31T00:00:00",
          "1990-09-30T00:00:00",
          "1990-10-31T00:00:00",
          "1990-11-30T00:00:00",
          "1990-12-31T00:00:00",
          "1991-01-31T00:00:00",
          "1991-02-28T00:00:00",
          "1991-03-31T00:00:00",
          "1991-04-30T00:00:00",
          "1991-05-31T00:00:00",
          "1991-06-30T00:00:00",
          "1991-07-31T00:00:00",
          "1991-08-31T00:00:00",
          "1991-09-30T00:00:00",
          "1991-10-31T00:00:00",
          "1991-11-30T00:00:00",
          "1991-12-31T00:00:00",
          "1992-01-31T00:00:00",
          "1992-02-29T00:00:00",
          "1992-03-31T00:00:00",
          "1992-04-30T00:00:00",
          "1992-05-31T00:00:00",
          "1992-06-30T00:00:00",
          "1992-07-31T00:00:00",
          "1992-08-31T00:00:00",
          "1992-09-30T00:00:00",
          "1992-10-31T00:00:00",
          "1992-11-30T00:00:00",
          "1992-12-31T00:00:00",
          "1993-01-31T00:00:00",
          "1993-02-28T00:00:00",
          "1993-03-31T00:00:00",
          "1993-04-30T00:00:00",
          "1993-05-31T00:00:00",
          "1993-06-30T00:00:00",
          "1993-07-31T00:00:00",
          "1993-08-31T00:00:00",
          "1993-09-30T00:00:00",
          "1993-10-31T00:00:00",
          "1993-11-30T00:00:00",
          "1993-12-31T00:00:00",
          "1994-01-31T00:00:00",
          "1994-02-28T00:00:00",
          "1994-03-31T00:00:00",
          "1994-04-30T00:00:00",
          "1994-05-31T00:00:00",
          "1994-06-30T00:00:00",
          "1994-07-31T00:00:00",
          "1994-08-31T00:00:00",
          "1994-09-30T00:00:00",
          "1994-10-31T00:00:00",
          "1994-11-30T00:00:00",
          "1994-12-31T00:00:00",
          "1995-01-31T00:00:00",
          "1995-02-28T00:00:00",
          "1995-03-31T00:00:00",
          "1995-04-30T00:00:00",
          "1995-05-31T00:00:00",
          "1995-06-30T00:00:00",
          "1995-07-31T00:00:00",
          "1995-08-31T00:00:00",
          "1995-09-30T00:00:00",
          "1995-10-31T00:00:00",
          "1995-11-30T00:00:00",
          "1995-12-31T00:00:00",
          "1996-01-31T00:00:00",
          "1996-02-29T00:00:00",
          "1996-03-31T00:00:00",
          "1996-04-30T00:00:00",
          "1996-05-31T00:00:00",
          "1996-06-30T00:00:00",
          "1996-07-31T00:00:00",
          "1996-08-31T00:00:00",
          "1996-09-30T00:00:00",
          "1996-10-31T00:00:00",
          "1996-11-30T00:00:00",
          "1996-12-31T00:00:00",
          "1997-01-31T00:00:00",
          "1997-02-28T00:00:00",
          "1997-03-31T00:00:00",
          "1997-04-30T00:00:00",
          "1997-05-31T00:00:00",
          "1997-06-30T00:00:00",
          "1997-07-31T00:00:00",
          "1997-08-31T00:00:00",
          "1997-09-30T00:00:00",
          "1997-10-31T00:00:00",
          "1997-11-30T00:00:00",
          "1997-12-31T00:00:00",
          "1998-01-31T00:00:00",
          "1998-02-28T00:00:00",
          "1998-03-31T00:00:00",
          "1998-04-30T00:00:00",
          "1998-05-31T00:00:00",
          "1998-06-30T00:00:00",
          "1998-07-31T00:00:00",
          "1998-08-31T00:00:00",
          "1998-09-30T00:00:00",
          "1998-10-31T00:00:00",
          "1998-11-30T00:00:00",
          "1998-12-31T00:00:00",
          "1999-01-31T00:00:00",
          "1999-02-28T00:00:00",
          "1999-03-31T00:00:00",
          "1999-04-30T00:00:00",
          "1999-05-31T00:00:00",
          "1999-06-30T00:00:00",
          "1999-07-31T00:00:00",
          "1999-08-31T00:00:00",
          "1999-09-30T00:00:00",
          "1999-10-31T00:00:00",
          "1999-11-30T00:00:00",
          "1999-12-31T00:00:00",
          "2000-01-31T00:00:00",
          "2000-02-29T00:00:00",
          "2000-03-31T00:00:00",
          "2000-04-30T00:00:00",
          "2000-05-31T00:00:00",
          "2000-06-30T00:00:00",
          "2000-07-31T00:00:00",
          "2000-08-31T00:00:00",
          "2000-09-30T00:00:00",
          "2000-10-31T00:00:00",
          "2000-11-30T00:00:00",
          "2000-12-31T00:00:00",
          "2001-01-31T00:00:00",
          "2001-02-28T00:00:00",
          "2001-03-31T00:00:00",
          "2001-04-30T00:00:00",
          "2001-05-31T00:00:00",
          "2001-06-30T00:00:00",
          "2001-07-31T00:00:00",
          "2001-08-31T00:00:00",
          "2001-09-30T00:00:00",
          "2001-10-31T00:00:00",
          "2001-11-30T00:00:00",
          "2001-12-31T00:00:00",
          "2002-01-31T00:00:00",
          "2002-02-28T00:00:00",
          "2002-03-31T00:00:00",
          "2002-04-30T00:00:00",
          "2002-05-31T00:00:00",
          "2002-06-30T00:00:00",
          "2002-07-31T00:00:00",
          "2002-08-31T00:00:00",
          "2002-09-30T00:00:00",
          "2002-10-31T00:00:00",
          "2002-11-30T00:00:00",
          "2002-12-31T00:00:00",
          "2003-01-31T00:00:00",
          "2003-02-28T00:00:00",
          "2003-03-31T00:00:00",
          "2003-04-30T00:00:00",
          "2003-05-31T00:00:00",
          "2003-06-30T00:00:00",
          "2003-07-31T00:00:00",
          "2003-08-31T00:00:00",
          "2003-09-30T00:00:00",
          "2003-10-31T00:00:00",
          "2003-11-30T00:00:00",
          "2003-12-31T00:00:00",
          "2004-01-31T00:00:00",
          "2004-02-29T00:00:00",
          "2004-03-31T00:00:00",
          "2004-04-30T00:00:00",
          "2004-05-31T00:00:00",
          "2004-06-30T00:00:00",
          "2004-07-31T00:00:00",
          "2004-08-31T00:00:00",
          "2004-09-30T00:00:00",
          "2004-10-31T00:00:00",
          "2004-11-30T00:00:00",
          "2004-12-31T00:00:00",
          "2005-01-31T00:00:00",
          "2005-02-28T00:00:00",
          "2005-03-31T00:00:00",
          "2005-04-30T00:00:00",
          "2005-05-31T00:00:00",
          "2005-06-30T00:00:00",
          "2005-07-31T00:00:00",
          "2005-08-31T00:00:00",
          "2005-09-30T00:00:00",
          "2005-10-31T00:00:00",
          "2005-11-30T00:00:00",
          "2005-12-31T00:00:00",
          "2006-01-31T00:00:00",
          "2006-02-28T00:00:00",
          "2006-03-31T00:00:00",
          "2006-04-30T00:00:00",
          "2006-05-31T00:00:00",
          "2006-06-30T00:00:00",
          "2006-07-31T00:00:00",
          "2006-08-31T00:00:00",
          "2006-09-30T00:00:00",
          "2006-10-31T00:00:00",
          "2006-11-30T00:00:00",
          "2006-12-31T00:00:00",
          "2007-01-31T00:00:00",
          "2007-02-28T00:00:00",
          "2007-03-31T00:00:00",
          "2007-04-30T00:00:00",
          "2007-05-31T00:00:00",
          "2007-06-30T00:00:00",
          "2007-07-31T00:00:00",
          "2007-08-31T00:00:00",
          "2007-09-30T00:00:00",
          "2007-10-31T00:00:00",
          "2007-11-30T00:00:00",
          "2007-12-31T00:00:00",
          "2008-01-31T00:00:00",
          "2008-02-29T00:00:00",
          "2008-03-31T00:00:00",
          "2008-04-30T00:00:00",
          "2008-05-31T00:00:00",
          "2008-06-30T00:00:00",
          "2008-07-31T00:00:00",
          "2008-08-31T00:00:00",
          "2008-09-30T00:00:00",
          "2008-10-31T00:00:00",
          "2008-11-30T00:00:00",
          "2008-12-31T00:00:00",
          "2009-01-31T00:00:00",
          "2009-02-28T00:00:00",
          "2009-03-31T00:00:00",
          "2009-04-30T00:00:00",
          "2009-05-31T00:00:00",
          "2009-06-30T00:00:00",
          "2009-07-31T00:00:00",
          "2009-08-31T00:00:00",
          "2009-09-30T00:00:00",
          "2009-10-31T00:00:00",
          "2009-11-30T00:00:00",
          "2009-12-31T00:00:00",
          "2010-01-31T00:00:00",
          "2010-02-28T00:00:00",
          "2010-03-31T00:00:00",
          "2010-04-30T00:00:00",
          "2010-05-31T00:00:00",
          "2010-06-30T00:00:00",
          "2010-07-31T00:00:00",
          "2010-08-31T00:00:00",
          "2010-09-30T00:00:00",
          "2010-10-31T00:00:00",
          "2010-11-30T00:00:00",
          "2010-12-31T00:00:00",
          "2011-01-31T00:00:00",
          "2011-02-28T00:00:00",
          "2011-03-31T00:00:00",
          "2011-04-30T00:00:00",
          "2011-05-31T00:00:00",
          "2011-06-30T00:00:00",
          "2011-07-31T00:00:00",
          "2011-08-31T00:00:00",
          "2011-09-30T00:00:00",
          "2011-10-31T00:00:00",
          "2011-11-30T00:00:00",
          "2011-12-31T00:00:00",
          "2012-01-31T00:00:00",
          "2012-02-29T00:00:00",
          "2012-03-31T00:00:00",
          "2012-04-30T00:00:00",
          "2012-05-31T00:00:00",
          "2012-06-30T00:00:00",
          "2012-07-31T00:00:00",
          "2012-08-31T00:00:00",
          "2012-09-30T00:00:00",
          "2012-10-31T00:00:00",
          "2012-11-30T00:00:00",
          "2012-12-31T00:00:00",
          "2013-01-31T00:00:00",
          "2013-02-28T00:00:00",
          "2013-03-31T00:00:00",
          "2013-04-30T00:00:00",
          "2013-05-31T00:00:00",
          "2013-06-30T00:00:00",
          "2013-07-31T00:00:00",
          "2013-08-31T00:00:00",
          "2013-09-30T00:00:00",
          "2013-10-31T00:00:00",
          "2013-11-30T00:00:00",
          "2013-12-31T00:00:00",
          "2014-01-31T00:00:00",
          "2014-02-28T00:00:00",
          "2014-03-31T00:00:00",
          "2014-04-30T00:00:00",
          "2014-05-31T00:00:00",
          "2014-06-30T00:00:00",
          "2014-07-31T00:00:00",
          "2014-08-31T00:00:00",
          "2014-09-30T00:00:00",
          "2014-10-31T00:00:00",
          "2014-11-30T00:00:00",
          "2014-12-31T00:00:00",
          "2015-01-31T00:00:00",
          "2015-02-28T00:00:00",
          "2015-03-31T00:00:00",
          "2015-04-30T00:00:00",
          "2015-05-31T00:00:00",
          "2015-06-30T00:00:00",
          "2015-07-31T00:00:00",
          "2015-08-31T00:00:00",
          "2015-09-30T00:00:00",
          "2015-10-31T00:00:00",
          "2015-11-30T00:00:00",
          "2015-12-31T00:00:00",
          "2016-01-31T00:00:00",
          "2016-02-29T00:00:00",
          "2016-03-31T00:00:00",
          "2016-04-30T00:00:00",
          "2016-05-31T00:00:00",
          "2016-06-30T00:00:00",
          "2016-07-31T00:00:00",
          "2016-08-31T00:00:00",
          "2016-09-30T00:00:00",
          "2016-10-31T00:00:00",
          "2016-11-30T00:00:00",
          "2016-12-31T00:00:00",
          "2017-01-31T00:00:00",
          "2017-02-28T00:00:00",
          "2017-03-31T00:00:00",
          "2017-04-30T00:00:00",
          "2017-05-31T00:00:00",
          "2017-06-30T00:00:00",
          "2017-07-31T00:00:00",
          "2017-08-31T00:00:00",
          "2017-09-30T00:00:00",
          "2017-10-31T00:00:00",
          "2017-11-30T00:00:00",
          "2017-12-31T00:00:00",
          "2018-01-31T00:00:00",
          "2018-02-28T00:00:00",
          "2018-03-31T00:00:00",
          "2018-04-30T00:00:00",
          "2018-05-31T00:00:00",
          "2018-06-30T00:00:00",
          "2018-07-31T00:00:00",
          "2018-08-31T00:00:00",
          "2018-09-30T00:00:00",
          "2018-10-31T00:00:00",
          "2018-11-30T00:00:00",
          "2018-12-31T00:00:00",
          "2019-01-31T00:00:00",
          "2019-02-28T00:00:00",
          "2019-03-31T00:00:00",
          "2019-04-30T00:00:00",
          "2019-05-31T00:00:00",
          "2019-06-30T00:00:00",
          "2019-07-31T00:00:00",
          "2019-08-31T00:00:00",
          "2019-09-30T00:00:00",
          "2019-10-31T00:00:00",
          "2019-11-30T00:00:00",
          "2019-12-31T00:00:00",
          "2020-01-31T00:00:00",
          "2020-02-29T00:00:00",
          "2020-03-31T00:00:00",
          "2020-04-30T00:00:00",
          "2020-05-31T00:00:00",
          "2020-06-30T00:00:00",
          "2020-07-31T00:00:00",
          "2020-08-31T00:00:00",
          "2020-09-30T00:00:00",
          "2020-10-31T00:00:00",
          "2020-11-30T00:00:00",
          "2020-12-31T00:00:00",
          "2021-01-31T00:00:00",
          "2021-02-28T00:00:00",
          "2021-03-31T00:00:00",
          "2021-04-30T00:00:00",
          "2021-05-31T00:00:00",
          "2021-06-30T00:00:00",
          "2021-07-31T00:00:00",
          "2021-08-31T00:00:00",
          "2021-09-30T00:00:00",
          "2021-10-31T00:00:00",
          "2021-11-30T00:00:00",
          "2021-12-31T00:00:00",
          "2022-01-31T00:00:00",
          "2022-02-28T00:00:00",
          "2022-03-31T00:00:00",
          "2022-04-30T00:00:00",
          "2022-05-31T00:00:00",
          "2022-06-30T00:00:00",
          "2022-07-31T00:00:00",
          "2022-08-31T00:00:00",
          "2022-09-30T00:00:00",
          "2022-10-31T00:00:00",
          "2022-11-30T00:00:00"
         ],
         "xaxis": "x",
         "y": [
          5.404715,
          5.155115,
          5.419556,
          5.160812,
          5.411246,
          5.167296,
          5.191492,
          5.480638,
          5.124234,
          5.403745,
          5.237093,
          5.374447,
          5.483364,
          5.060362,
          5.402702,
          5.277046,
          5.467495,
          5.045352,
          5.239915,
          5.259889,
          5.090946,
          5.365003,
          4.65569,
          4.960546,
          5.277898,
          4.890059,
          5.230962,
          5.086106,
          5.217412,
          5.105715,
          4.964138,
          5.061959,
          4.987107,
          5.230146,
          5.001053,
          5.230896,
          5.19414,
          4.971436,
          5.335003,
          5.061299,
          5.169888,
          5.16109,
          4.930762,
          5.088436,
          5.07888,
          5.161777,
          5.07694,
          5.292846,
          4.933563,
          4.767677,
          5.479659,
          5.162437,
          5.301077,
          5.213369,
          4.989057,
          5.188426,
          5.342555,
          5.416721,
          5.401081,
          4.777722,
          4.637601,
          4.3068,
          5.031442,
          5.332575,
          5.658523,
          5.471656,
          5.337581,
          5.530277,
          5.199372,
          5.590153,
          5.507736,
          5.456588,
          5.492573,
          5.080815,
          5.675084,
          5.416962,
          5.629804,
          5.464221,
          5.175111,
          5.662156,
          5.333679,
          5.804281,
          5.571737,
          5.544708,
          5.808102,
          5.439163,
          5.835658,
          5.591598,
          5.728859,
          5.530702,
          5.388052,
          5.477215,
          5.434372,
          5.632099,
          5.467152,
          5.814526,
          5.657948,
          5.37611,
          5.88842,
          4.800945,
          4.943181,
          5.402967,
          5.752973,
          5.928355,
          5.740055,
          5.897764,
          5.623842,
          5.896682,
          5.717164,
          5.441978,
          6.064058,
          5.62896,
          5.622018,
          5.54507,
          5.39141,
          5.589074,
          5.328563,
          5.461999,
          5.308096,
          5.428255,
          5.538015,
          5.05439,
          5.498964,
          5.23994,
          5.313155,
          5.203508,
          5.155909,
          5.524655,
          5.295724,
          5.454585,
          5.354621,
          5.432865,
          5.862227,
          5.613797,
          5.935904,
          5.642434,
          5.940699,
          5.668685,
          5.778721,
          6.086219,
          5.67677,
          5.548527,
          5.389197,
          5.656405,
          5.808399,
          5.412689,
          5.840459,
          5.599237,
          5.754526,
          5.504928,
          5.519414,
          5.702836,
          5.494752,
          5.736249,
          5.451384,
          5.836425,
          6.012402,
          5.460015,
          5.850002,
          5.526781,
          5.588407,
          5.396746,
          5.429051,
          5.547289,
          5.37061,
          5.633734,
          5.45374,
          5.761479,
          5.870465,
          5.363363,
          5.764016,
          5.445351,
          5.487331,
          5.484367,
          5.429708,
          5.679521,
          5.572598,
          5.820707,
          5.660598,
          5.92836,
          5.918824,
          5.646934,
          6.021131,
          5.575924,
          5.661535,
          5.581993,
          5.52114,
          5.951295,
          5.63778,
          5.739237,
          5.753552,
          5.880234,
          5.998696,
          5.412511,
          6.006266,
          5.590869,
          5.863269,
          5.650625,
          5.512605,
          6.070146,
          5.680563,
          5.89354,
          5.871475,
          5.733972,
          6.273824,
          5.694481,
          6.143921,
          5.703131,
          5.87071,
          5.709,
          5.764705,
          6.084561,
          5.647341,
          6.069747,
          5.863706,
          5.842452,
          6.21123,
          5.647315,
          6.022465,
          5.658388,
          5.793784,
          5.642071,
          5.827921,
          6.016608,
          5.720245,
          6.026454,
          5.777709,
          5.976898,
          6.206219,
          5.655065,
          5.866839,
          5.63073,
          5.692589,
          5.700253,
          5.84606,
          5.873675,
          5.700783,
          5.920799,
          5.754737,
          6.066717,
          5.99286,
          5.433772,
          5.925294,
          5.590426,
          5.6184,
          5.662572,
          5.529215,
          5.685507,
          5.573839,
          5.703153,
          5.669725,
          5.88794,
          5.865757,
          5.511965,
          6.182232,
          5.775217,
          5.811302,
          5.80611,
          5.818984,
          6.145612,
          5.815582,
          5.846362,
          5.92877,
          6.175198,
          6.135868,
          5.584872,
          6.116993,
          5.701056,
          5.913115,
          5.861466,
          5.936475,
          6.083955,
          5.851342,
          6.001303,
          5.934594,
          6.008138,
          6.059145,
          5.796695,
          6.189337,
          5.926724,
          6.090312,
          5.947819,
          6.143936,
          6.270742,
          5.882138,
          6.132089,
          5.911372,
          6.084948,
          6.25498,
          5.746246,
          6.19294,
          5.885515,
          6.192857,
          5.907547,
          6.114265,
          6.107502,
          5.971863,
          6.12094,
          5.763217,
          6.162255,
          6.401509,
          5.711263,
          6.281766,
          6.005149,
          6.15208,
          6.028093,
          6.126854,
          6.128655,
          5.865659,
          6.122041,
          5.855805,
          6.147638,
          6.149937,
          5.743737,
          6.198134,
          5.773119,
          5.890513,
          5.939685,
          6.055369,
          6.115254,
          5.883405,
          5.874531,
          5.934447,
          6.127562,
          6.023281,
          5.742828,
          6.284142,
          5.727994,
          6.023283,
          5.961753,
          5.951483,
          6.185379,
          5.771777,
          5.948329,
          5.828956,
          5.821446,
          6.109594,
          5.530608,
          6.180135,
          5.791105,
          6.0636,
          5.977761,
          5.988019,
          6.203569,
          5.806808,
          6.138293,
          5.922895,
          5.963061,
          6.257661,
          5.580886,
          5.923232,
          5.794808,
          6.03318,
          5.834227,
          5.973665,
          6.026891,
          5.726052,
          5.80707,
          5.71263,
          5.982828,
          6.001257,
          5.404352,
          5.919507,
          5.762671,
          5.938265,
          5.820237,
          5.891484,
          5.935429,
          5.753894,
          5.896804,
          5.579084,
          5.981791,
          6.020815,
          5.568078,
          5.985245,
          5.741299,
          5.809649,
          5.901435,
          5.993627,
          5.985276,
          5.685257,
          5.747858,
          5.699128,
          6.031922,
          5.969442,
          5.520627,
          6.131436,
          5.754473,
          5.906173,
          5.925572,
          5.925617,
          5.982773,
          5.390352,
          5.474018,
          5.59259,
          5.804039,
          6.034994,
          5.414141,
          5.98795,
          5.742258,
          6.029229,
          5.971006,
          5.997655,
          6.067137,
          5.752859,
          5.870392,
          5.787764,
          6.022463,
          6.134727,
          5.473109,
          6.038748,
          5.759415,
          6.087695,
          5.945893,
          6.006003,
          6.136768,
          5.773668,
          5.979628,
          5.927455,
          6.075344,
          6.196483,
          5.819837,
          6.16355,
          5.997844,
          6.21425,
          6.06965,
          6.398124,
          6.296245,
          5.638979,
          6.10018,
          5.952553,
          6.297806,
          6.296241,
          5.718099,
          6.240043,
          5.926872,
          6.076374,
          6.074316,
          6.205553,
          6.178304,
          5.904858,
          5.991712,
          5.85295,
          6.127195,
          6.158647,
          5.737478,
          6.37949,
          6.051424,
          6.206451,
          6.196689,
          6.336755,
          6.401818,
          6.278484,
          6.33498,
          6.254404,
          6.572109,
          6.494916,
          5.894592,
          6.675123,
          6.302414,
          6.438393,
          6.434384,
          6.500764,
          6.707388,
          6.440192,
          6.682326,
          6.658166,
          6.879226,
          6.938655,
          6.338454,
          6.655042,
          6.277093,
          6.602347,
          6.456131,
          6.752761,
          6.797849,
          6.443151,
          6.685012,
          6.546884,
          6.762347,
          6.844252,
          6.228333,
          6.812136,
          6.616178,
          6.920786,
          6.744352,
          7.064058,
          7.121119,
          6.801841,
          6.885445,
          6.845317,
          6.981743,
          7.176104,
          6.475834,
          7.2981,
          7.136803,
          7.361906,
          7.230598,
          7.550423,
          7.562948,
          7.297762,
          7.523122,
          7.371353,
          7.77473,
          7.714259,
          6.875217,
          7.593954,
          7.331749,
          7.368834,
          7.123558,
          7.539279,
          7.650223,
          7.325534,
          7.369965,
          7.117313,
          7.283738,
          7.232945,
          6.812104,
          7.137938,
          6.727724,
          6.995048,
          6.897702,
          7.137981,
          7.196662,
          6.8566,
          7.110887,
          7.032507,
          7.20294,
          7.299011,
          6.746044,
          7.400072,
          7.018326,
          7.337439,
          7.306003,
          7.414649,
          7.516459,
          7.230288,
          7.580655,
          7.544163,
          7.737653,
          7.746073,
          7.208504,
          7.980856,
          7.603107,
          7.967112,
          7.866955,
          8.113266,
          8.403345,
          7.98862,
          8.265331,
          8.18126,
          8.478216,
          8.531342,
          7.687621,
          8.343306,
          8.326426,
          8.651746,
          8.335048,
          8.537531,
          8.765625,
          8.425074,
          8.651795,
          8.467762,
          8.763212,
          8.780146,
          8.131546,
          8.493843,
          7.783309,
          7.488181,
          7.630822,
          8.022165,
          7.977082,
          7.709492,
          7.763202,
          7.860048,
          8.108308,
          8.25145,
          6.860719,
          8.365888,
          8.017904,
          8.400589,
          8.170063,
          8.357812,
          8.421374,
          8.066687,
          8.371038,
          8.348218,
          8.672236,
          8.531384,
          7.765558,
          8.679065,
          8.30882,
          8.725353,
          8.570749,
          8.771935,
          8.810077,
          8.558521,
          8.760568,
          8.619915
         ],
         "yaxis": "y"
        }
       ],
       "layout": {
        "legend": {
         "tracegroupgap": 0
        },
        "template": {
         "data": {
          "bar": [
           {
            "error_x": {
             "color": "#2a3f5f"
            },
            "error_y": {
             "color": "#2a3f5f"
            },
            "marker": {
             "line": {
              "color": "#E5ECF6",
              "width": 0.5
             },
             "pattern": {
              "fillmode": "overlay",
              "size": 10,
              "solidity": 0.2
             }
            },
            "type": "bar"
           }
          ],
          "barpolar": [
           {
            "marker": {
             "line": {
              "color": "#E5ECF6",
              "width": 0.5
             },
             "pattern": {
              "fillmode": "overlay",
              "size": 10,
              "solidity": 0.2
             }
            },
            "type": "barpolar"
           }
          ],
          "carpet": [
           {
            "aaxis": {
             "endlinecolor": "#2a3f5f",
             "gridcolor": "white",
             "linecolor": "white",
             "minorgridcolor": "white",
             "startlinecolor": "#2a3f5f"
            },
            "baxis": {
             "endlinecolor": "#2a3f5f",
             "gridcolor": "white",
             "linecolor": "white",
             "minorgridcolor": "white",
             "startlinecolor": "#2a3f5f"
            },
            "type": "carpet"
           }
          ],
          "choropleth": [
           {
            "colorbar": {
             "outlinewidth": 0,
             "ticks": ""
            },
            "type": "choropleth"
           }
          ],
          "contour": [
           {
            "colorbar": {
             "outlinewidth": 0,
             "ticks": ""
            },
            "colorscale": [
             [
              0,
              "#0d0887"
             ],
             [
              0.1111111111111111,
              "#46039f"
             ],
             [
              0.2222222222222222,
              "#7201a8"
             ],
             [
              0.3333333333333333,
              "#9c179e"
             ],
             [
              0.4444444444444444,
              "#bd3786"
             ],
             [
              0.5555555555555556,
              "#d8576b"
             ],
             [
              0.6666666666666666,
              "#ed7953"
             ],
             [
              0.7777777777777778,
              "#fb9f3a"
             ],
             [
              0.8888888888888888,
              "#fdca26"
             ],
             [
              1,
              "#f0f921"
             ]
            ],
            "type": "contour"
           }
          ],
          "contourcarpet": [
           {
            "colorbar": {
             "outlinewidth": 0,
             "ticks": ""
            },
            "type": "contourcarpet"
           }
          ],
          "heatmap": [
           {
            "colorbar": {
             "outlinewidth": 0,
             "ticks": ""
            },
            "colorscale": [
             [
              0,
              "#0d0887"
             ],
             [
              0.1111111111111111,
              "#46039f"
             ],
             [
              0.2222222222222222,
              "#7201a8"
             ],
             [
              0.3333333333333333,
              "#9c179e"
             ],
             [
              0.4444444444444444,
              "#bd3786"
             ],
             [
              0.5555555555555556,
              "#d8576b"
             ],
             [
              0.6666666666666666,
              "#ed7953"
             ],
             [
              0.7777777777777778,
              "#fb9f3a"
             ],
             [
              0.8888888888888888,
              "#fdca26"
             ],
             [
              1,
              "#f0f921"
             ]
            ],
            "type": "heatmap"
           }
          ],
          "heatmapgl": [
           {
            "colorbar": {
             "outlinewidth": 0,
             "ticks": ""
            },
            "colorscale": [
             [
              0,
              "#0d0887"
             ],
             [
              0.1111111111111111,
              "#46039f"
             ],
             [
              0.2222222222222222,
              "#7201a8"
             ],
             [
              0.3333333333333333,
              "#9c179e"
             ],
             [
              0.4444444444444444,
              "#bd3786"
             ],
             [
              0.5555555555555556,
              "#d8576b"
             ],
             [
              0.6666666666666666,
              "#ed7953"
             ],
             [
              0.7777777777777778,
              "#fb9f3a"
             ],
             [
              0.8888888888888888,
              "#fdca26"
             ],
             [
              1,
              "#f0f921"
             ]
            ],
            "type": "heatmapgl"
           }
          ],
          "histogram": [
           {
            "marker": {
             "pattern": {
              "fillmode": "overlay",
              "size": 10,
              "solidity": 0.2
             }
            },
            "type": "histogram"
           }
          ],
          "histogram2d": [
           {
            "colorbar": {
             "outlinewidth": 0,
             "ticks": ""
            },
            "colorscale": [
             [
              0,
              "#0d0887"
             ],
             [
              0.1111111111111111,
              "#46039f"
             ],
             [
              0.2222222222222222,
              "#7201a8"
             ],
             [
              0.3333333333333333,
              "#9c179e"
             ],
             [
              0.4444444444444444,
              "#bd3786"
             ],
             [
              0.5555555555555556,
              "#d8576b"
             ],
             [
              0.6666666666666666,
              "#ed7953"
             ],
             [
              0.7777777777777778,
              "#fb9f3a"
             ],
             [
              0.8888888888888888,
              "#fdca26"
             ],
             [
              1,
              "#f0f921"
             ]
            ],
            "type": "histogram2d"
           }
          ],
          "histogram2dcontour": [
           {
            "colorbar": {
             "outlinewidth": 0,
             "ticks": ""
            },
            "colorscale": [
             [
              0,
              "#0d0887"
             ],
             [
              0.1111111111111111,
              "#46039f"
             ],
             [
              0.2222222222222222,
              "#7201a8"
             ],
             [
              0.3333333333333333,
              "#9c179e"
             ],
             [
              0.4444444444444444,
              "#bd3786"
             ],
             [
              0.5555555555555556,
              "#d8576b"
             ],
             [
              0.6666666666666666,
              "#ed7953"
             ],
             [
              0.7777777777777778,
              "#fb9f3a"
             ],
             [
              0.8888888888888888,
              "#fdca26"
             ],
             [
              1,
              "#f0f921"
             ]
            ],
            "type": "histogram2dcontour"
           }
          ],
          "mesh3d": [
           {
            "colorbar": {
             "outlinewidth": 0,
             "ticks": ""
            },
            "type": "mesh3d"
           }
          ],
          "parcoords": [
           {
            "line": {
             "colorbar": {
              "outlinewidth": 0,
              "ticks": ""
             }
            },
            "type": "parcoords"
           }
          ],
          "pie": [
           {
            "automargin": true,
            "type": "pie"
           }
          ],
          "scatter": [
           {
            "fillpattern": {
             "fillmode": "overlay",
             "size": 10,
             "solidity": 0.2
            },
            "type": "scatter"
           }
          ],
          "scatter3d": [
           {
            "line": {
             "colorbar": {
              "outlinewidth": 0,
              "ticks": ""
             }
            },
            "marker": {
             "colorbar": {
              "outlinewidth": 0,
              "ticks": ""
             }
            },
            "type": "scatter3d"
           }
          ],
          "scattercarpet": [
           {
            "marker": {
             "colorbar": {
              "outlinewidth": 0,
              "ticks": ""
             }
            },
            "type": "scattercarpet"
           }
          ],
          "scattergeo": [
           {
            "marker": {
             "colorbar": {
              "outlinewidth": 0,
              "ticks": ""
             }
            },
            "type": "scattergeo"
           }
          ],
          "scattergl": [
           {
            "marker": {
             "colorbar": {
              "outlinewidth": 0,
              "ticks": ""
             }
            },
            "type": "scattergl"
           }
          ],
          "scattermapbox": [
           {
            "marker": {
             "colorbar": {
              "outlinewidth": 0,
              "ticks": ""
             }
            },
            "type": "scattermapbox"
           }
          ],
          "scatterpolar": [
           {
            "marker": {
             "colorbar": {
              "outlinewidth": 0,
              "ticks": ""
             }
            },
            "type": "scatterpolar"
           }
          ],
          "scatterpolargl": [
           {
            "marker": {
             "colorbar": {
              "outlinewidth": 0,
              "ticks": ""
             }
            },
            "type": "scatterpolargl"
           }
          ],
          "scatterternary": [
           {
            "marker": {
             "colorbar": {
              "outlinewidth": 0,
              "ticks": ""
             }
            },
            "type": "scatterternary"
           }
          ],
          "surface": [
           {
            "colorbar": {
             "outlinewidth": 0,
             "ticks": ""
            },
            "colorscale": [
             [
              0,
              "#0d0887"
             ],
             [
              0.1111111111111111,
              "#46039f"
             ],
             [
              0.2222222222222222,
              "#7201a8"
             ],
             [
              0.3333333333333333,
              "#9c179e"
             ],
             [
              0.4444444444444444,
              "#bd3786"
             ],
             [
              0.5555555555555556,
              "#d8576b"
             ],
             [
              0.6666666666666666,
              "#ed7953"
             ],
             [
              0.7777777777777778,
              "#fb9f3a"
             ],
             [
              0.8888888888888888,
              "#fdca26"
             ],
             [
              1,
              "#f0f921"
             ]
            ],
            "type": "surface"
           }
          ],
          "table": [
           {
            "cells": {
             "fill": {
              "color": "#EBF0F8"
             },
             "line": {
              "color": "white"
             }
            },
            "header": {
             "fill": {
              "color": "#C8D4E3"
             },
             "line": {
              "color": "white"
             }
            },
            "type": "table"
           }
          ]
         },
         "layout": {
          "annotationdefaults": {
           "arrowcolor": "#2a3f5f",
           "arrowhead": 0,
           "arrowwidth": 1
          },
          "autotypenumbers": "strict",
          "coloraxis": {
           "colorbar": {
            "outlinewidth": 0,
            "ticks": ""
           }
          },
          "colorscale": {
           "diverging": [
            [
             0,
             "#8e0152"
            ],
            [
             0.1,
             "#c51b7d"
            ],
            [
             0.2,
             "#de77ae"
            ],
            [
             0.3,
             "#f1b6da"
            ],
            [
             0.4,
             "#fde0ef"
            ],
            [
             0.5,
             "#f7f7f7"
            ],
            [
             0.6,
             "#e6f5d0"
            ],
            [
             0.7,
             "#b8e186"
            ],
            [
             0.8,
             "#7fbc41"
            ],
            [
             0.9,
             "#4d9221"
            ],
            [
             1,
             "#276419"
            ]
           ],
           "sequential": [
            [
             0,
             "#0d0887"
            ],
            [
             0.1111111111111111,
             "#46039f"
            ],
            [
             0.2222222222222222,
             "#7201a8"
            ],
            [
             0.3333333333333333,
             "#9c179e"
            ],
            [
             0.4444444444444444,
             "#bd3786"
            ],
            [
             0.5555555555555556,
             "#d8576b"
            ],
            [
             0.6666666666666666,
             "#ed7953"
            ],
            [
             0.7777777777777778,
             "#fb9f3a"
            ],
            [
             0.8888888888888888,
             "#fdca26"
            ],
            [
             1,
             "#f0f921"
            ]
           ],
           "sequentialminus": [
            [
             0,
             "#0d0887"
            ],
            [
             0.1111111111111111,
             "#46039f"
            ],
            [
             0.2222222222222222,
             "#7201a8"
            ],
            [
             0.3333333333333333,
             "#9c179e"
            ],
            [
             0.4444444444444444,
             "#bd3786"
            ],
            [
             0.5555555555555556,
             "#d8576b"
            ],
            [
             0.6666666666666666,
             "#ed7953"
            ],
            [
             0.7777777777777778,
             "#fb9f3a"
            ],
            [
             0.8888888888888888,
             "#fdca26"
            ],
            [
             1,
             "#f0f921"
            ]
           ]
          },
          "colorway": [
           "#636efa",
           "#EF553B",
           "#00cc96",
           "#ab63fa",
           "#FFA15A",
           "#19d3f3",
           "#FF6692",
           "#B6E880",
           "#FF97FF",
           "#FECB52"
          ],
          "font": {
           "color": "#2a3f5f"
          },
          "geo": {
           "bgcolor": "white",
           "lakecolor": "white",
           "landcolor": "#E5ECF6",
           "showlakes": true,
           "showland": true,
           "subunitcolor": "white"
          },
          "hoverlabel": {
           "align": "left"
          },
          "hovermode": "closest",
          "mapbox": {
           "style": "light"
          },
          "paper_bgcolor": "white",
          "plot_bgcolor": "#E5ECF6",
          "polar": {
           "angularaxis": {
            "gridcolor": "white",
            "linecolor": "white",
            "ticks": ""
           },
           "bgcolor": "#E5ECF6",
           "radialaxis": {
            "gridcolor": "white",
            "linecolor": "white",
            "ticks": ""
           }
          },
          "scene": {
           "xaxis": {
            "backgroundcolor": "#E5ECF6",
            "gridcolor": "white",
            "gridwidth": 2,
            "linecolor": "white",
            "showbackground": true,
            "ticks": "",
            "zerolinecolor": "white"
           },
           "yaxis": {
            "backgroundcolor": "#E5ECF6",
            "gridcolor": "white",
            "gridwidth": 2,
            "linecolor": "white",
            "showbackground": true,
            "ticks": "",
            "zerolinecolor": "white"
           },
           "zaxis": {
            "backgroundcolor": "#E5ECF6",
            "gridcolor": "white",
            "gridwidth": 2,
            "linecolor": "white",
            "showbackground": true,
            "ticks": "",
            "zerolinecolor": "white"
           }
          },
          "shapedefaults": {
           "line": {
            "color": "#2a3f5f"
           }
          },
          "ternary": {
           "aaxis": {
            "gridcolor": "white",
            "linecolor": "white",
            "ticks": ""
           },
           "baxis": {
            "gridcolor": "white",
            "linecolor": "white",
            "ticks": ""
           },
           "bgcolor": "#E5ECF6",
           "caxis": {
            "gridcolor": "white",
            "linecolor": "white",
            "ticks": ""
           }
          },
          "title": {
           "x": 0.05
          },
          "xaxis": {
           "automargin": true,
           "gridcolor": "white",
           "linecolor": "white",
           "ticks": "",
           "title": {
            "standoff": 15
           },
           "zerolinecolor": "white",
           "zerolinewidth": 2
          },
          "yaxis": {
           "automargin": true,
           "gridcolor": "white",
           "linecolor": "white",
           "ticks": "",
           "title": {
            "standoff": 15
           },
           "zerolinecolor": "white",
           "zerolinewidth": 2
          }
         }
        },
        "title": {
         "text": "Observed"
        },
        "width": 1500,
        "xaxis": {
         "anchor": "y",
         "domain": [
          0,
          1
         ],
         "title": {
          "text": "x"
         }
        },
        "yaxis": {
         "anchor": "x",
         "domain": [
          0,
          1
         ],
         "title": {
          "text": "y"
         }
        }
       }
      }
     },
     "metadata": {},
     "output_type": "display_data"
    }
   ],
   "source": [
    "from statsmodels.tsa.seasonal import seasonal_decompose\n",
    "results = seasonal_decompose(total_production['Total_Production'])\n",
    "\n",
    "fig_1 = px.line(y=results.observed, x=results.observed.index, title='Observed',width=1500)\n",
    "fig_1.show()"
   ]
  },
  {
   "cell_type": "code",
   "execution_count": 126,
   "metadata": {},
   "outputs": [
    {
     "data": {
      "application/vnd.plotly.v1+json": {
       "config": {
        "plotlyServerURL": "https://plot.ly"
       },
       "data": [
        {
         "hovertemplate": "x=%{x}<br>y=%{y}<extra></extra>",
         "legendgroup": "",
         "line": {
          "color": "#636efa",
          "dash": "solid"
         },
         "marker": {
          "symbol": "circle"
         },
         "mode": "lines",
         "name": "",
         "orientation": "v",
         "showlegend": false,
         "type": "scatter",
         "x": [
          "1973-01-31T00:00:00",
          "1973-02-28T00:00:00",
          "1973-03-31T00:00:00",
          "1973-04-30T00:00:00",
          "1973-05-31T00:00:00",
          "1973-06-30T00:00:00",
          "1973-07-31T00:00:00",
          "1973-08-31T00:00:00",
          "1973-09-30T00:00:00",
          "1973-10-31T00:00:00",
          "1973-11-30T00:00:00",
          "1973-12-31T00:00:00",
          "1974-01-31T00:00:00",
          "1974-02-28T00:00:00",
          "1974-03-31T00:00:00",
          "1974-04-30T00:00:00",
          "1974-05-31T00:00:00",
          "1974-06-30T00:00:00",
          "1974-07-31T00:00:00",
          "1974-08-31T00:00:00",
          "1974-09-30T00:00:00",
          "1974-10-31T00:00:00",
          "1974-11-30T00:00:00",
          "1974-12-31T00:00:00",
          "1975-01-31T00:00:00",
          "1975-02-28T00:00:00",
          "1975-03-31T00:00:00",
          "1975-04-30T00:00:00",
          "1975-05-31T00:00:00",
          "1975-06-30T00:00:00",
          "1975-07-31T00:00:00",
          "1975-08-31T00:00:00",
          "1975-09-30T00:00:00",
          "1975-10-31T00:00:00",
          "1975-11-30T00:00:00",
          "1975-12-31T00:00:00",
          "1976-01-31T00:00:00",
          "1976-02-29T00:00:00",
          "1976-03-31T00:00:00",
          "1976-04-30T00:00:00",
          "1976-05-31T00:00:00",
          "1976-06-30T00:00:00",
          "1976-07-31T00:00:00",
          "1976-08-31T00:00:00",
          "1976-09-30T00:00:00",
          "1976-10-31T00:00:00",
          "1976-11-30T00:00:00",
          "1976-12-31T00:00:00",
          "1977-01-31T00:00:00",
          "1977-02-28T00:00:00",
          "1977-03-31T00:00:00",
          "1977-04-30T00:00:00",
          "1977-05-31T00:00:00",
          "1977-06-30T00:00:00",
          "1977-07-31T00:00:00",
          "1977-08-31T00:00:00",
          "1977-09-30T00:00:00",
          "1977-10-31T00:00:00",
          "1977-11-30T00:00:00",
          "1977-12-31T00:00:00",
          "1978-01-31T00:00:00",
          "1978-02-28T00:00:00",
          "1978-03-31T00:00:00",
          "1978-04-30T00:00:00",
          "1978-05-31T00:00:00",
          "1978-06-30T00:00:00",
          "1978-07-31T00:00:00",
          "1978-08-31T00:00:00",
          "1978-09-30T00:00:00",
          "1978-10-31T00:00:00",
          "1978-11-30T00:00:00",
          "1978-12-31T00:00:00",
          "1979-01-31T00:00:00",
          "1979-02-28T00:00:00",
          "1979-03-31T00:00:00",
          "1979-04-30T00:00:00",
          "1979-05-31T00:00:00",
          "1979-06-30T00:00:00",
          "1979-07-31T00:00:00",
          "1979-08-31T00:00:00",
          "1979-09-30T00:00:00",
          "1979-10-31T00:00:00",
          "1979-11-30T00:00:00",
          "1979-12-31T00:00:00",
          "1980-01-31T00:00:00",
          "1980-02-29T00:00:00",
          "1980-03-31T00:00:00",
          "1980-04-30T00:00:00",
          "1980-05-31T00:00:00",
          "1980-06-30T00:00:00",
          "1980-07-31T00:00:00",
          "1980-08-31T00:00:00",
          "1980-09-30T00:00:00",
          "1980-10-31T00:00:00",
          "1980-11-30T00:00:00",
          "1980-12-31T00:00:00",
          "1981-01-31T00:00:00",
          "1981-02-28T00:00:00",
          "1981-03-31T00:00:00",
          "1981-04-30T00:00:00",
          "1981-05-31T00:00:00",
          "1981-06-30T00:00:00",
          "1981-07-31T00:00:00",
          "1981-08-31T00:00:00",
          "1981-09-30T00:00:00",
          "1981-10-31T00:00:00",
          "1981-11-30T00:00:00",
          "1981-12-31T00:00:00",
          "1982-01-31T00:00:00",
          "1982-02-28T00:00:00",
          "1982-03-31T00:00:00",
          "1982-04-30T00:00:00",
          "1982-05-31T00:00:00",
          "1982-06-30T00:00:00",
          "1982-07-31T00:00:00",
          "1982-08-31T00:00:00",
          "1982-09-30T00:00:00",
          "1982-10-31T00:00:00",
          "1982-11-30T00:00:00",
          "1982-12-31T00:00:00",
          "1983-01-31T00:00:00",
          "1983-02-28T00:00:00",
          "1983-03-31T00:00:00",
          "1983-04-30T00:00:00",
          "1983-05-31T00:00:00",
          "1983-06-30T00:00:00",
          "1983-07-31T00:00:00",
          "1983-08-31T00:00:00",
          "1983-09-30T00:00:00",
          "1983-10-31T00:00:00",
          "1983-11-30T00:00:00",
          "1983-12-31T00:00:00",
          "1984-01-31T00:00:00",
          "1984-02-29T00:00:00",
          "1984-03-31T00:00:00",
          "1984-04-30T00:00:00",
          "1984-05-31T00:00:00",
          "1984-06-30T00:00:00",
          "1984-07-31T00:00:00",
          "1984-08-31T00:00:00",
          "1984-09-30T00:00:00",
          "1984-10-31T00:00:00",
          "1984-11-30T00:00:00",
          "1984-12-31T00:00:00",
          "1985-01-31T00:00:00",
          "1985-02-28T00:00:00",
          "1985-03-31T00:00:00",
          "1985-04-30T00:00:00",
          "1985-05-31T00:00:00",
          "1985-06-30T00:00:00",
          "1985-07-31T00:00:00",
          "1985-08-31T00:00:00",
          "1985-09-30T00:00:00",
          "1985-10-31T00:00:00",
          "1985-11-30T00:00:00",
          "1985-12-31T00:00:00",
          "1986-01-31T00:00:00",
          "1986-02-28T00:00:00",
          "1986-03-31T00:00:00",
          "1986-04-30T00:00:00",
          "1986-05-31T00:00:00",
          "1986-06-30T00:00:00",
          "1986-07-31T00:00:00",
          "1986-08-31T00:00:00",
          "1986-09-30T00:00:00",
          "1986-10-31T00:00:00",
          "1986-11-30T00:00:00",
          "1986-12-31T00:00:00",
          "1987-01-31T00:00:00",
          "1987-02-28T00:00:00",
          "1987-03-31T00:00:00",
          "1987-04-30T00:00:00",
          "1987-05-31T00:00:00",
          "1987-06-30T00:00:00",
          "1987-07-31T00:00:00",
          "1987-08-31T00:00:00",
          "1987-09-30T00:00:00",
          "1987-10-31T00:00:00",
          "1987-11-30T00:00:00",
          "1987-12-31T00:00:00",
          "1988-01-31T00:00:00",
          "1988-02-29T00:00:00",
          "1988-03-31T00:00:00",
          "1988-04-30T00:00:00",
          "1988-05-31T00:00:00",
          "1988-06-30T00:00:00",
          "1988-07-31T00:00:00",
          "1988-08-31T00:00:00",
          "1988-09-30T00:00:00",
          "1988-10-31T00:00:00",
          "1988-11-30T00:00:00",
          "1988-12-31T00:00:00",
          "1989-01-31T00:00:00",
          "1989-02-28T00:00:00",
          "1989-03-31T00:00:00",
          "1989-04-30T00:00:00",
          "1989-05-31T00:00:00",
          "1989-06-30T00:00:00",
          "1989-07-31T00:00:00",
          "1989-08-31T00:00:00",
          "1989-09-30T00:00:00",
          "1989-10-31T00:00:00",
          "1989-11-30T00:00:00",
          "1989-12-31T00:00:00",
          "1990-01-31T00:00:00",
          "1990-02-28T00:00:00",
          "1990-03-31T00:00:00",
          "1990-04-30T00:00:00",
          "1990-05-31T00:00:00",
          "1990-06-30T00:00:00",
          "1990-07-31T00:00:00",
          "1990-08-31T00:00:00",
          "1990-09-30T00:00:00",
          "1990-10-31T00:00:00",
          "1990-11-30T00:00:00",
          "1990-12-31T00:00:00",
          "1991-01-31T00:00:00",
          "1991-02-28T00:00:00",
          "1991-03-31T00:00:00",
          "1991-04-30T00:00:00",
          "1991-05-31T00:00:00",
          "1991-06-30T00:00:00",
          "1991-07-31T00:00:00",
          "1991-08-31T00:00:00",
          "1991-09-30T00:00:00",
          "1991-10-31T00:00:00",
          "1991-11-30T00:00:00",
          "1991-12-31T00:00:00",
          "1992-01-31T00:00:00",
          "1992-02-29T00:00:00",
          "1992-03-31T00:00:00",
          "1992-04-30T00:00:00",
          "1992-05-31T00:00:00",
          "1992-06-30T00:00:00",
          "1992-07-31T00:00:00",
          "1992-08-31T00:00:00",
          "1992-09-30T00:00:00",
          "1992-10-31T00:00:00",
          "1992-11-30T00:00:00",
          "1992-12-31T00:00:00",
          "1993-01-31T00:00:00",
          "1993-02-28T00:00:00",
          "1993-03-31T00:00:00",
          "1993-04-30T00:00:00",
          "1993-05-31T00:00:00",
          "1993-06-30T00:00:00",
          "1993-07-31T00:00:00",
          "1993-08-31T00:00:00",
          "1993-09-30T00:00:00",
          "1993-10-31T00:00:00",
          "1993-11-30T00:00:00",
          "1993-12-31T00:00:00",
          "1994-01-31T00:00:00",
          "1994-02-28T00:00:00",
          "1994-03-31T00:00:00",
          "1994-04-30T00:00:00",
          "1994-05-31T00:00:00",
          "1994-06-30T00:00:00",
          "1994-07-31T00:00:00",
          "1994-08-31T00:00:00",
          "1994-09-30T00:00:00",
          "1994-10-31T00:00:00",
          "1994-11-30T00:00:00",
          "1994-12-31T00:00:00",
          "1995-01-31T00:00:00",
          "1995-02-28T00:00:00",
          "1995-03-31T00:00:00",
          "1995-04-30T00:00:00",
          "1995-05-31T00:00:00",
          "1995-06-30T00:00:00",
          "1995-07-31T00:00:00",
          "1995-08-31T00:00:00",
          "1995-09-30T00:00:00",
          "1995-10-31T00:00:00",
          "1995-11-30T00:00:00",
          "1995-12-31T00:00:00",
          "1996-01-31T00:00:00",
          "1996-02-29T00:00:00",
          "1996-03-31T00:00:00",
          "1996-04-30T00:00:00",
          "1996-05-31T00:00:00",
          "1996-06-30T00:00:00",
          "1996-07-31T00:00:00",
          "1996-08-31T00:00:00",
          "1996-09-30T00:00:00",
          "1996-10-31T00:00:00",
          "1996-11-30T00:00:00",
          "1996-12-31T00:00:00",
          "1997-01-31T00:00:00",
          "1997-02-28T00:00:00",
          "1997-03-31T00:00:00",
          "1997-04-30T00:00:00",
          "1997-05-31T00:00:00",
          "1997-06-30T00:00:00",
          "1997-07-31T00:00:00",
          "1997-08-31T00:00:00",
          "1997-09-30T00:00:00",
          "1997-10-31T00:00:00",
          "1997-11-30T00:00:00",
          "1997-12-31T00:00:00",
          "1998-01-31T00:00:00",
          "1998-02-28T00:00:00",
          "1998-03-31T00:00:00",
          "1998-04-30T00:00:00",
          "1998-05-31T00:00:00",
          "1998-06-30T00:00:00",
          "1998-07-31T00:00:00",
          "1998-08-31T00:00:00",
          "1998-09-30T00:00:00",
          "1998-10-31T00:00:00",
          "1998-11-30T00:00:00",
          "1998-12-31T00:00:00",
          "1999-01-31T00:00:00",
          "1999-02-28T00:00:00",
          "1999-03-31T00:00:00",
          "1999-04-30T00:00:00",
          "1999-05-31T00:00:00",
          "1999-06-30T00:00:00",
          "1999-07-31T00:00:00",
          "1999-08-31T00:00:00",
          "1999-09-30T00:00:00",
          "1999-10-31T00:00:00",
          "1999-11-30T00:00:00",
          "1999-12-31T00:00:00",
          "2000-01-31T00:00:00",
          "2000-02-29T00:00:00",
          "2000-03-31T00:00:00",
          "2000-04-30T00:00:00",
          "2000-05-31T00:00:00",
          "2000-06-30T00:00:00",
          "2000-07-31T00:00:00",
          "2000-08-31T00:00:00",
          "2000-09-30T00:00:00",
          "2000-10-31T00:00:00",
          "2000-11-30T00:00:00",
          "2000-12-31T00:00:00",
          "2001-01-31T00:00:00",
          "2001-02-28T00:00:00",
          "2001-03-31T00:00:00",
          "2001-04-30T00:00:00",
          "2001-05-31T00:00:00",
          "2001-06-30T00:00:00",
          "2001-07-31T00:00:00",
          "2001-08-31T00:00:00",
          "2001-09-30T00:00:00",
          "2001-10-31T00:00:00",
          "2001-11-30T00:00:00",
          "2001-12-31T00:00:00",
          "2002-01-31T00:00:00",
          "2002-02-28T00:00:00",
          "2002-03-31T00:00:00",
          "2002-04-30T00:00:00",
          "2002-05-31T00:00:00",
          "2002-06-30T00:00:00",
          "2002-07-31T00:00:00",
          "2002-08-31T00:00:00",
          "2002-09-30T00:00:00",
          "2002-10-31T00:00:00",
          "2002-11-30T00:00:00",
          "2002-12-31T00:00:00",
          "2003-01-31T00:00:00",
          "2003-02-28T00:00:00",
          "2003-03-31T00:00:00",
          "2003-04-30T00:00:00",
          "2003-05-31T00:00:00",
          "2003-06-30T00:00:00",
          "2003-07-31T00:00:00",
          "2003-08-31T00:00:00",
          "2003-09-30T00:00:00",
          "2003-10-31T00:00:00",
          "2003-11-30T00:00:00",
          "2003-12-31T00:00:00",
          "2004-01-31T00:00:00",
          "2004-02-29T00:00:00",
          "2004-03-31T00:00:00",
          "2004-04-30T00:00:00",
          "2004-05-31T00:00:00",
          "2004-06-30T00:00:00",
          "2004-07-31T00:00:00",
          "2004-08-31T00:00:00",
          "2004-09-30T00:00:00",
          "2004-10-31T00:00:00",
          "2004-11-30T00:00:00",
          "2004-12-31T00:00:00",
          "2005-01-31T00:00:00",
          "2005-02-28T00:00:00",
          "2005-03-31T00:00:00",
          "2005-04-30T00:00:00",
          "2005-05-31T00:00:00",
          "2005-06-30T00:00:00",
          "2005-07-31T00:00:00",
          "2005-08-31T00:00:00",
          "2005-09-30T00:00:00",
          "2005-10-31T00:00:00",
          "2005-11-30T00:00:00",
          "2005-12-31T00:00:00",
          "2006-01-31T00:00:00",
          "2006-02-28T00:00:00",
          "2006-03-31T00:00:00",
          "2006-04-30T00:00:00",
          "2006-05-31T00:00:00",
          "2006-06-30T00:00:00",
          "2006-07-31T00:00:00",
          "2006-08-31T00:00:00",
          "2006-09-30T00:00:00",
          "2006-10-31T00:00:00",
          "2006-11-30T00:00:00",
          "2006-12-31T00:00:00",
          "2007-01-31T00:00:00",
          "2007-02-28T00:00:00",
          "2007-03-31T00:00:00",
          "2007-04-30T00:00:00",
          "2007-05-31T00:00:00",
          "2007-06-30T00:00:00",
          "2007-07-31T00:00:00",
          "2007-08-31T00:00:00",
          "2007-09-30T00:00:00",
          "2007-10-31T00:00:00",
          "2007-11-30T00:00:00",
          "2007-12-31T00:00:00",
          "2008-01-31T00:00:00",
          "2008-02-29T00:00:00",
          "2008-03-31T00:00:00",
          "2008-04-30T00:00:00",
          "2008-05-31T00:00:00",
          "2008-06-30T00:00:00",
          "2008-07-31T00:00:00",
          "2008-08-31T00:00:00",
          "2008-09-30T00:00:00",
          "2008-10-31T00:00:00",
          "2008-11-30T00:00:00",
          "2008-12-31T00:00:00",
          "2009-01-31T00:00:00",
          "2009-02-28T00:00:00",
          "2009-03-31T00:00:00",
          "2009-04-30T00:00:00",
          "2009-05-31T00:00:00",
          "2009-06-30T00:00:00",
          "2009-07-31T00:00:00",
          "2009-08-31T00:00:00",
          "2009-09-30T00:00:00",
          "2009-10-31T00:00:00",
          "2009-11-30T00:00:00",
          "2009-12-31T00:00:00",
          "2010-01-31T00:00:00",
          "2010-02-28T00:00:00",
          "2010-03-31T00:00:00",
          "2010-04-30T00:00:00",
          "2010-05-31T00:00:00",
          "2010-06-30T00:00:00",
          "2010-07-31T00:00:00",
          "2010-08-31T00:00:00",
          "2010-09-30T00:00:00",
          "2010-10-31T00:00:00",
          "2010-11-30T00:00:00",
          "2010-12-31T00:00:00",
          "2011-01-31T00:00:00",
          "2011-02-28T00:00:00",
          "2011-03-31T00:00:00",
          "2011-04-30T00:00:00",
          "2011-05-31T00:00:00",
          "2011-06-30T00:00:00",
          "2011-07-31T00:00:00",
          "2011-08-31T00:00:00",
          "2011-09-30T00:00:00",
          "2011-10-31T00:00:00",
          "2011-11-30T00:00:00",
          "2011-12-31T00:00:00",
          "2012-01-31T00:00:00",
          "2012-02-29T00:00:00",
          "2012-03-31T00:00:00",
          "2012-04-30T00:00:00",
          "2012-05-31T00:00:00",
          "2012-06-30T00:00:00",
          "2012-07-31T00:00:00",
          "2012-08-31T00:00:00",
          "2012-09-30T00:00:00",
          "2012-10-31T00:00:00",
          "2012-11-30T00:00:00",
          "2012-12-31T00:00:00",
          "2013-01-31T00:00:00",
          "2013-02-28T00:00:00",
          "2013-03-31T00:00:00",
          "2013-04-30T00:00:00",
          "2013-05-31T00:00:00",
          "2013-06-30T00:00:00",
          "2013-07-31T00:00:00",
          "2013-08-31T00:00:00",
          "2013-09-30T00:00:00",
          "2013-10-31T00:00:00",
          "2013-11-30T00:00:00",
          "2013-12-31T00:00:00",
          "2014-01-31T00:00:00",
          "2014-02-28T00:00:00",
          "2014-03-31T00:00:00",
          "2014-04-30T00:00:00",
          "2014-05-31T00:00:00",
          "2014-06-30T00:00:00",
          "2014-07-31T00:00:00",
          "2014-08-31T00:00:00",
          "2014-09-30T00:00:00",
          "2014-10-31T00:00:00",
          "2014-11-30T00:00:00",
          "2014-12-31T00:00:00",
          "2015-01-31T00:00:00",
          "2015-02-28T00:00:00",
          "2015-03-31T00:00:00",
          "2015-04-30T00:00:00",
          "2015-05-31T00:00:00",
          "2015-06-30T00:00:00",
          "2015-07-31T00:00:00",
          "2015-08-31T00:00:00",
          "2015-09-30T00:00:00",
          "2015-10-31T00:00:00",
          "2015-11-30T00:00:00",
          "2015-12-31T00:00:00",
          "2016-01-31T00:00:00",
          "2016-02-29T00:00:00",
          "2016-03-31T00:00:00",
          "2016-04-30T00:00:00",
          "2016-05-31T00:00:00",
          "2016-06-30T00:00:00",
          "2016-07-31T00:00:00",
          "2016-08-31T00:00:00",
          "2016-09-30T00:00:00",
          "2016-10-31T00:00:00",
          "2016-11-30T00:00:00",
          "2016-12-31T00:00:00",
          "2017-01-31T00:00:00",
          "2017-02-28T00:00:00",
          "2017-03-31T00:00:00",
          "2017-04-30T00:00:00",
          "2017-05-31T00:00:00",
          "2017-06-30T00:00:00",
          "2017-07-31T00:00:00",
          "2017-08-31T00:00:00",
          "2017-09-30T00:00:00",
          "2017-10-31T00:00:00",
          "2017-11-30T00:00:00",
          "2017-12-31T00:00:00",
          "2018-01-31T00:00:00",
          "2018-02-28T00:00:00",
          "2018-03-31T00:00:00",
          "2018-04-30T00:00:00",
          "2018-05-31T00:00:00",
          "2018-06-30T00:00:00",
          "2018-07-31T00:00:00",
          "2018-08-31T00:00:00",
          "2018-09-30T00:00:00",
          "2018-10-31T00:00:00",
          "2018-11-30T00:00:00",
          "2018-12-31T00:00:00",
          "2019-01-31T00:00:00",
          "2019-02-28T00:00:00",
          "2019-03-31T00:00:00",
          "2019-04-30T00:00:00",
          "2019-05-31T00:00:00",
          "2019-06-30T00:00:00",
          "2019-07-31T00:00:00",
          "2019-08-31T00:00:00",
          "2019-09-30T00:00:00",
          "2019-10-31T00:00:00",
          "2019-11-30T00:00:00",
          "2019-12-31T00:00:00",
          "2020-01-31T00:00:00",
          "2020-02-29T00:00:00",
          "2020-03-31T00:00:00",
          "2020-04-30T00:00:00",
          "2020-05-31T00:00:00",
          "2020-06-30T00:00:00",
          "2020-07-31T00:00:00",
          "2020-08-31T00:00:00",
          "2020-09-30T00:00:00",
          "2020-10-31T00:00:00",
          "2020-11-30T00:00:00",
          "2020-12-31T00:00:00",
          "2021-01-31T00:00:00",
          "2021-02-28T00:00:00",
          "2021-03-31T00:00:00",
          "2021-04-30T00:00:00",
          "2021-05-31T00:00:00",
          "2021-06-30T00:00:00",
          "2021-07-31T00:00:00",
          "2021-08-31T00:00:00",
          "2021-09-30T00:00:00",
          "2021-10-31T00:00:00",
          "2021-11-30T00:00:00",
          "2021-12-31T00:00:00",
          "2022-01-31T00:00:00",
          "2022-02-28T00:00:00",
          "2022-03-31T00:00:00",
          "2022-04-30T00:00:00",
          "2022-05-31T00:00:00",
          "2022-06-30T00:00:00",
          "2022-07-31T00:00:00",
          "2022-08-31T00:00:00",
          "2022-09-30T00:00:00",
          "2022-10-31T00:00:00",
          "2022-11-30T00:00:00"
         ],
         "xaxis": "x",
         "y": [
          null,
          null,
          null,
          null,
          null,
          null,
          5.297476124999999,
          5.296805125,
          5.292154833333332,
          5.296295666666666,
          5.303482458333334,
          5.300745166666666,
          5.297681791666666,
          5.290501541666667,
          5.279916666666667,
          5.276915416666666,
          5.251076041666666,
          5.2096050416666655,
          5.1837980833333335,
          5.168141041666668,
          5.153889250000001,
          5.138777583333333,
          5.1204016249999995,
          5.112496624999999,
          5.103521041666666,
          5.083783249999999,
          5.071209541666666,
          5.061263874999999,
          5.070034958333333,
          5.095689666666666,
          5.103464333333334,
          5.103365125000001,
          5.111090875,
          5.114392291666666,
          5.111378499999999,
          5.111705624999999,
          5.112622249999999,
          5.112334791666666,
          5.117261875,
          5.118237041666666,
          5.118550291666666,
          5.1242935,
          5.116017375,
          5.096670041666667,
          5.094207416666666,
          5.1044488333333335,
          5.114129125,
          5.121773624999999,
          5.126380875,
          5.132976083333332,
          5.148128791666665,
          5.169737916666667,
          5.193866458333333,
          5.185908833333333,
          5.152113583333334,
          5.120578625,
          5.082699708333333,
          5.071113083333333,
          5.09309575,
          5.118751291666666,
          5.144035083333333,
          5.172800708333334,
          5.1810785416666665,
          5.182338916666667,
          5.194009208333332,
          5.22673925,
          5.290649166666666,
          5.358523624999999,
          5.417592666666667,
          5.447927208333333,
          5.450246708333333,
          5.448740291666667,
          5.441660916666667,
          5.440386291666667,
          5.4514773750000005,
          5.4659955,
          5.477584208333333,
          5.483922583333333,
          5.5007412916666665,
          5.5288195,
          5.5504412499999995,
          5.564408333333334,
          5.575812125,
          5.582709458333333,
          5.594352041666666,
          5.595518708333332,
          5.592008374999999,
          5.589029666666666,
          5.577497708333333,
          5.584382416666666,
          5.589368416666666,
          5.580484791666667,
          5.580056,
          5.549310541666666,
          5.483630083333333,
          5.445571208333333,
          5.455453958333333,
          5.4894565,
          5.520990791666666,
          5.544796958333333,
          5.5623950833333335,
          5.572347000000001,
          5.5782375,
          5.583449333333332,
          5.593512083333333,
          5.635330958333333,
          5.698116458333333,
          5.732322291666667,
          5.7231781250000004,
          5.693976291666668,
          5.662694083333333,
          5.627391708333334,
          5.596078749999998,
          5.563404874999999,
          5.536422541666666,
          5.512808499999999,
          5.473113416666666,
          5.433358666666666,
          5.404280208333333,
          5.377179166666666,
          5.353134875,
          5.340638208333333,
          5.336585791666667,
          5.334908583333333,
          5.336538208333333,
          5.338668833333332,
          5.352369749999999,
          5.389187208333333,
          5.430701666666666,
          5.465678083333334,
          5.508596333333333,
          5.554126374999999,
          5.599459249999999,
          5.648808249999999,
          5.6880836666666665,
          5.707874833333333,
          5.713229750000001,
          5.723984583333334,
          5.731055916666667,
          5.720433583333333,
          5.708077208333333,
          5.702300458333333,
          5.692743374999999,
          5.678162958333333,
          5.660535291666667,
          5.633756541666666,
          5.610198166666666,
          5.610435833333333,
          5.620848708333332,
          5.630940666666667,
          5.646941624999999,
          5.657413666666666,
          5.659783208333333,
          5.657161833333333,
          5.647221208333333,
          5.635792,
          5.627519291666666,
          5.617273041666667,
          5.605619333333333,
          5.596175291666666,
          5.592002,
          5.588977416666666,
          5.579940625,
          5.569999416666667,
          5.562389499999999,
          5.555413833333334,
          5.5478094166666665,
          5.547248791666666,
          5.550927041666666,
          5.556464083333333,
          5.570389916666666,
          5.586596624999999,
          5.603006249999999,
          5.618578708333333,
          5.6275470416666655,
          5.6413774583333325,
          5.6639060416666664,
          5.680059708333333,
          5.69275875,
          5.704085,
          5.711962416666667,
          5.7270959999999995,
          5.741135833333333,
          5.7404571666666655,
          5.740935666666665,
          5.742803499999999,
          5.74412625,
          5.737686624999999,
          5.727299624999999,
          5.727302958333332,
          5.736331249999999,
          5.747596499999998,
          5.750100541666666,
          5.754697041666666,
          5.761431791666666,
          5.769643708333334,
          5.7809864583333335,
          5.7798056666666655,
          5.785175083333332,
          5.808387499999999,
          5.825871874999999,
          5.836285083333333,
          5.841272708333333,
          5.844015041666666,
          5.8569515,
          5.868056291666666,
          5.867272666666666,
          5.873230374999999,
          5.880248624999999,
          5.884444916666666,
          5.886356833333333,
          5.881783499999998,
          5.8747575833333325,
          5.867832625,
          5.862763083333333,
          5.856769125,
          5.856614416666665,
          5.856417041666666,
          5.856623333333332,
          5.857857124999999,
          5.852470041666666,
          5.85448875,
          5.859881874999999,
          5.859995999999999,
          5.853834499999999,
          5.846197666666666,
          5.840828791666666,
          5.839036583333333,
          5.842216624999999,
          5.837016875,
          5.830250416666666,
          5.825037208333333,
          5.819677749999999,
          5.8224630416666665,
          5.817315541666666,
          5.799205041666666,
          5.7924201250000005,
          5.793176416666667,
          5.788405875,
          5.783744625,
          5.768972708333333,
          5.7479305,
          5.734800833333333,
          5.720442916666667,
          5.707832166666666,
          5.6968409583333335,
          5.684095958333334,
          5.682058041666667,
          5.696021833333333,
          5.714427208333333,
          5.730164416666667,
          5.744182749999999,
          5.762237208333333,
          5.7934819583333335,
          5.8227256249999995,
          5.838765291666666,
          5.855525874999999,
          5.8782885,
          5.901512208333334,
          5.915804625,
          5.916124125,
          5.910315791666666,
          5.911467958333334,
          5.918016666666667,
          5.925218624999999,
          5.927545041666666,
          5.9264660000000005,
          5.9344118749999994,
          5.941110416666667,
          5.93439225,
          5.924234625,
          5.9298637916666666,
          5.941704083333334,
          5.954121249999999,
          5.970907291666666,
          5.981888541666667,
          5.994130791666667,
          6.010557791666666,
          6.019623749999999,
          6.026356333333332,
          6.030838166666666,
          6.033070999999999,
          6.044431208333333,
          6.050488958333333,
          6.048537041666666,
          6.046970125,
          6.049525791666666,
          6.052120500000001,
          6.049206208333334,
          6.04116825,
          6.0381051249999995,
          6.041379125,
          6.034741458333333,
          6.031789458333334,
          6.041115958333333,
          6.045763708333333,
          6.048007166666666,
          6.056692999999999,
          6.059978708333333,
          6.063302416666666,
          6.0688497083333335,
          6.070255625,
          6.066711833333332,
          6.062332541666666,
          6.06623625,
          6.069485041666667,
          6.058393833333334,
          6.04926475,
          6.047133166666666,
          6.033980583333333,
          6.013414041666666,
          5.998831749999999,
          5.992169541666666,
          5.988632624999999,
          5.988813666666666,
          5.979240166666666,
          5.972203999999999,
          5.974644249999998,
          5.968530416666666,
          5.963215208333334,
          5.966761000000001,
          5.968464458333334,
          5.972116333333333,
          5.978567916666666,
          5.9751588333333325,
          5.973752125,
          5.972022833333333,
          5.970446583333333,
          5.969126041666667,
          5.95197575,
          5.942817291666667,
          5.937571166666666,
          5.924395041666667,
          5.922691041666666,
          5.927000541666667,
          5.9293474166666655,
          5.93153675,
          5.933817,
          5.936034541666666,
          5.945409333333334,
          5.9572386250000005,
          5.967053375000001,
          5.979123458333334,
          5.987387833333334,
          5.978778458333332,
          5.968228458333333,
          5.96711525,
          5.959867166666666,
          5.9532885,
          5.945328833333333,
          5.934602416666666,
          5.917436625,
          5.894874625000001,
          5.886937208333333,
          5.877077333333333,
          5.859038249999999,
          5.851527458333333,
          5.850033208333333,
          5.844739374999999,
          5.840201666666665,
          5.836194541666666,
          5.828959416666667,
          5.826308583333333,
          5.831207583333333,
          5.829382083333333,
          5.823774458333332,
          5.824546166666666,
          5.832183,
          5.841744,
          5.843592583333334,
          5.837343083333333,
          5.835367333333333,
          5.843006541666666,
          5.849339458333333,
          5.848556541666666,
          5.839490583333332,
          5.838286333333333,
          5.8453769583333335,
          5.845325208333334,
          5.841207541666667,
          5.8453217083333335,
          5.851961916666666,
          5.856532666666666,
          5.861560208333334,
          5.859732166666666,
          5.856794125,
          5.844402124999999,
          5.820704416666666,
          5.804855333333332,
          5.790921125,
          5.784157333333334,
          5.782451750000001,
          5.772036250000001,
          5.765548708333333,
          5.770167083333333,
          5.7771875,
          5.782082166666666,
          5.7885989166666665,
          5.807218541666666,
          5.838838583333333,
          5.8634864166666665,
          5.880719666666667,
          5.893976208333332,
          5.90058875,
          5.905162333333332,
          5.907993791666666,
          5.911144749999999,
          5.912534458333333,
          5.911835916666667,
          5.915085041666667,
          5.918853375,
          5.924271916666666,
          5.934643875,
          5.942667708333333,
          5.94744425,
          5.964464416666667,
          5.984111499999999,
          5.999246125,
          6.014453791666666,
          6.024883458333334,
          6.046378375000001,
          6.069361625,
          6.070394458333333,
          6.069805416666666,
          6.075874166666665,
          6.086189166666665,
          6.099614999999999,
          6.0995325,
          6.098480625,
          6.098710666666667,
          6.090008666666667,
          6.08445825,
          6.076628874999999,
          6.063690874999999,
          6.069854958333332,
          6.076413749999999,
          6.067744125,
          6.056485208333333,
          6.043643333333335,
          6.038717708333333,
          6.045335458333333,
          6.056335416666666,
          6.066944958333334,
          6.077463708333333,
          6.088029333333333,
          6.102809166666666,
          6.127689999999999,
          6.157560583333333,
          6.188590666666666,
          6.2238560000000005,
          6.256405291666666,
          6.276962916666665,
          6.295827374999998,
          6.318603333333333,
          6.338725499999999,
          6.358293708333333,
          6.375031375,
          6.394597166666666,
          6.414067083333333,
          6.435277666666666,
          6.466573833333333,
          6.496193791666667,
          6.5274794583333335,
          6.564462833333333,
          6.582120375000001,
          6.580228625000001,
          6.586005000000001,
          6.593742541666666,
          6.605148541666666,
          6.619417624999999,
          6.623310125,
          6.623545333333333,
          6.6190204999999995,
          6.609513791666665,
          6.600710374999999,
          6.5921885416666655,
          6.594145750000001,
          6.614819875,
          6.642216708333333,
          6.667494208333333,
          6.692474125,
          6.718914416666666,
          6.747329416666666,
          6.770626208333333,
          6.791412291666667,
          6.8129884999999994,
          6.835957166666666,
          6.860096874999999,
          6.890657916666665,
          6.932599124999999,
          6.972671833333333,
          7.011312083333333,
          7.051837541666667,
          7.090512291666666,
          7.129585208333332,
          7.176818458333333,
          7.225306499999999,
          7.2802657916666655,
          7.335730041666665,
          7.374794124999999,
          7.403762333333332,
          7.424212333333332,
          7.4326237499999985,
          7.428452416666667,
          7.423528083333332,
          7.426700208333334,
          7.4314938333333345,
          7.426269458333334,
          7.409302916666668,
          7.378259916666668,
          7.337747166666667,
          7.315062708333334,
          7.2934323333333335,
          7.249263958333334,
          7.208521833333333,
          7.183536749999999,
          7.157405333333331,
          7.121786208333332,
          7.083348916666666,
          7.0530150833333325,
          7.038686583333333,
          7.031786416666666,
          7.031172583333333,
          7.031172833333334,
          7.039342583333333,
          7.062373249999999,
          7.088747958333332,
          7.120026791666666,
          7.148567166666666,
          7.173419875,
          7.2023150833333345,
          7.237459083333333,
          7.27835175,
          7.321950458333333,
          7.36285775,
          7.4007545,
          7.444223,
          7.492788208333333,
          7.543390458333333,
          7.592999833333333,
          7.645481875,
          7.7115445,
          7.780095249999999,
          7.840220583333333,
          7.895294458333333,
          7.952696958333332,
          8.016273291666666,
          8.068956041666667,
          8.104021333333334,
          8.149261708333334,
          8.207926416666666,
          8.255956708333333,
          8.293138291666667,
          8.325911,
          8.359191583333333,
          8.393479833333334,
          8.421520083333332,
          8.4453325,
          8.467574166666665,
          8.496437874999998,
          8.521207125,
          8.504849625,
          8.433737875,
          8.35591325,
          8.305096916666667,
          8.250767375,
          8.1880955,
          8.121254875,
          8.05890875,
          8.006299666666667,
          7.956983,
          7.8820028749999995,
          7.823720291666666,
          7.828163624999999,
          7.875955416666666,
          7.936440791666666,
          7.972894458333332,
          8.005391916666666,
          8.038787208333332,
          8.078996833333333,
          8.12466375,
          8.168501166666667,
          8.203662083333333,
          8.253027625,
          8.303778291666665,
          8.328948833333332,
          8.354602166666666,
          8.384829250000001,
          8.418779625,
          8.452230708333332,
          8.488919749999999,
          8.52564325,
          8.553194375,
          null,
          null,
          null,
          null,
          null,
          null
         ],
         "yaxis": "y"
        }
       ],
       "layout": {
        "legend": {
         "tracegroupgap": 0
        },
        "template": {
         "data": {
          "bar": [
           {
            "error_x": {
             "color": "#2a3f5f"
            },
            "error_y": {
             "color": "#2a3f5f"
            },
            "marker": {
             "line": {
              "color": "#E5ECF6",
              "width": 0.5
             },
             "pattern": {
              "fillmode": "overlay",
              "size": 10,
              "solidity": 0.2
             }
            },
            "type": "bar"
           }
          ],
          "barpolar": [
           {
            "marker": {
             "line": {
              "color": "#E5ECF6",
              "width": 0.5
             },
             "pattern": {
              "fillmode": "overlay",
              "size": 10,
              "solidity": 0.2
             }
            },
            "type": "barpolar"
           }
          ],
          "carpet": [
           {
            "aaxis": {
             "endlinecolor": "#2a3f5f",
             "gridcolor": "white",
             "linecolor": "white",
             "minorgridcolor": "white",
             "startlinecolor": "#2a3f5f"
            },
            "baxis": {
             "endlinecolor": "#2a3f5f",
             "gridcolor": "white",
             "linecolor": "white",
             "minorgridcolor": "white",
             "startlinecolor": "#2a3f5f"
            },
            "type": "carpet"
           }
          ],
          "choropleth": [
           {
            "colorbar": {
             "outlinewidth": 0,
             "ticks": ""
            },
            "type": "choropleth"
           }
          ],
          "contour": [
           {
            "colorbar": {
             "outlinewidth": 0,
             "ticks": ""
            },
            "colorscale": [
             [
              0,
              "#0d0887"
             ],
             [
              0.1111111111111111,
              "#46039f"
             ],
             [
              0.2222222222222222,
              "#7201a8"
             ],
             [
              0.3333333333333333,
              "#9c179e"
             ],
             [
              0.4444444444444444,
              "#bd3786"
             ],
             [
              0.5555555555555556,
              "#d8576b"
             ],
             [
              0.6666666666666666,
              "#ed7953"
             ],
             [
              0.7777777777777778,
              "#fb9f3a"
             ],
             [
              0.8888888888888888,
              "#fdca26"
             ],
             [
              1,
              "#f0f921"
             ]
            ],
            "type": "contour"
           }
          ],
          "contourcarpet": [
           {
            "colorbar": {
             "outlinewidth": 0,
             "ticks": ""
            },
            "type": "contourcarpet"
           }
          ],
          "heatmap": [
           {
            "colorbar": {
             "outlinewidth": 0,
             "ticks": ""
            },
            "colorscale": [
             [
              0,
              "#0d0887"
             ],
             [
              0.1111111111111111,
              "#46039f"
             ],
             [
              0.2222222222222222,
              "#7201a8"
             ],
             [
              0.3333333333333333,
              "#9c179e"
             ],
             [
              0.4444444444444444,
              "#bd3786"
             ],
             [
              0.5555555555555556,
              "#d8576b"
             ],
             [
              0.6666666666666666,
              "#ed7953"
             ],
             [
              0.7777777777777778,
              "#fb9f3a"
             ],
             [
              0.8888888888888888,
              "#fdca26"
             ],
             [
              1,
              "#f0f921"
             ]
            ],
            "type": "heatmap"
           }
          ],
          "heatmapgl": [
           {
            "colorbar": {
             "outlinewidth": 0,
             "ticks": ""
            },
            "colorscale": [
             [
              0,
              "#0d0887"
             ],
             [
              0.1111111111111111,
              "#46039f"
             ],
             [
              0.2222222222222222,
              "#7201a8"
             ],
             [
              0.3333333333333333,
              "#9c179e"
             ],
             [
              0.4444444444444444,
              "#bd3786"
             ],
             [
              0.5555555555555556,
              "#d8576b"
             ],
             [
              0.6666666666666666,
              "#ed7953"
             ],
             [
              0.7777777777777778,
              "#fb9f3a"
             ],
             [
              0.8888888888888888,
              "#fdca26"
             ],
             [
              1,
              "#f0f921"
             ]
            ],
            "type": "heatmapgl"
           }
          ],
          "histogram": [
           {
            "marker": {
             "pattern": {
              "fillmode": "overlay",
              "size": 10,
              "solidity": 0.2
             }
            },
            "type": "histogram"
           }
          ],
          "histogram2d": [
           {
            "colorbar": {
             "outlinewidth": 0,
             "ticks": ""
            },
            "colorscale": [
             [
              0,
              "#0d0887"
             ],
             [
              0.1111111111111111,
              "#46039f"
             ],
             [
              0.2222222222222222,
              "#7201a8"
             ],
             [
              0.3333333333333333,
              "#9c179e"
             ],
             [
              0.4444444444444444,
              "#bd3786"
             ],
             [
              0.5555555555555556,
              "#d8576b"
             ],
             [
              0.6666666666666666,
              "#ed7953"
             ],
             [
              0.7777777777777778,
              "#fb9f3a"
             ],
             [
              0.8888888888888888,
              "#fdca26"
             ],
             [
              1,
              "#f0f921"
             ]
            ],
            "type": "histogram2d"
           }
          ],
          "histogram2dcontour": [
           {
            "colorbar": {
             "outlinewidth": 0,
             "ticks": ""
            },
            "colorscale": [
             [
              0,
              "#0d0887"
             ],
             [
              0.1111111111111111,
              "#46039f"
             ],
             [
              0.2222222222222222,
              "#7201a8"
             ],
             [
              0.3333333333333333,
              "#9c179e"
             ],
             [
              0.4444444444444444,
              "#bd3786"
             ],
             [
              0.5555555555555556,
              "#d8576b"
             ],
             [
              0.6666666666666666,
              "#ed7953"
             ],
             [
              0.7777777777777778,
              "#fb9f3a"
             ],
             [
              0.8888888888888888,
              "#fdca26"
             ],
             [
              1,
              "#f0f921"
             ]
            ],
            "type": "histogram2dcontour"
           }
          ],
          "mesh3d": [
           {
            "colorbar": {
             "outlinewidth": 0,
             "ticks": ""
            },
            "type": "mesh3d"
           }
          ],
          "parcoords": [
           {
            "line": {
             "colorbar": {
              "outlinewidth": 0,
              "ticks": ""
             }
            },
            "type": "parcoords"
           }
          ],
          "pie": [
           {
            "automargin": true,
            "type": "pie"
           }
          ],
          "scatter": [
           {
            "fillpattern": {
             "fillmode": "overlay",
             "size": 10,
             "solidity": 0.2
            },
            "type": "scatter"
           }
          ],
          "scatter3d": [
           {
            "line": {
             "colorbar": {
              "outlinewidth": 0,
              "ticks": ""
             }
            },
            "marker": {
             "colorbar": {
              "outlinewidth": 0,
              "ticks": ""
             }
            },
            "type": "scatter3d"
           }
          ],
          "scattercarpet": [
           {
            "marker": {
             "colorbar": {
              "outlinewidth": 0,
              "ticks": ""
             }
            },
            "type": "scattercarpet"
           }
          ],
          "scattergeo": [
           {
            "marker": {
             "colorbar": {
              "outlinewidth": 0,
              "ticks": ""
             }
            },
            "type": "scattergeo"
           }
          ],
          "scattergl": [
           {
            "marker": {
             "colorbar": {
              "outlinewidth": 0,
              "ticks": ""
             }
            },
            "type": "scattergl"
           }
          ],
          "scattermapbox": [
           {
            "marker": {
             "colorbar": {
              "outlinewidth": 0,
              "ticks": ""
             }
            },
            "type": "scattermapbox"
           }
          ],
          "scatterpolar": [
           {
            "marker": {
             "colorbar": {
              "outlinewidth": 0,
              "ticks": ""
             }
            },
            "type": "scatterpolar"
           }
          ],
          "scatterpolargl": [
           {
            "marker": {
             "colorbar": {
              "outlinewidth": 0,
              "ticks": ""
             }
            },
            "type": "scatterpolargl"
           }
          ],
          "scatterternary": [
           {
            "marker": {
             "colorbar": {
              "outlinewidth": 0,
              "ticks": ""
             }
            },
            "type": "scatterternary"
           }
          ],
          "surface": [
           {
            "colorbar": {
             "outlinewidth": 0,
             "ticks": ""
            },
            "colorscale": [
             [
              0,
              "#0d0887"
             ],
             [
              0.1111111111111111,
              "#46039f"
             ],
             [
              0.2222222222222222,
              "#7201a8"
             ],
             [
              0.3333333333333333,
              "#9c179e"
             ],
             [
              0.4444444444444444,
              "#bd3786"
             ],
             [
              0.5555555555555556,
              "#d8576b"
             ],
             [
              0.6666666666666666,
              "#ed7953"
             ],
             [
              0.7777777777777778,
              "#fb9f3a"
             ],
             [
              0.8888888888888888,
              "#fdca26"
             ],
             [
              1,
              "#f0f921"
             ]
            ],
            "type": "surface"
           }
          ],
          "table": [
           {
            "cells": {
             "fill": {
              "color": "#EBF0F8"
             },
             "line": {
              "color": "white"
             }
            },
            "header": {
             "fill": {
              "color": "#C8D4E3"
             },
             "line": {
              "color": "white"
             }
            },
            "type": "table"
           }
          ]
         },
         "layout": {
          "annotationdefaults": {
           "arrowcolor": "#2a3f5f",
           "arrowhead": 0,
           "arrowwidth": 1
          },
          "autotypenumbers": "strict",
          "coloraxis": {
           "colorbar": {
            "outlinewidth": 0,
            "ticks": ""
           }
          },
          "colorscale": {
           "diverging": [
            [
             0,
             "#8e0152"
            ],
            [
             0.1,
             "#c51b7d"
            ],
            [
             0.2,
             "#de77ae"
            ],
            [
             0.3,
             "#f1b6da"
            ],
            [
             0.4,
             "#fde0ef"
            ],
            [
             0.5,
             "#f7f7f7"
            ],
            [
             0.6,
             "#e6f5d0"
            ],
            [
             0.7,
             "#b8e186"
            ],
            [
             0.8,
             "#7fbc41"
            ],
            [
             0.9,
             "#4d9221"
            ],
            [
             1,
             "#276419"
            ]
           ],
           "sequential": [
            [
             0,
             "#0d0887"
            ],
            [
             0.1111111111111111,
             "#46039f"
            ],
            [
             0.2222222222222222,
             "#7201a8"
            ],
            [
             0.3333333333333333,
             "#9c179e"
            ],
            [
             0.4444444444444444,
             "#bd3786"
            ],
            [
             0.5555555555555556,
             "#d8576b"
            ],
            [
             0.6666666666666666,
             "#ed7953"
            ],
            [
             0.7777777777777778,
             "#fb9f3a"
            ],
            [
             0.8888888888888888,
             "#fdca26"
            ],
            [
             1,
             "#f0f921"
            ]
           ],
           "sequentialminus": [
            [
             0,
             "#0d0887"
            ],
            [
             0.1111111111111111,
             "#46039f"
            ],
            [
             0.2222222222222222,
             "#7201a8"
            ],
            [
             0.3333333333333333,
             "#9c179e"
            ],
            [
             0.4444444444444444,
             "#bd3786"
            ],
            [
             0.5555555555555556,
             "#d8576b"
            ],
            [
             0.6666666666666666,
             "#ed7953"
            ],
            [
             0.7777777777777778,
             "#fb9f3a"
            ],
            [
             0.8888888888888888,
             "#fdca26"
            ],
            [
             1,
             "#f0f921"
            ]
           ]
          },
          "colorway": [
           "#636efa",
           "#EF553B",
           "#00cc96",
           "#ab63fa",
           "#FFA15A",
           "#19d3f3",
           "#FF6692",
           "#B6E880",
           "#FF97FF",
           "#FECB52"
          ],
          "font": {
           "color": "#2a3f5f"
          },
          "geo": {
           "bgcolor": "white",
           "lakecolor": "white",
           "landcolor": "#E5ECF6",
           "showlakes": true,
           "showland": true,
           "subunitcolor": "white"
          },
          "hoverlabel": {
           "align": "left"
          },
          "hovermode": "closest",
          "mapbox": {
           "style": "light"
          },
          "paper_bgcolor": "white",
          "plot_bgcolor": "#E5ECF6",
          "polar": {
           "angularaxis": {
            "gridcolor": "white",
            "linecolor": "white",
            "ticks": ""
           },
           "bgcolor": "#E5ECF6",
           "radialaxis": {
            "gridcolor": "white",
            "linecolor": "white",
            "ticks": ""
           }
          },
          "scene": {
           "xaxis": {
            "backgroundcolor": "#E5ECF6",
            "gridcolor": "white",
            "gridwidth": 2,
            "linecolor": "white",
            "showbackground": true,
            "ticks": "",
            "zerolinecolor": "white"
           },
           "yaxis": {
            "backgroundcolor": "#E5ECF6",
            "gridcolor": "white",
            "gridwidth": 2,
            "linecolor": "white",
            "showbackground": true,
            "ticks": "",
            "zerolinecolor": "white"
           },
           "zaxis": {
            "backgroundcolor": "#E5ECF6",
            "gridcolor": "white",
            "gridwidth": 2,
            "linecolor": "white",
            "showbackground": true,
            "ticks": "",
            "zerolinecolor": "white"
           }
          },
          "shapedefaults": {
           "line": {
            "color": "#2a3f5f"
           }
          },
          "ternary": {
           "aaxis": {
            "gridcolor": "white",
            "linecolor": "white",
            "ticks": ""
           },
           "baxis": {
            "gridcolor": "white",
            "linecolor": "white",
            "ticks": ""
           },
           "bgcolor": "#E5ECF6",
           "caxis": {
            "gridcolor": "white",
            "linecolor": "white",
            "ticks": ""
           }
          },
          "title": {
           "x": 0.05
          },
          "xaxis": {
           "automargin": true,
           "gridcolor": "white",
           "linecolor": "white",
           "ticks": "",
           "title": {
            "standoff": 15
           },
           "zerolinecolor": "white",
           "zerolinewidth": 2
          },
          "yaxis": {
           "automargin": true,
           "gridcolor": "white",
           "linecolor": "white",
           "ticks": "",
           "title": {
            "standoff": 15
           },
           "zerolinecolor": "white",
           "zerolinewidth": 2
          }
         }
        },
        "title": {
         "text": "Trend"
        },
        "width": 1500,
        "xaxis": {
         "anchor": "y",
         "domain": [
          0,
          1
         ],
         "title": {
          "text": "x"
         }
        },
        "yaxis": {
         "anchor": "x",
         "domain": [
          0,
          1
         ],
         "title": {
          "text": "y"
         }
        }
       }
      }
     },
     "metadata": {},
     "output_type": "display_data"
    }
   ],
   "source": [
    "fig_2 = px.line(y=results.trend, x=results.trend.index, title='Trend',width=1500)\n",
    "fig_2.show()"
   ]
  },
  {
   "cell_type": "code",
   "execution_count": 127,
   "metadata": {},
   "outputs": [
    {
     "data": {
      "application/vnd.plotly.v1+json": {
       "config": {
        "plotlyServerURL": "https://plot.ly"
       },
       "data": [
        {
         "hovertemplate": "x=%{x}<br>y=%{y}<extra></extra>",
         "legendgroup": "",
         "line": {
          "color": "#636efa",
          "dash": "solid"
         },
         "marker": {
          "symbol": "circle"
         },
         "mode": "lines",
         "name": "",
         "orientation": "v",
         "showlegend": false,
         "type": "scatter",
         "x": [
          "1973-01-31T00:00:00",
          "1973-02-28T00:00:00",
          "1973-03-31T00:00:00",
          "1973-04-30T00:00:00",
          "1973-05-31T00:00:00",
          "1973-06-30T00:00:00",
          "1973-07-31T00:00:00",
          "1973-08-31T00:00:00",
          "1973-09-30T00:00:00",
          "1973-10-31T00:00:00",
          "1973-11-30T00:00:00",
          "1973-12-31T00:00:00",
          "1974-01-31T00:00:00",
          "1974-02-28T00:00:00",
          "1974-03-31T00:00:00",
          "1974-04-30T00:00:00",
          "1974-05-31T00:00:00",
          "1974-06-30T00:00:00",
          "1974-07-31T00:00:00",
          "1974-08-31T00:00:00",
          "1974-09-30T00:00:00",
          "1974-10-31T00:00:00",
          "1974-11-30T00:00:00",
          "1974-12-31T00:00:00",
          "1975-01-31T00:00:00",
          "1975-02-28T00:00:00",
          "1975-03-31T00:00:00",
          "1975-04-30T00:00:00",
          "1975-05-31T00:00:00",
          "1975-06-30T00:00:00",
          "1975-07-31T00:00:00",
          "1975-08-31T00:00:00",
          "1975-09-30T00:00:00",
          "1975-10-31T00:00:00",
          "1975-11-30T00:00:00",
          "1975-12-31T00:00:00",
          "1976-01-31T00:00:00",
          "1976-02-29T00:00:00",
          "1976-03-31T00:00:00",
          "1976-04-30T00:00:00",
          "1976-05-31T00:00:00",
          "1976-06-30T00:00:00",
          "1976-07-31T00:00:00",
          "1976-08-31T00:00:00",
          "1976-09-30T00:00:00",
          "1976-10-31T00:00:00",
          "1976-11-30T00:00:00",
          "1976-12-31T00:00:00",
          "1977-01-31T00:00:00",
          "1977-02-28T00:00:00",
          "1977-03-31T00:00:00",
          "1977-04-30T00:00:00",
          "1977-05-31T00:00:00",
          "1977-06-30T00:00:00",
          "1977-07-31T00:00:00",
          "1977-08-31T00:00:00",
          "1977-09-30T00:00:00",
          "1977-10-31T00:00:00",
          "1977-11-30T00:00:00",
          "1977-12-31T00:00:00",
          "1978-01-31T00:00:00",
          "1978-02-28T00:00:00",
          "1978-03-31T00:00:00",
          "1978-04-30T00:00:00",
          "1978-05-31T00:00:00",
          "1978-06-30T00:00:00",
          "1978-07-31T00:00:00",
          "1978-08-31T00:00:00",
          "1978-09-30T00:00:00",
          "1978-10-31T00:00:00",
          "1978-11-30T00:00:00",
          "1978-12-31T00:00:00",
          "1979-01-31T00:00:00",
          "1979-02-28T00:00:00",
          "1979-03-31T00:00:00",
          "1979-04-30T00:00:00",
          "1979-05-31T00:00:00",
          "1979-06-30T00:00:00",
          "1979-07-31T00:00:00",
          "1979-08-31T00:00:00",
          "1979-09-30T00:00:00",
          "1979-10-31T00:00:00",
          "1979-11-30T00:00:00",
          "1979-12-31T00:00:00",
          "1980-01-31T00:00:00",
          "1980-02-29T00:00:00",
          "1980-03-31T00:00:00",
          "1980-04-30T00:00:00",
          "1980-05-31T00:00:00",
          "1980-06-30T00:00:00",
          "1980-07-31T00:00:00",
          "1980-08-31T00:00:00",
          "1980-09-30T00:00:00",
          "1980-10-31T00:00:00",
          "1980-11-30T00:00:00",
          "1980-12-31T00:00:00",
          "1981-01-31T00:00:00",
          "1981-02-28T00:00:00",
          "1981-03-31T00:00:00",
          "1981-04-30T00:00:00",
          "1981-05-31T00:00:00",
          "1981-06-30T00:00:00",
          "1981-07-31T00:00:00",
          "1981-08-31T00:00:00",
          "1981-09-30T00:00:00",
          "1981-10-31T00:00:00",
          "1981-11-30T00:00:00",
          "1981-12-31T00:00:00",
          "1982-01-31T00:00:00",
          "1982-02-28T00:00:00",
          "1982-03-31T00:00:00",
          "1982-04-30T00:00:00",
          "1982-05-31T00:00:00",
          "1982-06-30T00:00:00",
          "1982-07-31T00:00:00",
          "1982-08-31T00:00:00",
          "1982-09-30T00:00:00",
          "1982-10-31T00:00:00",
          "1982-11-30T00:00:00",
          "1982-12-31T00:00:00",
          "1983-01-31T00:00:00",
          "1983-02-28T00:00:00",
          "1983-03-31T00:00:00",
          "1983-04-30T00:00:00",
          "1983-05-31T00:00:00",
          "1983-06-30T00:00:00",
          "1983-07-31T00:00:00",
          "1983-08-31T00:00:00",
          "1983-09-30T00:00:00",
          "1983-10-31T00:00:00",
          "1983-11-30T00:00:00",
          "1983-12-31T00:00:00",
          "1984-01-31T00:00:00",
          "1984-02-29T00:00:00",
          "1984-03-31T00:00:00",
          "1984-04-30T00:00:00",
          "1984-05-31T00:00:00",
          "1984-06-30T00:00:00",
          "1984-07-31T00:00:00",
          "1984-08-31T00:00:00",
          "1984-09-30T00:00:00",
          "1984-10-31T00:00:00",
          "1984-11-30T00:00:00",
          "1984-12-31T00:00:00",
          "1985-01-31T00:00:00",
          "1985-02-28T00:00:00",
          "1985-03-31T00:00:00",
          "1985-04-30T00:00:00",
          "1985-05-31T00:00:00",
          "1985-06-30T00:00:00",
          "1985-07-31T00:00:00",
          "1985-08-31T00:00:00",
          "1985-09-30T00:00:00",
          "1985-10-31T00:00:00",
          "1985-11-30T00:00:00",
          "1985-12-31T00:00:00",
          "1986-01-31T00:00:00",
          "1986-02-28T00:00:00",
          "1986-03-31T00:00:00",
          "1986-04-30T00:00:00",
          "1986-05-31T00:00:00",
          "1986-06-30T00:00:00",
          "1986-07-31T00:00:00",
          "1986-08-31T00:00:00",
          "1986-09-30T00:00:00",
          "1986-10-31T00:00:00",
          "1986-11-30T00:00:00",
          "1986-12-31T00:00:00",
          "1987-01-31T00:00:00",
          "1987-02-28T00:00:00",
          "1987-03-31T00:00:00",
          "1987-04-30T00:00:00",
          "1987-05-31T00:00:00",
          "1987-06-30T00:00:00",
          "1987-07-31T00:00:00",
          "1987-08-31T00:00:00",
          "1987-09-30T00:00:00",
          "1987-10-31T00:00:00",
          "1987-11-30T00:00:00",
          "1987-12-31T00:00:00",
          "1988-01-31T00:00:00",
          "1988-02-29T00:00:00",
          "1988-03-31T00:00:00",
          "1988-04-30T00:00:00",
          "1988-05-31T00:00:00",
          "1988-06-30T00:00:00",
          "1988-07-31T00:00:00",
          "1988-08-31T00:00:00",
          "1988-09-30T00:00:00",
          "1988-10-31T00:00:00",
          "1988-11-30T00:00:00",
          "1988-12-31T00:00:00",
          "1989-01-31T00:00:00",
          "1989-02-28T00:00:00",
          "1989-03-31T00:00:00",
          "1989-04-30T00:00:00",
          "1989-05-31T00:00:00",
          "1989-06-30T00:00:00",
          "1989-07-31T00:00:00",
          "1989-08-31T00:00:00",
          "1989-09-30T00:00:00",
          "1989-10-31T00:00:00",
          "1989-11-30T00:00:00",
          "1989-12-31T00:00:00",
          "1990-01-31T00:00:00",
          "1990-02-28T00:00:00",
          "1990-03-31T00:00:00",
          "1990-04-30T00:00:00",
          "1990-05-31T00:00:00",
          "1990-06-30T00:00:00",
          "1990-07-31T00:00:00",
          "1990-08-31T00:00:00",
          "1990-09-30T00:00:00",
          "1990-10-31T00:00:00",
          "1990-11-30T00:00:00",
          "1990-12-31T00:00:00",
          "1991-01-31T00:00:00",
          "1991-02-28T00:00:00",
          "1991-03-31T00:00:00",
          "1991-04-30T00:00:00",
          "1991-05-31T00:00:00",
          "1991-06-30T00:00:00",
          "1991-07-31T00:00:00",
          "1991-08-31T00:00:00",
          "1991-09-30T00:00:00",
          "1991-10-31T00:00:00",
          "1991-11-30T00:00:00",
          "1991-12-31T00:00:00",
          "1992-01-31T00:00:00",
          "1992-02-29T00:00:00",
          "1992-03-31T00:00:00",
          "1992-04-30T00:00:00",
          "1992-05-31T00:00:00",
          "1992-06-30T00:00:00",
          "1992-07-31T00:00:00",
          "1992-08-31T00:00:00",
          "1992-09-30T00:00:00",
          "1992-10-31T00:00:00",
          "1992-11-30T00:00:00",
          "1992-12-31T00:00:00",
          "1993-01-31T00:00:00",
          "1993-02-28T00:00:00",
          "1993-03-31T00:00:00",
          "1993-04-30T00:00:00",
          "1993-05-31T00:00:00",
          "1993-06-30T00:00:00",
          "1993-07-31T00:00:00",
          "1993-08-31T00:00:00",
          "1993-09-30T00:00:00",
          "1993-10-31T00:00:00",
          "1993-11-30T00:00:00",
          "1993-12-31T00:00:00",
          "1994-01-31T00:00:00",
          "1994-02-28T00:00:00",
          "1994-03-31T00:00:00",
          "1994-04-30T00:00:00",
          "1994-05-31T00:00:00",
          "1994-06-30T00:00:00",
          "1994-07-31T00:00:00",
          "1994-08-31T00:00:00",
          "1994-09-30T00:00:00",
          "1994-10-31T00:00:00",
          "1994-11-30T00:00:00",
          "1994-12-31T00:00:00",
          "1995-01-31T00:00:00",
          "1995-02-28T00:00:00",
          "1995-03-31T00:00:00",
          "1995-04-30T00:00:00",
          "1995-05-31T00:00:00",
          "1995-06-30T00:00:00",
          "1995-07-31T00:00:00",
          "1995-08-31T00:00:00",
          "1995-09-30T00:00:00",
          "1995-10-31T00:00:00",
          "1995-11-30T00:00:00",
          "1995-12-31T00:00:00",
          "1996-01-31T00:00:00",
          "1996-02-29T00:00:00",
          "1996-03-31T00:00:00",
          "1996-04-30T00:00:00",
          "1996-05-31T00:00:00",
          "1996-06-30T00:00:00",
          "1996-07-31T00:00:00",
          "1996-08-31T00:00:00",
          "1996-09-30T00:00:00",
          "1996-10-31T00:00:00",
          "1996-11-30T00:00:00",
          "1996-12-31T00:00:00",
          "1997-01-31T00:00:00",
          "1997-02-28T00:00:00",
          "1997-03-31T00:00:00",
          "1997-04-30T00:00:00",
          "1997-05-31T00:00:00",
          "1997-06-30T00:00:00",
          "1997-07-31T00:00:00",
          "1997-08-31T00:00:00",
          "1997-09-30T00:00:00",
          "1997-10-31T00:00:00",
          "1997-11-30T00:00:00",
          "1997-12-31T00:00:00",
          "1998-01-31T00:00:00",
          "1998-02-28T00:00:00",
          "1998-03-31T00:00:00",
          "1998-04-30T00:00:00",
          "1998-05-31T00:00:00",
          "1998-06-30T00:00:00",
          "1998-07-31T00:00:00",
          "1998-08-31T00:00:00",
          "1998-09-30T00:00:00",
          "1998-10-31T00:00:00",
          "1998-11-30T00:00:00",
          "1998-12-31T00:00:00",
          "1999-01-31T00:00:00",
          "1999-02-28T00:00:00",
          "1999-03-31T00:00:00",
          "1999-04-30T00:00:00",
          "1999-05-31T00:00:00",
          "1999-06-30T00:00:00",
          "1999-07-31T00:00:00",
          "1999-08-31T00:00:00",
          "1999-09-30T00:00:00",
          "1999-10-31T00:00:00",
          "1999-11-30T00:00:00",
          "1999-12-31T00:00:00",
          "2000-01-31T00:00:00",
          "2000-02-29T00:00:00",
          "2000-03-31T00:00:00",
          "2000-04-30T00:00:00",
          "2000-05-31T00:00:00",
          "2000-06-30T00:00:00",
          "2000-07-31T00:00:00",
          "2000-08-31T00:00:00",
          "2000-09-30T00:00:00",
          "2000-10-31T00:00:00",
          "2000-11-30T00:00:00",
          "2000-12-31T00:00:00",
          "2001-01-31T00:00:00",
          "2001-02-28T00:00:00",
          "2001-03-31T00:00:00",
          "2001-04-30T00:00:00",
          "2001-05-31T00:00:00",
          "2001-06-30T00:00:00",
          "2001-07-31T00:00:00",
          "2001-08-31T00:00:00",
          "2001-09-30T00:00:00",
          "2001-10-31T00:00:00",
          "2001-11-30T00:00:00",
          "2001-12-31T00:00:00",
          "2002-01-31T00:00:00",
          "2002-02-28T00:00:00",
          "2002-03-31T00:00:00",
          "2002-04-30T00:00:00",
          "2002-05-31T00:00:00",
          "2002-06-30T00:00:00",
          "2002-07-31T00:00:00",
          "2002-08-31T00:00:00",
          "2002-09-30T00:00:00",
          "2002-10-31T00:00:00",
          "2002-11-30T00:00:00",
          "2002-12-31T00:00:00",
          "2003-01-31T00:00:00",
          "2003-02-28T00:00:00",
          "2003-03-31T00:00:00",
          "2003-04-30T00:00:00",
          "2003-05-31T00:00:00",
          "2003-06-30T00:00:00",
          "2003-07-31T00:00:00",
          "2003-08-31T00:00:00",
          "2003-09-30T00:00:00",
          "2003-10-31T00:00:00",
          "2003-11-30T00:00:00",
          "2003-12-31T00:00:00",
          "2004-01-31T00:00:00",
          "2004-02-29T00:00:00",
          "2004-03-31T00:00:00",
          "2004-04-30T00:00:00",
          "2004-05-31T00:00:00",
          "2004-06-30T00:00:00",
          "2004-07-31T00:00:00",
          "2004-08-31T00:00:00",
          "2004-09-30T00:00:00",
          "2004-10-31T00:00:00",
          "2004-11-30T00:00:00",
          "2004-12-31T00:00:00",
          "2005-01-31T00:00:00",
          "2005-02-28T00:00:00",
          "2005-03-31T00:00:00",
          "2005-04-30T00:00:00",
          "2005-05-31T00:00:00",
          "2005-06-30T00:00:00",
          "2005-07-31T00:00:00",
          "2005-08-31T00:00:00",
          "2005-09-30T00:00:00",
          "2005-10-31T00:00:00",
          "2005-11-30T00:00:00",
          "2005-12-31T00:00:00",
          "2006-01-31T00:00:00",
          "2006-02-28T00:00:00",
          "2006-03-31T00:00:00",
          "2006-04-30T00:00:00",
          "2006-05-31T00:00:00",
          "2006-06-30T00:00:00",
          "2006-07-31T00:00:00",
          "2006-08-31T00:00:00",
          "2006-09-30T00:00:00",
          "2006-10-31T00:00:00",
          "2006-11-30T00:00:00",
          "2006-12-31T00:00:00",
          "2007-01-31T00:00:00",
          "2007-02-28T00:00:00",
          "2007-03-31T00:00:00",
          "2007-04-30T00:00:00",
          "2007-05-31T00:00:00",
          "2007-06-30T00:00:00",
          "2007-07-31T00:00:00",
          "2007-08-31T00:00:00",
          "2007-09-30T00:00:00",
          "2007-10-31T00:00:00",
          "2007-11-30T00:00:00",
          "2007-12-31T00:00:00",
          "2008-01-31T00:00:00",
          "2008-02-29T00:00:00",
          "2008-03-31T00:00:00",
          "2008-04-30T00:00:00",
          "2008-05-31T00:00:00",
          "2008-06-30T00:00:00",
          "2008-07-31T00:00:00",
          "2008-08-31T00:00:00",
          "2008-09-30T00:00:00",
          "2008-10-31T00:00:00",
          "2008-11-30T00:00:00",
          "2008-12-31T00:00:00",
          "2009-01-31T00:00:00",
          "2009-02-28T00:00:00",
          "2009-03-31T00:00:00",
          "2009-04-30T00:00:00",
          "2009-05-31T00:00:00",
          "2009-06-30T00:00:00",
          "2009-07-31T00:00:00",
          "2009-08-31T00:00:00",
          "2009-09-30T00:00:00",
          "2009-10-31T00:00:00",
          "2009-11-30T00:00:00",
          "2009-12-31T00:00:00",
          "2010-01-31T00:00:00",
          "2010-02-28T00:00:00",
          "2010-03-31T00:00:00",
          "2010-04-30T00:00:00",
          "2010-05-31T00:00:00",
          "2010-06-30T00:00:00",
          "2010-07-31T00:00:00",
          "2010-08-31T00:00:00",
          "2010-09-30T00:00:00",
          "2010-10-31T00:00:00",
          "2010-11-30T00:00:00",
          "2010-12-31T00:00:00",
          "2011-01-31T00:00:00",
          "2011-02-28T00:00:00",
          "2011-03-31T00:00:00",
          "2011-04-30T00:00:00",
          "2011-05-31T00:00:00",
          "2011-06-30T00:00:00",
          "2011-07-31T00:00:00",
          "2011-08-31T00:00:00",
          "2011-09-30T00:00:00",
          "2011-10-31T00:00:00",
          "2011-11-30T00:00:00",
          "2011-12-31T00:00:00",
          "2012-01-31T00:00:00",
          "2012-02-29T00:00:00",
          "2012-03-31T00:00:00",
          "2012-04-30T00:00:00",
          "2012-05-31T00:00:00",
          "2012-06-30T00:00:00",
          "2012-07-31T00:00:00",
          "2012-08-31T00:00:00",
          "2012-09-30T00:00:00",
          "2012-10-31T00:00:00",
          "2012-11-30T00:00:00",
          "2012-12-31T00:00:00",
          "2013-01-31T00:00:00",
          "2013-02-28T00:00:00",
          "2013-03-31T00:00:00",
          "2013-04-30T00:00:00",
          "2013-05-31T00:00:00",
          "2013-06-30T00:00:00",
          "2013-07-31T00:00:00",
          "2013-08-31T00:00:00",
          "2013-09-30T00:00:00",
          "2013-10-31T00:00:00",
          "2013-11-30T00:00:00",
          "2013-12-31T00:00:00",
          "2014-01-31T00:00:00",
          "2014-02-28T00:00:00",
          "2014-03-31T00:00:00",
          "2014-04-30T00:00:00",
          "2014-05-31T00:00:00",
          "2014-06-30T00:00:00",
          "2014-07-31T00:00:00",
          "2014-08-31T00:00:00",
          "2014-09-30T00:00:00",
          "2014-10-31T00:00:00",
          "2014-11-30T00:00:00",
          "2014-12-31T00:00:00",
          "2015-01-31T00:00:00",
          "2015-02-28T00:00:00",
          "2015-03-31T00:00:00",
          "2015-04-30T00:00:00",
          "2015-05-31T00:00:00",
          "2015-06-30T00:00:00",
          "2015-07-31T00:00:00",
          "2015-08-31T00:00:00",
          "2015-09-30T00:00:00",
          "2015-10-31T00:00:00",
          "2015-11-30T00:00:00",
          "2015-12-31T00:00:00",
          "2016-01-31T00:00:00",
          "2016-02-29T00:00:00",
          "2016-03-31T00:00:00",
          "2016-04-30T00:00:00",
          "2016-05-31T00:00:00",
          "2016-06-30T00:00:00",
          "2016-07-31T00:00:00",
          "2016-08-31T00:00:00",
          "2016-09-30T00:00:00",
          "2016-10-31T00:00:00",
          "2016-11-30T00:00:00",
          "2016-12-31T00:00:00",
          "2017-01-31T00:00:00",
          "2017-02-28T00:00:00",
          "2017-03-31T00:00:00",
          "2017-04-30T00:00:00",
          "2017-05-31T00:00:00",
          "2017-06-30T00:00:00",
          "2017-07-31T00:00:00",
          "2017-08-31T00:00:00",
          "2017-09-30T00:00:00",
          "2017-10-31T00:00:00",
          "2017-11-30T00:00:00",
          "2017-12-31T00:00:00",
          "2018-01-31T00:00:00",
          "2018-02-28T00:00:00",
          "2018-03-31T00:00:00",
          "2018-04-30T00:00:00",
          "2018-05-31T00:00:00",
          "2018-06-30T00:00:00",
          "2018-07-31T00:00:00",
          "2018-08-31T00:00:00",
          "2018-09-30T00:00:00",
          "2018-10-31T00:00:00",
          "2018-11-30T00:00:00",
          "2018-12-31T00:00:00",
          "2019-01-31T00:00:00",
          "2019-02-28T00:00:00",
          "2019-03-31T00:00:00",
          "2019-04-30T00:00:00",
          "2019-05-31T00:00:00",
          "2019-06-30T00:00:00",
          "2019-07-31T00:00:00",
          "2019-08-31T00:00:00",
          "2019-09-30T00:00:00",
          "2019-10-31T00:00:00",
          "2019-11-30T00:00:00",
          "2019-12-31T00:00:00",
          "2020-01-31T00:00:00",
          "2020-02-29T00:00:00",
          "2020-03-31T00:00:00",
          "2020-04-30T00:00:00",
          "2020-05-31T00:00:00",
          "2020-06-30T00:00:00",
          "2020-07-31T00:00:00",
          "2020-08-31T00:00:00",
          "2020-09-30T00:00:00",
          "2020-10-31T00:00:00",
          "2020-11-30T00:00:00",
          "2020-12-31T00:00:00",
          "2021-01-31T00:00:00",
          "2021-02-28T00:00:00",
          "2021-03-31T00:00:00",
          "2021-04-30T00:00:00",
          "2021-05-31T00:00:00",
          "2021-06-30T00:00:00",
          "2021-07-31T00:00:00",
          "2021-08-31T00:00:00",
          "2021-09-30T00:00:00",
          "2021-10-31T00:00:00",
          "2021-11-30T00:00:00",
          "2021-12-31T00:00:00",
          "2022-01-31T00:00:00",
          "2022-02-28T00:00:00",
          "2022-03-31T00:00:00",
          "2022-04-30T00:00:00",
          "2022-05-31T00:00:00",
          "2022-06-30T00:00:00",
          "2022-07-31T00:00:00",
          "2022-08-31T00:00:00",
          "2022-09-30T00:00:00",
          "2022-10-31T00:00:00",
          "2022-11-30T00:00:00"
         ],
         "xaxis": "x",
         "y": [
          0.17907080545959705,
          -0.3400357608669336,
          0.19075099593578762,
          -0.1317690023635322,
          0.04394468045959713,
          -0.0639611321644109,
          0.007925179609256755,
          0.1526512340310256,
          -0.1276694870574097,
          0.05906035222830441,
          -0.07956237821387234,
          0.10959451294259019,
          0.17907080545959705,
          -0.3400357608669336,
          0.19075099593578762,
          -0.1317690023635322,
          0.04394468045959713,
          -0.0639611321644109,
          0.007925179609256755,
          0.1526512340310256,
          -0.1276694870574097,
          0.05906035222830441,
          -0.07956237821387234,
          0.10959451294259019,
          0.17907080545959705,
          -0.3400357608669336,
          0.19075099593578762,
          -0.1317690023635322,
          0.04394468045959713,
          -0.0639611321644109,
          0.007925179609256755,
          0.1526512340310256,
          -0.1276694870574097,
          0.05906035222830441,
          -0.07956237821387234,
          0.10959451294259019,
          0.17907080545959705,
          -0.3400357608669336,
          0.19075099593578762,
          -0.1317690023635322,
          0.04394468045959713,
          -0.0639611321644109,
          0.007925179609256755,
          0.1526512340310256,
          -0.1276694870574097,
          0.05906035222830441,
          -0.07956237821387234,
          0.10959451294259019,
          0.17907080545959705,
          -0.3400357608669336,
          0.19075099593578762,
          -0.1317690023635322,
          0.04394468045959713,
          -0.0639611321644109,
          0.007925179609256755,
          0.1526512340310256,
          -0.1276694870574097,
          0.05906035222830441,
          -0.07956237821387234,
          0.10959451294259019,
          0.17907080545959705,
          -0.3400357608669336,
          0.19075099593578762,
          -0.1317690023635322,
          0.04394468045959713,
          -0.0639611321644109,
          0.007925179609256755,
          0.1526512340310256,
          -0.1276694870574097,
          0.05906035222830441,
          -0.07956237821387234,
          0.10959451294259019,
          0.17907080545959705,
          -0.3400357608669336,
          0.19075099593578762,
          -0.1317690023635322,
          0.04394468045959713,
          -0.0639611321644109,
          0.007925179609256755,
          0.1526512340310256,
          -0.1276694870574097,
          0.05906035222830441,
          -0.07956237821387234,
          0.10959451294259019,
          0.17907080545959705,
          -0.3400357608669336,
          0.19075099593578762,
          -0.1317690023635322,
          0.04394468045959713,
          -0.0639611321644109,
          0.007925179609256755,
          0.1526512340310256,
          -0.1276694870574097,
          0.05906035222830441,
          -0.07956237821387234,
          0.10959451294259019,
          0.17907080545959705,
          -0.3400357608669336,
          0.19075099593578762,
          -0.1317690023635322,
          0.04394468045959713,
          -0.0639611321644109,
          0.007925179609256755,
          0.1526512340310256,
          -0.1276694870574097,
          0.05906035222830441,
          -0.07956237821387234,
          0.10959451294259019,
          0.17907080545959705,
          -0.3400357608669336,
          0.19075099593578762,
          -0.1317690023635322,
          0.04394468045959713,
          -0.0639611321644109,
          0.007925179609256755,
          0.1526512340310256,
          -0.1276694870574097,
          0.05906035222830441,
          -0.07956237821387234,
          0.10959451294259019,
          0.17907080545959705,
          -0.3400357608669336,
          0.19075099593578762,
          -0.1317690023635322,
          0.04394468045959713,
          -0.0639611321644109,
          0.007925179609256755,
          0.1526512340310256,
          -0.1276694870574097,
          0.05906035222830441,
          -0.07956237821387234,
          0.10959451294259019,
          0.17907080545959705,
          -0.3400357608669336,
          0.19075099593578762,
          -0.1317690023635322,
          0.04394468045959713,
          -0.0639611321644109,
          0.007925179609256755,
          0.1526512340310256,
          -0.1276694870574097,
          0.05906035222830441,
          -0.07956237821387234,
          0.10959451294259019,
          0.17907080545959705,
          -0.3400357608669336,
          0.19075099593578762,
          -0.1317690023635322,
          0.04394468045959713,
          -0.0639611321644109,
          0.007925179609256755,
          0.1526512340310256,
          -0.1276694870574097,
          0.05906035222830441,
          -0.07956237821387234,
          0.10959451294259019,
          0.17907080545959705,
          -0.3400357608669336,
          0.19075099593578762,
          -0.1317690023635322,
          0.04394468045959713,
          -0.0639611321644109,
          0.007925179609256755,
          0.1526512340310256,
          -0.1276694870574097,
          0.05906035222830441,
          -0.07956237821387234,
          0.10959451294259019,
          0.17907080545959705,
          -0.3400357608669336,
          0.19075099593578762,
          -0.1317690023635322,
          0.04394468045959713,
          -0.0639611321644109,
          0.007925179609256755,
          0.1526512340310256,
          -0.1276694870574097,
          0.05906035222830441,
          -0.07956237821387234,
          0.10959451294259019,
          0.17907080545959705,
          -0.3400357608669336,
          0.19075099593578762,
          -0.1317690023635322,
          0.04394468045959713,
          -0.0639611321644109,
          0.007925179609256755,
          0.1526512340310256,
          -0.1276694870574097,
          0.05906035222830441,
          -0.07956237821387234,
          0.10959451294259019,
          0.17907080545959705,
          -0.3400357608669336,
          0.19075099593578762,
          -0.1317690023635322,
          0.04394468045959713,
          -0.0639611321644109,
          0.007925179609256755,
          0.1526512340310256,
          -0.1276694870574097,
          0.05906035222830441,
          -0.07956237821387234,
          0.10959451294259019,
          0.17907080545959705,
          -0.3400357608669336,
          0.19075099593578762,
          -0.1317690023635322,
          0.04394468045959713,
          -0.0639611321644109,
          0.007925179609256755,
          0.1526512340310256,
          -0.1276694870574097,
          0.05906035222830441,
          -0.07956237821387234,
          0.10959451294259019,
          0.17907080545959705,
          -0.3400357608669336,
          0.19075099593578762,
          -0.1317690023635322,
          0.04394468045959713,
          -0.0639611321644109,
          0.007925179609256755,
          0.1526512340310256,
          -0.1276694870574097,
          0.05906035222830441,
          -0.07956237821387234,
          0.10959451294259019,
          0.17907080545959705,
          -0.3400357608669336,
          0.19075099593578762,
          -0.1317690023635322,
          0.04394468045959713,
          -0.0639611321644109,
          0.007925179609256755,
          0.1526512340310256,
          -0.1276694870574097,
          0.05906035222830441,
          -0.07956237821387234,
          0.10959451294259019,
          0.17907080545959705,
          -0.3400357608669336,
          0.19075099593578762,
          -0.1317690023635322,
          0.04394468045959713,
          -0.0639611321644109,
          0.007925179609256755,
          0.1526512340310256,
          -0.1276694870574097,
          0.05906035222830441,
          -0.07956237821387234,
          0.10959451294259019,
          0.17907080545959705,
          -0.3400357608669336,
          0.19075099593578762,
          -0.1317690023635322,
          0.04394468045959713,
          -0.0639611321644109,
          0.007925179609256755,
          0.1526512340310256,
          -0.1276694870574097,
          0.05906035222830441,
          -0.07956237821387234,
          0.10959451294259019,
          0.17907080545959705,
          -0.3400357608669336,
          0.19075099593578762,
          -0.1317690023635322,
          0.04394468045959713,
          -0.0639611321644109,
          0.007925179609256755,
          0.1526512340310256,
          -0.1276694870574097,
          0.05906035222830441,
          -0.07956237821387234,
          0.10959451294259019,
          0.17907080545959705,
          -0.3400357608669336,
          0.19075099593578762,
          -0.1317690023635322,
          0.04394468045959713,
          -0.0639611321644109,
          0.007925179609256755,
          0.1526512340310256,
          -0.1276694870574097,
          0.05906035222830441,
          -0.07956237821387234,
          0.10959451294259019,
          0.17907080545959705,
          -0.3400357608669336,
          0.19075099593578762,
          -0.1317690023635322,
          0.04394468045959713,
          -0.0639611321644109,
          0.007925179609256755,
          0.1526512340310256,
          -0.1276694870574097,
          0.05906035222830441,
          -0.07956237821387234,
          0.10959451294259019,
          0.17907080545959705,
          -0.3400357608669336,
          0.19075099593578762,
          -0.1317690023635322,
          0.04394468045959713,
          -0.0639611321644109,
          0.007925179609256755,
          0.1526512340310256,
          -0.1276694870574097,
          0.05906035222830441,
          -0.07956237821387234,
          0.10959451294259019,
          0.17907080545959705,
          -0.3400357608669336,
          0.19075099593578762,
          -0.1317690023635322,
          0.04394468045959713,
          -0.0639611321644109,
          0.007925179609256755,
          0.1526512340310256,
          -0.1276694870574097,
          0.05906035222830441,
          -0.07956237821387234,
          0.10959451294259019,
          0.17907080545959705,
          -0.3400357608669336,
          0.19075099593578762,
          -0.1317690023635322,
          0.04394468045959713,
          -0.0639611321644109,
          0.007925179609256755,
          0.1526512340310256,
          -0.1276694870574097,
          0.05906035222830441,
          -0.07956237821387234,
          0.10959451294259019,
          0.17907080545959705,
          -0.3400357608669336,
          0.19075099593578762,
          -0.1317690023635322,
          0.04394468045959713,
          -0.0639611321644109,
          0.007925179609256755,
          0.1526512340310256,
          -0.1276694870574097,
          0.05906035222830441,
          -0.07956237821387234,
          0.10959451294259019,
          0.17907080545959705,
          -0.3400357608669336,
          0.19075099593578762,
          -0.1317690023635322,
          0.04394468045959713,
          -0.0639611321644109,
          0.007925179609256755,
          0.1526512340310256,
          -0.1276694870574097,
          0.05906035222830441,
          -0.07956237821387234,
          0.10959451294259019,
          0.17907080545959705,
          -0.3400357608669336,
          0.19075099593578762,
          -0.1317690023635322,
          0.04394468045959713,
          -0.0639611321644109,
          0.007925179609256755,
          0.1526512340310256,
          -0.1276694870574097,
          0.05906035222830441,
          -0.07956237821387234,
          0.10959451294259019,
          0.17907080545959705,
          -0.3400357608669336,
          0.19075099593578762,
          -0.1317690023635322,
          0.04394468045959713,
          -0.0639611321644109,
          0.007925179609256755,
          0.1526512340310256,
          -0.1276694870574097,
          0.05906035222830441,
          -0.07956237821387234,
          0.10959451294259019,
          0.17907080545959705,
          -0.3400357608669336,
          0.19075099593578762,
          -0.1317690023635322,
          0.04394468045959713,
          -0.0639611321644109,
          0.007925179609256755,
          0.1526512340310256,
          -0.1276694870574097,
          0.05906035222830441,
          -0.07956237821387234,
          0.10959451294259019,
          0.17907080545959705,
          -0.3400357608669336,
          0.19075099593578762,
          -0.1317690023635322,
          0.04394468045959713,
          -0.0639611321644109,
          0.007925179609256755,
          0.1526512340310256,
          -0.1276694870574097,
          0.05906035222830441,
          -0.07956237821387234,
          0.10959451294259019,
          0.17907080545959705,
          -0.3400357608669336,
          0.19075099593578762,
          -0.1317690023635322,
          0.04394468045959713,
          -0.0639611321644109,
          0.007925179609256755,
          0.1526512340310256,
          -0.1276694870574097,
          0.05906035222830441,
          -0.07956237821387234,
          0.10959451294259019,
          0.17907080545959705,
          -0.3400357608669336,
          0.19075099593578762,
          -0.1317690023635322,
          0.04394468045959713,
          -0.0639611321644109,
          0.007925179609256755,
          0.1526512340310256,
          -0.1276694870574097,
          0.05906035222830441,
          -0.07956237821387234,
          0.10959451294259019,
          0.17907080545959705,
          -0.3400357608669336,
          0.19075099593578762,
          -0.1317690023635322,
          0.04394468045959713,
          -0.0639611321644109,
          0.007925179609256755,
          0.1526512340310256,
          -0.1276694870574097,
          0.05906035222830441,
          -0.07956237821387234,
          0.10959451294259019,
          0.17907080545959705,
          -0.3400357608669336,
          0.19075099593578762,
          -0.1317690023635322,
          0.04394468045959713,
          -0.0639611321644109,
          0.007925179609256755,
          0.1526512340310256,
          -0.1276694870574097,
          0.05906035222830441,
          -0.07956237821387234,
          0.10959451294259019,
          0.17907080545959705,
          -0.3400357608669336,
          0.19075099593578762,
          -0.1317690023635322,
          0.04394468045959713,
          -0.0639611321644109,
          0.007925179609256755,
          0.1526512340310256,
          -0.1276694870574097,
          0.05906035222830441,
          -0.07956237821387234,
          0.10959451294259019,
          0.17907080545959705,
          -0.3400357608669336,
          0.19075099593578762,
          -0.1317690023635322,
          0.04394468045959713,
          -0.0639611321644109,
          0.007925179609256755,
          0.1526512340310256,
          -0.1276694870574097,
          0.05906035222830441,
          -0.07956237821387234,
          0.10959451294259019,
          0.17907080545959705,
          -0.3400357608669336,
          0.19075099593578762,
          -0.1317690023635322,
          0.04394468045959713,
          -0.0639611321644109,
          0.007925179609256755,
          0.1526512340310256,
          -0.1276694870574097,
          0.05906035222830441,
          -0.07956237821387234,
          0.10959451294259019,
          0.17907080545959705,
          -0.3400357608669336,
          0.19075099593578762,
          -0.1317690023635322,
          0.04394468045959713,
          -0.0639611321644109,
          0.007925179609256755,
          0.1526512340310256,
          -0.1276694870574097,
          0.05906035222830441,
          -0.07956237821387234,
          0.10959451294259019,
          0.17907080545959705,
          -0.3400357608669336,
          0.19075099593578762,
          -0.1317690023635322,
          0.04394468045959713,
          -0.0639611321644109,
          0.007925179609256755,
          0.1526512340310256,
          -0.1276694870574097,
          0.05906035222830441,
          -0.07956237821387234,
          0.10959451294259019,
          0.17907080545959705,
          -0.3400357608669336,
          0.19075099593578762,
          -0.1317690023635322,
          0.04394468045959713,
          -0.0639611321644109,
          0.007925179609256755,
          0.1526512340310256,
          -0.1276694870574097,
          0.05906035222830441,
          -0.07956237821387234,
          0.10959451294259019,
          0.17907080545959705,
          -0.3400357608669336,
          0.19075099593578762,
          -0.1317690023635322,
          0.04394468045959713,
          -0.0639611321644109,
          0.007925179609256755,
          0.1526512340310256,
          -0.1276694870574097,
          0.05906035222830441,
          -0.07956237821387234,
          0.10959451294259019,
          0.17907080545959705,
          -0.3400357608669336,
          0.19075099593578762,
          -0.1317690023635322,
          0.04394468045959713,
          -0.0639611321644109,
          0.007925179609256755,
          0.1526512340310256,
          -0.1276694870574097,
          0.05906035222830441,
          -0.07956237821387234,
          0.10959451294259019,
          0.17907080545959705,
          -0.3400357608669336,
          0.19075099593578762,
          -0.1317690023635322,
          0.04394468045959713,
          -0.0639611321644109,
          0.007925179609256755,
          0.1526512340310256,
          -0.1276694870574097,
          0.05906035222830441,
          -0.07956237821387234,
          0.10959451294259019,
          0.17907080545959705,
          -0.3400357608669336,
          0.19075099593578762,
          -0.1317690023635322,
          0.04394468045959713,
          -0.0639611321644109,
          0.007925179609256755,
          0.1526512340310256,
          -0.1276694870574097,
          0.05906035222830441,
          -0.07956237821387234,
          0.10959451294259019,
          0.17907080545959705,
          -0.3400357608669336,
          0.19075099593578762,
          -0.1317690023635322,
          0.04394468045959713,
          -0.0639611321644109,
          0.007925179609256755,
          0.1526512340310256,
          -0.1276694870574097,
          0.05906035222830441,
          -0.07956237821387234,
          0.10959451294259019,
          0.17907080545959705,
          -0.3400357608669336,
          0.19075099593578762,
          -0.1317690023635322,
          0.04394468045959713,
          -0.0639611321644109,
          0.007925179609256755,
          0.1526512340310256,
          -0.1276694870574097,
          0.05906035222830441,
          -0.07956237821387234
         ],
         "yaxis": "y"
        }
       ],
       "layout": {
        "legend": {
         "tracegroupgap": 0
        },
        "template": {
         "data": {
          "bar": [
           {
            "error_x": {
             "color": "#2a3f5f"
            },
            "error_y": {
             "color": "#2a3f5f"
            },
            "marker": {
             "line": {
              "color": "#E5ECF6",
              "width": 0.5
             },
             "pattern": {
              "fillmode": "overlay",
              "size": 10,
              "solidity": 0.2
             }
            },
            "type": "bar"
           }
          ],
          "barpolar": [
           {
            "marker": {
             "line": {
              "color": "#E5ECF6",
              "width": 0.5
             },
             "pattern": {
              "fillmode": "overlay",
              "size": 10,
              "solidity": 0.2
             }
            },
            "type": "barpolar"
           }
          ],
          "carpet": [
           {
            "aaxis": {
             "endlinecolor": "#2a3f5f",
             "gridcolor": "white",
             "linecolor": "white",
             "minorgridcolor": "white",
             "startlinecolor": "#2a3f5f"
            },
            "baxis": {
             "endlinecolor": "#2a3f5f",
             "gridcolor": "white",
             "linecolor": "white",
             "minorgridcolor": "white",
             "startlinecolor": "#2a3f5f"
            },
            "type": "carpet"
           }
          ],
          "choropleth": [
           {
            "colorbar": {
             "outlinewidth": 0,
             "ticks": ""
            },
            "type": "choropleth"
           }
          ],
          "contour": [
           {
            "colorbar": {
             "outlinewidth": 0,
             "ticks": ""
            },
            "colorscale": [
             [
              0,
              "#0d0887"
             ],
             [
              0.1111111111111111,
              "#46039f"
             ],
             [
              0.2222222222222222,
              "#7201a8"
             ],
             [
              0.3333333333333333,
              "#9c179e"
             ],
             [
              0.4444444444444444,
              "#bd3786"
             ],
             [
              0.5555555555555556,
              "#d8576b"
             ],
             [
              0.6666666666666666,
              "#ed7953"
             ],
             [
              0.7777777777777778,
              "#fb9f3a"
             ],
             [
              0.8888888888888888,
              "#fdca26"
             ],
             [
              1,
              "#f0f921"
             ]
            ],
            "type": "contour"
           }
          ],
          "contourcarpet": [
           {
            "colorbar": {
             "outlinewidth": 0,
             "ticks": ""
            },
            "type": "contourcarpet"
           }
          ],
          "heatmap": [
           {
            "colorbar": {
             "outlinewidth": 0,
             "ticks": ""
            },
            "colorscale": [
             [
              0,
              "#0d0887"
             ],
             [
              0.1111111111111111,
              "#46039f"
             ],
             [
              0.2222222222222222,
              "#7201a8"
             ],
             [
              0.3333333333333333,
              "#9c179e"
             ],
             [
              0.4444444444444444,
              "#bd3786"
             ],
             [
              0.5555555555555556,
              "#d8576b"
             ],
             [
              0.6666666666666666,
              "#ed7953"
             ],
             [
              0.7777777777777778,
              "#fb9f3a"
             ],
             [
              0.8888888888888888,
              "#fdca26"
             ],
             [
              1,
              "#f0f921"
             ]
            ],
            "type": "heatmap"
           }
          ],
          "heatmapgl": [
           {
            "colorbar": {
             "outlinewidth": 0,
             "ticks": ""
            },
            "colorscale": [
             [
              0,
              "#0d0887"
             ],
             [
              0.1111111111111111,
              "#46039f"
             ],
             [
              0.2222222222222222,
              "#7201a8"
             ],
             [
              0.3333333333333333,
              "#9c179e"
             ],
             [
              0.4444444444444444,
              "#bd3786"
             ],
             [
              0.5555555555555556,
              "#d8576b"
             ],
             [
              0.6666666666666666,
              "#ed7953"
             ],
             [
              0.7777777777777778,
              "#fb9f3a"
             ],
             [
              0.8888888888888888,
              "#fdca26"
             ],
             [
              1,
              "#f0f921"
             ]
            ],
            "type": "heatmapgl"
           }
          ],
          "histogram": [
           {
            "marker": {
             "pattern": {
              "fillmode": "overlay",
              "size": 10,
              "solidity": 0.2
             }
            },
            "type": "histogram"
           }
          ],
          "histogram2d": [
           {
            "colorbar": {
             "outlinewidth": 0,
             "ticks": ""
            },
            "colorscale": [
             [
              0,
              "#0d0887"
             ],
             [
              0.1111111111111111,
              "#46039f"
             ],
             [
              0.2222222222222222,
              "#7201a8"
             ],
             [
              0.3333333333333333,
              "#9c179e"
             ],
             [
              0.4444444444444444,
              "#bd3786"
             ],
             [
              0.5555555555555556,
              "#d8576b"
             ],
             [
              0.6666666666666666,
              "#ed7953"
             ],
             [
              0.7777777777777778,
              "#fb9f3a"
             ],
             [
              0.8888888888888888,
              "#fdca26"
             ],
             [
              1,
              "#f0f921"
             ]
            ],
            "type": "histogram2d"
           }
          ],
          "histogram2dcontour": [
           {
            "colorbar": {
             "outlinewidth": 0,
             "ticks": ""
            },
            "colorscale": [
             [
              0,
              "#0d0887"
             ],
             [
              0.1111111111111111,
              "#46039f"
             ],
             [
              0.2222222222222222,
              "#7201a8"
             ],
             [
              0.3333333333333333,
              "#9c179e"
             ],
             [
              0.4444444444444444,
              "#bd3786"
             ],
             [
              0.5555555555555556,
              "#d8576b"
             ],
             [
              0.6666666666666666,
              "#ed7953"
             ],
             [
              0.7777777777777778,
              "#fb9f3a"
             ],
             [
              0.8888888888888888,
              "#fdca26"
             ],
             [
              1,
              "#f0f921"
             ]
            ],
            "type": "histogram2dcontour"
           }
          ],
          "mesh3d": [
           {
            "colorbar": {
             "outlinewidth": 0,
             "ticks": ""
            },
            "type": "mesh3d"
           }
          ],
          "parcoords": [
           {
            "line": {
             "colorbar": {
              "outlinewidth": 0,
              "ticks": ""
             }
            },
            "type": "parcoords"
           }
          ],
          "pie": [
           {
            "automargin": true,
            "type": "pie"
           }
          ],
          "scatter": [
           {
            "fillpattern": {
             "fillmode": "overlay",
             "size": 10,
             "solidity": 0.2
            },
            "type": "scatter"
           }
          ],
          "scatter3d": [
           {
            "line": {
             "colorbar": {
              "outlinewidth": 0,
              "ticks": ""
             }
            },
            "marker": {
             "colorbar": {
              "outlinewidth": 0,
              "ticks": ""
             }
            },
            "type": "scatter3d"
           }
          ],
          "scattercarpet": [
           {
            "marker": {
             "colorbar": {
              "outlinewidth": 0,
              "ticks": ""
             }
            },
            "type": "scattercarpet"
           }
          ],
          "scattergeo": [
           {
            "marker": {
             "colorbar": {
              "outlinewidth": 0,
              "ticks": ""
             }
            },
            "type": "scattergeo"
           }
          ],
          "scattergl": [
           {
            "marker": {
             "colorbar": {
              "outlinewidth": 0,
              "ticks": ""
             }
            },
            "type": "scattergl"
           }
          ],
          "scattermapbox": [
           {
            "marker": {
             "colorbar": {
              "outlinewidth": 0,
              "ticks": ""
             }
            },
            "type": "scattermapbox"
           }
          ],
          "scatterpolar": [
           {
            "marker": {
             "colorbar": {
              "outlinewidth": 0,
              "ticks": ""
             }
            },
            "type": "scatterpolar"
           }
          ],
          "scatterpolargl": [
           {
            "marker": {
             "colorbar": {
              "outlinewidth": 0,
              "ticks": ""
             }
            },
            "type": "scatterpolargl"
           }
          ],
          "scatterternary": [
           {
            "marker": {
             "colorbar": {
              "outlinewidth": 0,
              "ticks": ""
             }
            },
            "type": "scatterternary"
           }
          ],
          "surface": [
           {
            "colorbar": {
             "outlinewidth": 0,
             "ticks": ""
            },
            "colorscale": [
             [
              0,
              "#0d0887"
             ],
             [
              0.1111111111111111,
              "#46039f"
             ],
             [
              0.2222222222222222,
              "#7201a8"
             ],
             [
              0.3333333333333333,
              "#9c179e"
             ],
             [
              0.4444444444444444,
              "#bd3786"
             ],
             [
              0.5555555555555556,
              "#d8576b"
             ],
             [
              0.6666666666666666,
              "#ed7953"
             ],
             [
              0.7777777777777778,
              "#fb9f3a"
             ],
             [
              0.8888888888888888,
              "#fdca26"
             ],
             [
              1,
              "#f0f921"
             ]
            ],
            "type": "surface"
           }
          ],
          "table": [
           {
            "cells": {
             "fill": {
              "color": "#EBF0F8"
             },
             "line": {
              "color": "white"
             }
            },
            "header": {
             "fill": {
              "color": "#C8D4E3"
             },
             "line": {
              "color": "white"
             }
            },
            "type": "table"
           }
          ]
         },
         "layout": {
          "annotationdefaults": {
           "arrowcolor": "#2a3f5f",
           "arrowhead": 0,
           "arrowwidth": 1
          },
          "autotypenumbers": "strict",
          "coloraxis": {
           "colorbar": {
            "outlinewidth": 0,
            "ticks": ""
           }
          },
          "colorscale": {
           "diverging": [
            [
             0,
             "#8e0152"
            ],
            [
             0.1,
             "#c51b7d"
            ],
            [
             0.2,
             "#de77ae"
            ],
            [
             0.3,
             "#f1b6da"
            ],
            [
             0.4,
             "#fde0ef"
            ],
            [
             0.5,
             "#f7f7f7"
            ],
            [
             0.6,
             "#e6f5d0"
            ],
            [
             0.7,
             "#b8e186"
            ],
            [
             0.8,
             "#7fbc41"
            ],
            [
             0.9,
             "#4d9221"
            ],
            [
             1,
             "#276419"
            ]
           ],
           "sequential": [
            [
             0,
             "#0d0887"
            ],
            [
             0.1111111111111111,
             "#46039f"
            ],
            [
             0.2222222222222222,
             "#7201a8"
            ],
            [
             0.3333333333333333,
             "#9c179e"
            ],
            [
             0.4444444444444444,
             "#bd3786"
            ],
            [
             0.5555555555555556,
             "#d8576b"
            ],
            [
             0.6666666666666666,
             "#ed7953"
            ],
            [
             0.7777777777777778,
             "#fb9f3a"
            ],
            [
             0.8888888888888888,
             "#fdca26"
            ],
            [
             1,
             "#f0f921"
            ]
           ],
           "sequentialminus": [
            [
             0,
             "#0d0887"
            ],
            [
             0.1111111111111111,
             "#46039f"
            ],
            [
             0.2222222222222222,
             "#7201a8"
            ],
            [
             0.3333333333333333,
             "#9c179e"
            ],
            [
             0.4444444444444444,
             "#bd3786"
            ],
            [
             0.5555555555555556,
             "#d8576b"
            ],
            [
             0.6666666666666666,
             "#ed7953"
            ],
            [
             0.7777777777777778,
             "#fb9f3a"
            ],
            [
             0.8888888888888888,
             "#fdca26"
            ],
            [
             1,
             "#f0f921"
            ]
           ]
          },
          "colorway": [
           "#636efa",
           "#EF553B",
           "#00cc96",
           "#ab63fa",
           "#FFA15A",
           "#19d3f3",
           "#FF6692",
           "#B6E880",
           "#FF97FF",
           "#FECB52"
          ],
          "font": {
           "color": "#2a3f5f"
          },
          "geo": {
           "bgcolor": "white",
           "lakecolor": "white",
           "landcolor": "#E5ECF6",
           "showlakes": true,
           "showland": true,
           "subunitcolor": "white"
          },
          "hoverlabel": {
           "align": "left"
          },
          "hovermode": "closest",
          "mapbox": {
           "style": "light"
          },
          "paper_bgcolor": "white",
          "plot_bgcolor": "#E5ECF6",
          "polar": {
           "angularaxis": {
            "gridcolor": "white",
            "linecolor": "white",
            "ticks": ""
           },
           "bgcolor": "#E5ECF6",
           "radialaxis": {
            "gridcolor": "white",
            "linecolor": "white",
            "ticks": ""
           }
          },
          "scene": {
           "xaxis": {
            "backgroundcolor": "#E5ECF6",
            "gridcolor": "white",
            "gridwidth": 2,
            "linecolor": "white",
            "showbackground": true,
            "ticks": "",
            "zerolinecolor": "white"
           },
           "yaxis": {
            "backgroundcolor": "#E5ECF6",
            "gridcolor": "white",
            "gridwidth": 2,
            "linecolor": "white",
            "showbackground": true,
            "ticks": "",
            "zerolinecolor": "white"
           },
           "zaxis": {
            "backgroundcolor": "#E5ECF6",
            "gridcolor": "white",
            "gridwidth": 2,
            "linecolor": "white",
            "showbackground": true,
            "ticks": "",
            "zerolinecolor": "white"
           }
          },
          "shapedefaults": {
           "line": {
            "color": "#2a3f5f"
           }
          },
          "ternary": {
           "aaxis": {
            "gridcolor": "white",
            "linecolor": "white",
            "ticks": ""
           },
           "baxis": {
            "gridcolor": "white",
            "linecolor": "white",
            "ticks": ""
           },
           "bgcolor": "#E5ECF6",
           "caxis": {
            "gridcolor": "white",
            "linecolor": "white",
            "ticks": ""
           }
          },
          "title": {
           "x": 0.05
          },
          "xaxis": {
           "automargin": true,
           "gridcolor": "white",
           "linecolor": "white",
           "ticks": "",
           "title": {
            "standoff": 15
           },
           "zerolinecolor": "white",
           "zerolinewidth": 2
          },
          "yaxis": {
           "automargin": true,
           "gridcolor": "white",
           "linecolor": "white",
           "ticks": "",
           "title": {
            "standoff": 15
           },
           "zerolinecolor": "white",
           "zerolinewidth": 2
          }
         }
        },
        "title": {
         "text": "Seasonality"
        },
        "width": 1500,
        "xaxis": {
         "anchor": "y",
         "domain": [
          0,
          1
         ],
         "title": {
          "text": "x"
         }
        },
        "yaxis": {
         "anchor": "x",
         "domain": [
          0,
          1
         ],
         "title": {
          "text": "y"
         }
        }
       }
      }
     },
     "metadata": {},
     "output_type": "display_data"
    }
   ],
   "source": [
    "fig_2 = px.line(y=results.seasonal, x=results.seasonal.index, title='Seasonality',width=1500)\n",
    "fig_2.show()"
   ]
  },
  {
   "cell_type": "code",
   "execution_count": 128,
   "metadata": {},
   "outputs": [
    {
     "data": {
      "application/vnd.plotly.v1+json": {
       "config": {
        "plotlyServerURL": "https://plot.ly"
       },
       "data": [
        {
         "hovertemplate": "x=%{x}<br>y=%{y}<extra></extra>",
         "legendgroup": "",
         "line": {
          "color": "#636efa",
          "dash": "solid"
         },
         "marker": {
          "symbol": "circle"
         },
         "mode": "lines",
         "name": "",
         "orientation": "v",
         "showlegend": false,
         "type": "scatter",
         "x": [
          "1973-01-31T00:00:00",
          "1973-02-28T00:00:00",
          "1973-03-31T00:00:00",
          "1973-04-30T00:00:00",
          "1973-05-31T00:00:00",
          "1973-06-30T00:00:00",
          "1973-07-31T00:00:00",
          "1973-08-31T00:00:00",
          "1973-09-30T00:00:00",
          "1973-10-31T00:00:00",
          "1973-11-30T00:00:00",
          "1973-12-31T00:00:00",
          "1974-01-31T00:00:00",
          "1974-02-28T00:00:00",
          "1974-03-31T00:00:00",
          "1974-04-30T00:00:00",
          "1974-05-31T00:00:00",
          "1974-06-30T00:00:00",
          "1974-07-31T00:00:00",
          "1974-08-31T00:00:00",
          "1974-09-30T00:00:00",
          "1974-10-31T00:00:00",
          "1974-11-30T00:00:00",
          "1974-12-31T00:00:00",
          "1975-01-31T00:00:00",
          "1975-02-28T00:00:00",
          "1975-03-31T00:00:00",
          "1975-04-30T00:00:00",
          "1975-05-31T00:00:00",
          "1975-06-30T00:00:00",
          "1975-07-31T00:00:00",
          "1975-08-31T00:00:00",
          "1975-09-30T00:00:00",
          "1975-10-31T00:00:00",
          "1975-11-30T00:00:00",
          "1975-12-31T00:00:00",
          "1976-01-31T00:00:00",
          "1976-02-29T00:00:00",
          "1976-03-31T00:00:00",
          "1976-04-30T00:00:00",
          "1976-05-31T00:00:00",
          "1976-06-30T00:00:00",
          "1976-07-31T00:00:00",
          "1976-08-31T00:00:00",
          "1976-09-30T00:00:00",
          "1976-10-31T00:00:00",
          "1976-11-30T00:00:00",
          "1976-12-31T00:00:00",
          "1977-01-31T00:00:00",
          "1977-02-28T00:00:00",
          "1977-03-31T00:00:00",
          "1977-04-30T00:00:00",
          "1977-05-31T00:00:00",
          "1977-06-30T00:00:00",
          "1977-07-31T00:00:00",
          "1977-08-31T00:00:00",
          "1977-09-30T00:00:00",
          "1977-10-31T00:00:00",
          "1977-11-30T00:00:00",
          "1977-12-31T00:00:00",
          "1978-01-31T00:00:00",
          "1978-02-28T00:00:00",
          "1978-03-31T00:00:00",
          "1978-04-30T00:00:00",
          "1978-05-31T00:00:00",
          "1978-06-30T00:00:00",
          "1978-07-31T00:00:00",
          "1978-08-31T00:00:00",
          "1978-09-30T00:00:00",
          "1978-10-31T00:00:00",
          "1978-11-30T00:00:00",
          "1978-12-31T00:00:00",
          "1979-01-31T00:00:00",
          "1979-02-28T00:00:00",
          "1979-03-31T00:00:00",
          "1979-04-30T00:00:00",
          "1979-05-31T00:00:00",
          "1979-06-30T00:00:00",
          "1979-07-31T00:00:00",
          "1979-08-31T00:00:00",
          "1979-09-30T00:00:00",
          "1979-10-31T00:00:00",
          "1979-11-30T00:00:00",
          "1979-12-31T00:00:00",
          "1980-01-31T00:00:00",
          "1980-02-29T00:00:00",
          "1980-03-31T00:00:00",
          "1980-04-30T00:00:00",
          "1980-05-31T00:00:00",
          "1980-06-30T00:00:00",
          "1980-07-31T00:00:00",
          "1980-08-31T00:00:00",
          "1980-09-30T00:00:00",
          "1980-10-31T00:00:00",
          "1980-11-30T00:00:00",
          "1980-12-31T00:00:00",
          "1981-01-31T00:00:00",
          "1981-02-28T00:00:00",
          "1981-03-31T00:00:00",
          "1981-04-30T00:00:00",
          "1981-05-31T00:00:00",
          "1981-06-30T00:00:00",
          "1981-07-31T00:00:00",
          "1981-08-31T00:00:00",
          "1981-09-30T00:00:00",
          "1981-10-31T00:00:00",
          "1981-11-30T00:00:00",
          "1981-12-31T00:00:00",
          "1982-01-31T00:00:00",
          "1982-02-28T00:00:00",
          "1982-03-31T00:00:00",
          "1982-04-30T00:00:00",
          "1982-05-31T00:00:00",
          "1982-06-30T00:00:00",
          "1982-07-31T00:00:00",
          "1982-08-31T00:00:00",
          "1982-09-30T00:00:00",
          "1982-10-31T00:00:00",
          "1982-11-30T00:00:00",
          "1982-12-31T00:00:00",
          "1983-01-31T00:00:00",
          "1983-02-28T00:00:00",
          "1983-03-31T00:00:00",
          "1983-04-30T00:00:00",
          "1983-05-31T00:00:00",
          "1983-06-30T00:00:00",
          "1983-07-31T00:00:00",
          "1983-08-31T00:00:00",
          "1983-09-30T00:00:00",
          "1983-10-31T00:00:00",
          "1983-11-30T00:00:00",
          "1983-12-31T00:00:00",
          "1984-01-31T00:00:00",
          "1984-02-29T00:00:00",
          "1984-03-31T00:00:00",
          "1984-04-30T00:00:00",
          "1984-05-31T00:00:00",
          "1984-06-30T00:00:00",
          "1984-07-31T00:00:00",
          "1984-08-31T00:00:00",
          "1984-09-30T00:00:00",
          "1984-10-31T00:00:00",
          "1984-11-30T00:00:00",
          "1984-12-31T00:00:00",
          "1985-01-31T00:00:00",
          "1985-02-28T00:00:00",
          "1985-03-31T00:00:00",
          "1985-04-30T00:00:00",
          "1985-05-31T00:00:00",
          "1985-06-30T00:00:00",
          "1985-07-31T00:00:00",
          "1985-08-31T00:00:00",
          "1985-09-30T00:00:00",
          "1985-10-31T00:00:00",
          "1985-11-30T00:00:00",
          "1985-12-31T00:00:00",
          "1986-01-31T00:00:00",
          "1986-02-28T00:00:00",
          "1986-03-31T00:00:00",
          "1986-04-30T00:00:00",
          "1986-05-31T00:00:00",
          "1986-06-30T00:00:00",
          "1986-07-31T00:00:00",
          "1986-08-31T00:00:00",
          "1986-09-30T00:00:00",
          "1986-10-31T00:00:00",
          "1986-11-30T00:00:00",
          "1986-12-31T00:00:00",
          "1987-01-31T00:00:00",
          "1987-02-28T00:00:00",
          "1987-03-31T00:00:00",
          "1987-04-30T00:00:00",
          "1987-05-31T00:00:00",
          "1987-06-30T00:00:00",
          "1987-07-31T00:00:00",
          "1987-08-31T00:00:00",
          "1987-09-30T00:00:00",
          "1987-10-31T00:00:00",
          "1987-11-30T00:00:00",
          "1987-12-31T00:00:00",
          "1988-01-31T00:00:00",
          "1988-02-29T00:00:00",
          "1988-03-31T00:00:00",
          "1988-04-30T00:00:00",
          "1988-05-31T00:00:00",
          "1988-06-30T00:00:00",
          "1988-07-31T00:00:00",
          "1988-08-31T00:00:00",
          "1988-09-30T00:00:00",
          "1988-10-31T00:00:00",
          "1988-11-30T00:00:00",
          "1988-12-31T00:00:00",
          "1989-01-31T00:00:00",
          "1989-02-28T00:00:00",
          "1989-03-31T00:00:00",
          "1989-04-30T00:00:00",
          "1989-05-31T00:00:00",
          "1989-06-30T00:00:00",
          "1989-07-31T00:00:00",
          "1989-08-31T00:00:00",
          "1989-09-30T00:00:00",
          "1989-10-31T00:00:00",
          "1989-11-30T00:00:00",
          "1989-12-31T00:00:00",
          "1990-01-31T00:00:00",
          "1990-02-28T00:00:00",
          "1990-03-31T00:00:00",
          "1990-04-30T00:00:00",
          "1990-05-31T00:00:00",
          "1990-06-30T00:00:00",
          "1990-07-31T00:00:00",
          "1990-08-31T00:00:00",
          "1990-09-30T00:00:00",
          "1990-10-31T00:00:00",
          "1990-11-30T00:00:00",
          "1990-12-31T00:00:00",
          "1991-01-31T00:00:00",
          "1991-02-28T00:00:00",
          "1991-03-31T00:00:00",
          "1991-04-30T00:00:00",
          "1991-05-31T00:00:00",
          "1991-06-30T00:00:00",
          "1991-07-31T00:00:00",
          "1991-08-31T00:00:00",
          "1991-09-30T00:00:00",
          "1991-10-31T00:00:00",
          "1991-11-30T00:00:00",
          "1991-12-31T00:00:00",
          "1992-01-31T00:00:00",
          "1992-02-29T00:00:00",
          "1992-03-31T00:00:00",
          "1992-04-30T00:00:00",
          "1992-05-31T00:00:00",
          "1992-06-30T00:00:00",
          "1992-07-31T00:00:00",
          "1992-08-31T00:00:00",
          "1992-09-30T00:00:00",
          "1992-10-31T00:00:00",
          "1992-11-30T00:00:00",
          "1992-12-31T00:00:00",
          "1993-01-31T00:00:00",
          "1993-02-28T00:00:00",
          "1993-03-31T00:00:00",
          "1993-04-30T00:00:00",
          "1993-05-31T00:00:00",
          "1993-06-30T00:00:00",
          "1993-07-31T00:00:00",
          "1993-08-31T00:00:00",
          "1993-09-30T00:00:00",
          "1993-10-31T00:00:00",
          "1993-11-30T00:00:00",
          "1993-12-31T00:00:00",
          "1994-01-31T00:00:00",
          "1994-02-28T00:00:00",
          "1994-03-31T00:00:00",
          "1994-04-30T00:00:00",
          "1994-05-31T00:00:00",
          "1994-06-30T00:00:00",
          "1994-07-31T00:00:00",
          "1994-08-31T00:00:00",
          "1994-09-30T00:00:00",
          "1994-10-31T00:00:00",
          "1994-11-30T00:00:00",
          "1994-12-31T00:00:00",
          "1995-01-31T00:00:00",
          "1995-02-28T00:00:00",
          "1995-03-31T00:00:00",
          "1995-04-30T00:00:00",
          "1995-05-31T00:00:00",
          "1995-06-30T00:00:00",
          "1995-07-31T00:00:00",
          "1995-08-31T00:00:00",
          "1995-09-30T00:00:00",
          "1995-10-31T00:00:00",
          "1995-11-30T00:00:00",
          "1995-12-31T00:00:00",
          "1996-01-31T00:00:00",
          "1996-02-29T00:00:00",
          "1996-03-31T00:00:00",
          "1996-04-30T00:00:00",
          "1996-05-31T00:00:00",
          "1996-06-30T00:00:00",
          "1996-07-31T00:00:00",
          "1996-08-31T00:00:00",
          "1996-09-30T00:00:00",
          "1996-10-31T00:00:00",
          "1996-11-30T00:00:00",
          "1996-12-31T00:00:00",
          "1997-01-31T00:00:00",
          "1997-02-28T00:00:00",
          "1997-03-31T00:00:00",
          "1997-04-30T00:00:00",
          "1997-05-31T00:00:00",
          "1997-06-30T00:00:00",
          "1997-07-31T00:00:00",
          "1997-08-31T00:00:00",
          "1997-09-30T00:00:00",
          "1997-10-31T00:00:00",
          "1997-11-30T00:00:00",
          "1997-12-31T00:00:00",
          "1998-01-31T00:00:00",
          "1998-02-28T00:00:00",
          "1998-03-31T00:00:00",
          "1998-04-30T00:00:00",
          "1998-05-31T00:00:00",
          "1998-06-30T00:00:00",
          "1998-07-31T00:00:00",
          "1998-08-31T00:00:00",
          "1998-09-30T00:00:00",
          "1998-10-31T00:00:00",
          "1998-11-30T00:00:00",
          "1998-12-31T00:00:00",
          "1999-01-31T00:00:00",
          "1999-02-28T00:00:00",
          "1999-03-31T00:00:00",
          "1999-04-30T00:00:00",
          "1999-05-31T00:00:00",
          "1999-06-30T00:00:00",
          "1999-07-31T00:00:00",
          "1999-08-31T00:00:00",
          "1999-09-30T00:00:00",
          "1999-10-31T00:00:00",
          "1999-11-30T00:00:00",
          "1999-12-31T00:00:00",
          "2000-01-31T00:00:00",
          "2000-02-29T00:00:00",
          "2000-03-31T00:00:00",
          "2000-04-30T00:00:00",
          "2000-05-31T00:00:00",
          "2000-06-30T00:00:00",
          "2000-07-31T00:00:00",
          "2000-08-31T00:00:00",
          "2000-09-30T00:00:00",
          "2000-10-31T00:00:00",
          "2000-11-30T00:00:00",
          "2000-12-31T00:00:00",
          "2001-01-31T00:00:00",
          "2001-02-28T00:00:00",
          "2001-03-31T00:00:00",
          "2001-04-30T00:00:00",
          "2001-05-31T00:00:00",
          "2001-06-30T00:00:00",
          "2001-07-31T00:00:00",
          "2001-08-31T00:00:00",
          "2001-09-30T00:00:00",
          "2001-10-31T00:00:00",
          "2001-11-30T00:00:00",
          "2001-12-31T00:00:00",
          "2002-01-31T00:00:00",
          "2002-02-28T00:00:00",
          "2002-03-31T00:00:00",
          "2002-04-30T00:00:00",
          "2002-05-31T00:00:00",
          "2002-06-30T00:00:00",
          "2002-07-31T00:00:00",
          "2002-08-31T00:00:00",
          "2002-09-30T00:00:00",
          "2002-10-31T00:00:00",
          "2002-11-30T00:00:00",
          "2002-12-31T00:00:00",
          "2003-01-31T00:00:00",
          "2003-02-28T00:00:00",
          "2003-03-31T00:00:00",
          "2003-04-30T00:00:00",
          "2003-05-31T00:00:00",
          "2003-06-30T00:00:00",
          "2003-07-31T00:00:00",
          "2003-08-31T00:00:00",
          "2003-09-30T00:00:00",
          "2003-10-31T00:00:00",
          "2003-11-30T00:00:00",
          "2003-12-31T00:00:00",
          "2004-01-31T00:00:00",
          "2004-02-29T00:00:00",
          "2004-03-31T00:00:00",
          "2004-04-30T00:00:00",
          "2004-05-31T00:00:00",
          "2004-06-30T00:00:00",
          "2004-07-31T00:00:00",
          "2004-08-31T00:00:00",
          "2004-09-30T00:00:00",
          "2004-10-31T00:00:00",
          "2004-11-30T00:00:00",
          "2004-12-31T00:00:00",
          "2005-01-31T00:00:00",
          "2005-02-28T00:00:00",
          "2005-03-31T00:00:00",
          "2005-04-30T00:00:00",
          "2005-05-31T00:00:00",
          "2005-06-30T00:00:00",
          "2005-07-31T00:00:00",
          "2005-08-31T00:00:00",
          "2005-09-30T00:00:00",
          "2005-10-31T00:00:00",
          "2005-11-30T00:00:00",
          "2005-12-31T00:00:00",
          "2006-01-31T00:00:00",
          "2006-02-28T00:00:00",
          "2006-03-31T00:00:00",
          "2006-04-30T00:00:00",
          "2006-05-31T00:00:00",
          "2006-06-30T00:00:00",
          "2006-07-31T00:00:00",
          "2006-08-31T00:00:00",
          "2006-09-30T00:00:00",
          "2006-10-31T00:00:00",
          "2006-11-30T00:00:00",
          "2006-12-31T00:00:00",
          "2007-01-31T00:00:00",
          "2007-02-28T00:00:00",
          "2007-03-31T00:00:00",
          "2007-04-30T00:00:00",
          "2007-05-31T00:00:00",
          "2007-06-30T00:00:00",
          "2007-07-31T00:00:00",
          "2007-08-31T00:00:00",
          "2007-09-30T00:00:00",
          "2007-10-31T00:00:00",
          "2007-11-30T00:00:00",
          "2007-12-31T00:00:00",
          "2008-01-31T00:00:00",
          "2008-02-29T00:00:00",
          "2008-03-31T00:00:00",
          "2008-04-30T00:00:00",
          "2008-05-31T00:00:00",
          "2008-06-30T00:00:00",
          "2008-07-31T00:00:00",
          "2008-08-31T00:00:00",
          "2008-09-30T00:00:00",
          "2008-10-31T00:00:00",
          "2008-11-30T00:00:00",
          "2008-12-31T00:00:00",
          "2009-01-31T00:00:00",
          "2009-02-28T00:00:00",
          "2009-03-31T00:00:00",
          "2009-04-30T00:00:00",
          "2009-05-31T00:00:00",
          "2009-06-30T00:00:00",
          "2009-07-31T00:00:00",
          "2009-08-31T00:00:00",
          "2009-09-30T00:00:00",
          "2009-10-31T00:00:00",
          "2009-11-30T00:00:00",
          "2009-12-31T00:00:00",
          "2010-01-31T00:00:00",
          "2010-02-28T00:00:00",
          "2010-03-31T00:00:00",
          "2010-04-30T00:00:00",
          "2010-05-31T00:00:00",
          "2010-06-30T00:00:00",
          "2010-07-31T00:00:00",
          "2010-08-31T00:00:00",
          "2010-09-30T00:00:00",
          "2010-10-31T00:00:00",
          "2010-11-30T00:00:00",
          "2010-12-31T00:00:00",
          "2011-01-31T00:00:00",
          "2011-02-28T00:00:00",
          "2011-03-31T00:00:00",
          "2011-04-30T00:00:00",
          "2011-05-31T00:00:00",
          "2011-06-30T00:00:00",
          "2011-07-31T00:00:00",
          "2011-08-31T00:00:00",
          "2011-09-30T00:00:00",
          "2011-10-31T00:00:00",
          "2011-11-30T00:00:00",
          "2011-12-31T00:00:00",
          "2012-01-31T00:00:00",
          "2012-02-29T00:00:00",
          "2012-03-31T00:00:00",
          "2012-04-30T00:00:00",
          "2012-05-31T00:00:00",
          "2012-06-30T00:00:00",
          "2012-07-31T00:00:00",
          "2012-08-31T00:00:00",
          "2012-09-30T00:00:00",
          "2012-10-31T00:00:00",
          "2012-11-30T00:00:00",
          "2012-12-31T00:00:00",
          "2013-01-31T00:00:00",
          "2013-02-28T00:00:00",
          "2013-03-31T00:00:00",
          "2013-04-30T00:00:00",
          "2013-05-31T00:00:00",
          "2013-06-30T00:00:00",
          "2013-07-31T00:00:00",
          "2013-08-31T00:00:00",
          "2013-09-30T00:00:00",
          "2013-10-31T00:00:00",
          "2013-11-30T00:00:00",
          "2013-12-31T00:00:00",
          "2014-01-31T00:00:00",
          "2014-02-28T00:00:00",
          "2014-03-31T00:00:00",
          "2014-04-30T00:00:00",
          "2014-05-31T00:00:00",
          "2014-06-30T00:00:00",
          "2014-07-31T00:00:00",
          "2014-08-31T00:00:00",
          "2014-09-30T00:00:00",
          "2014-10-31T00:00:00",
          "2014-11-30T00:00:00",
          "2014-12-31T00:00:00",
          "2015-01-31T00:00:00",
          "2015-02-28T00:00:00",
          "2015-03-31T00:00:00",
          "2015-04-30T00:00:00",
          "2015-05-31T00:00:00",
          "2015-06-30T00:00:00",
          "2015-07-31T00:00:00",
          "2015-08-31T00:00:00",
          "2015-09-30T00:00:00",
          "2015-10-31T00:00:00",
          "2015-11-30T00:00:00",
          "2015-12-31T00:00:00",
          "2016-01-31T00:00:00",
          "2016-02-29T00:00:00",
          "2016-03-31T00:00:00",
          "2016-04-30T00:00:00",
          "2016-05-31T00:00:00",
          "2016-06-30T00:00:00",
          "2016-07-31T00:00:00",
          "2016-08-31T00:00:00",
          "2016-09-30T00:00:00",
          "2016-10-31T00:00:00",
          "2016-11-30T00:00:00",
          "2016-12-31T00:00:00",
          "2017-01-31T00:00:00",
          "2017-02-28T00:00:00",
          "2017-03-31T00:00:00",
          "2017-04-30T00:00:00",
          "2017-05-31T00:00:00",
          "2017-06-30T00:00:00",
          "2017-07-31T00:00:00",
          "2017-08-31T00:00:00",
          "2017-09-30T00:00:00",
          "2017-10-31T00:00:00",
          "2017-11-30T00:00:00",
          "2017-12-31T00:00:00",
          "2018-01-31T00:00:00",
          "2018-02-28T00:00:00",
          "2018-03-31T00:00:00",
          "2018-04-30T00:00:00",
          "2018-05-31T00:00:00",
          "2018-06-30T00:00:00",
          "2018-07-31T00:00:00",
          "2018-08-31T00:00:00",
          "2018-09-30T00:00:00",
          "2018-10-31T00:00:00",
          "2018-11-30T00:00:00",
          "2018-12-31T00:00:00",
          "2019-01-31T00:00:00",
          "2019-02-28T00:00:00",
          "2019-03-31T00:00:00",
          "2019-04-30T00:00:00",
          "2019-05-31T00:00:00",
          "2019-06-30T00:00:00",
          "2019-07-31T00:00:00",
          "2019-08-31T00:00:00",
          "2019-09-30T00:00:00",
          "2019-10-31T00:00:00",
          "2019-11-30T00:00:00",
          "2019-12-31T00:00:00",
          "2020-01-31T00:00:00",
          "2020-02-29T00:00:00",
          "2020-03-31T00:00:00",
          "2020-04-30T00:00:00",
          "2020-05-31T00:00:00",
          "2020-06-30T00:00:00",
          "2020-07-31T00:00:00",
          "2020-08-31T00:00:00",
          "2020-09-30T00:00:00",
          "2020-10-31T00:00:00",
          "2020-11-30T00:00:00",
          "2020-12-31T00:00:00",
          "2021-01-31T00:00:00",
          "2021-02-28T00:00:00",
          "2021-03-31T00:00:00",
          "2021-04-30T00:00:00",
          "2021-05-31T00:00:00",
          "2021-06-30T00:00:00",
          "2021-07-31T00:00:00",
          "2021-08-31T00:00:00",
          "2021-09-30T00:00:00",
          "2021-10-31T00:00:00",
          "2021-11-30T00:00:00",
          "2021-12-31T00:00:00",
          "2022-01-31T00:00:00",
          "2022-02-28T00:00:00",
          "2022-03-31T00:00:00",
          "2022-04-30T00:00:00",
          "2022-05-31T00:00:00",
          "2022-06-30T00:00:00",
          "2022-07-31T00:00:00",
          "2022-08-31T00:00:00",
          "2022-09-30T00:00:00",
          "2022-10-31T00:00:00",
          "2022-11-30T00:00:00"
         ],
         "xaxis": "x",
         "y": [
          null,
          null,
          null,
          null,
          null,
          null,
          -0.11390930460925586,
          0.031181640968974633,
          -0.040251346275922056,
          0.04838898110502977,
          0.013172919880538356,
          -0.0358926796092565,
          0.006611402873736544,
          0.10989621920026621,
          -0.06796566260245476,
          0.13189958569686625,
          0.17247427787373734,
          -0.1002919095022543,
          0.04819173705740965,
          -0.060903275697693104,
          0.06472623705740879,
          0.16716506443836243,
          -0.3851492467861273,
          -0.2615451379425889,
          -0.0046938471262629455,
          0.14631151086693467,
          -0.030998537602453552,
          0.15661112736353325,
          0.10343236120706997,
          0.0739864654977449,
          -0.14725151294259065,
          -0.19405735903102644,
          0.0036856120574092766,
          0.056693356105029576,
          -0.03076312178612685,
          0.009595862057411211,
          -0.09755305545959644,
          0.1991369692002672,
          0.026990129064213136,
          0.07483096069686593,
          0.0073930278737372665,
          0.10075763216441036,
          -0.19318055460925732,
          -0.1608852756976929,
          0.11234207039074309,
          -0.0017321855616381152,
          0.04237325321387207,
          0.06147786205741031,
          -0.37188868045959644,
          -0.025263322466398896,
          0.14077921239754684,
          0.12446808569686532,
          0.0632658612070702,
          0.09142129883107764,
          -0.1709817629425905,
          -0.08480385903102611,
          0.3875247787240764,
          0.2865475644383628,
          0.3875476282138721,
          -0.45062380460925683,
          -0.6855048887929298,
          -0.5259649474664003,
          -0.3403875376024539,
          0.2820050856968658,
          0.42056911120707036,
          0.3088778821644116,
          0.039006653724076974,
          0.019102140968975057,
          -0.09055117960925671,
          0.08316543943836274,
          0.13705166988053952,
          -0.10174680460925693,
          -0.12815872212626364,
          -0.01953553079973308,
          0.03285562906421188,
          0.08273550236353203,
          0.10827511120706987,
          0.044259548831077744,
          -0.333555471275923,
          -0.019314734031025182,
          -0.0890927629425898,
          0.18081231443836154,
          0.07548725321387238,
          -0.14759597127592367,
          0.03467915287373649,
          0.1836800525336016,
          0.052898629064213026,
          0.1343373356968666,
          0.10741661120707022,
          0.010280715497744453,
          -0.20924159627592265,
          -0.2559210256976921,
          -0.01801451294259046,
          0.023728106105029408,
          0.063084294880539,
          0.2593602787240767,
          0.023423236207070125,
          0.22668926086693314,
          0.17667821239754652,
          -0.6120829559698017,
          -0.6631587637929306,
          -0.1054188678355894,
          0.16681032039074295,
          0.19225443263564185,
          0.27421240372407685,
          0.20337268943836184,
          0.005287919880539324,
          0.054765195390743274,
          -0.18508493045959715,
          0.0880374692002655,
          0.2106129207308793,
          0.1333372940301988,
          -0.01800543045959583,
          0.04562625716441193,
          -0.1529377212759233,
          -0.07638573403102483,
          -0.01688092960925655,
          -0.030420018894970806,
          -0.016621830119460515,
          -0.058518679609256316,
          0.005809319540402341,
          0.05378755253360029,
          -0.028372787602454458,
          0.036800419030198844,
          -0.06732788879292986,
          -0.07119970116892116,
          -0.20438592960925583,
          -0.017183442364358925,
          -0.00730817960925631,
          -0.07015343556163822,
          -0.07441295511946101,
          -0.23085588794258977,
          0.08369694454040391,
          0.30502451086693433,
          0.05706933739754569,
          0.06632816903019859,
          0.1835245695404024,
          0.008661548831076615,
          0.03973990372407666,
          0.2131341826356416,
          0.0963622787240769,
          -0.21283381056163764,
          -0.22398399678612657,
          -0.13135247127592292,
          -0.031207097126264544,
          0.11896821920026773,
          0.03950983739754663,
          0.12057016903019893,
          0.08973261120707107,
          -0.06205153450225609,
          -0.1354528046092558,
          -0.10722890069769192,
          -0.03736172127592305,
          0.02002681443836219,
          -0.1162748301194605,
          0.09103848705740965,
          0.20581190287373644,
          0.18277771920026648,
          0.053631670730879016,
          0.062374710696866315,
          -0.047539680459596924,
          -0.1282702845022552,
          -0.15881480460925634,
          -0.1753616506976921,
          -0.06411001294258942,
          0.019259814438361562,
          -0.014507038452794344,
          0.1046356953907432,
          0.14046715287373693,
          0.14693467753360007,
          0.0028750873975464664,
          -0.009476622636467619,
          -0.15961993045959602,
          -0.07025057616892205,
          -0.20576422127592253,
          -0.11450769236435782,
          0.0363614453907434,
          0.08158693943836193,
          0.04740162821387227,
          0.11468048705740937,
          0.027790777873735656,
          0.259873760866934,
          0.08924417073087906,
          -0.03276416430313364,
          -0.12334534712626269,
          -0.0968493678355884,
          -0.2309114296092567,
          0.06095714096897503,
          0.03814986205741114,
          -0.04712631056163596,
          0.09678312821387312,
          0.023042987057411105,
          0.0695246528737368,
          -0.0021502807997319517,
          0.05408321239754607,
          -0.047005705969801775,
          0.038337861207069245,
          -0.06521953450225482,
          -0.280495262942589,
          0.1091072659689753,
          -0.017639387942588985,
          -0.0018054355616379178,
          0.10976466988053922,
          -0.21963755460925688,
          0.23780169454040315,
          0.1664604692002672,
          0.08589733739754643,
          -0.03833037263646641,
          -0.05348330545959649,
          -0.11148378450225582,
          -0.12957701294258972,
          0.050126265968976014,
          -0.0997470962759229,
          0.142854022771695,
          0.08050529488053869,
          -0.12391163794259001,
          0.17554477787373737,
          0.13093371920026736,
          -0.024909329269119623,
          -0.06770012263646627,
          -0.10263072212626348,
          -0.14845661783558928,
          -0.03988605460925609,
          0.003960765968975266,
          -0.005920012942588787,
          0.12119598110502983,
          0.016442586547206414,
          0.02826690372407721,
          0.18493156954040393,
          0.1580838858669334,
          -0.15416241260245392,
          -0.06253820596980084,
          -0.17103343045959665,
          -0.058248909502255586,
          0.020819278724076858,
          -0.07818127569769145,
          0.03603236205740959,
          0.06856223110502802,
          0.045893503213873185,
          0.17337786205740974,
          0.044816486207070155,
          0.025877260866934038,
          -0.0002578292691204631,
          0.0017520856968648302,
          -0.13337684712626288,
          0.029692173831077362,
          -0.1628061379425907,
          -0.14920227569769234,
          0.005486653724077112,
          -0.07033456056163745,
          0.01912296154720526,
          0.034162737057410866,
          -0.07555101379292936,
          0.058518802533600145,
          0.16875537906421287,
          0.06822071069686544,
          -0.08816855545959548,
          -0.008217367835588796,
          -0.09045338794259039,
          0.07715614096897444,
          0.027127362057410093,
          -0.12301414389497056,
          0.09686441988053883,
          0.1475868203907424,
          0.03157856954040386,
          -0.002637280799732522,
          -0.00022399593578817378,
          -0.1015868726364669,
          -0.0719400971262634,
          -0.008965117835589176,
          0.0043151953907425485,
          0.0014399743023074119,
          0.037307403724075844,
          -0.011878602228303496,
          0.0432490865472057,
          -0.08334505460925716,
          -0.11405659712626368,
          0.12617296920026738,
          -0.021037745935786695,
          0.03213666903019999,
          0.015529152873736428,
          -0.021290867835587868,
          0.09157961205741016,
          0.06760180763564144,
          -0.03872955460925617,
          0.02605852277169563,
          -0.05859141345279319,
          -0.07676701294259129,
          0.02670298620706915,
          0.04511351086693366,
          -0.03591612093578703,
          -0.02409512263646771,
          0.11417086120706951,
          -0.06028132616892279,
          0.06522386205740971,
          -0.0909129423643587,
          0.05152532039074323,
          0.005186647771696425,
          -0.21719933011946102,
          -0.01064192960925596,
          0.15358848620706936,
          -0.018956864133066353,
          0.024303170730880702,
          0.0745854606968667,
          0.04189906954040242,
          0.02256909049774425,
          0.06053498705740946,
          -0.07326098403102527,
          -0.05380467960925625,
          0.029000064438362567,
          -0.07804666345279322,
          0.0392117370574105,
          -0.021303347126262445,
          0.09514013586693465,
          0.01856933739754571,
          -0.0743521643031336,
          -0.12563568045959553,
          0.029001882164412685,
          0.07891340372407707,
          -0.0006124423643590338,
          0.04431348705740859,
          -0.1529938105616382,
          0.041893044880538785,
          0.03939957039074389,
          -0.1309486387929297,
          0.10911163586693401,
          0.12136817073087955,
          -0.11068358096980066,
          0.010212277873736318,
          0.07373838216441087,
          0.0007405287240762667,
          0.09515659930230819,
          -0.02494855460925724,
          -0.03342239389497025,
          -0.018482163452794534,
          -0.21749592960925584,
          -0.0010135554595968876,
          -0.06317323913306677,
          0.05334946239754587,
          -0.022535330969801842,
          0.062416694540402516,
          0.07466875716441024,
          0.0009703620574093071,
          0.06352993263564038,
          -0.044300971275922446,
          0.11100418943836265,
          0.035342128213871934,
          -0.10640067960925674,
          0.12530169454040244,
          -0.024407072466399782,
          -0.20212141260245445,
          0.009140377363532265,
          0.09436069454040183,
          0.011250923831077841,
          0.08866248705740953,
          0.015201515968975066,
          0.002194028724076841,
          -0.10202356056163664,
          -0.052546996786126524,
          0.033031820390743996,
          -0.014008347126263282,
          -0.08457165579973286,
          -0.09755257926912012,
          0.06323241903019952,
          0.06493823620707026,
          0.06042367383107816,
          0.05901265372407739,
          -0.0494052340310252,
          0.03981948705740926,
          -0.0058489355616377844,
          -0.17869670511946056,
          0.03682915372407698,
          -0.0012623471262633579,
          0.058774302533600775,
          -0.0540625376024533,
          0.033577419030199535,
          -0.07258201379292942,
          0.12001917383107763,
          0.1403766120574097,
          -0.008582775697692668,
          -0.03239522127592384,
          -0.16316426889497082,
          -0.07784228845279408,
          0.060767278724076015,
          -0.06936097212626355,
          0.0038686358669333676,
          0.09628287906421293,
          0.06553758569686643,
          0.057372986207070396,
          0.19861200716441108,
          0.13353448705740933,
          0.04767001596897352,
          -0.2540147629425914,
          -0.3505910605616376,
          -0.09801470511946021,
          -0.08274301294258994,
          0.07384102787373695,
          -0.03442215579973301,
          -0.010019537602453915,
          0.03518841903019912,
          0.12179790287373635,
          0.15424746549774415,
          0.09575361205741095,
          0.013897015968974358,
          -0.02463384627592266,
          -0.09666214389497041,
          -0.0438183717861267,
          0.00033402872407690964,
          0.0438202778737358,
          -0.10194028079973333,
          -0.07085637093578792,
          -0.033087914303134264,
          0.10910644454040305,
          0.0671864238310782,
          0.050633570390742795,
          0.01965234930230747,
          -0.08277401294258965,
          -0.07867847722830446,
          -0.007436413452793569,
          -0.05913397127592383,
          -0.02896618045959795,
          0.09051113586693332,
          -0.09759545426912111,
          0.059807585696865756,
          0.09443115287373757,
          0.04742196549774569,
          0.29058382039074426,
          0.044061265968974694,
          -0.33183213794259003,
          -0.05759101889497175,
          -0.057893288452794525,
          0.10375323705740942,
          0.0405413195404041,
          -0.005556114133065726,
          -0.02056295426911972,
          -0.017772747636466052,
          -0.03531480545959668,
          0.08179192383107736,
          0.15398448705740875,
          -0.013064942364359233,
          -0.012807971275923119,
          -0.12368376889497101,
          -0.1344325801194617,
          -0.05986322127592296,
          -0.10845313879292992,
          -0.02529540579973205,
          0.061049004064212625,
          0.02563241903019922,
          -0.026084347126263098,
          0.03679413216441052,
          0.07242452872407745,
          -0.027796150697691424,
          0.11032611205741119,
          -0.04268368556163748,
          -0.004759121786126488,
          0.10422077872407694,
          -0.059186180459596976,
          -0.15996940579973246,
          0.07030492073087921,
          -0.0010946643031340686,
          -0.07212551379293089,
          0.002151340497743348,
          -0.034640637942590084,
          -0.009726067364358493,
          -0.014258887942591197,
          0.04303702277169431,
          0.15172337821387094,
          0.1758889453907439,
          0.15443565287373676,
          0.05907213586693444,
          -0.15901912093578743,
          -0.21468333096980138,
          -0.060618180459596695,
          -0.08942165950225434,
          0.14412544539074346,
          0.0530092243023092,
          -0.023325262942590935,
          0.011131772771695754,
          -0.015770330119460066,
          -0.014741721275923367,
          -0.027292930459597436,
          -0.15054565579973261,
          -0.12594441260245406,
          -0.02267920596980097,
          0.08542902787373549,
          -0.004675367835588418,
          0.22017565372407755,
          0.10837089096897551,
          0.038852570390743996,
          -0.10621447722830402,
          -0.04779245511946108,
          -0.13916359627592373,
          -0.05480434712626445,
          -0.27464253079973283,
          -0.022236204269120236,
          0.09175354403019878,
          0.09265481954040375,
          0.014293340497745,
          0.20676777872407892,
          0.03550264096897465,
          0.021669153724077322,
          0.039849314438363155,
          0.018291628213873853,
          0.23668307039074316,
          0.11166011120707078,
          -0.21144744746640026,
          -0.028290829269121992,
          0.03724854403019809,
          -0.08441359712626564,
          -0.19074078450225684,
          0.19360665372407548,
          0.18250905763564046,
          0.15977115372407638,
          0.06164068943836166,
          -0.011646455119460622,
          -0.009393262942589728,
          -0.1035311387929285,
          0.030353552533601225,
          -0.1361619126024536,
          -0.19352208096980003,
          -0.08758326379293038,
          -0.07012328450225525,
          0.09888323705740976,
          0.012837932635640648,
          -0.055073096275923245,
          -0.01054660222830383,
          0.023321419880539804,
          -0.026681304609256037,
          -0.028626972126263056,
          -0.08734011413306558,
          0.007005920730877663,
          -0.08736408096980117,
          0.015142569540403016,
          0.04801367383107724,
          0.0438660703907432,
          -0.03694673403102505,
          -0.08626551294259052,
          0.028806439438362925,
          0.08033491988053985,
          0.03505865372407686,
          -0.07847968045959683,
          -0.1630047391330664,
          0.010009754064213866,
          -0.10534458096980134,
          0.027872861207070186,
          -0.021780826168921408,
          0.08906752872407675,
          0.18173772430230767,
          0.012268153724075997,
          0.05700893943836106,
          0.0528959615472062,
          0.11266477872407683,
          0.059132902873736654,
          -0.298254239133066,
          -0.2066365792691203,
          0.06471516903019783,
          0.1862812362070698,
          -0.04632336783558788,
          0.06203165372407749,
          0.11653589096897637,
          0.03153636205740998,
          0.08788502277169519,
          0.11358650321387252,
          0.2977042370574087,
          0.2959782778737363,
          0.2208143858669332,
          0.1149965040642131,
          -0.20617687263646775,
          -0.6146724304595976,
          -0.3115165345022559,
          0.05725682039074243,
          -0.05757210903102489,
          0.013441195390743982,
          -0.12402197722830399,
          0.06365496154720639,
          0.062272695390743274,
          0.0994847362070708,
          -0.8046371557997325,
          0.13634979573088032,
          0.07067616903019883,
          0.2319805695404031,
          0.0655229654977445,
          0.14622473705740968,
          0.015695140968974897,
          -0.10942180460925574,
          -0.016971185561635675,
          0.07317821154720548,
          0.17781223705740862,
          -0.06646643045959874,
          -0.34663694746639767,
          -0.0006057459357871331,
          -0.08505424763646693,
          0.12821394454040266,
          null,
          null,
          null,
          null,
          null,
          null
         ],
         "yaxis": "y"
        }
       ],
       "layout": {
        "legend": {
         "tracegroupgap": 0
        },
        "template": {
         "data": {
          "bar": [
           {
            "error_x": {
             "color": "#2a3f5f"
            },
            "error_y": {
             "color": "#2a3f5f"
            },
            "marker": {
             "line": {
              "color": "#E5ECF6",
              "width": 0.5
             },
             "pattern": {
              "fillmode": "overlay",
              "size": 10,
              "solidity": 0.2
             }
            },
            "type": "bar"
           }
          ],
          "barpolar": [
           {
            "marker": {
             "line": {
              "color": "#E5ECF6",
              "width": 0.5
             },
             "pattern": {
              "fillmode": "overlay",
              "size": 10,
              "solidity": 0.2
             }
            },
            "type": "barpolar"
           }
          ],
          "carpet": [
           {
            "aaxis": {
             "endlinecolor": "#2a3f5f",
             "gridcolor": "white",
             "linecolor": "white",
             "minorgridcolor": "white",
             "startlinecolor": "#2a3f5f"
            },
            "baxis": {
             "endlinecolor": "#2a3f5f",
             "gridcolor": "white",
             "linecolor": "white",
             "minorgridcolor": "white",
             "startlinecolor": "#2a3f5f"
            },
            "type": "carpet"
           }
          ],
          "choropleth": [
           {
            "colorbar": {
             "outlinewidth": 0,
             "ticks": ""
            },
            "type": "choropleth"
           }
          ],
          "contour": [
           {
            "colorbar": {
             "outlinewidth": 0,
             "ticks": ""
            },
            "colorscale": [
             [
              0,
              "#0d0887"
             ],
             [
              0.1111111111111111,
              "#46039f"
             ],
             [
              0.2222222222222222,
              "#7201a8"
             ],
             [
              0.3333333333333333,
              "#9c179e"
             ],
             [
              0.4444444444444444,
              "#bd3786"
             ],
             [
              0.5555555555555556,
              "#d8576b"
             ],
             [
              0.6666666666666666,
              "#ed7953"
             ],
             [
              0.7777777777777778,
              "#fb9f3a"
             ],
             [
              0.8888888888888888,
              "#fdca26"
             ],
             [
              1,
              "#f0f921"
             ]
            ],
            "type": "contour"
           }
          ],
          "contourcarpet": [
           {
            "colorbar": {
             "outlinewidth": 0,
             "ticks": ""
            },
            "type": "contourcarpet"
           }
          ],
          "heatmap": [
           {
            "colorbar": {
             "outlinewidth": 0,
             "ticks": ""
            },
            "colorscale": [
             [
              0,
              "#0d0887"
             ],
             [
              0.1111111111111111,
              "#46039f"
             ],
             [
              0.2222222222222222,
              "#7201a8"
             ],
             [
              0.3333333333333333,
              "#9c179e"
             ],
             [
              0.4444444444444444,
              "#bd3786"
             ],
             [
              0.5555555555555556,
              "#d8576b"
             ],
             [
              0.6666666666666666,
              "#ed7953"
             ],
             [
              0.7777777777777778,
              "#fb9f3a"
             ],
             [
              0.8888888888888888,
              "#fdca26"
             ],
             [
              1,
              "#f0f921"
             ]
            ],
            "type": "heatmap"
           }
          ],
          "heatmapgl": [
           {
            "colorbar": {
             "outlinewidth": 0,
             "ticks": ""
            },
            "colorscale": [
             [
              0,
              "#0d0887"
             ],
             [
              0.1111111111111111,
              "#46039f"
             ],
             [
              0.2222222222222222,
              "#7201a8"
             ],
             [
              0.3333333333333333,
              "#9c179e"
             ],
             [
              0.4444444444444444,
              "#bd3786"
             ],
             [
              0.5555555555555556,
              "#d8576b"
             ],
             [
              0.6666666666666666,
              "#ed7953"
             ],
             [
              0.7777777777777778,
              "#fb9f3a"
             ],
             [
              0.8888888888888888,
              "#fdca26"
             ],
             [
              1,
              "#f0f921"
             ]
            ],
            "type": "heatmapgl"
           }
          ],
          "histogram": [
           {
            "marker": {
             "pattern": {
              "fillmode": "overlay",
              "size": 10,
              "solidity": 0.2
             }
            },
            "type": "histogram"
           }
          ],
          "histogram2d": [
           {
            "colorbar": {
             "outlinewidth": 0,
             "ticks": ""
            },
            "colorscale": [
             [
              0,
              "#0d0887"
             ],
             [
              0.1111111111111111,
              "#46039f"
             ],
             [
              0.2222222222222222,
              "#7201a8"
             ],
             [
              0.3333333333333333,
              "#9c179e"
             ],
             [
              0.4444444444444444,
              "#bd3786"
             ],
             [
              0.5555555555555556,
              "#d8576b"
             ],
             [
              0.6666666666666666,
              "#ed7953"
             ],
             [
              0.7777777777777778,
              "#fb9f3a"
             ],
             [
              0.8888888888888888,
              "#fdca26"
             ],
             [
              1,
              "#f0f921"
             ]
            ],
            "type": "histogram2d"
           }
          ],
          "histogram2dcontour": [
           {
            "colorbar": {
             "outlinewidth": 0,
             "ticks": ""
            },
            "colorscale": [
             [
              0,
              "#0d0887"
             ],
             [
              0.1111111111111111,
              "#46039f"
             ],
             [
              0.2222222222222222,
              "#7201a8"
             ],
             [
              0.3333333333333333,
              "#9c179e"
             ],
             [
              0.4444444444444444,
              "#bd3786"
             ],
             [
              0.5555555555555556,
              "#d8576b"
             ],
             [
              0.6666666666666666,
              "#ed7953"
             ],
             [
              0.7777777777777778,
              "#fb9f3a"
             ],
             [
              0.8888888888888888,
              "#fdca26"
             ],
             [
              1,
              "#f0f921"
             ]
            ],
            "type": "histogram2dcontour"
           }
          ],
          "mesh3d": [
           {
            "colorbar": {
             "outlinewidth": 0,
             "ticks": ""
            },
            "type": "mesh3d"
           }
          ],
          "parcoords": [
           {
            "line": {
             "colorbar": {
              "outlinewidth": 0,
              "ticks": ""
             }
            },
            "type": "parcoords"
           }
          ],
          "pie": [
           {
            "automargin": true,
            "type": "pie"
           }
          ],
          "scatter": [
           {
            "fillpattern": {
             "fillmode": "overlay",
             "size": 10,
             "solidity": 0.2
            },
            "type": "scatter"
           }
          ],
          "scatter3d": [
           {
            "line": {
             "colorbar": {
              "outlinewidth": 0,
              "ticks": ""
             }
            },
            "marker": {
             "colorbar": {
              "outlinewidth": 0,
              "ticks": ""
             }
            },
            "type": "scatter3d"
           }
          ],
          "scattercarpet": [
           {
            "marker": {
             "colorbar": {
              "outlinewidth": 0,
              "ticks": ""
             }
            },
            "type": "scattercarpet"
           }
          ],
          "scattergeo": [
           {
            "marker": {
             "colorbar": {
              "outlinewidth": 0,
              "ticks": ""
             }
            },
            "type": "scattergeo"
           }
          ],
          "scattergl": [
           {
            "marker": {
             "colorbar": {
              "outlinewidth": 0,
              "ticks": ""
             }
            },
            "type": "scattergl"
           }
          ],
          "scattermapbox": [
           {
            "marker": {
             "colorbar": {
              "outlinewidth": 0,
              "ticks": ""
             }
            },
            "type": "scattermapbox"
           }
          ],
          "scatterpolar": [
           {
            "marker": {
             "colorbar": {
              "outlinewidth": 0,
              "ticks": ""
             }
            },
            "type": "scatterpolar"
           }
          ],
          "scatterpolargl": [
           {
            "marker": {
             "colorbar": {
              "outlinewidth": 0,
              "ticks": ""
             }
            },
            "type": "scatterpolargl"
           }
          ],
          "scatterternary": [
           {
            "marker": {
             "colorbar": {
              "outlinewidth": 0,
              "ticks": ""
             }
            },
            "type": "scatterternary"
           }
          ],
          "surface": [
           {
            "colorbar": {
             "outlinewidth": 0,
             "ticks": ""
            },
            "colorscale": [
             [
              0,
              "#0d0887"
             ],
             [
              0.1111111111111111,
              "#46039f"
             ],
             [
              0.2222222222222222,
              "#7201a8"
             ],
             [
              0.3333333333333333,
              "#9c179e"
             ],
             [
              0.4444444444444444,
              "#bd3786"
             ],
             [
              0.5555555555555556,
              "#d8576b"
             ],
             [
              0.6666666666666666,
              "#ed7953"
             ],
             [
              0.7777777777777778,
              "#fb9f3a"
             ],
             [
              0.8888888888888888,
              "#fdca26"
             ],
             [
              1,
              "#f0f921"
             ]
            ],
            "type": "surface"
           }
          ],
          "table": [
           {
            "cells": {
             "fill": {
              "color": "#EBF0F8"
             },
             "line": {
              "color": "white"
             }
            },
            "header": {
             "fill": {
              "color": "#C8D4E3"
             },
             "line": {
              "color": "white"
             }
            },
            "type": "table"
           }
          ]
         },
         "layout": {
          "annotationdefaults": {
           "arrowcolor": "#2a3f5f",
           "arrowhead": 0,
           "arrowwidth": 1
          },
          "autotypenumbers": "strict",
          "coloraxis": {
           "colorbar": {
            "outlinewidth": 0,
            "ticks": ""
           }
          },
          "colorscale": {
           "diverging": [
            [
             0,
             "#8e0152"
            ],
            [
             0.1,
             "#c51b7d"
            ],
            [
             0.2,
             "#de77ae"
            ],
            [
             0.3,
             "#f1b6da"
            ],
            [
             0.4,
             "#fde0ef"
            ],
            [
             0.5,
             "#f7f7f7"
            ],
            [
             0.6,
             "#e6f5d0"
            ],
            [
             0.7,
             "#b8e186"
            ],
            [
             0.8,
             "#7fbc41"
            ],
            [
             0.9,
             "#4d9221"
            ],
            [
             1,
             "#276419"
            ]
           ],
           "sequential": [
            [
             0,
             "#0d0887"
            ],
            [
             0.1111111111111111,
             "#46039f"
            ],
            [
             0.2222222222222222,
             "#7201a8"
            ],
            [
             0.3333333333333333,
             "#9c179e"
            ],
            [
             0.4444444444444444,
             "#bd3786"
            ],
            [
             0.5555555555555556,
             "#d8576b"
            ],
            [
             0.6666666666666666,
             "#ed7953"
            ],
            [
             0.7777777777777778,
             "#fb9f3a"
            ],
            [
             0.8888888888888888,
             "#fdca26"
            ],
            [
             1,
             "#f0f921"
            ]
           ],
           "sequentialminus": [
            [
             0,
             "#0d0887"
            ],
            [
             0.1111111111111111,
             "#46039f"
            ],
            [
             0.2222222222222222,
             "#7201a8"
            ],
            [
             0.3333333333333333,
             "#9c179e"
            ],
            [
             0.4444444444444444,
             "#bd3786"
            ],
            [
             0.5555555555555556,
             "#d8576b"
            ],
            [
             0.6666666666666666,
             "#ed7953"
            ],
            [
             0.7777777777777778,
             "#fb9f3a"
            ],
            [
             0.8888888888888888,
             "#fdca26"
            ],
            [
             1,
             "#f0f921"
            ]
           ]
          },
          "colorway": [
           "#636efa",
           "#EF553B",
           "#00cc96",
           "#ab63fa",
           "#FFA15A",
           "#19d3f3",
           "#FF6692",
           "#B6E880",
           "#FF97FF",
           "#FECB52"
          ],
          "font": {
           "color": "#2a3f5f"
          },
          "geo": {
           "bgcolor": "white",
           "lakecolor": "white",
           "landcolor": "#E5ECF6",
           "showlakes": true,
           "showland": true,
           "subunitcolor": "white"
          },
          "hoverlabel": {
           "align": "left"
          },
          "hovermode": "closest",
          "mapbox": {
           "style": "light"
          },
          "paper_bgcolor": "white",
          "plot_bgcolor": "#E5ECF6",
          "polar": {
           "angularaxis": {
            "gridcolor": "white",
            "linecolor": "white",
            "ticks": ""
           },
           "bgcolor": "#E5ECF6",
           "radialaxis": {
            "gridcolor": "white",
            "linecolor": "white",
            "ticks": ""
           }
          },
          "scene": {
           "xaxis": {
            "backgroundcolor": "#E5ECF6",
            "gridcolor": "white",
            "gridwidth": 2,
            "linecolor": "white",
            "showbackground": true,
            "ticks": "",
            "zerolinecolor": "white"
           },
           "yaxis": {
            "backgroundcolor": "#E5ECF6",
            "gridcolor": "white",
            "gridwidth": 2,
            "linecolor": "white",
            "showbackground": true,
            "ticks": "",
            "zerolinecolor": "white"
           },
           "zaxis": {
            "backgroundcolor": "#E5ECF6",
            "gridcolor": "white",
            "gridwidth": 2,
            "linecolor": "white",
            "showbackground": true,
            "ticks": "",
            "zerolinecolor": "white"
           }
          },
          "shapedefaults": {
           "line": {
            "color": "#2a3f5f"
           }
          },
          "ternary": {
           "aaxis": {
            "gridcolor": "white",
            "linecolor": "white",
            "ticks": ""
           },
           "baxis": {
            "gridcolor": "white",
            "linecolor": "white",
            "ticks": ""
           },
           "bgcolor": "#E5ECF6",
           "caxis": {
            "gridcolor": "white",
            "linecolor": "white",
            "ticks": ""
           }
          },
          "title": {
           "x": 0.05
          },
          "xaxis": {
           "automargin": true,
           "gridcolor": "white",
           "linecolor": "white",
           "ticks": "",
           "title": {
            "standoff": 15
           },
           "zerolinecolor": "white",
           "zerolinewidth": 2
          },
          "yaxis": {
           "automargin": true,
           "gridcolor": "white",
           "linecolor": "white",
           "ticks": "",
           "title": {
            "standoff": 15
           },
           "zerolinecolor": "white",
           "zerolinewidth": 2
          }
         }
        },
        "title": {
         "text": "Residual"
        },
        "width": 1500,
        "xaxis": {
         "anchor": "y",
         "domain": [
          0,
          1
         ],
         "title": {
          "text": "x"
         }
        },
        "yaxis": {
         "anchor": "x",
         "domain": [
          0,
          1
         ],
         "title": {
          "text": "y"
         }
        }
       }
      }
     },
     "metadata": {},
     "output_type": "display_data"
    }
   ],
   "source": [
    "fig_2 = px.line(y=results.resid, x=results.resid.index, title='Residual',width=1500)\n",
    "fig_2.show()"
   ]
  },
  {
   "cell_type": "code",
   "execution_count": 129,
   "metadata": {},
   "outputs": [
    {
     "name": "stdout",
     "output_type": "stream",
     "text": [
      "(579, 1) (20, 1)\n"
     ]
    }
   ],
   "source": [
    "train = total_production[:-20]\n",
    "test = total_production[-20:]\n",
    "print(train.shape, test.shape)"
   ]
  },
  {
   "attachments": {},
   "cell_type": "markdown",
   "metadata": {},
   "source": [
    "#### <b> 2 <span style='color:#8EDCE6'>|</span> Auto Regression Model </b>"
   ]
  },
  {
   "cell_type": "code",
   "execution_count": 130,
   "metadata": {},
   "outputs": [],
   "source": [
    "from statsmodels.tsa.ar_model import AutoReg"
   ]
  },
  {
   "cell_type": "code",
   "execution_count": 131,
   "metadata": {},
   "outputs": [
    {
     "name": "stdout",
     "output_type": "stream",
     "text": [
      "                            AutoReg Model Results                             \n",
      "==============================================================================\n",
      "Dep. Variable:       Total_Production   No. Observations:                  579\n",
      "Model:                    AutoReg(10)   Log Likelihood                  85.050\n",
      "Method:               Conditional MLE   S.D. of innovations              0.208\n",
      "Date:                Sat, 22 Apr 2023   AIC                           -146.100\n",
      "Time:                        16:12:19   BIC                            -93.974\n",
      "Sample:                    11-30-1973   HQIC                          -125.760\n",
      "                         - 03-31-2021                                         \n",
      "========================================================================================\n",
      "                           coef    std err          z      P>|z|      [0.025      0.975]\n",
      "----------------------------------------------------------------------------------------\n",
      "const                    0.0190      0.071      0.267      0.789      -0.120       0.158\n",
      "Total_Production.L1      0.2684      0.042      6.354      0.000       0.186       0.351\n",
      "Total_Production.L2      0.2949      0.045      6.521      0.000       0.206       0.384\n",
      "Total_Production.L3      0.1396      0.047      2.964      0.003       0.047       0.232\n",
      "Total_Production.L4     -0.0003      0.046     -0.007      0.995      -0.091       0.091\n",
      "Total_Production.L5      0.3181      0.045      7.073      0.000       0.230       0.406\n",
      "Total_Production.L6     -0.2540      0.045     -5.633      0.000      -0.342      -0.166\n",
      "Total_Production.L7      0.2211      0.046      4.765      0.000       0.130       0.312\n",
      "Total_Production.L8     -0.0083      0.047     -0.176      0.861      -0.101       0.084\n",
      "Total_Production.L9      0.0327      0.046      0.715      0.475      -0.057       0.122\n",
      "Total_Production.L10    -0.0132      0.044     -0.300      0.764      -0.099       0.073\n",
      "                                    Roots                                     \n",
      "==============================================================================\n",
      "                   Real          Imaginary           Modulus         Frequency\n",
      "------------------------------------------------------------------------------\n",
      "AR.1            -0.9299           -0.5316j            1.0711           -0.4173\n",
      "AR.2            -0.9299           +0.5316j            1.0711            0.4173\n",
      "AR.3             1.0003           -0.0000j            1.0003           -0.0000\n",
      "AR.4             0.0223           -1.3306j            1.3308           -0.2473\n",
      "AR.5             0.0223           +1.3306j            1.3308            0.2473\n",
      "AR.6             1.0339           -1.0056j            1.4423           -0.1228\n",
      "AR.7             1.0339           +1.0056j            1.4423            0.1228\n",
      "AR.8            -1.1014           -2.0055j            2.2880           -0.3299\n",
      "AR.9            -1.1014           +2.0055j            2.2880            0.3299\n",
      "AR.10            3.4337           -0.0000j            3.4337           -0.0000\n",
      "------------------------------------------------------------------------------\n"
     ]
    }
   ],
   "source": [
    "autoreg_model = AutoReg(train, lags=10).fit()\n",
    "print(autoreg_model.summary())"
   ]
  },
  {
   "cell_type": "code",
   "execution_count": 132,
   "metadata": {},
   "outputs": [],
   "source": [
    "pred_auto = autoreg_model.predict(start = len(train), end = len(total_production)-1, dynamic=False)\n",
    "# print(pred_auto)"
   ]
  },
  {
   "cell_type": "code",
   "execution_count": 133,
   "metadata": {},
   "outputs": [
    {
     "data": {
      "application/vnd.plotly.v1+json": {
       "config": {
        "plotlyServerURL": "https://plot.ly"
       },
       "data": [
        {
         "hovertemplate": "variable=Total_Production<br>Date=%{x}<br>value=%{y}<extra></extra>",
         "legendgroup": "Total_Production",
         "line": {
          "color": "#636efa",
          "dash": "solid"
         },
         "marker": {
          "symbol": "circle"
         },
         "mode": "lines",
         "name": "Total_Production",
         "orientation": "v",
         "showlegend": true,
         "type": "scatter",
         "x": [
          "2021-04-30T00:00:00",
          "2021-05-31T00:00:00",
          "2021-06-30T00:00:00",
          "2021-07-31T00:00:00",
          "2021-08-31T00:00:00",
          "2021-09-30T00:00:00",
          "2021-10-31T00:00:00",
          "2021-11-30T00:00:00",
          "2021-12-31T00:00:00",
          "2022-01-31T00:00:00",
          "2022-02-28T00:00:00",
          "2022-03-31T00:00:00",
          "2022-04-30T00:00:00",
          "2022-05-31T00:00:00",
          "2022-06-30T00:00:00",
          "2022-07-31T00:00:00",
          "2022-08-31T00:00:00",
          "2022-09-30T00:00:00",
          "2022-10-31T00:00:00",
          "2022-11-30T00:00:00"
         ],
         "xaxis": "x",
         "y": [
          8.017904,
          8.400589,
          8.170063,
          8.357812,
          8.421374,
          8.066687,
          8.371038,
          8.348218,
          8.672236,
          8.531384,
          7.765558,
          8.679065,
          8.30882,
          8.725353,
          8.570749,
          8.771935,
          8.810077,
          8.558521,
          8.760568,
          8.619915
         ],
         "yaxis": "y"
        },
        {
         "name": "Predictions",
         "type": "scatter",
         "x": [
          "2021-04-30T00:00:00",
          "2021-05-31T00:00:00",
          "2021-06-30T00:00:00",
          "2021-07-31T00:00:00",
          "2021-08-31T00:00:00",
          "2021-09-30T00:00:00",
          "2021-10-31T00:00:00",
          "2021-11-30T00:00:00",
          "2021-12-31T00:00:00",
          "2022-01-31T00:00:00",
          "2022-02-28T00:00:00",
          "2022-03-31T00:00:00",
          "2022-04-30T00:00:00",
          "2022-05-31T00:00:00",
          "2022-06-30T00:00:00",
          "2022-07-31T00:00:00",
          "2022-08-31T00:00:00",
          "2022-09-30T00:00:00",
          "2022-10-31T00:00:00",
          "2022-11-30T00:00:00"
         ],
         "y": [
          7.7662369382166965,
          7.916828150293442,
          7.9862815796153175,
          7.545710308959377,
          8.333333368265484,
          7.549460576408269,
          8.055802537799261,
          7.862091458274122,
          7.797683656688338,
          8.131402642946357,
          7.6401386382363,
          8.136073829996334,
          7.785503128577528,
          7.947679248950426,
          7.996737871826788,
          7.781794367366062,
          8.105223932446805,
          7.786985354061954,
          8.033057979905529,
          7.922815908122668
         ]
        }
       ],
       "layout": {
        "legend": {
         "title": {
          "text": "variable"
         },
         "tracegroupgap": 0
        },
        "margin": {
         "t": 60
        },
        "template": {
         "data": {
          "bar": [
           {
            "error_x": {
             "color": "#2a3f5f"
            },
            "error_y": {
             "color": "#2a3f5f"
            },
            "marker": {
             "line": {
              "color": "#E5ECF6",
              "width": 0.5
             },
             "pattern": {
              "fillmode": "overlay",
              "size": 10,
              "solidity": 0.2
             }
            },
            "type": "bar"
           }
          ],
          "barpolar": [
           {
            "marker": {
             "line": {
              "color": "#E5ECF6",
              "width": 0.5
             },
             "pattern": {
              "fillmode": "overlay",
              "size": 10,
              "solidity": 0.2
             }
            },
            "type": "barpolar"
           }
          ],
          "carpet": [
           {
            "aaxis": {
             "endlinecolor": "#2a3f5f",
             "gridcolor": "white",
             "linecolor": "white",
             "minorgridcolor": "white",
             "startlinecolor": "#2a3f5f"
            },
            "baxis": {
             "endlinecolor": "#2a3f5f",
             "gridcolor": "white",
             "linecolor": "white",
             "minorgridcolor": "white",
             "startlinecolor": "#2a3f5f"
            },
            "type": "carpet"
           }
          ],
          "choropleth": [
           {
            "colorbar": {
             "outlinewidth": 0,
             "ticks": ""
            },
            "type": "choropleth"
           }
          ],
          "contour": [
           {
            "colorbar": {
             "outlinewidth": 0,
             "ticks": ""
            },
            "colorscale": [
             [
              0,
              "#0d0887"
             ],
             [
              0.1111111111111111,
              "#46039f"
             ],
             [
              0.2222222222222222,
              "#7201a8"
             ],
             [
              0.3333333333333333,
              "#9c179e"
             ],
             [
              0.4444444444444444,
              "#bd3786"
             ],
             [
              0.5555555555555556,
              "#d8576b"
             ],
             [
              0.6666666666666666,
              "#ed7953"
             ],
             [
              0.7777777777777778,
              "#fb9f3a"
             ],
             [
              0.8888888888888888,
              "#fdca26"
             ],
             [
              1,
              "#f0f921"
             ]
            ],
            "type": "contour"
           }
          ],
          "contourcarpet": [
           {
            "colorbar": {
             "outlinewidth": 0,
             "ticks": ""
            },
            "type": "contourcarpet"
           }
          ],
          "heatmap": [
           {
            "colorbar": {
             "outlinewidth": 0,
             "ticks": ""
            },
            "colorscale": [
             [
              0,
              "#0d0887"
             ],
             [
              0.1111111111111111,
              "#46039f"
             ],
             [
              0.2222222222222222,
              "#7201a8"
             ],
             [
              0.3333333333333333,
              "#9c179e"
             ],
             [
              0.4444444444444444,
              "#bd3786"
             ],
             [
              0.5555555555555556,
              "#d8576b"
             ],
             [
              0.6666666666666666,
              "#ed7953"
             ],
             [
              0.7777777777777778,
              "#fb9f3a"
             ],
             [
              0.8888888888888888,
              "#fdca26"
             ],
             [
              1,
              "#f0f921"
             ]
            ],
            "type": "heatmap"
           }
          ],
          "heatmapgl": [
           {
            "colorbar": {
             "outlinewidth": 0,
             "ticks": ""
            },
            "colorscale": [
             [
              0,
              "#0d0887"
             ],
             [
              0.1111111111111111,
              "#46039f"
             ],
             [
              0.2222222222222222,
              "#7201a8"
             ],
             [
              0.3333333333333333,
              "#9c179e"
             ],
             [
              0.4444444444444444,
              "#bd3786"
             ],
             [
              0.5555555555555556,
              "#d8576b"
             ],
             [
              0.6666666666666666,
              "#ed7953"
             ],
             [
              0.7777777777777778,
              "#fb9f3a"
             ],
             [
              0.8888888888888888,
              "#fdca26"
             ],
             [
              1,
              "#f0f921"
             ]
            ],
            "type": "heatmapgl"
           }
          ],
          "histogram": [
           {
            "marker": {
             "pattern": {
              "fillmode": "overlay",
              "size": 10,
              "solidity": 0.2
             }
            },
            "type": "histogram"
           }
          ],
          "histogram2d": [
           {
            "colorbar": {
             "outlinewidth": 0,
             "ticks": ""
            },
            "colorscale": [
             [
              0,
              "#0d0887"
             ],
             [
              0.1111111111111111,
              "#46039f"
             ],
             [
              0.2222222222222222,
              "#7201a8"
             ],
             [
              0.3333333333333333,
              "#9c179e"
             ],
             [
              0.4444444444444444,
              "#bd3786"
             ],
             [
              0.5555555555555556,
              "#d8576b"
             ],
             [
              0.6666666666666666,
              "#ed7953"
             ],
             [
              0.7777777777777778,
              "#fb9f3a"
             ],
             [
              0.8888888888888888,
              "#fdca26"
             ],
             [
              1,
              "#f0f921"
             ]
            ],
            "type": "histogram2d"
           }
          ],
          "histogram2dcontour": [
           {
            "colorbar": {
             "outlinewidth": 0,
             "ticks": ""
            },
            "colorscale": [
             [
              0,
              "#0d0887"
             ],
             [
              0.1111111111111111,
              "#46039f"
             ],
             [
              0.2222222222222222,
              "#7201a8"
             ],
             [
              0.3333333333333333,
              "#9c179e"
             ],
             [
              0.4444444444444444,
              "#bd3786"
             ],
             [
              0.5555555555555556,
              "#d8576b"
             ],
             [
              0.6666666666666666,
              "#ed7953"
             ],
             [
              0.7777777777777778,
              "#fb9f3a"
             ],
             [
              0.8888888888888888,
              "#fdca26"
             ],
             [
              1,
              "#f0f921"
             ]
            ],
            "type": "histogram2dcontour"
           }
          ],
          "mesh3d": [
           {
            "colorbar": {
             "outlinewidth": 0,
             "ticks": ""
            },
            "type": "mesh3d"
           }
          ],
          "parcoords": [
           {
            "line": {
             "colorbar": {
              "outlinewidth": 0,
              "ticks": ""
             }
            },
            "type": "parcoords"
           }
          ],
          "pie": [
           {
            "automargin": true,
            "type": "pie"
           }
          ],
          "scatter": [
           {
            "fillpattern": {
             "fillmode": "overlay",
             "size": 10,
             "solidity": 0.2
            },
            "type": "scatter"
           }
          ],
          "scatter3d": [
           {
            "line": {
             "colorbar": {
              "outlinewidth": 0,
              "ticks": ""
             }
            },
            "marker": {
             "colorbar": {
              "outlinewidth": 0,
              "ticks": ""
             }
            },
            "type": "scatter3d"
           }
          ],
          "scattercarpet": [
           {
            "marker": {
             "colorbar": {
              "outlinewidth": 0,
              "ticks": ""
             }
            },
            "type": "scattercarpet"
           }
          ],
          "scattergeo": [
           {
            "marker": {
             "colorbar": {
              "outlinewidth": 0,
              "ticks": ""
             }
            },
            "type": "scattergeo"
           }
          ],
          "scattergl": [
           {
            "marker": {
             "colorbar": {
              "outlinewidth": 0,
              "ticks": ""
             }
            },
            "type": "scattergl"
           }
          ],
          "scattermapbox": [
           {
            "marker": {
             "colorbar": {
              "outlinewidth": 0,
              "ticks": ""
             }
            },
            "type": "scattermapbox"
           }
          ],
          "scatterpolar": [
           {
            "marker": {
             "colorbar": {
              "outlinewidth": 0,
              "ticks": ""
             }
            },
            "type": "scatterpolar"
           }
          ],
          "scatterpolargl": [
           {
            "marker": {
             "colorbar": {
              "outlinewidth": 0,
              "ticks": ""
             }
            },
            "type": "scatterpolargl"
           }
          ],
          "scatterternary": [
           {
            "marker": {
             "colorbar": {
              "outlinewidth": 0,
              "ticks": ""
             }
            },
            "type": "scatterternary"
           }
          ],
          "surface": [
           {
            "colorbar": {
             "outlinewidth": 0,
             "ticks": ""
            },
            "colorscale": [
             [
              0,
              "#0d0887"
             ],
             [
              0.1111111111111111,
              "#46039f"
             ],
             [
              0.2222222222222222,
              "#7201a8"
             ],
             [
              0.3333333333333333,
              "#9c179e"
             ],
             [
              0.4444444444444444,
              "#bd3786"
             ],
             [
              0.5555555555555556,
              "#d8576b"
             ],
             [
              0.6666666666666666,
              "#ed7953"
             ],
             [
              0.7777777777777778,
              "#fb9f3a"
             ],
             [
              0.8888888888888888,
              "#fdca26"
             ],
             [
              1,
              "#f0f921"
             ]
            ],
            "type": "surface"
           }
          ],
          "table": [
           {
            "cells": {
             "fill": {
              "color": "#EBF0F8"
             },
             "line": {
              "color": "white"
             }
            },
            "header": {
             "fill": {
              "color": "#C8D4E3"
             },
             "line": {
              "color": "white"
             }
            },
            "type": "table"
           }
          ]
         },
         "layout": {
          "annotationdefaults": {
           "arrowcolor": "#2a3f5f",
           "arrowhead": 0,
           "arrowwidth": 1
          },
          "autotypenumbers": "strict",
          "coloraxis": {
           "colorbar": {
            "outlinewidth": 0,
            "ticks": ""
           }
          },
          "colorscale": {
           "diverging": [
            [
             0,
             "#8e0152"
            ],
            [
             0.1,
             "#c51b7d"
            ],
            [
             0.2,
             "#de77ae"
            ],
            [
             0.3,
             "#f1b6da"
            ],
            [
             0.4,
             "#fde0ef"
            ],
            [
             0.5,
             "#f7f7f7"
            ],
            [
             0.6,
             "#e6f5d0"
            ],
            [
             0.7,
             "#b8e186"
            ],
            [
             0.8,
             "#7fbc41"
            ],
            [
             0.9,
             "#4d9221"
            ],
            [
             1,
             "#276419"
            ]
           ],
           "sequential": [
            [
             0,
             "#0d0887"
            ],
            [
             0.1111111111111111,
             "#46039f"
            ],
            [
             0.2222222222222222,
             "#7201a8"
            ],
            [
             0.3333333333333333,
             "#9c179e"
            ],
            [
             0.4444444444444444,
             "#bd3786"
            ],
            [
             0.5555555555555556,
             "#d8576b"
            ],
            [
             0.6666666666666666,
             "#ed7953"
            ],
            [
             0.7777777777777778,
             "#fb9f3a"
            ],
            [
             0.8888888888888888,
             "#fdca26"
            ],
            [
             1,
             "#f0f921"
            ]
           ],
           "sequentialminus": [
            [
             0,
             "#0d0887"
            ],
            [
             0.1111111111111111,
             "#46039f"
            ],
            [
             0.2222222222222222,
             "#7201a8"
            ],
            [
             0.3333333333333333,
             "#9c179e"
            ],
            [
             0.4444444444444444,
             "#bd3786"
            ],
            [
             0.5555555555555556,
             "#d8576b"
            ],
            [
             0.6666666666666666,
             "#ed7953"
            ],
            [
             0.7777777777777778,
             "#fb9f3a"
            ],
            [
             0.8888888888888888,
             "#fdca26"
            ],
            [
             1,
             "#f0f921"
            ]
           ]
          },
          "colorway": [
           "#636efa",
           "#EF553B",
           "#00cc96",
           "#ab63fa",
           "#FFA15A",
           "#19d3f3",
           "#FF6692",
           "#B6E880",
           "#FF97FF",
           "#FECB52"
          ],
          "font": {
           "color": "#2a3f5f"
          },
          "geo": {
           "bgcolor": "white",
           "lakecolor": "white",
           "landcolor": "#E5ECF6",
           "showlakes": true,
           "showland": true,
           "subunitcolor": "white"
          },
          "hoverlabel": {
           "align": "left"
          },
          "hovermode": "closest",
          "mapbox": {
           "style": "light"
          },
          "paper_bgcolor": "white",
          "plot_bgcolor": "#E5ECF6",
          "polar": {
           "angularaxis": {
            "gridcolor": "white",
            "linecolor": "white",
            "ticks": ""
           },
           "bgcolor": "#E5ECF6",
           "radialaxis": {
            "gridcolor": "white",
            "linecolor": "white",
            "ticks": ""
           }
          },
          "scene": {
           "xaxis": {
            "backgroundcolor": "#E5ECF6",
            "gridcolor": "white",
            "gridwidth": 2,
            "linecolor": "white",
            "showbackground": true,
            "ticks": "",
            "zerolinecolor": "white"
           },
           "yaxis": {
            "backgroundcolor": "#E5ECF6",
            "gridcolor": "white",
            "gridwidth": 2,
            "linecolor": "white",
            "showbackground": true,
            "ticks": "",
            "zerolinecolor": "white"
           },
           "zaxis": {
            "backgroundcolor": "#E5ECF6",
            "gridcolor": "white",
            "gridwidth": 2,
            "linecolor": "white",
            "showbackground": true,
            "ticks": "",
            "zerolinecolor": "white"
           }
          },
          "shapedefaults": {
           "line": {
            "color": "#2a3f5f"
           }
          },
          "ternary": {
           "aaxis": {
            "gridcolor": "white",
            "linecolor": "white",
            "ticks": ""
           },
           "baxis": {
            "gridcolor": "white",
            "linecolor": "white",
            "ticks": ""
           },
           "bgcolor": "#E5ECF6",
           "caxis": {
            "gridcolor": "white",
            "linecolor": "white",
            "ticks": ""
           }
          },
          "title": {
           "x": 0.05
          },
          "xaxis": {
           "automargin": true,
           "gridcolor": "white",
           "linecolor": "white",
           "ticks": "",
           "title": {
            "standoff": 15
           },
           "zerolinecolor": "white",
           "zerolinewidth": 2
          },
          "yaxis": {
           "automargin": true,
           "gridcolor": "white",
           "linecolor": "white",
           "ticks": "",
           "title": {
            "standoff": 15
           },
           "zerolinecolor": "white",
           "zerolinewidth": 2
          }
         }
        },
        "width": 1500,
        "xaxis": {
         "anchor": "y",
         "domain": [
          0,
          1
         ],
         "title": {
          "text": "Date"
         }
        },
        "yaxis": {
         "anchor": "x",
         "domain": [
          0,
          1
         ],
         "title": {
          "text": "value"
         }
        }
       }
      }
     },
     "metadata": {},
     "output_type": "display_data"
    }
   ],
   "source": [
    "fig = px.line(test['Total_Production'], width=1500)\n",
    "fig.add_scatter(x=test.index, y=pred_auto, name='Predictions')\n",
    "fig.show()"
   ]
  },
  {
   "cell_type": "code",
   "execution_count": 134,
   "metadata": {},
   "outputs": [
    {
     "name": "stdout",
     "output_type": "stream",
     "text": [
      "Mean Squared Error:  0.3566408009962111\n"
     ]
    }
   ],
   "source": [
    "from sklearn.metrics import mean_squared_error, mean_absolute_error, accuracy_score\n",
    "\n",
    "print('Mean Squared Error: ', mean_squared_error(test['Total_Production'], pred_auto))"
   ]
  },
  {
   "attachments": {},
   "cell_type": "markdown",
   "metadata": {},
   "source": [
    "#### <b> 3 <span style='color:#8EDCE6'>|</span> Arima Model </b>"
   ]
  },
  {
   "cell_type": "code",
   "execution_count": 135,
   "metadata": {},
   "outputs": [],
   "source": [
    "from pmdarima import auto_arima\n",
    "import warnings\n",
    "warnings.filterwarnings(\"ignore\")"
   ]
  },
  {
   "cell_type": "code",
   "execution_count": 136,
   "metadata": {},
   "outputs": [
    {
     "name": "stdout",
     "output_type": "stream",
     "text": [
      "Performing stepwise search to minimize aic\n",
      " ARIMA(2,1,2)(0,0,0)[0] intercept   : AIC=-49.866, Time=0.43 sec\n",
      " ARIMA(0,1,0)(0,0,0)[0] intercept   : AIC=320.634, Time=0.04 sec\n",
      " ARIMA(1,1,0)(0,0,0)[0] intercept   : AIC=21.685, Time=0.05 sec\n",
      " ARIMA(0,1,1)(0,0,0)[0] intercept   : AIC=-23.479, Time=0.13 sec\n",
      " ARIMA(0,1,0)(0,0,0)[0]             : AIC=318.808, Time=0.04 sec\n",
      " ARIMA(1,1,2)(0,0,0)[0] intercept   : AIC=-49.992, Time=0.27 sec\n",
      " ARIMA(0,1,2)(0,0,0)[0] intercept   : AIC=-44.048, Time=0.14 sec\n",
      " ARIMA(1,1,1)(0,0,0)[0] intercept   : AIC=-50.918, Time=0.15 sec\n",
      " ARIMA(2,1,1)(0,0,0)[0] intercept   : AIC=-51.405, Time=0.19 sec\n",
      " ARIMA(2,1,0)(0,0,0)[0] intercept   : AIC=-29.629, Time=0.07 sec\n",
      " ARIMA(3,1,1)(0,0,0)[0] intercept   : AIC=-51.313, Time=0.23 sec\n",
      " ARIMA(3,1,0)(0,0,0)[0] intercept   : AIC=-28.882, Time=0.10 sec\n",
      " ARIMA(3,1,2)(0,0,0)[0] intercept   : AIC=-86.425, Time=0.56 sec\n",
      " ARIMA(4,1,2)(0,0,0)[0] intercept   : AIC=-143.118, Time=0.70 sec\n",
      " ARIMA(4,1,1)(0,0,0)[0] intercept   : AIC=-139.841, Time=0.50 sec\n",
      " ARIMA(5,1,2)(0,0,0)[0] intercept   : AIC=-137.780, Time=0.58 sec\n",
      " ARIMA(4,1,3)(0,0,0)[0] intercept   : AIC=inf, Time=0.63 sec\n",
      " ARIMA(3,1,3)(0,0,0)[0] intercept   : AIC=-287.317, Time=0.60 sec\n",
      " ARIMA(2,1,3)(0,0,0)[0] intercept   : AIC=inf, Time=0.49 sec\n",
      " ARIMA(3,1,4)(0,0,0)[0] intercept   : AIC=inf, Time=0.82 sec\n",
      " ARIMA(2,1,4)(0,0,0)[0] intercept   : AIC=inf, Time=0.64 sec\n",
      " ARIMA(4,1,4)(0,0,0)[0] intercept   : AIC=inf, Time=0.77 sec\n",
      " ARIMA(3,1,3)(0,0,0)[0]             : AIC=inf, Time=0.51 sec\n",
      "\n",
      "Best model:  ARIMA(3,1,3)(0,0,0)[0] intercept\n",
      "Total fit time: 8.662 seconds\n"
     ]
    },
    {
     "data": {
      "text/html": [
       "<table class=\"simpletable\">\n",
       "<caption>SARIMAX Results</caption>\n",
       "<tr>\n",
       "  <th>Dep. Variable:</th>           <td>y</td>        <th>  No. Observations:  </th>    <td>599</td>  \n",
       "</tr>\n",
       "<tr>\n",
       "  <th>Model:</th>           <td>SARIMAX(3, 1, 3)</td> <th>  Log Likelihood     </th>  <td>151.658</td>\n",
       "</tr>\n",
       "<tr>\n",
       "  <th>Date:</th>            <td>Sat, 22 Apr 2023</td> <th>  AIC                </th> <td>-287.317</td>\n",
       "</tr>\n",
       "<tr>\n",
       "  <th>Time:</th>                <td>16:12:28</td>     <th>  BIC                </th> <td>-252.168</td>\n",
       "</tr>\n",
       "<tr>\n",
       "  <th>Sample:</th>             <td>01-31-1973</td>    <th>  HQIC               </th> <td>-273.632</td>\n",
       "</tr>\n",
       "<tr>\n",
       "  <th></th>                   <td>- 11-30-2022</td>   <th>                     </th>     <td> </td>   \n",
       "</tr>\n",
       "<tr>\n",
       "  <th>Covariance Type:</th>        <td>opg</td>       <th>                     </th>     <td> </td>   \n",
       "</tr>\n",
       "</table>\n",
       "<table class=\"simpletable\">\n",
       "<tr>\n",
       "      <td></td>         <th>coef</th>     <th>std err</th>      <th>z</th>      <th>P>|z|</th>  <th>[0.025</th>    <th>0.975]</th>  \n",
       "</tr>\n",
       "<tr>\n",
       "  <th>intercept</th> <td>    0.0182</td> <td>    0.008</td> <td>    2.301</td> <td> 0.021</td> <td>    0.003</td> <td>    0.034</td>\n",
       "</tr>\n",
       "<tr>\n",
       "  <th>ar.L1</th>     <td>   -1.4432</td> <td>    0.054</td> <td>  -26.530</td> <td> 0.000</td> <td>   -1.550</td> <td>   -1.337</td>\n",
       "</tr>\n",
       "<tr>\n",
       "  <th>ar.L2</th>     <td>   -0.5066</td> <td>    0.094</td> <td>   -5.377</td> <td> 0.000</td> <td>   -0.691</td> <td>   -0.322</td>\n",
       "</tr>\n",
       "<tr>\n",
       "  <th>ar.L3</th>     <td>    0.2809</td> <td>    0.054</td> <td>    5.188</td> <td> 0.000</td> <td>    0.175</td> <td>    0.387</td>\n",
       "</tr>\n",
       "<tr>\n",
       "  <th>ma.L1</th>     <td>    0.8970</td> <td>    0.044</td> <td>   20.470</td> <td> 0.000</td> <td>    0.811</td> <td>    0.983</td>\n",
       "</tr>\n",
       "<tr>\n",
       "  <th>ma.L2</th>     <td>   -0.3331</td> <td>    0.059</td> <td>   -5.667</td> <td> 0.000</td> <td>   -0.448</td> <td>   -0.218</td>\n",
       "</tr>\n",
       "<tr>\n",
       "  <th>ma.L3</th>     <td>   -0.7404</td> <td>    0.038</td> <td>  -19.624</td> <td> 0.000</td> <td>   -0.814</td> <td>   -0.666</td>\n",
       "</tr>\n",
       "<tr>\n",
       "  <th>sigma2</th>    <td>    0.0380</td> <td>    0.002</td> <td>   21.927</td> <td> 0.000</td> <td>    0.035</td> <td>    0.041</td>\n",
       "</tr>\n",
       "</table>\n",
       "<table class=\"simpletable\">\n",
       "<tr>\n",
       "  <th>Ljung-Box (L1) (Q):</th>     <td>0.46</td> <th>  Jarque-Bera (JB):  </th> <td>262.75</td>\n",
       "</tr>\n",
       "<tr>\n",
       "  <th>Prob(Q):</th>                <td>0.50</td> <th>  Prob(JB):          </th>  <td>0.00</td> \n",
       "</tr>\n",
       "<tr>\n",
       "  <th>Heteroskedasticity (H):</th> <td>1.51</td> <th>  Skew:              </th>  <td>-0.76</td>\n",
       "</tr>\n",
       "<tr>\n",
       "  <th>Prob(H) (two-sided):</th>    <td>0.00</td> <th>  Kurtosis:          </th>  <td>5.87</td> \n",
       "</tr>\n",
       "</table><br/><br/>Warnings:<br/>[1] Covariance matrix calculated using the outer product of gradients (complex-step)."
      ],
      "text/plain": [
       "<class 'statsmodels.iolib.summary.Summary'>\n",
       "\"\"\"\n",
       "                               SARIMAX Results                                \n",
       "==============================================================================\n",
       "Dep. Variable:                      y   No. Observations:                  599\n",
       "Model:               SARIMAX(3, 1, 3)   Log Likelihood                 151.658\n",
       "Date:                Sat, 22 Apr 2023   AIC                           -287.317\n",
       "Time:                        16:12:28   BIC                           -252.168\n",
       "Sample:                    01-31-1973   HQIC                          -273.632\n",
       "                         - 11-30-2022                                         \n",
       "Covariance Type:                  opg                                         \n",
       "==============================================================================\n",
       "                 coef    std err          z      P>|z|      [0.025      0.975]\n",
       "------------------------------------------------------------------------------\n",
       "intercept      0.0182      0.008      2.301      0.021       0.003       0.034\n",
       "ar.L1         -1.4432      0.054    -26.530      0.000      -1.550      -1.337\n",
       "ar.L2         -0.5066      0.094     -5.377      0.000      -0.691      -0.322\n",
       "ar.L3          0.2809      0.054      5.188      0.000       0.175       0.387\n",
       "ma.L1          0.8970      0.044     20.470      0.000       0.811       0.983\n",
       "ma.L2         -0.3331      0.059     -5.667      0.000      -0.448      -0.218\n",
       "ma.L3         -0.7404      0.038    -19.624      0.000      -0.814      -0.666\n",
       "sigma2         0.0380      0.002     21.927      0.000       0.035       0.041\n",
       "===================================================================================\n",
       "Ljung-Box (L1) (Q):                   0.46   Jarque-Bera (JB):               262.75\n",
       "Prob(Q):                              0.50   Prob(JB):                         0.00\n",
       "Heteroskedasticity (H):               1.51   Skew:                            -0.76\n",
       "Prob(H) (two-sided):                  0.00   Kurtosis:                         5.87\n",
       "===================================================================================\n",
       "\n",
       "Warnings:\n",
       "[1] Covariance matrix calculated using the outer product of gradients (complex-step).\n",
       "\"\"\""
      ]
     },
     "execution_count": 136,
     "metadata": {},
     "output_type": "execute_result"
    }
   ],
   "source": [
    "stepwise_fit = auto_arima(total_production['Total_Production'], trace=True, suppress_warnings=True)\n",
    "stepwise_fit.summary()"
   ]
  },
  {
   "cell_type": "code",
   "execution_count": 137,
   "metadata": {},
   "outputs": [
    {
     "data": {
      "text/html": [
       "<table class=\"simpletable\">\n",
       "<caption>SARIMAX Results</caption>\n",
       "<tr>\n",
       "  <th>Dep. Variable:</th>   <td>Total_Production</td> <th>  No. Observations:  </th>    <td>579</td>  \n",
       "</tr>\n",
       "<tr>\n",
       "  <th>Model:</th>            <td>ARIMA(3, 1, 3)</td>  <th>  Log Likelihood     </th>  <td>156.147</td>\n",
       "</tr>\n",
       "<tr>\n",
       "  <th>Date:</th>            <td>Sat, 22 Apr 2023</td> <th>  AIC                </th> <td>-298.293</td>\n",
       "</tr>\n",
       "<tr>\n",
       "  <th>Time:</th>                <td>16:12:29</td>     <th>  BIC                </th> <td>-267.776</td>\n",
       "</tr>\n",
       "<tr>\n",
       "  <th>Sample:</th>             <td>01-31-1973</td>    <th>  HQIC               </th> <td>-286.394</td>\n",
       "</tr>\n",
       "<tr>\n",
       "  <th></th>                   <td>- 03-31-2021</td>   <th>                     </th>     <td> </td>   \n",
       "</tr>\n",
       "<tr>\n",
       "  <th>Covariance Type:</th>        <td>opg</td>       <th>                     </th>     <td> </td>   \n",
       "</tr>\n",
       "</table>\n",
       "<table class=\"simpletable\">\n",
       "<tr>\n",
       "     <td></td>       <th>coef</th>     <th>std err</th>      <th>z</th>      <th>P>|z|</th>  <th>[0.025</th>    <th>0.975]</th>  \n",
       "</tr>\n",
       "<tr>\n",
       "  <th>ar.L1</th>  <td>   -1.5049</td> <td>    0.050</td> <td>  -29.809</td> <td> 0.000</td> <td>   -1.604</td> <td>   -1.406</td>\n",
       "</tr>\n",
       "<tr>\n",
       "  <th>ar.L2</th>  <td>   -0.6070</td> <td>    0.088</td> <td>   -6.913</td> <td> 0.000</td> <td>   -0.779</td> <td>   -0.435</td>\n",
       "</tr>\n",
       "<tr>\n",
       "  <th>ar.L3</th>  <td>    0.2266</td> <td>    0.051</td> <td>    4.465</td> <td> 0.000</td> <td>    0.127</td> <td>    0.326</td>\n",
       "</tr>\n",
       "<tr>\n",
       "  <th>ma.L1</th>  <td>    0.9869</td> <td>    0.066</td> <td>   14.903</td> <td> 0.000</td> <td>    0.857</td> <td>    1.117</td>\n",
       "</tr>\n",
       "<tr>\n",
       "  <th>ma.L2</th>  <td>   -0.2470</td> <td>    0.069</td> <td>   -3.585</td> <td> 0.000</td> <td>   -0.382</td> <td>   -0.112</td>\n",
       "</tr>\n",
       "<tr>\n",
       "  <th>ma.L3</th>  <td>   -0.7265</td> <td>    0.063</td> <td>  -11.519</td> <td> 0.000</td> <td>   -0.850</td> <td>   -0.603</td>\n",
       "</tr>\n",
       "<tr>\n",
       "  <th>sigma2</th> <td>    0.0334</td> <td>    0.002</td> <td>   13.999</td> <td> 0.000</td> <td>    0.029</td> <td>    0.038</td>\n",
       "</tr>\n",
       "</table>\n",
       "<table class=\"simpletable\">\n",
       "<tr>\n",
       "  <th>Ljung-Box (L1) (Q):</th>     <td>0.11</td> <th>  Jarque-Bera (JB):  </th> <td>299.68</td>\n",
       "</tr>\n",
       "<tr>\n",
       "  <th>Prob(Q):</th>                <td>0.75</td> <th>  Prob(JB):          </th>  <td>0.00</td> \n",
       "</tr>\n",
       "<tr>\n",
       "  <th>Heteroskedasticity (H):</th> <td>1.52</td> <th>  Skew:              </th>  <td>-0.77</td>\n",
       "</tr>\n",
       "<tr>\n",
       "  <th>Prob(H) (two-sided):</th>    <td>0.00</td> <th>  Kurtosis:          </th>  <td>6.17</td> \n",
       "</tr>\n",
       "</table><br/><br/>Warnings:<br/>[1] Covariance matrix calculated using the outer product of gradients (complex-step)."
      ],
      "text/plain": [
       "<class 'statsmodels.iolib.summary.Summary'>\n",
       "\"\"\"\n",
       "                               SARIMAX Results                                \n",
       "==============================================================================\n",
       "Dep. Variable:       Total_Production   No. Observations:                  579\n",
       "Model:                 ARIMA(3, 1, 3)   Log Likelihood                 156.147\n",
       "Date:                Sat, 22 Apr 2023   AIC                           -298.293\n",
       "Time:                        16:12:29   BIC                           -267.776\n",
       "Sample:                    01-31-1973   HQIC                          -286.394\n",
       "                         - 03-31-2021                                         \n",
       "Covariance Type:                  opg                                         \n",
       "==============================================================================\n",
       "                 coef    std err          z      P>|z|      [0.025      0.975]\n",
       "------------------------------------------------------------------------------\n",
       "ar.L1         -1.5049      0.050    -29.809      0.000      -1.604      -1.406\n",
       "ar.L2         -0.6070      0.088     -6.913      0.000      -0.779      -0.435\n",
       "ar.L3          0.2266      0.051      4.465      0.000       0.127       0.326\n",
       "ma.L1          0.9869      0.066     14.903      0.000       0.857       1.117\n",
       "ma.L2         -0.2470      0.069     -3.585      0.000      -0.382      -0.112\n",
       "ma.L3         -0.7265      0.063    -11.519      0.000      -0.850      -0.603\n",
       "sigma2         0.0334      0.002     13.999      0.000       0.029       0.038\n",
       "===================================================================================\n",
       "Ljung-Box (L1) (Q):                   0.11   Jarque-Bera (JB):               299.68\n",
       "Prob(Q):                              0.75   Prob(JB):                         0.00\n",
       "Heteroskedasticity (H):               1.52   Skew:                            -0.77\n",
       "Prob(H) (two-sided):                  0.00   Kurtosis:                         6.17\n",
       "===================================================================================\n",
       "\n",
       "Warnings:\n",
       "[1] Covariance matrix calculated using the outer product of gradients (complex-step).\n",
       "\"\"\""
      ]
     },
     "execution_count": 137,
     "metadata": {},
     "output_type": "execute_result"
    }
   ],
   "source": [
    "import statsmodels.api as sm\n",
    "\n",
    "arima_model = sm.tsa.arima.ARIMA(train['Total_Production'], order=(3, 1, 3))\n",
    "arima_model = arima_model.fit()\n",
    "arima_model.summary()"
   ]
  },
  {
   "cell_type": "code",
   "execution_count": 138,
   "metadata": {},
   "outputs": [],
   "source": [
    "start = len(train)\n",
    "end = len(train) + len(test) - 1\n",
    "pred_arima = arima_model.predict(start=start, end=end, type='levels')\n",
    "# print(prediction)"
   ]
  },
  {
   "cell_type": "code",
   "execution_count": 139,
   "metadata": {},
   "outputs": [
    {
     "data": {
      "application/vnd.plotly.v1+json": {
       "config": {
        "plotlyServerURL": "https://plot.ly"
       },
       "data": [
        {
         "hovertemplate": "variable=Total_Production<br>Date=%{x}<br>value=%{y}<extra></extra>",
         "legendgroup": "Total_Production",
         "line": {
          "color": "#636efa",
          "dash": "solid"
         },
         "marker": {
          "symbol": "circle"
         },
         "mode": "lines",
         "name": "Total_Production",
         "orientation": "v",
         "showlegend": true,
         "type": "scatter",
         "x": [
          "2021-04-30T00:00:00",
          "2021-05-31T00:00:00",
          "2021-06-30T00:00:00",
          "2021-07-31T00:00:00",
          "2021-08-31T00:00:00",
          "2021-09-30T00:00:00",
          "2021-10-31T00:00:00",
          "2021-11-30T00:00:00",
          "2021-12-31T00:00:00",
          "2022-01-31T00:00:00",
          "2022-02-28T00:00:00",
          "2022-03-31T00:00:00",
          "2022-04-30T00:00:00",
          "2022-05-31T00:00:00",
          "2022-06-30T00:00:00",
          "2022-07-31T00:00:00",
          "2022-08-31T00:00:00",
          "2022-09-30T00:00:00",
          "2022-10-31T00:00:00",
          "2022-11-30T00:00:00"
         ],
         "xaxis": "x",
         "y": [
          8.017904,
          8.400589,
          8.170063,
          8.357812,
          8.421374,
          8.066687,
          8.371038,
          8.348218,
          8.672236,
          8.531384,
          7.765558,
          8.679065,
          8.30882,
          8.725353,
          8.570749,
          8.771935,
          8.810077,
          8.558521,
          8.760568,
          8.619915
         ],
         "yaxis": "y"
        },
        {
         "name": "Predictions",
         "type": "scatter",
         "x": [
          "2021-04-30T00:00:00",
          "2021-05-31T00:00:00",
          "2021-06-30T00:00:00",
          "2021-07-31T00:00:00",
          "2021-08-31T00:00:00",
          "2021-09-30T00:00:00",
          "2021-10-31T00:00:00",
          "2021-11-30T00:00:00",
          "2021-12-31T00:00:00",
          "2022-01-31T00:00:00",
          "2022-02-28T00:00:00",
          "2022-03-31T00:00:00",
          "2022-04-30T00:00:00",
          "2022-05-31T00:00:00",
          "2022-06-30T00:00:00",
          "2022-07-31T00:00:00",
          "2022-08-31T00:00:00",
          "2022-09-30T00:00:00",
          "2022-10-31T00:00:00",
          "2022-11-30T00:00:00"
         ],
         "y": [
          7.712210463333411,
          8.06088576137164,
          7.814444603203165,
          7.825579344126754,
          8.03740650819206,
          7.65602887876516,
          8.103920393014624,
          7.709360583967759,
          7.944872952367818,
          7.931413242093759,
          7.719322933893586,
          8.100031752701655,
          7.652779724498118,
          8.046723495958192,
          7.811598530404334,
          7.824994039752774,
          8.036806244895542,
          7.656642691453942,
          8.103228394929197,
          7.7098934156127825
         ]
        }
       ],
       "layout": {
        "legend": {
         "title": {
          "text": "variable"
         },
         "tracegroupgap": 0
        },
        "margin": {
         "t": 60
        },
        "template": {
         "data": {
          "bar": [
           {
            "error_x": {
             "color": "#2a3f5f"
            },
            "error_y": {
             "color": "#2a3f5f"
            },
            "marker": {
             "line": {
              "color": "#E5ECF6",
              "width": 0.5
             },
             "pattern": {
              "fillmode": "overlay",
              "size": 10,
              "solidity": 0.2
             }
            },
            "type": "bar"
           }
          ],
          "barpolar": [
           {
            "marker": {
             "line": {
              "color": "#E5ECF6",
              "width": 0.5
             },
             "pattern": {
              "fillmode": "overlay",
              "size": 10,
              "solidity": 0.2
             }
            },
            "type": "barpolar"
           }
          ],
          "carpet": [
           {
            "aaxis": {
             "endlinecolor": "#2a3f5f",
             "gridcolor": "white",
             "linecolor": "white",
             "minorgridcolor": "white",
             "startlinecolor": "#2a3f5f"
            },
            "baxis": {
             "endlinecolor": "#2a3f5f",
             "gridcolor": "white",
             "linecolor": "white",
             "minorgridcolor": "white",
             "startlinecolor": "#2a3f5f"
            },
            "type": "carpet"
           }
          ],
          "choropleth": [
           {
            "colorbar": {
             "outlinewidth": 0,
             "ticks": ""
            },
            "type": "choropleth"
           }
          ],
          "contour": [
           {
            "colorbar": {
             "outlinewidth": 0,
             "ticks": ""
            },
            "colorscale": [
             [
              0,
              "#0d0887"
             ],
             [
              0.1111111111111111,
              "#46039f"
             ],
             [
              0.2222222222222222,
              "#7201a8"
             ],
             [
              0.3333333333333333,
              "#9c179e"
             ],
             [
              0.4444444444444444,
              "#bd3786"
             ],
             [
              0.5555555555555556,
              "#d8576b"
             ],
             [
              0.6666666666666666,
              "#ed7953"
             ],
             [
              0.7777777777777778,
              "#fb9f3a"
             ],
             [
              0.8888888888888888,
              "#fdca26"
             ],
             [
              1,
              "#f0f921"
             ]
            ],
            "type": "contour"
           }
          ],
          "contourcarpet": [
           {
            "colorbar": {
             "outlinewidth": 0,
             "ticks": ""
            },
            "type": "contourcarpet"
           }
          ],
          "heatmap": [
           {
            "colorbar": {
             "outlinewidth": 0,
             "ticks": ""
            },
            "colorscale": [
             [
              0,
              "#0d0887"
             ],
             [
              0.1111111111111111,
              "#46039f"
             ],
             [
              0.2222222222222222,
              "#7201a8"
             ],
             [
              0.3333333333333333,
              "#9c179e"
             ],
             [
              0.4444444444444444,
              "#bd3786"
             ],
             [
              0.5555555555555556,
              "#d8576b"
             ],
             [
              0.6666666666666666,
              "#ed7953"
             ],
             [
              0.7777777777777778,
              "#fb9f3a"
             ],
             [
              0.8888888888888888,
              "#fdca26"
             ],
             [
              1,
              "#f0f921"
             ]
            ],
            "type": "heatmap"
           }
          ],
          "heatmapgl": [
           {
            "colorbar": {
             "outlinewidth": 0,
             "ticks": ""
            },
            "colorscale": [
             [
              0,
              "#0d0887"
             ],
             [
              0.1111111111111111,
              "#46039f"
             ],
             [
              0.2222222222222222,
              "#7201a8"
             ],
             [
              0.3333333333333333,
              "#9c179e"
             ],
             [
              0.4444444444444444,
              "#bd3786"
             ],
             [
              0.5555555555555556,
              "#d8576b"
             ],
             [
              0.6666666666666666,
              "#ed7953"
             ],
             [
              0.7777777777777778,
              "#fb9f3a"
             ],
             [
              0.8888888888888888,
              "#fdca26"
             ],
             [
              1,
              "#f0f921"
             ]
            ],
            "type": "heatmapgl"
           }
          ],
          "histogram": [
           {
            "marker": {
             "pattern": {
              "fillmode": "overlay",
              "size": 10,
              "solidity": 0.2
             }
            },
            "type": "histogram"
           }
          ],
          "histogram2d": [
           {
            "colorbar": {
             "outlinewidth": 0,
             "ticks": ""
            },
            "colorscale": [
             [
              0,
              "#0d0887"
             ],
             [
              0.1111111111111111,
              "#46039f"
             ],
             [
              0.2222222222222222,
              "#7201a8"
             ],
             [
              0.3333333333333333,
              "#9c179e"
             ],
             [
              0.4444444444444444,
              "#bd3786"
             ],
             [
              0.5555555555555556,
              "#d8576b"
             ],
             [
              0.6666666666666666,
              "#ed7953"
             ],
             [
              0.7777777777777778,
              "#fb9f3a"
             ],
             [
              0.8888888888888888,
              "#fdca26"
             ],
             [
              1,
              "#f0f921"
             ]
            ],
            "type": "histogram2d"
           }
          ],
          "histogram2dcontour": [
           {
            "colorbar": {
             "outlinewidth": 0,
             "ticks": ""
            },
            "colorscale": [
             [
              0,
              "#0d0887"
             ],
             [
              0.1111111111111111,
              "#46039f"
             ],
             [
              0.2222222222222222,
              "#7201a8"
             ],
             [
              0.3333333333333333,
              "#9c179e"
             ],
             [
              0.4444444444444444,
              "#bd3786"
             ],
             [
              0.5555555555555556,
              "#d8576b"
             ],
             [
              0.6666666666666666,
              "#ed7953"
             ],
             [
              0.7777777777777778,
              "#fb9f3a"
             ],
             [
              0.8888888888888888,
              "#fdca26"
             ],
             [
              1,
              "#f0f921"
             ]
            ],
            "type": "histogram2dcontour"
           }
          ],
          "mesh3d": [
           {
            "colorbar": {
             "outlinewidth": 0,
             "ticks": ""
            },
            "type": "mesh3d"
           }
          ],
          "parcoords": [
           {
            "line": {
             "colorbar": {
              "outlinewidth": 0,
              "ticks": ""
             }
            },
            "type": "parcoords"
           }
          ],
          "pie": [
           {
            "automargin": true,
            "type": "pie"
           }
          ],
          "scatter": [
           {
            "fillpattern": {
             "fillmode": "overlay",
             "size": 10,
             "solidity": 0.2
            },
            "type": "scatter"
           }
          ],
          "scatter3d": [
           {
            "line": {
             "colorbar": {
              "outlinewidth": 0,
              "ticks": ""
             }
            },
            "marker": {
             "colorbar": {
              "outlinewidth": 0,
              "ticks": ""
             }
            },
            "type": "scatter3d"
           }
          ],
          "scattercarpet": [
           {
            "marker": {
             "colorbar": {
              "outlinewidth": 0,
              "ticks": ""
             }
            },
            "type": "scattercarpet"
           }
          ],
          "scattergeo": [
           {
            "marker": {
             "colorbar": {
              "outlinewidth": 0,
              "ticks": ""
             }
            },
            "type": "scattergeo"
           }
          ],
          "scattergl": [
           {
            "marker": {
             "colorbar": {
              "outlinewidth": 0,
              "ticks": ""
             }
            },
            "type": "scattergl"
           }
          ],
          "scattermapbox": [
           {
            "marker": {
             "colorbar": {
              "outlinewidth": 0,
              "ticks": ""
             }
            },
            "type": "scattermapbox"
           }
          ],
          "scatterpolar": [
           {
            "marker": {
             "colorbar": {
              "outlinewidth": 0,
              "ticks": ""
             }
            },
            "type": "scatterpolar"
           }
          ],
          "scatterpolargl": [
           {
            "marker": {
             "colorbar": {
              "outlinewidth": 0,
              "ticks": ""
             }
            },
            "type": "scatterpolargl"
           }
          ],
          "scatterternary": [
           {
            "marker": {
             "colorbar": {
              "outlinewidth": 0,
              "ticks": ""
             }
            },
            "type": "scatterternary"
           }
          ],
          "surface": [
           {
            "colorbar": {
             "outlinewidth": 0,
             "ticks": ""
            },
            "colorscale": [
             [
              0,
              "#0d0887"
             ],
             [
              0.1111111111111111,
              "#46039f"
             ],
             [
              0.2222222222222222,
              "#7201a8"
             ],
             [
              0.3333333333333333,
              "#9c179e"
             ],
             [
              0.4444444444444444,
              "#bd3786"
             ],
             [
              0.5555555555555556,
              "#d8576b"
             ],
             [
              0.6666666666666666,
              "#ed7953"
             ],
             [
              0.7777777777777778,
              "#fb9f3a"
             ],
             [
              0.8888888888888888,
              "#fdca26"
             ],
             [
              1,
              "#f0f921"
             ]
            ],
            "type": "surface"
           }
          ],
          "table": [
           {
            "cells": {
             "fill": {
              "color": "#EBF0F8"
             },
             "line": {
              "color": "white"
             }
            },
            "header": {
             "fill": {
              "color": "#C8D4E3"
             },
             "line": {
              "color": "white"
             }
            },
            "type": "table"
           }
          ]
         },
         "layout": {
          "annotationdefaults": {
           "arrowcolor": "#2a3f5f",
           "arrowhead": 0,
           "arrowwidth": 1
          },
          "autotypenumbers": "strict",
          "coloraxis": {
           "colorbar": {
            "outlinewidth": 0,
            "ticks": ""
           }
          },
          "colorscale": {
           "diverging": [
            [
             0,
             "#8e0152"
            ],
            [
             0.1,
             "#c51b7d"
            ],
            [
             0.2,
             "#de77ae"
            ],
            [
             0.3,
             "#f1b6da"
            ],
            [
             0.4,
             "#fde0ef"
            ],
            [
             0.5,
             "#f7f7f7"
            ],
            [
             0.6,
             "#e6f5d0"
            ],
            [
             0.7,
             "#b8e186"
            ],
            [
             0.8,
             "#7fbc41"
            ],
            [
             0.9,
             "#4d9221"
            ],
            [
             1,
             "#276419"
            ]
           ],
           "sequential": [
            [
             0,
             "#0d0887"
            ],
            [
             0.1111111111111111,
             "#46039f"
            ],
            [
             0.2222222222222222,
             "#7201a8"
            ],
            [
             0.3333333333333333,
             "#9c179e"
            ],
            [
             0.4444444444444444,
             "#bd3786"
            ],
            [
             0.5555555555555556,
             "#d8576b"
            ],
            [
             0.6666666666666666,
             "#ed7953"
            ],
            [
             0.7777777777777778,
             "#fb9f3a"
            ],
            [
             0.8888888888888888,
             "#fdca26"
            ],
            [
             1,
             "#f0f921"
            ]
           ],
           "sequentialminus": [
            [
             0,
             "#0d0887"
            ],
            [
             0.1111111111111111,
             "#46039f"
            ],
            [
             0.2222222222222222,
             "#7201a8"
            ],
            [
             0.3333333333333333,
             "#9c179e"
            ],
            [
             0.4444444444444444,
             "#bd3786"
            ],
            [
             0.5555555555555556,
             "#d8576b"
            ],
            [
             0.6666666666666666,
             "#ed7953"
            ],
            [
             0.7777777777777778,
             "#fb9f3a"
            ],
            [
             0.8888888888888888,
             "#fdca26"
            ],
            [
             1,
             "#f0f921"
            ]
           ]
          },
          "colorway": [
           "#636efa",
           "#EF553B",
           "#00cc96",
           "#ab63fa",
           "#FFA15A",
           "#19d3f3",
           "#FF6692",
           "#B6E880",
           "#FF97FF",
           "#FECB52"
          ],
          "font": {
           "color": "#2a3f5f"
          },
          "geo": {
           "bgcolor": "white",
           "lakecolor": "white",
           "landcolor": "#E5ECF6",
           "showlakes": true,
           "showland": true,
           "subunitcolor": "white"
          },
          "hoverlabel": {
           "align": "left"
          },
          "hovermode": "closest",
          "mapbox": {
           "style": "light"
          },
          "paper_bgcolor": "white",
          "plot_bgcolor": "#E5ECF6",
          "polar": {
           "angularaxis": {
            "gridcolor": "white",
            "linecolor": "white",
            "ticks": ""
           },
           "bgcolor": "#E5ECF6",
           "radialaxis": {
            "gridcolor": "white",
            "linecolor": "white",
            "ticks": ""
           }
          },
          "scene": {
           "xaxis": {
            "backgroundcolor": "#E5ECF6",
            "gridcolor": "white",
            "gridwidth": 2,
            "linecolor": "white",
            "showbackground": true,
            "ticks": "",
            "zerolinecolor": "white"
           },
           "yaxis": {
            "backgroundcolor": "#E5ECF6",
            "gridcolor": "white",
            "gridwidth": 2,
            "linecolor": "white",
            "showbackground": true,
            "ticks": "",
            "zerolinecolor": "white"
           },
           "zaxis": {
            "backgroundcolor": "#E5ECF6",
            "gridcolor": "white",
            "gridwidth": 2,
            "linecolor": "white",
            "showbackground": true,
            "ticks": "",
            "zerolinecolor": "white"
           }
          },
          "shapedefaults": {
           "line": {
            "color": "#2a3f5f"
           }
          },
          "ternary": {
           "aaxis": {
            "gridcolor": "white",
            "linecolor": "white",
            "ticks": ""
           },
           "baxis": {
            "gridcolor": "white",
            "linecolor": "white",
            "ticks": ""
           },
           "bgcolor": "#E5ECF6",
           "caxis": {
            "gridcolor": "white",
            "linecolor": "white",
            "ticks": ""
           }
          },
          "title": {
           "x": 0.05
          },
          "xaxis": {
           "automargin": true,
           "gridcolor": "white",
           "linecolor": "white",
           "ticks": "",
           "title": {
            "standoff": 15
           },
           "zerolinecolor": "white",
           "zerolinewidth": 2
          },
          "yaxis": {
           "automargin": true,
           "gridcolor": "white",
           "linecolor": "white",
           "ticks": "",
           "title": {
            "standoff": 15
           },
           "zerolinecolor": "white",
           "zerolinewidth": 2
          }
         }
        },
        "width": 1500,
        "xaxis": {
         "anchor": "y",
         "domain": [
          0,
          1
         ],
         "title": {
          "text": "Date"
         }
        },
        "yaxis": {
         "anchor": "x",
         "domain": [
          0,
          1
         ],
         "title": {
          "text": "value"
         }
        }
       }
      }
     },
     "metadata": {},
     "output_type": "display_data"
    }
   ],
   "source": [
    "fig = px.line(test['Total_Production'], width=1500)\n",
    "fig.add_scatter(x=test.index, y=pred_arima, name='Predictions')\n",
    "fig.show()"
   ]
  },
  {
   "cell_type": "code",
   "execution_count": 140,
   "metadata": {},
   "outputs": [
    {
     "name": "stdout",
     "output_type": "stream",
     "text": [
      "Mean Squared Error:  0.3838041979700952\n"
     ]
    }
   ],
   "source": [
    "print('Mean Squared Error: ', mean_squared_error(test['Total_Production'], pred_arima))"
   ]
  },
  {
   "cell_type": "code",
   "execution_count": 141,
   "metadata": {},
   "outputs": [],
   "source": [
    "train_l = total_production[:570]\n",
    "test_l = total_production[570:]"
   ]
  },
  {
   "cell_type": "code",
   "execution_count": 142,
   "metadata": {},
   "outputs": [],
   "source": [
    "from sklearn.preprocessing import MinMaxScaler\n",
    "scaler = MinMaxScaler()"
   ]
  },
  {
   "cell_type": "code",
   "execution_count": 143,
   "metadata": {},
   "outputs": [],
   "source": [
    "scaler.fit(train)\n",
    "scaled_train = scaler.transform(train)\n",
    "scaled_test = scaler.transform(test)"
   ]
  },
  {
   "cell_type": "code",
   "execution_count": 144,
   "metadata": {},
   "outputs": [],
   "source": [
    "from keras.preprocessing.sequence import TimeseriesGenerator"
   ]
  },
  {
   "cell_type": "code",
   "execution_count": 145,
   "metadata": {},
   "outputs": [],
   "source": [
    "n_input = 3\n",
    "n_features = 1\n",
    "generator = TimeseriesGenerator(scaled_train, scaled_train, length=n_input, batch_size=1)"
   ]
  },
  {
   "cell_type": "code",
   "execution_count": 146,
   "metadata": {},
   "outputs": [],
   "source": [
    "n_input = 12\n",
    "generator = TimeseriesGenerator(scaled_train, scaled_train, length=n_input, batch_size=1)"
   ]
  },
  {
   "cell_type": "code",
   "execution_count": 147,
   "metadata": {},
   "outputs": [],
   "source": [
    "from keras.models import Sequential\n",
    "from keras.layers import Dense\n",
    "from keras.layers import LSTM"
   ]
  },
  {
   "cell_type": "code",
   "execution_count": 148,
   "metadata": {},
   "outputs": [],
   "source": [
    "# define model\n",
    "model = Sequential()\n",
    "model.add(LSTM(100, activation='relu', input_shape=(n_input, n_features)))\n",
    "model.add(Dense(1))\n",
    "model.compile(optimizer='adam', loss='mse')"
   ]
  },
  {
   "cell_type": "code",
   "execution_count": 149,
   "metadata": {},
   "outputs": [
    {
     "name": "stdout",
     "output_type": "stream",
     "text": [
      "Model: \"sequential_3\"\n",
      "_________________________________________________________________\n",
      " Layer (type)                Output Shape              Param #   \n",
      "=================================================================\n",
      " lstm_4 (LSTM)               (None, 100)               40800     \n",
      "                                                                 \n",
      " dense_2 (Dense)             (None, 1)                 101       \n",
      "                                                                 \n",
      "=================================================================\n",
      "Total params: 40,901\n",
      "Trainable params: 40,901\n",
      "Non-trainable params: 0\n",
      "_________________________________________________________________\n"
     ]
    }
   ],
   "source": [
    "model.summary()"
   ]
  },
  {
   "cell_type": "code",
   "execution_count": 150,
   "metadata": {},
   "outputs": [
    {
     "name": "stdout",
     "output_type": "stream",
     "text": [
      "Epoch 1/100\n",
      "567/567 [==============================] - 3s 3ms/step - loss: 0.0117\n",
      "Epoch 2/100\n",
      "567/567 [==============================] - 2s 3ms/step - loss: 0.0048\n",
      "Epoch 3/100\n",
      "567/567 [==============================] - 2s 3ms/step - loss: 0.0039\n",
      "Epoch 4/100\n",
      "567/567 [==============================] - 2s 3ms/step - loss: 0.0034\n",
      "Epoch 5/100\n",
      "567/567 [==============================] - 2s 3ms/step - loss: 0.0036\n",
      "Epoch 6/100\n",
      "567/567 [==============================] - 2s 4ms/step - loss: 0.0034\n",
      "Epoch 7/100\n",
      "567/567 [==============================] - 2s 4ms/step - loss: 0.0034\n",
      "Epoch 8/100\n",
      "567/567 [==============================] - 2s 4ms/step - loss: 0.0036\n",
      "Epoch 9/100\n",
      "567/567 [==============================] - 2s 4ms/step - loss: 0.0033\n",
      "Epoch 10/100\n",
      "567/567 [==============================] - 2s 4ms/step - loss: 0.0032\n",
      "Epoch 11/100\n",
      "567/567 [==============================] - 2s 4ms/step - loss: 0.0032\n",
      "Epoch 12/100\n",
      "567/567 [==============================] - 2s 4ms/step - loss: 0.0030\n",
      "Epoch 13/100\n",
      "567/567 [==============================] - 2s 4ms/step - loss: 0.0028\n",
      "Epoch 14/100\n",
      "567/567 [==============================] - 2s 4ms/step - loss: 0.0028\n",
      "Epoch 15/100\n",
      "567/567 [==============================] - 2s 4ms/step - loss: 0.0026\n",
      "Epoch 16/100\n",
      "567/567 [==============================] - 2s 4ms/step - loss: 0.0029\n",
      "Epoch 17/100\n",
      "567/567 [==============================] - 2s 4ms/step - loss: 0.0025\n",
      "Epoch 18/100\n",
      "567/567 [==============================] - 2s 4ms/step - loss: 0.0025\n",
      "Epoch 19/100\n",
      "567/567 [==============================] - 2s 4ms/step - loss: 0.0024\n",
      "Epoch 20/100\n",
      "567/567 [==============================] - 2s 4ms/step - loss: 0.0026\n",
      "Epoch 21/100\n",
      "567/567 [==============================] - 2s 4ms/step - loss: 0.0025\n",
      "Epoch 22/100\n",
      "567/567 [==============================] - 2s 4ms/step - loss: 0.0026\n",
      "Epoch 23/100\n",
      "567/567 [==============================] - 2s 4ms/step - loss: 0.0022\n",
      "Epoch 24/100\n",
      "567/567 [==============================] - 2s 4ms/step - loss: 0.0023\n",
      "Epoch 25/100\n",
      "567/567 [==============================] - 2s 4ms/step - loss: 0.0022\n",
      "Epoch 26/100\n",
      "567/567 [==============================] - 2s 4ms/step - loss: 0.0023\n",
      "Epoch 27/100\n",
      "567/567 [==============================] - 2s 4ms/step - loss: 0.0023\n",
      "Epoch 28/100\n",
      "567/567 [==============================] - 2s 4ms/step - loss: 0.0022\n",
      "Epoch 29/100\n",
      "567/567 [==============================] - 2s 4ms/step - loss: 0.0021\n",
      "Epoch 30/100\n",
      "567/567 [==============================] - 3s 5ms/step - loss: 0.0022\n",
      "Epoch 31/100\n",
      "567/567 [==============================] - 2s 4ms/step - loss: 0.0021\n",
      "Epoch 32/100\n",
      "567/567 [==============================] - 2s 4ms/step - loss: 0.0021\n",
      "Epoch 33/100\n",
      "567/567 [==============================] - 2s 4ms/step - loss: 0.0021\n",
      "Epoch 34/100\n",
      "567/567 [==============================] - 2s 4ms/step - loss: 0.0022\n",
      "Epoch 35/100\n",
      "567/567 [==============================] - 2s 4ms/step - loss: 0.0022\n",
      "Epoch 36/100\n",
      "567/567 [==============================] - 2s 4ms/step - loss: 0.0019\n",
      "Epoch 37/100\n",
      "567/567 [==============================] - 2s 4ms/step - loss: 0.0020\n",
      "Epoch 38/100\n",
      "567/567 [==============================] - 2s 4ms/step - loss: 0.0020\n",
      "Epoch 39/100\n",
      "567/567 [==============================] - 2s 4ms/step - loss: 0.0020\n",
      "Epoch 40/100\n",
      "567/567 [==============================] - 2s 4ms/step - loss: 0.0021\n",
      "Epoch 41/100\n",
      "567/567 [==============================] - 2s 4ms/step - loss: 0.0019\n",
      "Epoch 42/100\n",
      "567/567 [==============================] - 2s 4ms/step - loss: 0.0020\n",
      "Epoch 43/100\n",
      "567/567 [==============================] - 2s 4ms/step - loss: 0.0019\n",
      "Epoch 44/100\n",
      "567/567 [==============================] - 2s 4ms/step - loss: 0.0019\n",
      "Epoch 45/100\n",
      "567/567 [==============================] - 3s 4ms/step - loss: 0.0018\n",
      "Epoch 46/100\n",
      "567/567 [==============================] - 2s 4ms/step - loss: 0.0020\n",
      "Epoch 47/100\n",
      "567/567 [==============================] - 2s 4ms/step - loss: 0.0018\n",
      "Epoch 48/100\n",
      "567/567 [==============================] - 2s 4ms/step - loss: 0.0018\n",
      "Epoch 49/100\n",
      "567/567 [==============================] - 2s 4ms/step - loss: 0.0018\n",
      "Epoch 50/100\n",
      "567/567 [==============================] - 2s 4ms/step - loss: 0.0018\n",
      "Epoch 51/100\n",
      "567/567 [==============================] - 2s 4ms/step - loss: 0.0017\n",
      "Epoch 52/100\n",
      "567/567 [==============================] - 2s 4ms/step - loss: 0.0018\n",
      "Epoch 53/100\n",
      "567/567 [==============================] - 2s 4ms/step - loss: 0.0018\n",
      "Epoch 54/100\n",
      "567/567 [==============================] - 2s 4ms/step - loss: 0.0018\n",
      "Epoch 55/100\n",
      "567/567 [==============================] - 2s 4ms/step - loss: 0.0017\n",
      "Epoch 56/100\n",
      "567/567 [==============================] - 2s 4ms/step - loss: 0.0019\n",
      "Epoch 57/100\n",
      "567/567 [==============================] - 2s 4ms/step - loss: 0.0017\n",
      "Epoch 58/100\n",
      "567/567 [==============================] - 2s 4ms/step - loss: 0.0017\n",
      "Epoch 59/100\n",
      "567/567 [==============================] - 2s 4ms/step - loss: 0.0018\n",
      "Epoch 60/100\n",
      "567/567 [==============================] - 2s 4ms/step - loss: 0.0017\n",
      "Epoch 61/100\n",
      "567/567 [==============================] - 2s 4ms/step - loss: 0.0016\n",
      "Epoch 62/100\n",
      "567/567 [==============================] - 2s 4ms/step - loss: 0.0017\n",
      "Epoch 63/100\n",
      "567/567 [==============================] - 2s 4ms/step - loss: 0.0018\n",
      "Epoch 64/100\n",
      "567/567 [==============================] - 3s 4ms/step - loss: 0.0018\n",
      "Epoch 65/100\n",
      "567/567 [==============================] - 2s 4ms/step - loss: 0.0016\n",
      "Epoch 66/100\n",
      "567/567 [==============================] - 2s 4ms/step - loss: 0.0017\n",
      "Epoch 67/100\n",
      "567/567 [==============================] - 2s 4ms/step - loss: 0.0016\n",
      "Epoch 68/100\n",
      "567/567 [==============================] - 2s 4ms/step - loss: 0.0015\n",
      "Epoch 69/100\n",
      "567/567 [==============================] - 2s 4ms/step - loss: 0.0017\n",
      "Epoch 70/100\n",
      "567/567 [==============================] - 2s 4ms/step - loss: 0.0016\n",
      "Epoch 71/100\n",
      "567/567 [==============================] - 2s 4ms/step - loss: 0.0016\n",
      "Epoch 72/100\n",
      "567/567 [==============================] - 2s 4ms/step - loss: 0.0016\n",
      "Epoch 73/100\n",
      "567/567 [==============================] - 2s 4ms/step - loss: 0.0016\n",
      "Epoch 74/100\n",
      "567/567 [==============================] - 2s 4ms/step - loss: 0.0016\n",
      "Epoch 75/100\n",
      "567/567 [==============================] - 2s 4ms/step - loss: 0.0016\n",
      "Epoch 76/100\n",
      "567/567 [==============================] - 2s 4ms/step - loss: 0.0015\n",
      "Epoch 77/100\n",
      "567/567 [==============================] - 2s 4ms/step - loss: 0.0016\n",
      "Epoch 78/100\n",
      "567/567 [==============================] - 2s 4ms/step - loss: 0.0016\n",
      "Epoch 79/100\n",
      "567/567 [==============================] - 3s 4ms/step - loss: 0.0017\n",
      "Epoch 80/100\n",
      "567/567 [==============================] - 2s 4ms/step - loss: 0.0015\n",
      "Epoch 81/100\n",
      "567/567 [==============================] - 2s 4ms/step - loss: 0.0015\n",
      "Epoch 82/100\n",
      "567/567 [==============================] - 2s 4ms/step - loss: 0.0016\n",
      "Epoch 83/100\n",
      "567/567 [==============================] - 2s 4ms/step - loss: 0.0015\n",
      "Epoch 84/100\n",
      "567/567 [==============================] - 2s 4ms/step - loss: 0.0015\n",
      "Epoch 85/100\n",
      "567/567 [==============================] - 2s 4ms/step - loss: 0.0016\n",
      "Epoch 86/100\n",
      "567/567 [==============================] - 2s 4ms/step - loss: 0.0015\n",
      "Epoch 87/100\n",
      "567/567 [==============================] - 2s 4ms/step - loss: 0.0015\n",
      "Epoch 88/100\n",
      "567/567 [==============================] - 2s 4ms/step - loss: 0.0015\n",
      "Epoch 89/100\n",
      "567/567 [==============================] - 2s 4ms/step - loss: 0.0015\n",
      "Epoch 90/100\n",
      "567/567 [==============================] - 3s 4ms/step - loss: 0.0015\n",
      "Epoch 91/100\n",
      "567/567 [==============================] - 2s 4ms/step - loss: 0.0015\n",
      "Epoch 92/100\n",
      "567/567 [==============================] - 2s 4ms/step - loss: 0.0015\n",
      "Epoch 93/100\n",
      "567/567 [==============================] - 2s 4ms/step - loss: 0.0014\n",
      "Epoch 94/100\n",
      "567/567 [==============================] - 2s 4ms/step - loss: 0.0015\n",
      "Epoch 95/100\n",
      "567/567 [==============================] - 2s 4ms/step - loss: 0.0015\n",
      "Epoch 96/100\n",
      "567/567 [==============================] - 2s 4ms/step - loss: 0.0015\n",
      "Epoch 97/100\n",
      "567/567 [==============================] - 2s 4ms/step - loss: 0.0015\n",
      "Epoch 98/100\n",
      "567/567 [==============================] - 2s 4ms/step - loss: 0.0015\n",
      "Epoch 99/100\n",
      "567/567 [==============================] - 2s 4ms/step - loss: 0.0016\n",
      "Epoch 100/100\n",
      "567/567 [==============================] - 2s 4ms/step - loss: 0.0015\n"
     ]
    },
    {
     "data": {
      "text/plain": [
       "<keras.callbacks.History at 0x202e5f5fc50>"
      ]
     },
     "execution_count": 150,
     "metadata": {},
     "output_type": "execute_result"
    }
   ],
   "source": [
    "# fit model\n",
    "model.fit(generator,epochs=100)"
   ]
  },
  {
   "cell_type": "code",
   "execution_count": 151,
   "metadata": {},
   "outputs": [
    {
     "data": {
      "application/vnd.plotly.v1+json": {
       "config": {
        "plotlyServerURL": "https://plot.ly"
       },
       "data": [
        {
         "hovertemplate": "variable=0<br>index=%{x}<br>value=%{y}<extra></extra>",
         "legendgroup": "0",
         "line": {
          "color": "#636efa",
          "dash": "solid"
         },
         "marker": {
          "symbol": "circle"
         },
         "mode": "lines",
         "name": "0",
         "orientation": "v",
         "showlegend": true,
         "type": "scatter",
         "x": [
          0,
          1,
          2,
          3,
          4,
          5,
          6,
          7,
          8,
          9,
          10,
          11,
          12,
          13,
          14,
          15,
          16,
          17,
          18,
          19,
          20,
          21,
          22,
          23,
          24,
          25,
          26,
          27,
          28,
          29,
          30,
          31,
          32,
          33,
          34,
          35,
          36,
          37,
          38,
          39,
          40,
          41,
          42,
          43,
          44,
          45,
          46,
          47,
          48,
          49,
          50,
          51,
          52,
          53,
          54,
          55,
          56,
          57,
          58,
          59,
          60,
          61,
          62,
          63,
          64,
          65,
          66,
          67,
          68,
          69,
          70,
          71,
          72,
          73,
          74,
          75,
          76,
          77,
          78,
          79,
          80,
          81,
          82,
          83,
          84,
          85,
          86,
          87,
          88,
          89,
          90,
          91,
          92,
          93,
          94,
          95,
          96,
          97,
          98,
          99
         ],
         "xaxis": "x",
         "y": [
          0.011731501668691635,
          0.004754138644784689,
          0.00387962581589818,
          0.0034493322018533945,
          0.003581675700843334,
          0.003448611358180642,
          0.003374739084392786,
          0.003609688486903906,
          0.0032692716922611,
          0.003213993040844798,
          0.0032434675376862288,
          0.002977460389956832,
          0.002826382638886571,
          0.002763720229268074,
          0.002552655292674899,
          0.0028626907151192427,
          0.002458273433148861,
          0.0025232452899217606,
          0.0024415531661361456,
          0.0026032819878309965,
          0.0024709943681955338,
          0.002648946363478899,
          0.002214478561654687,
          0.0023072976619005203,
          0.00215919129550457,
          0.002322312444448471,
          0.0022722019348293543,
          0.0022330426145344973,
          0.0021340129896998405,
          0.0021610273979604244,
          0.002107813023030758,
          0.0020871530286967754,
          0.0021379413083195686,
          0.0021537314169108868,
          0.002159090479835868,
          0.0019431208493188024,
          0.0019871355034410954,
          0.0019722310826182365,
          0.0020232591778039932,
          0.002065513748675585,
          0.0018861949210986495,
          0.0019893483258783817,
          0.001881246455013752,
          0.001929797581396997,
          0.001812370610423386,
          0.001956289866939187,
          0.0018029208295047283,
          0.001768759684637189,
          0.0017869845032691956,
          0.0018017597030848265,
          0.0017137681134045124,
          0.0017859521321952343,
          0.0018269452266395092,
          0.0017805028473958373,
          0.0017277281731367111,
          0.0019259804394096136,
          0.0017040125094354153,
          0.0017222430324181914,
          0.0017628467176109552,
          0.0016867216909304261,
          0.001604441087692976,
          0.0016881239134818316,
          0.001761278253979981,
          0.0017644509207457304,
          0.0015867491019889712,
          0.0017421687953174114,
          0.0016366459894925356,
          0.001502879662439227,
          0.0016721475403755903,
          0.0015896148979663849,
          0.001555599388666451,
          0.0016204577405005693,
          0.001564510865136981,
          0.001611305633559823,
          0.0016094994498416781,
          0.0014719153987243772,
          0.0016308900667354465,
          0.0015565449139103293,
          0.0016576815396547318,
          0.001529661938548088,
          0.0015082332538440824,
          0.001609949511475861,
          0.0015128286322578788,
          0.0014547895407304168,
          0.0015690759755671024,
          0.0015355459181591868,
          0.0015494105173274875,
          0.001529261702671647,
          0.0015249969437718391,
          0.0014797791372984648,
          0.0014613848179578781,
          0.0014797606272622943,
          0.0014365330571308732,
          0.0015395147493109107,
          0.0015140121104195714,
          0.0014645609771832824,
          0.0014504033606499434,
          0.001476890523917973,
          0.0015748803270980716,
          0.001530394540168345
         ],
         "yaxis": "y"
        }
       ],
       "layout": {
        "legend": {
         "title": {
          "text": "variable"
         },
         "tracegroupgap": 0
        },
        "margin": {
         "t": 60
        },
        "template": {
         "data": {
          "bar": [
           {
            "error_x": {
             "color": "#2a3f5f"
            },
            "error_y": {
             "color": "#2a3f5f"
            },
            "marker": {
             "line": {
              "color": "#E5ECF6",
              "width": 0.5
             },
             "pattern": {
              "fillmode": "overlay",
              "size": 10,
              "solidity": 0.2
             }
            },
            "type": "bar"
           }
          ],
          "barpolar": [
           {
            "marker": {
             "line": {
              "color": "#E5ECF6",
              "width": 0.5
             },
             "pattern": {
              "fillmode": "overlay",
              "size": 10,
              "solidity": 0.2
             }
            },
            "type": "barpolar"
           }
          ],
          "carpet": [
           {
            "aaxis": {
             "endlinecolor": "#2a3f5f",
             "gridcolor": "white",
             "linecolor": "white",
             "minorgridcolor": "white",
             "startlinecolor": "#2a3f5f"
            },
            "baxis": {
             "endlinecolor": "#2a3f5f",
             "gridcolor": "white",
             "linecolor": "white",
             "minorgridcolor": "white",
             "startlinecolor": "#2a3f5f"
            },
            "type": "carpet"
           }
          ],
          "choropleth": [
           {
            "colorbar": {
             "outlinewidth": 0,
             "ticks": ""
            },
            "type": "choropleth"
           }
          ],
          "contour": [
           {
            "colorbar": {
             "outlinewidth": 0,
             "ticks": ""
            },
            "colorscale": [
             [
              0,
              "#0d0887"
             ],
             [
              0.1111111111111111,
              "#46039f"
             ],
             [
              0.2222222222222222,
              "#7201a8"
             ],
             [
              0.3333333333333333,
              "#9c179e"
             ],
             [
              0.4444444444444444,
              "#bd3786"
             ],
             [
              0.5555555555555556,
              "#d8576b"
             ],
             [
              0.6666666666666666,
              "#ed7953"
             ],
             [
              0.7777777777777778,
              "#fb9f3a"
             ],
             [
              0.8888888888888888,
              "#fdca26"
             ],
             [
              1,
              "#f0f921"
             ]
            ],
            "type": "contour"
           }
          ],
          "contourcarpet": [
           {
            "colorbar": {
             "outlinewidth": 0,
             "ticks": ""
            },
            "type": "contourcarpet"
           }
          ],
          "heatmap": [
           {
            "colorbar": {
             "outlinewidth": 0,
             "ticks": ""
            },
            "colorscale": [
             [
              0,
              "#0d0887"
             ],
             [
              0.1111111111111111,
              "#46039f"
             ],
             [
              0.2222222222222222,
              "#7201a8"
             ],
             [
              0.3333333333333333,
              "#9c179e"
             ],
             [
              0.4444444444444444,
              "#bd3786"
             ],
             [
              0.5555555555555556,
              "#d8576b"
             ],
             [
              0.6666666666666666,
              "#ed7953"
             ],
             [
              0.7777777777777778,
              "#fb9f3a"
             ],
             [
              0.8888888888888888,
              "#fdca26"
             ],
             [
              1,
              "#f0f921"
             ]
            ],
            "type": "heatmap"
           }
          ],
          "heatmapgl": [
           {
            "colorbar": {
             "outlinewidth": 0,
             "ticks": ""
            },
            "colorscale": [
             [
              0,
              "#0d0887"
             ],
             [
              0.1111111111111111,
              "#46039f"
             ],
             [
              0.2222222222222222,
              "#7201a8"
             ],
             [
              0.3333333333333333,
              "#9c179e"
             ],
             [
              0.4444444444444444,
              "#bd3786"
             ],
             [
              0.5555555555555556,
              "#d8576b"
             ],
             [
              0.6666666666666666,
              "#ed7953"
             ],
             [
              0.7777777777777778,
              "#fb9f3a"
             ],
             [
              0.8888888888888888,
              "#fdca26"
             ],
             [
              1,
              "#f0f921"
             ]
            ],
            "type": "heatmapgl"
           }
          ],
          "histogram": [
           {
            "marker": {
             "pattern": {
              "fillmode": "overlay",
              "size": 10,
              "solidity": 0.2
             }
            },
            "type": "histogram"
           }
          ],
          "histogram2d": [
           {
            "colorbar": {
             "outlinewidth": 0,
             "ticks": ""
            },
            "colorscale": [
             [
              0,
              "#0d0887"
             ],
             [
              0.1111111111111111,
              "#46039f"
             ],
             [
              0.2222222222222222,
              "#7201a8"
             ],
             [
              0.3333333333333333,
              "#9c179e"
             ],
             [
              0.4444444444444444,
              "#bd3786"
             ],
             [
              0.5555555555555556,
              "#d8576b"
             ],
             [
              0.6666666666666666,
              "#ed7953"
             ],
             [
              0.7777777777777778,
              "#fb9f3a"
             ],
             [
              0.8888888888888888,
              "#fdca26"
             ],
             [
              1,
              "#f0f921"
             ]
            ],
            "type": "histogram2d"
           }
          ],
          "histogram2dcontour": [
           {
            "colorbar": {
             "outlinewidth": 0,
             "ticks": ""
            },
            "colorscale": [
             [
              0,
              "#0d0887"
             ],
             [
              0.1111111111111111,
              "#46039f"
             ],
             [
              0.2222222222222222,
              "#7201a8"
             ],
             [
              0.3333333333333333,
              "#9c179e"
             ],
             [
              0.4444444444444444,
              "#bd3786"
             ],
             [
              0.5555555555555556,
              "#d8576b"
             ],
             [
              0.6666666666666666,
              "#ed7953"
             ],
             [
              0.7777777777777778,
              "#fb9f3a"
             ],
             [
              0.8888888888888888,
              "#fdca26"
             ],
             [
              1,
              "#f0f921"
             ]
            ],
            "type": "histogram2dcontour"
           }
          ],
          "mesh3d": [
           {
            "colorbar": {
             "outlinewidth": 0,
             "ticks": ""
            },
            "type": "mesh3d"
           }
          ],
          "parcoords": [
           {
            "line": {
             "colorbar": {
              "outlinewidth": 0,
              "ticks": ""
             }
            },
            "type": "parcoords"
           }
          ],
          "pie": [
           {
            "automargin": true,
            "type": "pie"
           }
          ],
          "scatter": [
           {
            "fillpattern": {
             "fillmode": "overlay",
             "size": 10,
             "solidity": 0.2
            },
            "type": "scatter"
           }
          ],
          "scatter3d": [
           {
            "line": {
             "colorbar": {
              "outlinewidth": 0,
              "ticks": ""
             }
            },
            "marker": {
             "colorbar": {
              "outlinewidth": 0,
              "ticks": ""
             }
            },
            "type": "scatter3d"
           }
          ],
          "scattercarpet": [
           {
            "marker": {
             "colorbar": {
              "outlinewidth": 0,
              "ticks": ""
             }
            },
            "type": "scattercarpet"
           }
          ],
          "scattergeo": [
           {
            "marker": {
             "colorbar": {
              "outlinewidth": 0,
              "ticks": ""
             }
            },
            "type": "scattergeo"
           }
          ],
          "scattergl": [
           {
            "marker": {
             "colorbar": {
              "outlinewidth": 0,
              "ticks": ""
             }
            },
            "type": "scattergl"
           }
          ],
          "scattermapbox": [
           {
            "marker": {
             "colorbar": {
              "outlinewidth": 0,
              "ticks": ""
             }
            },
            "type": "scattermapbox"
           }
          ],
          "scatterpolar": [
           {
            "marker": {
             "colorbar": {
              "outlinewidth": 0,
              "ticks": ""
             }
            },
            "type": "scatterpolar"
           }
          ],
          "scatterpolargl": [
           {
            "marker": {
             "colorbar": {
              "outlinewidth": 0,
              "ticks": ""
             }
            },
            "type": "scatterpolargl"
           }
          ],
          "scatterternary": [
           {
            "marker": {
             "colorbar": {
              "outlinewidth": 0,
              "ticks": ""
             }
            },
            "type": "scatterternary"
           }
          ],
          "surface": [
           {
            "colorbar": {
             "outlinewidth": 0,
             "ticks": ""
            },
            "colorscale": [
             [
              0,
              "#0d0887"
             ],
             [
              0.1111111111111111,
              "#46039f"
             ],
             [
              0.2222222222222222,
              "#7201a8"
             ],
             [
              0.3333333333333333,
              "#9c179e"
             ],
             [
              0.4444444444444444,
              "#bd3786"
             ],
             [
              0.5555555555555556,
              "#d8576b"
             ],
             [
              0.6666666666666666,
              "#ed7953"
             ],
             [
              0.7777777777777778,
              "#fb9f3a"
             ],
             [
              0.8888888888888888,
              "#fdca26"
             ],
             [
              1,
              "#f0f921"
             ]
            ],
            "type": "surface"
           }
          ],
          "table": [
           {
            "cells": {
             "fill": {
              "color": "#EBF0F8"
             },
             "line": {
              "color": "white"
             }
            },
            "header": {
             "fill": {
              "color": "#C8D4E3"
             },
             "line": {
              "color": "white"
             }
            },
            "type": "table"
           }
          ]
         },
         "layout": {
          "annotationdefaults": {
           "arrowcolor": "#2a3f5f",
           "arrowhead": 0,
           "arrowwidth": 1
          },
          "autotypenumbers": "strict",
          "coloraxis": {
           "colorbar": {
            "outlinewidth": 0,
            "ticks": ""
           }
          },
          "colorscale": {
           "diverging": [
            [
             0,
             "#8e0152"
            ],
            [
             0.1,
             "#c51b7d"
            ],
            [
             0.2,
             "#de77ae"
            ],
            [
             0.3,
             "#f1b6da"
            ],
            [
             0.4,
             "#fde0ef"
            ],
            [
             0.5,
             "#f7f7f7"
            ],
            [
             0.6,
             "#e6f5d0"
            ],
            [
             0.7,
             "#b8e186"
            ],
            [
             0.8,
             "#7fbc41"
            ],
            [
             0.9,
             "#4d9221"
            ],
            [
             1,
             "#276419"
            ]
           ],
           "sequential": [
            [
             0,
             "#0d0887"
            ],
            [
             0.1111111111111111,
             "#46039f"
            ],
            [
             0.2222222222222222,
             "#7201a8"
            ],
            [
             0.3333333333333333,
             "#9c179e"
            ],
            [
             0.4444444444444444,
             "#bd3786"
            ],
            [
             0.5555555555555556,
             "#d8576b"
            ],
            [
             0.6666666666666666,
             "#ed7953"
            ],
            [
             0.7777777777777778,
             "#fb9f3a"
            ],
            [
             0.8888888888888888,
             "#fdca26"
            ],
            [
             1,
             "#f0f921"
            ]
           ],
           "sequentialminus": [
            [
             0,
             "#0d0887"
            ],
            [
             0.1111111111111111,
             "#46039f"
            ],
            [
             0.2222222222222222,
             "#7201a8"
            ],
            [
             0.3333333333333333,
             "#9c179e"
            ],
            [
             0.4444444444444444,
             "#bd3786"
            ],
            [
             0.5555555555555556,
             "#d8576b"
            ],
            [
             0.6666666666666666,
             "#ed7953"
            ],
            [
             0.7777777777777778,
             "#fb9f3a"
            ],
            [
             0.8888888888888888,
             "#fdca26"
            ],
            [
             1,
             "#f0f921"
            ]
           ]
          },
          "colorway": [
           "#636efa",
           "#EF553B",
           "#00cc96",
           "#ab63fa",
           "#FFA15A",
           "#19d3f3",
           "#FF6692",
           "#B6E880",
           "#FF97FF",
           "#FECB52"
          ],
          "font": {
           "color": "#2a3f5f"
          },
          "geo": {
           "bgcolor": "white",
           "lakecolor": "white",
           "landcolor": "#E5ECF6",
           "showlakes": true,
           "showland": true,
           "subunitcolor": "white"
          },
          "hoverlabel": {
           "align": "left"
          },
          "hovermode": "closest",
          "mapbox": {
           "style": "light"
          },
          "paper_bgcolor": "white",
          "plot_bgcolor": "#E5ECF6",
          "polar": {
           "angularaxis": {
            "gridcolor": "white",
            "linecolor": "white",
            "ticks": ""
           },
           "bgcolor": "#E5ECF6",
           "radialaxis": {
            "gridcolor": "white",
            "linecolor": "white",
            "ticks": ""
           }
          },
          "scene": {
           "xaxis": {
            "backgroundcolor": "#E5ECF6",
            "gridcolor": "white",
            "gridwidth": 2,
            "linecolor": "white",
            "showbackground": true,
            "ticks": "",
            "zerolinecolor": "white"
           },
           "yaxis": {
            "backgroundcolor": "#E5ECF6",
            "gridcolor": "white",
            "gridwidth": 2,
            "linecolor": "white",
            "showbackground": true,
            "ticks": "",
            "zerolinecolor": "white"
           },
           "zaxis": {
            "backgroundcolor": "#E5ECF6",
            "gridcolor": "white",
            "gridwidth": 2,
            "linecolor": "white",
            "showbackground": true,
            "ticks": "",
            "zerolinecolor": "white"
           }
          },
          "shapedefaults": {
           "line": {
            "color": "#2a3f5f"
           }
          },
          "ternary": {
           "aaxis": {
            "gridcolor": "white",
            "linecolor": "white",
            "ticks": ""
           },
           "baxis": {
            "gridcolor": "white",
            "linecolor": "white",
            "ticks": ""
           },
           "bgcolor": "#E5ECF6",
           "caxis": {
            "gridcolor": "white",
            "linecolor": "white",
            "ticks": ""
           }
          },
          "title": {
           "x": 0.05
          },
          "xaxis": {
           "automargin": true,
           "gridcolor": "white",
           "linecolor": "white",
           "ticks": "",
           "title": {
            "standoff": 15
           },
           "zerolinecolor": "white",
           "zerolinewidth": 2
          },
          "yaxis": {
           "automargin": true,
           "gridcolor": "white",
           "linecolor": "white",
           "ticks": "",
           "title": {
            "standoff": 15
           },
           "zerolinecolor": "white",
           "zerolinewidth": 2
          }
         }
        },
        "xaxis": {
         "anchor": "y",
         "domain": [
          0,
          1
         ],
         "title": {
          "text": "index"
         }
        },
        "yaxis": {
         "anchor": "x",
         "domain": [
          0,
          1
         ],
         "title": {
          "text": "value"
         }
        }
       }
      }
     },
     "metadata": {},
     "output_type": "display_data"
    }
   ],
   "source": [
    "loss_per_epoch = model.history.history['loss']\n",
    "fig = px.line(loss_per_epoch).show()"
   ]
  },
  {
   "cell_type": "code",
   "execution_count": 152,
   "metadata": {},
   "outputs": [],
   "source": [
    "last_train_batch = scaled_train[-12:]\n",
    "last_train_batch = last_train_batch.reshape((1, n_input, n_features))"
   ]
  },
  {
   "cell_type": "code",
   "execution_count": 153,
   "metadata": {},
   "outputs": [
    {
     "name": "stdout",
     "output_type": "stream",
     "text": [
      "1/1 [==============================] - 0s 187ms/step\n"
     ]
    },
    {
     "data": {
      "text/plain": [
       "array([[0.86121476]], dtype=float32)"
      ]
     },
     "execution_count": 153,
     "metadata": {},
     "output_type": "execute_result"
    }
   ],
   "source": [
    "model.predict(last_train_batch)"
   ]
  },
  {
   "cell_type": "code",
   "execution_count": 154,
   "metadata": {},
   "outputs": [
    {
     "name": "stdout",
     "output_type": "stream",
     "text": [
      "1/1 [==============================] - 0s 24ms/step\n",
      "1/1 [==============================] - 0s 23ms/step\n",
      "1/1 [==============================] - 0s 24ms/step\n",
      "1/1 [==============================] - 0s 23ms/step\n",
      "1/1 [==============================] - 0s 22ms/step\n",
      "1/1 [==============================] - 0s 22ms/step\n",
      "1/1 [==============================] - 0s 22ms/step\n",
      "1/1 [==============================] - 0s 20ms/step\n",
      "1/1 [==============================] - 0s 22ms/step\n",
      "1/1 [==============================] - 0s 22ms/step\n",
      "1/1 [==============================] - 0s 21ms/step\n",
      "1/1 [==============================] - 0s 20ms/step\n",
      "1/1 [==============================] - 0s 23ms/step\n",
      "1/1 [==============================] - 0s 24ms/step\n",
      "1/1 [==============================] - 0s 27ms/step\n",
      "1/1 [==============================] - 0s 35ms/step\n",
      "1/1 [==============================] - 0s 39ms/step\n",
      "1/1 [==============================] - 0s 30ms/step\n",
      "1/1 [==============================] - 0s 28ms/step\n",
      "1/1 [==============================] - 0s 32ms/step\n"
     ]
    }
   ],
   "source": [
    "test_predictions = []\n",
    "\n",
    "first_eval_batch = scaled_train[-n_input:]\n",
    "current_batch = first_eval_batch.reshape((1, n_input, n_features))\n",
    "\n",
    "for i in range(len(test)):\n",
    "    \n",
    "    # get the prediction value for the first batch\n",
    "    current_pred = model.predict(current_batch)[0]\n",
    "    \n",
    "    # append the prediction into the array\n",
    "    test_predictions.append(current_pred) \n",
    "    \n",
    "    # use the prediction to update the batch and remove the first value\n",
    "    current_batch = np.append(current_batch[:,1:,:],[[current_pred]],axis=1)"
   ]
  },
  {
   "cell_type": "code",
   "execution_count": 155,
   "metadata": {},
   "outputs": [
    {
     "data": {
      "text/plain": [
       "[array([0.86121476], dtype=float32),\n",
       " array([0.83245933], dtype=float32),\n",
       " array([0.8694246], dtype=float32),\n",
       " array([0.91329396], dtype=float32),\n",
       " array([0.9470625], dtype=float32),\n",
       " array([0.94390726], dtype=float32),\n",
       " array([0.960631], dtype=float32),\n",
       " array([0.98129714], dtype=float32),\n",
       " array([1.054083], dtype=float32),\n",
       " array([1.1193308], dtype=float32),\n",
       " array([0.76469374], dtype=float32),\n",
       " array([1.081523], dtype=float32),\n",
       " array([1.0561452], dtype=float32),\n",
       " array([1.0183706], dtype=float32),\n",
       " array([1.0469966], dtype=float32),\n",
       " array([1.0495499], dtype=float32),\n",
       " array([1.050457], dtype=float32),\n",
       " array([1.0362124], dtype=float32),\n",
       " array([1.0178951], dtype=float32),\n",
       " array([0.9942225], dtype=float32)]"
      ]
     },
     "execution_count": 155,
     "metadata": {},
     "output_type": "execute_result"
    }
   ],
   "source": [
    "test_predictions"
   ]
  },
  {
   "cell_type": "code",
   "execution_count": 156,
   "metadata": {},
   "outputs": [
    {
     "data": {
      "text/html": [
       "<div>\n",
       "<style scoped>\n",
       "    .dataframe tbody tr th:only-of-type {\n",
       "        vertical-align: middle;\n",
       "    }\n",
       "\n",
       "    .dataframe tbody tr th {\n",
       "        vertical-align: top;\n",
       "    }\n",
       "\n",
       "    .dataframe thead th {\n",
       "        text-align: right;\n",
       "    }\n",
       "</style>\n",
       "<table border=\"1\" class=\"dataframe\">\n",
       "  <thead>\n",
       "    <tr style=\"text-align: right;\">\n",
       "      <th></th>\n",
       "      <th>Total_Production</th>\n",
       "    </tr>\n",
       "    <tr>\n",
       "      <th>Date</th>\n",
       "      <th></th>\n",
       "    </tr>\n",
       "  </thead>\n",
       "  <tbody>\n",
       "    <tr>\n",
       "      <th>2021-04-30</th>\n",
       "      <td>8.017904</td>\n",
       "    </tr>\n",
       "    <tr>\n",
       "      <th>2021-05-31</th>\n",
       "      <td>8.400589</td>\n",
       "    </tr>\n",
       "    <tr>\n",
       "      <th>2021-06-30</th>\n",
       "      <td>8.170063</td>\n",
       "    </tr>\n",
       "    <tr>\n",
       "      <th>2021-07-31</th>\n",
       "      <td>8.357812</td>\n",
       "    </tr>\n",
       "    <tr>\n",
       "      <th>2021-08-31</th>\n",
       "      <td>8.421374</td>\n",
       "    </tr>\n",
       "    <tr>\n",
       "      <th>2021-09-30</th>\n",
       "      <td>8.066687</td>\n",
       "    </tr>\n",
       "    <tr>\n",
       "      <th>2021-10-31</th>\n",
       "      <td>8.371038</td>\n",
       "    </tr>\n",
       "    <tr>\n",
       "      <th>2021-11-30</th>\n",
       "      <td>8.348218</td>\n",
       "    </tr>\n",
       "    <tr>\n",
       "      <th>2021-12-31</th>\n",
       "      <td>8.672236</td>\n",
       "    </tr>\n",
       "    <tr>\n",
       "      <th>2022-01-31</th>\n",
       "      <td>8.531384</td>\n",
       "    </tr>\n",
       "    <tr>\n",
       "      <th>2022-02-28</th>\n",
       "      <td>7.765558</td>\n",
       "    </tr>\n",
       "    <tr>\n",
       "      <th>2022-03-31</th>\n",
       "      <td>8.679065</td>\n",
       "    </tr>\n",
       "    <tr>\n",
       "      <th>2022-04-30</th>\n",
       "      <td>8.308820</td>\n",
       "    </tr>\n",
       "    <tr>\n",
       "      <th>2022-05-31</th>\n",
       "      <td>8.725353</td>\n",
       "    </tr>\n",
       "    <tr>\n",
       "      <th>2022-06-30</th>\n",
       "      <td>8.570749</td>\n",
       "    </tr>\n",
       "    <tr>\n",
       "      <th>2022-07-31</th>\n",
       "      <td>8.771935</td>\n",
       "    </tr>\n",
       "    <tr>\n",
       "      <th>2022-08-31</th>\n",
       "      <td>8.810077</td>\n",
       "    </tr>\n",
       "    <tr>\n",
       "      <th>2022-09-30</th>\n",
       "      <td>8.558521</td>\n",
       "    </tr>\n",
       "    <tr>\n",
       "      <th>2022-10-31</th>\n",
       "      <td>8.760568</td>\n",
       "    </tr>\n",
       "    <tr>\n",
       "      <th>2022-11-30</th>\n",
       "      <td>8.619915</td>\n",
       "    </tr>\n",
       "  </tbody>\n",
       "</table>\n",
       "</div>"
      ],
      "text/plain": [
       "            Total_Production\n",
       "Date                        \n",
       "2021-04-30          8.017904\n",
       "2021-05-31          8.400589\n",
       "2021-06-30          8.170063\n",
       "2021-07-31          8.357812\n",
       "2021-08-31          8.421374\n",
       "2021-09-30          8.066687\n",
       "2021-10-31          8.371038\n",
       "2021-11-30          8.348218\n",
       "2021-12-31          8.672236\n",
       "2022-01-31          8.531384\n",
       "2022-02-28          7.765558\n",
       "2022-03-31          8.679065\n",
       "2022-04-30          8.308820\n",
       "2022-05-31          8.725353\n",
       "2022-06-30          8.570749\n",
       "2022-07-31          8.771935\n",
       "2022-08-31          8.810077\n",
       "2022-09-30          8.558521\n",
       "2022-10-31          8.760568\n",
       "2022-11-30          8.619915"
      ]
     },
     "execution_count": 156,
     "metadata": {},
     "output_type": "execute_result"
    }
   ],
   "source": [
    "test"
   ]
  },
  {
   "cell_type": "code",
   "execution_count": 157,
   "metadata": {},
   "outputs": [],
   "source": [
    "true_predictions = scaler.inverse_transform(test_predictions)"
   ]
  },
  {
   "cell_type": "code",
   "execution_count": 158,
   "metadata": {},
   "outputs": [
    {
     "data": {
      "text/html": [
       "<div>\n",
       "<style scoped>\n",
       "    .dataframe tbody tr th:only-of-type {\n",
       "        vertical-align: middle;\n",
       "    }\n",
       "\n",
       "    .dataframe tbody tr th {\n",
       "        vertical-align: top;\n",
       "    }\n",
       "\n",
       "    .dataframe thead th {\n",
       "        text-align: right;\n",
       "    }\n",
       "</style>\n",
       "<table border=\"1\" class=\"dataframe\">\n",
       "  <thead>\n",
       "    <tr style=\"text-align: right;\">\n",
       "      <th></th>\n",
       "      <th>Total_Production</th>\n",
       "      <th>Predictions</th>\n",
       "    </tr>\n",
       "    <tr>\n",
       "      <th>Date</th>\n",
       "      <th></th>\n",
       "      <th></th>\n",
       "    </tr>\n",
       "  </thead>\n",
       "  <tbody>\n",
       "    <tr>\n",
       "      <th>2021-04-30</th>\n",
       "      <td>8.017904</td>\n",
       "      <td>8.159312</td>\n",
       "    </tr>\n",
       "    <tr>\n",
       "      <th>2021-05-31</th>\n",
       "      <td>8.400589</td>\n",
       "      <td>8.030679</td>\n",
       "    </tr>\n",
       "    <tr>\n",
       "      <th>2021-06-30</th>\n",
       "      <td>8.170063</td>\n",
       "      <td>8.196037</td>\n",
       "    </tr>\n",
       "    <tr>\n",
       "      <th>2021-07-31</th>\n",
       "      <td>8.357812</td>\n",
       "      <td>8.392280</td>\n",
       "    </tr>\n",
       "    <tr>\n",
       "      <th>2021-08-31</th>\n",
       "      <td>8.421374</td>\n",
       "      <td>8.543338</td>\n",
       "    </tr>\n",
       "    <tr>\n",
       "      <th>2021-09-30</th>\n",
       "      <td>8.066687</td>\n",
       "      <td>8.529224</td>\n",
       "    </tr>\n",
       "    <tr>\n",
       "      <th>2021-10-31</th>\n",
       "      <td>8.371038</td>\n",
       "      <td>8.604035</td>\n",
       "    </tr>\n",
       "    <tr>\n",
       "      <th>2021-11-30</th>\n",
       "      <td>8.348218</td>\n",
       "      <td>8.696482</td>\n",
       "    </tr>\n",
       "    <tr>\n",
       "      <th>2021-12-31</th>\n",
       "      <td>8.672236</td>\n",
       "      <td>9.022078</td>\n",
       "    </tr>\n",
       "    <tr>\n",
       "      <th>2022-01-31</th>\n",
       "      <td>8.531384</td>\n",
       "      <td>9.313954</td>\n",
       "    </tr>\n",
       "    <tr>\n",
       "      <th>2022-02-28</th>\n",
       "      <td>7.765558</td>\n",
       "      <td>7.727540</td>\n",
       "    </tr>\n",
       "    <tr>\n",
       "      <th>2022-03-31</th>\n",
       "      <td>8.679065</td>\n",
       "      <td>9.144826</td>\n",
       "    </tr>\n",
       "    <tr>\n",
       "      <th>2022-04-30</th>\n",
       "      <td>8.308820</td>\n",
       "      <td>9.031303</td>\n",
       "    </tr>\n",
       "    <tr>\n",
       "      <th>2022-05-31</th>\n",
       "      <td>8.725353</td>\n",
       "      <td>8.862324</td>\n",
       "    </tr>\n",
       "    <tr>\n",
       "      <th>2022-06-30</th>\n",
       "      <td>8.570749</td>\n",
       "      <td>8.990378</td>\n",
       "    </tr>\n",
       "    <tr>\n",
       "      <th>2022-07-31</th>\n",
       "      <td>8.771935</td>\n",
       "      <td>9.001800</td>\n",
       "    </tr>\n",
       "    <tr>\n",
       "      <th>2022-08-31</th>\n",
       "      <td>8.810077</td>\n",
       "      <td>9.005858</td>\n",
       "    </tr>\n",
       "    <tr>\n",
       "      <th>2022-09-30</th>\n",
       "      <td>8.558521</td>\n",
       "      <td>8.942137</td>\n",
       "    </tr>\n",
       "    <tr>\n",
       "      <th>2022-10-31</th>\n",
       "      <td>8.760568</td>\n",
       "      <td>8.860197</td>\n",
       "    </tr>\n",
       "    <tr>\n",
       "      <th>2022-11-30</th>\n",
       "      <td>8.619915</td>\n",
       "      <td>8.754301</td>\n",
       "    </tr>\n",
       "  </tbody>\n",
       "</table>\n",
       "</div>"
      ],
      "text/plain": [
       "            Total_Production  Predictions\n",
       "Date                                     \n",
       "2021-04-30          8.017904     8.159312\n",
       "2021-05-31          8.400589     8.030679\n",
       "2021-06-30          8.170063     8.196037\n",
       "2021-07-31          8.357812     8.392280\n",
       "2021-08-31          8.421374     8.543338\n",
       "2021-09-30          8.066687     8.529224\n",
       "2021-10-31          8.371038     8.604035\n",
       "2021-11-30          8.348218     8.696482\n",
       "2021-12-31          8.672236     9.022078\n",
       "2022-01-31          8.531384     9.313954\n",
       "2022-02-28          7.765558     7.727540\n",
       "2022-03-31          8.679065     9.144826\n",
       "2022-04-30          8.308820     9.031303\n",
       "2022-05-31          8.725353     8.862324\n",
       "2022-06-30          8.570749     8.990378\n",
       "2022-07-31          8.771935     9.001800\n",
       "2022-08-31          8.810077     9.005858\n",
       "2022-09-30          8.558521     8.942137\n",
       "2022-10-31          8.760568     8.860197\n",
       "2022-11-30          8.619915     8.754301"
      ]
     },
     "execution_count": 158,
     "metadata": {},
     "output_type": "execute_result"
    }
   ],
   "source": [
    "test['Predictions'] = true_predictions\n",
    "test"
   ]
  },
  {
   "cell_type": "code",
   "execution_count": 159,
   "metadata": {},
   "outputs": [
    {
     "data": {
      "application/vnd.plotly.v1+json": {
       "config": {
        "plotlyServerURL": "https://plot.ly"
       },
       "data": [
        {
         "hovertemplate": "variable=Total_Production<br>Date=%{x}<br>value=%{y}<extra></extra>",
         "legendgroup": "Total_Production",
         "line": {
          "color": "#636efa",
          "dash": "solid"
         },
         "marker": {
          "symbol": "circle"
         },
         "mode": "lines",
         "name": "Total_Production",
         "orientation": "v",
         "showlegend": true,
         "type": "scatter",
         "x": [
          "2021-04-30T00:00:00",
          "2021-05-31T00:00:00",
          "2021-06-30T00:00:00",
          "2021-07-31T00:00:00",
          "2021-08-31T00:00:00",
          "2021-09-30T00:00:00",
          "2021-10-31T00:00:00",
          "2021-11-30T00:00:00",
          "2021-12-31T00:00:00",
          "2022-01-31T00:00:00",
          "2022-02-28T00:00:00",
          "2022-03-31T00:00:00",
          "2022-04-30T00:00:00",
          "2022-05-31T00:00:00",
          "2022-06-30T00:00:00",
          "2022-07-31T00:00:00",
          "2022-08-31T00:00:00",
          "2022-09-30T00:00:00",
          "2022-10-31T00:00:00",
          "2022-11-30T00:00:00"
         ],
         "xaxis": "x",
         "y": [
          8.017904,
          8.400589,
          8.170063,
          8.357812,
          8.421374,
          8.066687,
          8.371038,
          8.348218,
          8.672236,
          8.531384,
          7.765558,
          8.679065,
          8.30882,
          8.725353,
          8.570749,
          8.771935,
          8.810077,
          8.558521,
          8.760568,
          8.619915
         ],
         "yaxis": "y"
        },
        {
         "hovertemplate": "variable=Predictions<br>Date=%{x}<br>value=%{y}<extra></extra>",
         "legendgroup": "Predictions",
         "line": {
          "color": "#EF553B",
          "dash": "solid"
         },
         "marker": {
          "symbol": "circle"
         },
         "mode": "lines",
         "name": "Predictions",
         "orientation": "v",
         "showlegend": true,
         "type": "scatter",
         "x": [
          "2021-04-30T00:00:00",
          "2021-05-31T00:00:00",
          "2021-06-30T00:00:00",
          "2021-07-31T00:00:00",
          "2021-08-31T00:00:00",
          "2021-09-30T00:00:00",
          "2021-10-31T00:00:00",
          "2021-11-30T00:00:00",
          "2021-12-31T00:00:00",
          "2022-01-31T00:00:00",
          "2022-02-28T00:00:00",
          "2022-03-31T00:00:00",
          "2022-04-30T00:00:00",
          "2022-05-31T00:00:00",
          "2022-06-30T00:00:00",
          "2022-07-31T00:00:00",
          "2022-08-31T00:00:00",
          "2022-09-30T00:00:00",
          "2022-10-31T00:00:00",
          "2022-11-30T00:00:00"
         ],
         "xaxis": "x",
         "y": [
          8.159311588213205,
          8.030678616517783,
          8.196036974078655,
          8.392279872547387,
          8.543338211996078,
          8.5292237698946,
          8.604034899106264,
          8.696481615243197,
          9.022077925609826,
          9.313953794996976,
          7.727539669768333,
          9.144826324666976,
          9.031302866440774,
          8.862324176877975,
          8.990378023436547,
          9.001800013589621,
          9.005857622398377,
          8.942136792883874,
          8.86019698519206,
          8.754301340923071
         ],
         "yaxis": "y"
        }
       ],
       "layout": {
        "legend": {
         "title": {
          "text": "variable"
         },
         "tracegroupgap": 0
        },
        "margin": {
         "t": 60
        },
        "template": {
         "data": {
          "bar": [
           {
            "error_x": {
             "color": "#2a3f5f"
            },
            "error_y": {
             "color": "#2a3f5f"
            },
            "marker": {
             "line": {
              "color": "#E5ECF6",
              "width": 0.5
             },
             "pattern": {
              "fillmode": "overlay",
              "size": 10,
              "solidity": 0.2
             }
            },
            "type": "bar"
           }
          ],
          "barpolar": [
           {
            "marker": {
             "line": {
              "color": "#E5ECF6",
              "width": 0.5
             },
             "pattern": {
              "fillmode": "overlay",
              "size": 10,
              "solidity": 0.2
             }
            },
            "type": "barpolar"
           }
          ],
          "carpet": [
           {
            "aaxis": {
             "endlinecolor": "#2a3f5f",
             "gridcolor": "white",
             "linecolor": "white",
             "minorgridcolor": "white",
             "startlinecolor": "#2a3f5f"
            },
            "baxis": {
             "endlinecolor": "#2a3f5f",
             "gridcolor": "white",
             "linecolor": "white",
             "minorgridcolor": "white",
             "startlinecolor": "#2a3f5f"
            },
            "type": "carpet"
           }
          ],
          "choropleth": [
           {
            "colorbar": {
             "outlinewidth": 0,
             "ticks": ""
            },
            "type": "choropleth"
           }
          ],
          "contour": [
           {
            "colorbar": {
             "outlinewidth": 0,
             "ticks": ""
            },
            "colorscale": [
             [
              0,
              "#0d0887"
             ],
             [
              0.1111111111111111,
              "#46039f"
             ],
             [
              0.2222222222222222,
              "#7201a8"
             ],
             [
              0.3333333333333333,
              "#9c179e"
             ],
             [
              0.4444444444444444,
              "#bd3786"
             ],
             [
              0.5555555555555556,
              "#d8576b"
             ],
             [
              0.6666666666666666,
              "#ed7953"
             ],
             [
              0.7777777777777778,
              "#fb9f3a"
             ],
             [
              0.8888888888888888,
              "#fdca26"
             ],
             [
              1,
              "#f0f921"
             ]
            ],
            "type": "contour"
           }
          ],
          "contourcarpet": [
           {
            "colorbar": {
             "outlinewidth": 0,
             "ticks": ""
            },
            "type": "contourcarpet"
           }
          ],
          "heatmap": [
           {
            "colorbar": {
             "outlinewidth": 0,
             "ticks": ""
            },
            "colorscale": [
             [
              0,
              "#0d0887"
             ],
             [
              0.1111111111111111,
              "#46039f"
             ],
             [
              0.2222222222222222,
              "#7201a8"
             ],
             [
              0.3333333333333333,
              "#9c179e"
             ],
             [
              0.4444444444444444,
              "#bd3786"
             ],
             [
              0.5555555555555556,
              "#d8576b"
             ],
             [
              0.6666666666666666,
              "#ed7953"
             ],
             [
              0.7777777777777778,
              "#fb9f3a"
             ],
             [
              0.8888888888888888,
              "#fdca26"
             ],
             [
              1,
              "#f0f921"
             ]
            ],
            "type": "heatmap"
           }
          ],
          "heatmapgl": [
           {
            "colorbar": {
             "outlinewidth": 0,
             "ticks": ""
            },
            "colorscale": [
             [
              0,
              "#0d0887"
             ],
             [
              0.1111111111111111,
              "#46039f"
             ],
             [
              0.2222222222222222,
              "#7201a8"
             ],
             [
              0.3333333333333333,
              "#9c179e"
             ],
             [
              0.4444444444444444,
              "#bd3786"
             ],
             [
              0.5555555555555556,
              "#d8576b"
             ],
             [
              0.6666666666666666,
              "#ed7953"
             ],
             [
              0.7777777777777778,
              "#fb9f3a"
             ],
             [
              0.8888888888888888,
              "#fdca26"
             ],
             [
              1,
              "#f0f921"
             ]
            ],
            "type": "heatmapgl"
           }
          ],
          "histogram": [
           {
            "marker": {
             "pattern": {
              "fillmode": "overlay",
              "size": 10,
              "solidity": 0.2
             }
            },
            "type": "histogram"
           }
          ],
          "histogram2d": [
           {
            "colorbar": {
             "outlinewidth": 0,
             "ticks": ""
            },
            "colorscale": [
             [
              0,
              "#0d0887"
             ],
             [
              0.1111111111111111,
              "#46039f"
             ],
             [
              0.2222222222222222,
              "#7201a8"
             ],
             [
              0.3333333333333333,
              "#9c179e"
             ],
             [
              0.4444444444444444,
              "#bd3786"
             ],
             [
              0.5555555555555556,
              "#d8576b"
             ],
             [
              0.6666666666666666,
              "#ed7953"
             ],
             [
              0.7777777777777778,
              "#fb9f3a"
             ],
             [
              0.8888888888888888,
              "#fdca26"
             ],
             [
              1,
              "#f0f921"
             ]
            ],
            "type": "histogram2d"
           }
          ],
          "histogram2dcontour": [
           {
            "colorbar": {
             "outlinewidth": 0,
             "ticks": ""
            },
            "colorscale": [
             [
              0,
              "#0d0887"
             ],
             [
              0.1111111111111111,
              "#46039f"
             ],
             [
              0.2222222222222222,
              "#7201a8"
             ],
             [
              0.3333333333333333,
              "#9c179e"
             ],
             [
              0.4444444444444444,
              "#bd3786"
             ],
             [
              0.5555555555555556,
              "#d8576b"
             ],
             [
              0.6666666666666666,
              "#ed7953"
             ],
             [
              0.7777777777777778,
              "#fb9f3a"
             ],
             [
              0.8888888888888888,
              "#fdca26"
             ],
             [
              1,
              "#f0f921"
             ]
            ],
            "type": "histogram2dcontour"
           }
          ],
          "mesh3d": [
           {
            "colorbar": {
             "outlinewidth": 0,
             "ticks": ""
            },
            "type": "mesh3d"
           }
          ],
          "parcoords": [
           {
            "line": {
             "colorbar": {
              "outlinewidth": 0,
              "ticks": ""
             }
            },
            "type": "parcoords"
           }
          ],
          "pie": [
           {
            "automargin": true,
            "type": "pie"
           }
          ],
          "scatter": [
           {
            "fillpattern": {
             "fillmode": "overlay",
             "size": 10,
             "solidity": 0.2
            },
            "type": "scatter"
           }
          ],
          "scatter3d": [
           {
            "line": {
             "colorbar": {
              "outlinewidth": 0,
              "ticks": ""
             }
            },
            "marker": {
             "colorbar": {
              "outlinewidth": 0,
              "ticks": ""
             }
            },
            "type": "scatter3d"
           }
          ],
          "scattercarpet": [
           {
            "marker": {
             "colorbar": {
              "outlinewidth": 0,
              "ticks": ""
             }
            },
            "type": "scattercarpet"
           }
          ],
          "scattergeo": [
           {
            "marker": {
             "colorbar": {
              "outlinewidth": 0,
              "ticks": ""
             }
            },
            "type": "scattergeo"
           }
          ],
          "scattergl": [
           {
            "marker": {
             "colorbar": {
              "outlinewidth": 0,
              "ticks": ""
             }
            },
            "type": "scattergl"
           }
          ],
          "scattermapbox": [
           {
            "marker": {
             "colorbar": {
              "outlinewidth": 0,
              "ticks": ""
             }
            },
            "type": "scattermapbox"
           }
          ],
          "scatterpolar": [
           {
            "marker": {
             "colorbar": {
              "outlinewidth": 0,
              "ticks": ""
             }
            },
            "type": "scatterpolar"
           }
          ],
          "scatterpolargl": [
           {
            "marker": {
             "colorbar": {
              "outlinewidth": 0,
              "ticks": ""
             }
            },
            "type": "scatterpolargl"
           }
          ],
          "scatterternary": [
           {
            "marker": {
             "colorbar": {
              "outlinewidth": 0,
              "ticks": ""
             }
            },
            "type": "scatterternary"
           }
          ],
          "surface": [
           {
            "colorbar": {
             "outlinewidth": 0,
             "ticks": ""
            },
            "colorscale": [
             [
              0,
              "#0d0887"
             ],
             [
              0.1111111111111111,
              "#46039f"
             ],
             [
              0.2222222222222222,
              "#7201a8"
             ],
             [
              0.3333333333333333,
              "#9c179e"
             ],
             [
              0.4444444444444444,
              "#bd3786"
             ],
             [
              0.5555555555555556,
              "#d8576b"
             ],
             [
              0.6666666666666666,
              "#ed7953"
             ],
             [
              0.7777777777777778,
              "#fb9f3a"
             ],
             [
              0.8888888888888888,
              "#fdca26"
             ],
             [
              1,
              "#f0f921"
             ]
            ],
            "type": "surface"
           }
          ],
          "table": [
           {
            "cells": {
             "fill": {
              "color": "#EBF0F8"
             },
             "line": {
              "color": "white"
             }
            },
            "header": {
             "fill": {
              "color": "#C8D4E3"
             },
             "line": {
              "color": "white"
             }
            },
            "type": "table"
           }
          ]
         },
         "layout": {
          "annotationdefaults": {
           "arrowcolor": "#2a3f5f",
           "arrowhead": 0,
           "arrowwidth": 1
          },
          "autotypenumbers": "strict",
          "coloraxis": {
           "colorbar": {
            "outlinewidth": 0,
            "ticks": ""
           }
          },
          "colorscale": {
           "diverging": [
            [
             0,
             "#8e0152"
            ],
            [
             0.1,
             "#c51b7d"
            ],
            [
             0.2,
             "#de77ae"
            ],
            [
             0.3,
             "#f1b6da"
            ],
            [
             0.4,
             "#fde0ef"
            ],
            [
             0.5,
             "#f7f7f7"
            ],
            [
             0.6,
             "#e6f5d0"
            ],
            [
             0.7,
             "#b8e186"
            ],
            [
             0.8,
             "#7fbc41"
            ],
            [
             0.9,
             "#4d9221"
            ],
            [
             1,
             "#276419"
            ]
           ],
           "sequential": [
            [
             0,
             "#0d0887"
            ],
            [
             0.1111111111111111,
             "#46039f"
            ],
            [
             0.2222222222222222,
             "#7201a8"
            ],
            [
             0.3333333333333333,
             "#9c179e"
            ],
            [
             0.4444444444444444,
             "#bd3786"
            ],
            [
             0.5555555555555556,
             "#d8576b"
            ],
            [
             0.6666666666666666,
             "#ed7953"
            ],
            [
             0.7777777777777778,
             "#fb9f3a"
            ],
            [
             0.8888888888888888,
             "#fdca26"
            ],
            [
             1,
             "#f0f921"
            ]
           ],
           "sequentialminus": [
            [
             0,
             "#0d0887"
            ],
            [
             0.1111111111111111,
             "#46039f"
            ],
            [
             0.2222222222222222,
             "#7201a8"
            ],
            [
             0.3333333333333333,
             "#9c179e"
            ],
            [
             0.4444444444444444,
             "#bd3786"
            ],
            [
             0.5555555555555556,
             "#d8576b"
            ],
            [
             0.6666666666666666,
             "#ed7953"
            ],
            [
             0.7777777777777778,
             "#fb9f3a"
            ],
            [
             0.8888888888888888,
             "#fdca26"
            ],
            [
             1,
             "#f0f921"
            ]
           ]
          },
          "colorway": [
           "#636efa",
           "#EF553B",
           "#00cc96",
           "#ab63fa",
           "#FFA15A",
           "#19d3f3",
           "#FF6692",
           "#B6E880",
           "#FF97FF",
           "#FECB52"
          ],
          "font": {
           "color": "#2a3f5f"
          },
          "geo": {
           "bgcolor": "white",
           "lakecolor": "white",
           "landcolor": "#E5ECF6",
           "showlakes": true,
           "showland": true,
           "subunitcolor": "white"
          },
          "hoverlabel": {
           "align": "left"
          },
          "hovermode": "closest",
          "mapbox": {
           "style": "light"
          },
          "paper_bgcolor": "white",
          "plot_bgcolor": "#E5ECF6",
          "polar": {
           "angularaxis": {
            "gridcolor": "white",
            "linecolor": "white",
            "ticks": ""
           },
           "bgcolor": "#E5ECF6",
           "radialaxis": {
            "gridcolor": "white",
            "linecolor": "white",
            "ticks": ""
           }
          },
          "scene": {
           "xaxis": {
            "backgroundcolor": "#E5ECF6",
            "gridcolor": "white",
            "gridwidth": 2,
            "linecolor": "white",
            "showbackground": true,
            "ticks": "",
            "zerolinecolor": "white"
           },
           "yaxis": {
            "backgroundcolor": "#E5ECF6",
            "gridcolor": "white",
            "gridwidth": 2,
            "linecolor": "white",
            "showbackground": true,
            "ticks": "",
            "zerolinecolor": "white"
           },
           "zaxis": {
            "backgroundcolor": "#E5ECF6",
            "gridcolor": "white",
            "gridwidth": 2,
            "linecolor": "white",
            "showbackground": true,
            "ticks": "",
            "zerolinecolor": "white"
           }
          },
          "shapedefaults": {
           "line": {
            "color": "#2a3f5f"
           }
          },
          "ternary": {
           "aaxis": {
            "gridcolor": "white",
            "linecolor": "white",
            "ticks": ""
           },
           "baxis": {
            "gridcolor": "white",
            "linecolor": "white",
            "ticks": ""
           },
           "bgcolor": "#E5ECF6",
           "caxis": {
            "gridcolor": "white",
            "linecolor": "white",
            "ticks": ""
           }
          },
          "title": {
           "x": 0.05
          },
          "xaxis": {
           "automargin": true,
           "gridcolor": "white",
           "linecolor": "white",
           "ticks": "",
           "title": {
            "standoff": 15
           },
           "zerolinecolor": "white",
           "zerolinewidth": 2
          },
          "yaxis": {
           "automargin": true,
           "gridcolor": "white",
           "linecolor": "white",
           "ticks": "",
           "title": {
            "standoff": 15
           },
           "zerolinecolor": "white",
           "zerolinewidth": 2
          }
         }
        },
        "xaxis": {
         "anchor": "y",
         "domain": [
          0,
          1
         ],
         "title": {
          "text": "Date"
         }
        },
        "yaxis": {
         "anchor": "x",
         "domain": [
          0,
          1
         ],
         "title": {
          "text": "value"
         }
        }
       }
      }
     },
     "metadata": {},
     "output_type": "display_data"
    }
   ],
   "source": [
    "# test.plot(figsize=(14,5))\n",
    "\n",
    "fig = px.line(test).show()"
   ]
  },
  {
   "cell_type": "code",
   "execution_count": 160,
   "metadata": {},
   "outputs": [
    {
     "name": "stdout",
     "output_type": "stream",
     "text": [
      "0.35351186429064174\n",
      "-0.6687586684531786\n"
     ]
    }
   ],
   "source": [
    "from sklearn.metrics import mean_squared_error, r2_score, mean_absolute_error, accuracy_score\n",
    "from math import sqrt\n",
    "rmse=sqrt(mean_squared_error(test['Total_Production'],test['Predictions']))\n",
    "r2 = (r2_score(test['Total_Production'], test['Predictions']))\n",
    "print(rmse)\n",
    "print(r2)"
   ]
  }
 ],
 "metadata": {
  "kernelspec": {
   "display_name": "Python 3",
   "language": "python",
   "name": "python3"
  },
  "language_info": {
   "codemirror_mode": {
    "name": "ipython",
    "version": 3
   },
   "file_extension": ".py",
   "mimetype": "text/x-python",
   "name": "python",
   "nbconvert_exporter": "python",
   "pygments_lexer": "ipython3",
   "version": "3.11.2"
  },
  "orig_nbformat": 4
 },
 "nbformat": 4,
 "nbformat_minor": 2
}
